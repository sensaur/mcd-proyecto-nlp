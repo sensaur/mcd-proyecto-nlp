{
  "cells": [
    {
      "cell_type": "markdown",
      "source": [
        "\n",
        "\n",
        "Este documento contiene código duplicado del notebook original, sin embargo, presenta las ejecuciones de cada uno de los modelos entrenados y evaluados para la fase de preentrenados. Ya que los modelos generados ocupan mucho almacenamiento, supone un coste temporal alto volverlos a ejecutar en el notebook original, por ello aportamos también este código con la información del procesamiento.\n",
        "\n"
      ],
      "metadata": {
        "id": "fBs3o1o1oJFs"
      }
    },
    {
      "cell_type": "markdown",
      "source": [
        "# Imports"
      ],
      "metadata": {
        "id": "Pi-1x8znh2oj"
      }
    },
    {
      "cell_type": "code",
      "execution_count": null,
      "metadata": {
        "id": "LErhxdXVhiTm"
      },
      "outputs": [],
      "source": [
        "import requests\n",
        "from bs4 import BeautifulSoup\n",
        "from time import sleep\n",
        "from random import uniform\n",
        "import pandas as pd\n",
        "import re\n",
        "import numpy as np\n",
        "import string\n",
        "import spacy\n",
        "import unicodedata\n",
        "import pickle"
      ]
    },
    {
      "cell_type": "code",
      "source": [
        "# Carga de fichero .pkl.\n",
        "# 'args_clean_text' son metadatos para recuperar el preprocesado aplicado\n",
        "with open(\"df_offers_clean_sw+acc+lemm.pkl\", \"rb\") as f:\n",
        "  df_offers_es, args_clean_text = pickle.load(f)"
      ],
      "metadata": {
        "id": "OEbJWviliqxa"
      },
      "execution_count": null,
      "outputs": []
    },
    {
      "cell_type": "code",
      "source": [
        "df_offers_es['full_description'] = df_offers_es['title'] + ' ' + df_offers_es['skills_clean'] + ' ' + df_offers_es['job_description_clean'] + ' ' + df_offers_es['location_clean']\n",
        "etiquetas = df_offers_es['salary_quantile'].unique()\n",
        "label2id = {etiqueta: idx for idx, etiqueta in enumerate(etiquetas)}\n",
        "id2label = {i: label for label, i in label2id.items()}\n",
        "\n",
        "df_offers_es[\"label\"] = df_offers_es[\"salary_quantile\"].map(label2id)\n"
      ],
      "metadata": {
        "id": "5Kfk-h9CcF8B"
      },
      "execution_count": null,
      "outputs": []
    },
    {
      "cell_type": "markdown",
      "source": [
        "# Modelos Preentrenados"
      ],
      "metadata": {
        "id": "v_cDYzuDf7is"
      }
    },
    {
      "cell_type": "code",
      "source": [
        "#Importamos metricas de evaluación\n",
        "!pip install evaluate\n",
        "import evaluate\n",
        "\n",
        "metric = evaluate.load(\"accuracy\")"
      ],
      "metadata": {
        "id": "1Aze-mKRmyb9"
      },
      "execution_count": null,
      "outputs": []
    },
    {
      "cell_type": "markdown",
      "source": [
        "El siguiente preprocesamiento se ha utilizado para preparar los datos para una primera fase del desarrollo donde se probaba los modelos zero shot classification con fine tuning para las etiquetas existentes en el dataset. Sin embargo, durante las últimas fases de desarrollo se ha ajustado el modelo para que realize regresión el cual es el verdadero objetivo del modelo implementado en este trabajo. Por lo tanto, esta parte no llega a utilizarse en el código pero demuestra los pasos que se han seguido para entender y construir el modelo final"
      ],
      "metadata": {
        "id": "yMXCZmxAAHjg"
      }
    },
    {
      "cell_type": "code",
      "source": [
        "# CLASIFICACION\n",
        "# Extraemos las etiquetas para clasificación de salario en lugar de regresión\n",
        "etiquetas = df_offers_es['salary_quantile'].unique()\n",
        "label2id = {etiqueta: idx for idx, etiqueta in enumerate(etiquetas)}\n",
        "id2label = {i: label for label, i in label2id.items()}\n",
        "\n",
        "# Para que los modelos de HuggingFace entiendan cual es la variable predictora es necesario que se encuentre en la columna llamada 'label'\n",
        "df_offers_es[\"label\"] = df_offers_es[\"salary_quantile\"].map(label2id)\n"
      ],
      "metadata": {
        "id": "2A8X9TSDAIvM"
      },
      "execution_count": null,
      "outputs": []
    },
    {
      "cell_type": "code",
      "source": [
        "# Transformamos los datos de entrada del dataset a tipos validos por el tipo Dataset de Hugginface\n",
        "df_offers_es[\"full_description\"] = df_offers_es[\"full_description\"].astype(str)\n",
        "df_offers_es[\"label\"] = df_offers_es[\"salary_int\"].astype(float) # Para clasificación establecer la columna label a partir de salary_quantile, con salary_int es regresión\n",
        "print(df_offers_es[[\"full_description\", \"label\"]])\n",
        "\n",
        "dataset = Dataset.from_pandas(df_offers_es[[\"full_description\", \"label\"]])"
      ],
      "metadata": {
        "id": "L_0PY8siALL5"
      },
      "execution_count": null,
      "outputs": []
    },
    {
      "cell_type": "code",
      "source": [
        "\n",
        "from transformers import AutoModelForSequenceClassification, AutoTokenizer\n",
        "from transformers import TrainingArguments, Trainer\n",
        "from datasets import Dataset\n",
        "\n",
        "# Cargamos uno de los modelos zero shot classification para punto de partida\n",
        "models = ['MoritzLaurer/mDeBERTa-v3-base-mnli-xnli', 'Recognai/bert-base-spanish-wwm-cased-xnli']\n",
        "light_models = ['papluca/xlm-roberta-base-language-detection' , 'Unbabel/xlm-roberta-comet-small']\n",
        "\n",
        "def LoadModel(model_name):\n",
        "  # Definimos configuración del trainer\n",
        "  training_args = TrainingArguments(output_dir=\"test_trainer\",\n",
        "                                  per_device_train_batch_size=4,\n",
        "                                  per_device_eval_batch_size=4,\n",
        "                                  num_train_epochs=1,\n",
        "                                  learning_rate=2e-5,\n",
        "                                  weight_decay=0.01)\n",
        "\n",
        "\n",
        "  nli_model = AutoModelForSequenceClassification.from_pretrained(model_name,\n",
        "                                                                num_labels=1,\n",
        "                                                                problem_type=\"regression\",\n",
        "                                                                ignore_mismatched_sizes=True)\n",
        "\n",
        "  # Cargamos el tokenizador del anterior modelo\n",
        "  tokenizer = AutoTokenizer.from_pretrained(model_name)\n",
        "\n",
        "retrun training_args, nli_model, tokenizer\n",
        "\n"
      ],
      "metadata": {
        "colab": {
          "base_uri": "https://localhost:8080/",
          "height": 519,
          "referenced_widgets": [
            "43cfa11752c54eeb9c00f76fdbac32ab",
            "dd2f20699945481083e6d4c787eee16f",
            "4cec478fe7534c919f01ea3fa22f0135",
            "29e6acddbc3c4a15829b6a43eef4097c",
            "f6cb1c2ae7124e538ad913d07554b228",
            "eb712633839e42e48922ee4c1b61fb26",
            "27af407e9a054b4782777a9304ee7cb8",
            "fadf3c5aa7e74a7f99a6b9b545a0a2c3",
            "b325f1d487fd45529299544e34d67bf0",
            "4551de9dee9147dab7bb04643bdce91e",
            "47ee98be973741ecae369f8f1750aab9",
            "9d6d93830e8a4fe6a71785f3e75ca367",
            "1be356e7c2054560bfc3f8119b21480f",
            "d3da95bda8764208bd446e375e0d22c5",
            "5855a1c3a57e49c4acc8f7d288af0591",
            "3acedb2fae274e41b655a3aec7ff4ba0",
            "0cec41a10ba94c4d89802416d5ae5241",
            "6606b70cc1be4e6faaf00d94a52eda75",
            "651c31e16ab842c99784a5cc6d4f92ce",
            "bb51ed4be705490aae0334ca0d46aa66",
            "3af14994c96a46348a589a26d512f209",
            "74896215c752442191e4e6ae6a95f2d9",
            "ea1b7d08fba149868bacb3a8cac11b68",
            "19bd74e1fd574bdc867e9324473fafa7",
            "8a3b9261a6d048758e6f37c72fbc9723",
            "e4a5847edc0f4bbe8de9e2ecc73bf7f4",
            "422c38cc1bc54e1e863a0252738b8b98",
            "e3f046107d4c45809ba6b059ef2caf92",
            "8caac76d51844419bb0fe7034a977c67",
            "4c3bb7f4701e437ab42f33869ad327d2",
            "0c4b1c3e073a47a4980d0cd967add028",
            "7188baebdbab41f4ab62132c3bf16c4a",
            "cedf3593d3b14a40b2909e82613cbce5",
            "b592cfa4132e4ca982f68c301bffa006",
            "bbb4ab00197c46a1a48a443157bdc8ee",
            "e5233197aaf847c4830f98b9c8e08b7d",
            "fe236deb1ff44906a589d0317145b917",
            "4e1a55bca15541b7b379e636733a2e21",
            "ac8059d4c72c4e7a81bb7ff47040103f",
            "d75fcd3394834bd68a9559eac3fdf259",
            "e62c1be8bf2b4811a57e12415aa5d63e",
            "2f43a0108cd44584b87a75185e812495",
            "9fc45b9391444c64b6677f58acae6454",
            "ec7af2196cfd47e7981473709796db77",
            "0abce748f1a348a1a6bab24c1e744a60",
            "afe02bad4c8e48c397b5daf2294eec9a",
            "759ee22298d14979bd13867b6e4156f1",
            "fe51a12d62464afaa9a091cc9ee5529a",
            "106af75a9f974bca82626c167a750535",
            "d66d1c0c1740411cb63a9b7b86c2a554",
            "9c127c5132cd4180a787ac1b1504eacf",
            "22fa69e0716d4181bb86858ff2bc50d4",
            "07ca36544c604f0688e91129b9c9166f",
            "a583f412ae214348a035859d921e2d92",
            "84030dbb526e44478ccad4f4023a1ca7"
          ]
        },
        "id": "_I15spFtzn-d",
        "outputId": "c720bb27-244c-41c1-9d9c-af3e8ec1795c"
      },
      "execution_count": null,
      "outputs": [
        {
          "output_type": "display_data",
          "data": {
            "text/plain": [
              "config.json:   0%|          | 0.00/834 [00:00<?, ?B/s]"
            ],
            "application/vnd.jupyter.widget-view+json": {
              "version_major": 2,
              "version_minor": 0,
              "model_id": "43cfa11752c54eeb9c00f76fdbac32ab"
            }
          },
          "metadata": {}
        },
        {
          "output_type": "display_data",
          "data": {
            "text/plain": [
              "model.safetensors:   0%|          | 0.00/439M [00:00<?, ?B/s]"
            ],
            "application/vnd.jupyter.widget-view+json": {
              "version_major": 2,
              "version_minor": 0,
              "model_id": "9d6d93830e8a4fe6a71785f3e75ca367"
            }
          },
          "metadata": {}
        },
        {
          "output_type": "stream",
          "name": "stderr",
          "text": [
            "Some weights of BertForSequenceClassification were not initialized from the model checkpoint at Recognai/bert-base-spanish-wwm-cased-xnli and are newly initialized because the shapes did not match:\n",
            "- classifier.bias: found shape torch.Size([3]) in the checkpoint and torch.Size([1]) in the model instantiated\n",
            "- classifier.weight: found shape torch.Size([3, 768]) in the checkpoint and torch.Size([1, 768]) in the model instantiated\n",
            "You should probably TRAIN this model on a down-stream task to be able to use it for predictions and inference.\n"
          ]
        },
        {
          "output_type": "display_data",
          "data": {
            "text/plain": [
              "tokenizer_config.json:   0%|          | 0.00/528 [00:00<?, ?B/s]"
            ],
            "application/vnd.jupyter.widget-view+json": {
              "version_major": 2,
              "version_minor": 0,
              "model_id": "ea1b7d08fba149868bacb3a8cac11b68"
            }
          },
          "metadata": {}
        },
        {
          "output_type": "display_data",
          "data": {
            "text/plain": [
              "vocab.txt:   0%|          | 0.00/242k [00:00<?, ?B/s]"
            ],
            "application/vnd.jupyter.widget-view+json": {
              "version_major": 2,
              "version_minor": 0,
              "model_id": "b592cfa4132e4ca982f68c301bffa006"
            }
          },
          "metadata": {}
        },
        {
          "output_type": "display_data",
          "data": {
            "text/plain": [
              "special_tokens_map.json:   0%|          | 0.00/112 [00:00<?, ?B/s]"
            ],
            "application/vnd.jupyter.widget-view+json": {
              "version_major": 2,
              "version_minor": 0,
              "model_id": "0abce748f1a348a1a6bab24c1e744a60"
            }
          },
          "metadata": {}
        },
        {
          "output_type": "stream",
          "name": "stdout",
          "text": [
            "                                       full_description  label\n",
            "0     Java Backend Engineer pedir altura seguro tend...   55.0\n",
            "1     Senior Odoo Developer pedir requisito experien...   40.0\n",
            "2     Lead Frontend Engineer pedir equipo mavelpoint...   55.0\n",
            "3     .Net Developer pedir enamorar proyecto querrar...   54.0\n",
            "5     Java Developer pedir importantisimo nivel flui...   45.0\n",
            "...                                                 ...    ...\n",
            "1291  PHP Developer pedir buscar proactividad tope p...   45.0\n",
            "1292  Solution Architect pedir llegar carta rey mago...   80.0\n",
            "1293  PHP Developer pedir monolito php    mysql tipi...   35.0\n",
            "1294  Senior PHP Developer pedir marketgoo valorar a...   55.0\n",
            "1295  Senior iOS Developer pedir buscar mejorar equi...   60.0\n",
            "\n",
            "[1250 rows x 2 columns]\n"
          ]
        }
      ]
    },
    {
      "cell_type": "code",
      "source": [
        "from sklearn.metrics import mean_squared_error, mean_absolute_error, r2_score\n",
        "\n",
        "# Función con métricas para controlar el entrenamiento de clasificación\n",
        "def compute_metrics_classification(eval_pred):\n",
        "    logits, labels = eval_pred\n",
        "    predictions = np.argmax(logits, axis=-1)\n",
        "    return metric.compute(predictions=predictions, references=labels)\n",
        "\n",
        "# Función con métricas para controlar el entrenamiento de regresión\n",
        "def compute_metrics_regression(eval_pred):\n",
        "    predictions, labels = eval_pred\n",
        "    predictions = predictions.squeeze()\n",
        "    rmse = mean_squared_error(labels, predictions, squared=False)\n",
        "    mae = mean_absolute_error(labels, predictions),\n",
        "    r2 = r2_score(labels, predictions),\n",
        "    return {\"rmse\": rmse,\n",
        "            \"mae\" : mae,\n",
        "            \"r2\": r2,}"
      ],
      "metadata": {
        "id": "tZcuF8IvqguN"
      },
      "execution_count": null,
      "outputs": []
    },
    {
      "cell_type": "code",
      "source": [
        "# Tokenización de las entradas sobre la descripción completa\n",
        "def preprocess(example):\n",
        "    tokenized = tokenizer(example[\"full_description\"], truncation=True, padding=\"max_length\", max_length=512)\n",
        "    return tokenized\n",
        "\n"
      ],
      "metadata": {
        "id": "6bg_Oq4pu0TE",
        "colab": {
          "base_uri": "https://localhost:8080/",
          "height": 49,
          "referenced_widgets": [
            "3b8c36e63c3a47a1ac15632127e22a2c",
            "264eb1ed11f9451d917a8c3638e232cc",
            "2550e209a5b246feaa6cbb33d17b70b3",
            "d756786be28245bd9b30831e702f55c5",
            "dfb8c3921f54456c9fcd8defbcb96f3e",
            "c0277e1ef81041ff8ad1eae56b0f18d0",
            "00c9eb2fa982408aa9cf8f5cfb0a05ac",
            "94a3d1eaf56d46bbb56c94048ce5e561",
            "d8fc74b992454fafb2d3445b349dbf3e",
            "7fc9f6bce54d48fcb7818f1053454c03",
            "76cefe4988fb4cde8378d4950aadfbf9"
          ]
        },
        "outputId": "aab2c0a5-124b-4f76-9dc5-a4ffb9a5c68e"
      },
      "execution_count": null,
      "outputs": [
        {
          "output_type": "display_data",
          "data": {
            "text/plain": [
              "Map:   0%|          | 0/1250 [00:00<?, ? examples/s]"
            ],
            "application/vnd.jupyter.widget-view+json": {
              "version_major": 2,
              "version_minor": 0,
              "model_id": "3b8c36e63c3a47a1ac15632127e22a2c"
            }
          },
          "metadata": {}
        }
      ]
    },
    {
      "cell_type": "code",
      "source": [
        "# División del dataframe en entrenamiento y test\n",
        "def PrepararDataset(dataset):\n",
        "  tokenized_dataset = dataset.map(preprocess)\n",
        "\n",
        "  split_dataset = tokenized_dataset.train_test_split(test_size=0.2, seed=42)\n",
        "\n",
        "  train_dataset = split_dataset[\"train\"]\n",
        "  eval_dataset = split_dataset[\"test\"]\n",
        "  small_train_dataset = split_dataset[\"train\"].shuffle(seed=42).select(range(100))\n",
        "  small_eval_dataset = split_dataset[\"test\"].shuffle(seed=42).select(range(100))\n",
        "  print(small_eval_dataset[\"full_description\"])\n",
        "  return train_dataset, eval_dataset, small_train_dataset, small_eval_dataset"
      ],
      "metadata": {
        "colab": {
          "base_uri": "https://localhost:8080/"
        },
        "id": "YNl7lKFbzNMq",
        "outputId": "c04c7a89-ce15-47dd-a69c-adcbb4593e9d"
      },
      "execution_count": null,
      "outputs": [
        {
          "output_type": "stream",
          "name": "stdout",
          "text": [
            "['PHP Developer 🚀 pedir buscar alguien gana actitud sumar reto persona iniciativa capacidad resolutivo miedo aprendizaje pedir 23 año experiencia php symfony laravel capacidad adaptacion nivel alto mysql welcomar venir base dato similar conocimiento experiencia control versión orientacion software qualite meter testing miedo tocar front nivel html css jquery bootstrap tecnologia innegociable php avanzado symfony intermedio mysql intermedio estario html intermedio css intermedio habilidad innegociable trabajo equipo proactividad aprendizaje continuo estario atencion detalle pensamiento creativo capacidad feedback sumar punto liderazgo vision estrategica haras damecode nacer nivel sistema erp crm ofrecer solución tecnologicas end to end qualite grupo formar cliente externo desarrollo capa probado consolidado adaptar necesidad mente punto innovacion caracterizar principal core equipo desear conocerte empeceis remar evolucionar producto participar fase ciclo desarrollo software stack backend tirar php symfony venir laravel don´t worry mysql buscar unicornio experto front esperar miedo trastear html css jquery    disclaimer → adelantar fan fan clean code evolucion 1 mes aterrizara mes serar momento adaptacion posicion remoto encantado oficina harar puesta punto equipo trabajo podrar familiarizarte equipo conoceras herramienta utilizar irar familiarizar aplicación erp crm desarrollar responsabilidad participar ciclo desarrollo software aportar solución punto vista trabajar mano mano cliente evolucionar producto fase encontrar crear gestionar base dato proyecto mysql implementar diseño trabajar agencia ayudar diseño funcionalidad incorporar prueba codigo existente foco valor testing desarrollo proponer resolver problema trabajarar remoto 100 trabajar 100 remoto trabajar quierar    equipo encantar romper barrera pantalla juntar meter comilona tomar cerveza 3 4 mes pasar cuartel general damecodir correr gasto adema preferir puerta abierto', 'Senior Backend Engineer pedir buscar persona dominar perfeccion desarrollo backend pasion filosofia api first apasionar mundo startup participar fase ciclo vida producto carta rey mago solido experiencia desarrollo backend java trabajser comodamente ultima versión libreria moderno diseñar sistema escala trabajar arquitectura distribuido herramienta construccion maven gradle prueba desarrollo domina junit tdd garanticer calidad codigo entrega experto inyeccion dependencia frameworks spring experiencia crear optimizar api publica interno aplicar practica seguridad rendimiento identificar resolver cuello botella monitorizar sistema herramienta datadog garantizar funcionar optimo lidera equipo mentorizas perfil junior promueves cultura calidad tecnico trabajar base dato relacional relacional mysql dynamodb entorno ci cd herramienta monitoreo avanzado experiencia previo travel tech fintech tecnologia innegociable java avanzado junit intermedio maven intermedio gitlab intermedio estario couchbar intermedio aws basico habilidad innegociable adaptabilidad cambio capacidad feedback proactividad estario capacidad mentorizacion atencion detalle sumar punto trabajo equipo harar    caravelo parecer opcion suscribirte aerolinea palabra obtener vuelo mes pagar cuota mensual gracias caravelo aerolinea lanzar tipo programa suscripcion millón viajero vuelir precio asequible tiempo beneficiar aerolinea pasajero as leal satisfecho permitiendo transformar negocio modelo enfocado facturacion predecible minimizar perdida año sector viaje volver despegar hambriento solución innovadora ofrecer caravelo propuesta incentivar deseo viajar adema transformar modelo negocio aerolinea sistema suscripcion revolucionar industria crecimiento momento crucial incorporar vp ingenieria listo paso ampliar equipo backend perfil senior aportar experiencia tecnico contribuir desarrollo solido cultura ingenieria equipo momento aplicacion enfrentar emocionante desafio escalar lograr apostar construir plataforma api first enfoque permitirar aerolinea integrar facilidad flexibilidad desbloquear oportunidad mejorar experiencia usuario equipo retention mano obra construir potente api rest necesitar refuerzo entrar ayuda clave acelerar desarrollo optimizar trabajar marcar diferencia real camino exito ✈ ️ this is your captain speaking creer viajar transformar persona mundo ayudar compañia democratizar vuelo introducir programa suscripcion jose luis vilar cofounder apasionar viajar sitio encontrarar equipo vivir mil experiencia turbulencia celebración pila puesto llegar destino    ️ harar embarcarar squad backend trabajar equipo desarrollo api rest permitir aerolinea integrar plataforma sencillo eficiente actualmente contar mvp construido arquitectura sencillo permitir probar validar querer dirigir solucion paso ambicioso construir api robusto tolerante fallo respaldado arquitectura distribuido capaz soportar crecimiento garantizar escalado sostenible backend plataforma basado principalmente tecnologia java gestionado maven asegurar base solido confiable desarrollo buscar alguien pieza clave equipo contribuir implementacion tecnico definicion decisión estrategica forma futuro api querer tengas impacto directo liderar iniciativa contribuir puesta marcha adema mision tratar construir tecnologio trabajaras codo codo resto equipo ingenieria apoyar desarrollador backend junior crecimiento profesional serar figura referencia clave cultural equipo ayudar crear entorno aprendizaje mejora continuo pilar fundamental evolucion 1 mes habrar completar onboarding incluirir comprension negocio alto nivel composicion lugar modulo plataforma deuda tecnico realizaras pairprograming miembro equipo ingenieria entender reto estarar familiarizado subdominio conocimiento sabra acudir caso duda responsabilidad desarrollara api pensar rendimiento disponibilidad escalabilidad codigo robusto sostenible aplicara practica patrón diseño pensar eficiencia escalabilidad codigo haciendolo sencillo legible encargara traducir requisito negocio tarea user stories tecnicas responsabilizara entrega funcionalidad actualización ajustar contexto alcance ayudarar toma decisión arquitectura escalabilidad velocidad seguridad relacionarar equipo ayudar mantener entorno trabajo colaborativo fomentar espiritu equipo supervisaras aportara formacion miembro equipo camino especializacion practica trabajarar presencial barcelona teletrabajo 40 darte contexto caravelo evolucionar modelo hibrido combinar 3 oficina 2 teletrabajo semana creer fomentar cultura ingenieria basado contacto colaboracion fluir idea organizar demos reforzar espiritu equipo solución nacer creatividad comunicacion diario adaptar espacio trabajo tecnologia experiencia presencial remoto inclusivo eficiente podrar encontrar oficina pleno barrio leixample barcelona', 'Mid React Native Developer pedir año experiencia trabajar react native react conocimiento redux typescript hooks functional components experiencia maquetacion react native css hmtl manejo git politica branching experiencia trabajar api rest desarrollo familiarizado despliegue test automatizado trabajar metodologia agil defender ingles hablado escrito participar reunión discusión tecnica leer escribir documentacion extra experiencia aplicación produccion gestion app stor android io conocimiento avanzado automatizacion testing conocimiento tecnologia web react backend node aws experiencia previo trabajar remoto zona horario freelance tecnologia innegociable react native intermedio react intermedio estario redux intermedio css intermedio html intermedio typescript basico sumar punto figma basico nodejs basico habilidad innegociable proactividad capacidad escucha trabajo equipo estario aprendizaje continuo harir querer revolucionar sector tecnologia serio montar sistema 100 serverless aws app reactnativar integración bureaus agencia recopilacion dato credito plataforma financiero automatizar proceso permitir usuario sencillo gratuito mejorar situacion financiero optar hipoteca prestar pagar deuda aumentar ahorro ayudar trabajar directamente app usuario as aportar valor crear impacto positivo usuario caber destacar equipo bolster logro publicar upturn app credit health llegar 400k usuario mes exito cosechado emprender aventura idea inicial lejos app roadmap duplicar funcionalidad core año convertir solucion completo aportar valor implicar featur impacto directo usuario trabajo desplegado produccion mano usuario bolster formarar equipo ingenieria bolster localizado españa trabajarar diario san francisco unirar equipo horizontal cohesionado tecnologia puntero utilizar version react native typescript redux suerte contar lead mobile manuel top montar arquitectura app trabajarar mano mano app nivel bolster equipo ingenieria significar vas discusión tecnica desarrollo suceder app backend web evolucion 1 mes habrar completar onboarding incluirir pairing manuel 11s compañero compañera directo revision documentacion codigo reunión irar equipo producto diseño etc conoceras herramienta trabajo figma slack zenhub postmar proceso desarrollo best practiz seguir estarar daili sprint plannings reviews all hands tendras aportacion app publicado responsabilidad desarrollara funcionalidad app componente modulo maquetar diseño design team utilizaras arquitectura faulttolerant scalable clean maintainable and testable code participaras definicion arquitectura flujo dato app haras refactors mejora performance aplicacion movil colaboraras equipo diseño producto evolucionar bolster estimara desarrollo participar planificacion global equipo trabajaras remoto 100 querer posicion 100 remoto asegurser conexion mantener horario comun equipo podrar trabajar querer', 'IT Internship pedir cursar titulo it ciencia informatica campo relacionado comprension basico concepto it hardware software gana aprender adaptar entorno it dinamico familiaridad microsoft office suite herramienta basica resolucion problema soltura ingles habilidad trabajar equipo mentalidad positivo habilidad comunicacion excepcional capacidad trabajar presion cumplir plazo orientacion cliente interno habilidad priorizar mantener atencion detalle tecnologia stack buscar profesional conocimiento necesario desempeñar función puesto independientemente tecnologia utilizado habilidad innegociable comunicacion verbal aprendizaje continuo estario trabajo equipo atencion detalle sumar punto capacidad recibir feedback inteligencia emocional idioma ingles fluido harar puma sumara equipo afrontar desafio tecnologico mision ayudar solucion problema relacionado hardware software imaginar heroe asegurar sistema funcionar problema identificar fallo proporcionar solución efectivo simplemente ofrecer toque tecnico contribucion serir clave mantener forever better    rol serar cara amigable asistencia tecnico estaras apoyar usuario resolver pregunta relacionado it sencillo imaginar respuesta inquietud listo actuar rapidez eficiencia estarar trabajar espiritu forever faster asegurandote seguir problema formarar equipo construir mantener cimiento tecnologico puma labor incluira   asistir instalacion mantenimiento sistema hardware software estarar corazon accion asegurandote herramienta lista marcar diferencia estarar vanguardia innovacion esperar querer tecnologia emergente seguir cerca tendencia industria ojo curioso esencial mantener equipo actualizado evolucion 1 mes puma querer sentar casa imaginar mes inicio emocionante aventura sumergira cultura empresa conoceras compañero equipo it familiarizara estructura organizativo descubrirar tarea diario encajar vision forever better recibiras respaldo albert guiar entusiasmo paso participaras tarea practica empezar sacar partido habilidad construyes base carrera responsabilidad responsabilidad principal serir soporte oficina españa portugal tienda tienda corte ingles resolver incidencia irar llegar forma ticket tendrar tiempo aburrirte casuistica enorme nivel tecnologico tendrar actualizado colaboraras identificacion oportunidad mejorar eficiencia proceso soporte proponer aplicar solución innovadora participaras analisis dato relacionado incidencia ticket proporcionar insights valioso mejora continuo servicio soporte trabajarar presencial barcelona oficina barcelona posicion presencial podrar disfrutar impresionante ambiente respirar hub world trade center almeda park', 'Solution Architect 💸 pedir buscar persona alto capacidad analisis proactividad proponer mejora venir background potente software engineer arquitecto pedir experiencia consolidado software engineer 2 año arquitecto experiencia contar gana aprender tecnologia equipo arquitectura smallworld creer existir herramienta solucionar problema buscar hambre aprender lenguaje programacion framework componente tecnologico abordar reto conocimiento experiencia diseño apis rest necesario app funcionar experiencia microservicio experiencia algun cloud ingles idioma vehicular small world documentacion generar ingles adema proyecto tarea conversación producto client proveedor tecnologico partners ingles 10 trabajar modelo integracion continuo modelo contenedor docker k8s conocimiento monitorizacion observabilidad tecnologia stack buscar profesional conocimiento necesario desempeñar función puesto independientemente tecnologia utilizado habilidad innegociable trabajo equipo aprendizaje continuo proactividad pensamiento analitico estario capacidad mentorizacion vision estrategico sumar punto liderazgo comunicacion intercultural harar contexto small world nacer 2005 idea frontera deber significar barrera premisa 20 año ayudar familia amigo cerca pudiendo enviar dinero necesitar seguro facil economico 1000 persona mundo ayudar mision asegurar 1 millon transacción mes adecuado sufrir sufrir profundo transformacion digital fintech referencia tecnologiar negocio mano podrar imaginar equipo ingenieria clave negocio nivel     definido plataforma actualmente aplicación ejecutar monolito migrar microservicio web publicar basicamente contenido estatico encontrar web web transaccional web registrar envio dinero directamente api app endpoint rest facilitar servicio app    esperar reto super motivante querer explorar tecnologia react native vue flutter montar arquitectura web stack actualizado potente funcionar reloj necesitar llegues potencial analices tecnologia posicionarl numero 1 defina arquitectura referencia reto estandarizar arquitectura cloud base desarrollo frontend empresa web necesitar seas capaz analisis cuantitativo stacks ayudser elegir ideal buscar persona vivir altura necesitar team player gustar bajar barro ayudar equipo implementar solución necesario evolucion 1 mes aterrizaje importante conozcas codigo harar mes pasarar proceso onboarding estarar trabajar squad persona equipo empezar incorporar practica pair programming probablemente mes tengas sesión seguro seros responsable tarea sencillo programacion puro entender arquitectura actual conoceras   equipo equipo delivery desarrollador as team leads project managers etc resto persona arquitectura responsabilidad trabajara analista recepcion requisito funcional negocio definira requisito funcional proyecto serar owner sistema produccion equipo incluir coste volumetria etc aseguraras sistema documentado documentacion actualizado aportara analisis tecnico alto nivel proyecto ayudarar equipo implementar funcionalidad tecnologia encargara analizar arquitectura referencia estandarizar tecnologia web utilizar stack colaboracion compañero seguira aportar karma equipo trabajaras remoto 100 presencial madrid quierar equipo distribuido persona españa sevilla barcelona palma mallorca valladolid etc belgica mexico uk trabajar fullremote importar cabaña sierra ⛰ ️ furgo recorrer mundo asegurser conexion encantar equipo trabajser fullremote gustar reunir centro operación finca madrid 1 2 56 semana coste cargo empresa equipazo small world fundamental crear lazo desvirtualizar', 'Backend Developer pedir stack sparta girar entorno kotlin pieza python fuerte hincapie optimizacion comunicación tratamiento dato buscar experiencia profesional diseñar implementar api rest json conocimiento multithreading aspecto optimizacion rendimiento conocimiento comunicacion websockets tdd ingles hablado escrito forma fluido serio plus tuvierar experiencia aws elasticsearch microservicio spring boot conocimientos kotlin java gana meterte kotlin    kafka gestion configuracion ci tecnologias innegociable java avanzado estario kotlin intermedio aws basico spring boot intermedio sumar punto elasticsearch intermedio habilidad innegociable capacidad autogestion harir sparta llego campo quedar atra d aventura comenzar 2019 felipe ceo mil coo decidir dejar mundo trading petroleo 35 año experiencia espalda ola digitalizacion tecnologia llegar mercado trading materia primo colaboracion luis cto lanzar piscina decidir montar sparta foco puesto automatizar optimizar aumentar productividad traders materia primo trader tomar decisión deber contar informacion relevante mano capturar oportunidad mercado rapido competencia sparta llegar revolucionar sector agregar informacion relevante procesar informacion permitir cloud trader comunicar equipo forma rapido eficaz paso permitir empresa trading crear base dato informacion relevante aprender experiencia olvidar permitir trabajar remoto impensable año lanzar mvp web io producto crecer ritmo vertiginoso foco evolucionar equipo iterar herramienta crecer vertical aportar maximo valor usuario feature creer separacion analista programador definir senior numero año hayar trabajar querer ayudser dimensión proyecto feedback serar bienvenir aspecto producto confiar experiencia decidir forma implementar resolver tarea perfil buscar persona experiencia mesa hambre ayudar seguir crecer tendrar peso equipo resto componente ayudarar compañero crecer equipo buscar solución proactivamente miedo formarar grupo curtido trinchera gana formar equipo creer lobo solitario ninja rockstars equipo direccion confiar madurez experiencia libertad tengar ningun impedimento evolucion 1 mes mes serar aterrizar equipo gente acostumbrarte trabajar 100 remoto teniar experiencia previo querer tengas voz esperar entregues feedback cosa cero ayudser iterar aspecto organizacion participaras cto diseñador sesión definicion producto aterrizar necesitar hagas trabajaras remoto 100 sparta nacio 100 remoto felipe basado ginebra mil londres luis basilea querer equipo desarrollo españa creer firmemente ventaja trabajar remoto equilibrio vida laboral familiar obstante tendrar presupuesto puedar trabajar coworking desear compañero valencia persona equipo intencion reunir fisicamente algun lugar virtual exito', 'Software Engineer pedir solido conocimiento desarrollo arquitectura software manejar soltura sql experiencia cloud pelear consola aws    nivel ingles suficientemente mantener documentacion esperar puedar comunicarte hispano hablant impresionaras adema conocimiento experiencia programacion orientado objeto talibán clase gustar necesario compartes pasion tecnologia cambiar vida persona trabajar sector salud mundo startup atraer eleccion profesional tecnologia stack buscar profesional conocimiento necesario desempeñar función puesto independientemente tecnologia utilizado estario sql avanzar aws intermedio sumar punto nodej intermedio react basico habilidad innegociable capacidad autogestion capacidad feedback autonomiar aprendizaje comunicacion verbal estario atencion detalle pensamiento analitico harar abi global health empresa irlandés fundado 2016 empresario experimentado tecnologia salud kimfredrik schneider dr victor vicens vision garantizar accesibilidad atencion medica trabajar tipo industria sector farmaceutico sector seguro contar ciento partners salud digital resultado ofrecer servicio facilmente integrabl aplicación sitio web utilizar inteligencia artificial aprendizaje automatico ultima generacion mejorar notablemente velocidad eficacia calidad telesalud principal recurso inteligencia humano profesional salud compartir mision empoderamiento atencion medico ayudarar mejorar comunicacion usuario podrar acceder cualquiera dispositivo cualquiera lugar mundo abi usuario recibir respuesta medico 5 minuto traves canal comunicacion emplear momento principalmente whatsapp sms telegram etc formarar equipo 7 persona crecimiento trabajar plataforma basado microservicio multicloud focalizado servicio aws tocara servicio aws lambda sqs cloudwatch rds dynamodb nivel codigo trabajarar nodejs typescript react graphql python tocaras   base dato relacional nosql evolucion 1 mes estarar completamente familiarizado arquitectura organizacion empresa suerte habrar picar linea codigo responsabilidad aplicaras principio domain driven design ddd refactorizar arquitectura capa microservicio añadir procesamiento cola sqs desarrollara funcionalidad api nestjs contribuira definir infraestructura codigo iac framework serverless ayudarar construir mejorar infraestructura cloud asegurar escalabilidad seguridad adema departamento tecnico encargar soporte compañero trabajar empresa caso especial ailab team encargado desarrollo inteligencia artificial trabajaras remoto 100 prefierar posicion 100 remoto asegurser conexion podrar trabajar cualquiera rinconcito españa    ️ gustar tiempo aprovecheis tiempo barbacoa terraza oficina espectacular pleno centro barcelona', 'Technical Business Manager pedir buscar persona apasionar trabajo capaz vender solución producto personalizado adaptar cliente querer lista deseo    minimo 3 año experiencia business manager account manager sector tecnologico gustar año experiencia caso rol 3 numero magico soltura habilidad innato oferta comercial incluir diseño tecnico solucion experiencia prospeccion apertura fidelizacion cliente solido bagaje tecnico fuerte background frontend domina lengua shakespeare ah marcha    tecnologia stack buscar profesional conocimiento necesario desempeñar función puesto independientemente tecnologia utilizado estario html avanzado css avanzado angular2    avanzado react intermedio vue intermedio sumar punto php basico habilidad innegociable liderazgo habilidad negociacion estario capacidad autogestion proactividad vision estrategico sumar punto atencion detalle gestion equipo idioma español nativo bilingue ingles fluido harar    pildoro rapido garaje idea fundado 2015 garaje idea agencia diseño datar growth tecnologia sorprender trabajar garaje    equipo garaje diseñar servicio producto basado dato objetivo mejorar vida persona transformar negocio generar impacto cultural economico positivo guinda pastel parecer demostrandole mundo crear modelo consultoria equipasso 310 persona repartido madrid malaga granada aires desear trabajar esperar    forma cosa eh fia palabra feo xd pasar jamas mentir hare linea servicio garaje dividir 4 pilar diseño crear producto servicio enamorar gente ♥ ️ convertir consigan recurrencia aportar valor datar dato central diseño desarrollo producto garaje clave visualizacion reduccion coste toma decisión tecnologiar equipo multidisciplinar arquitectura front back mobile dxp commerce caracteristica diferencial garaje tech personalizacion servicio growth diseñar estrategia crecimiento dinamica basado comprension marca objetivo audiencia    aha querias llegar encajara puzzle redoble tambor     seras technical business manager eing    mmm entender cosa probar explicar seros responsable negocio parecer castellano quitar halo misticismo background tecnico fuerte front objetivo coordinar proyecto gestionar persona desarrollar negocio    procurara gestionar crecer sano fuerte garaje creer dejar obstante recrear poquito detalle abrir seccion business manager ✅ definitivamente ❌ ✅ rol centrado area comercial elaboraras propuesta presentación defenderas cliente ❌ comercial entender technical business manager picar codigo gestionar proyecto supervisaras operativa equipo constitucion avance deberar propuesta comercial cliente ✅ harar trabajo lograr identificar oportunidad habilidad negociacion capaz apagar pequeño fuego propagar ❌ mentorio liderazgo equipo front cubierta contaras referente tecnico area creeme apañarsela recordar dedicar venta consultivo serar persona discurso tecnico compañia broma seras responsable 12 principal ganarar respeto admiracion evolucion 1 mes    habrar comenzar onboarding habrar empapado cultura trabajo garaje atencion habrar pasar area compañia permitirar entender funcionar poquito irar quedar nombre caro pondrar pasar organizacion responsabilidad establecera relación larga duradero cliente buscarar oportunidad negocio ayudarar captacion cliente elaborara presentaras defendera propuesta comercial cliente discurso capacidad oratoria seran importante serir conocimiento ciclo vida producto digital contacto cartera cliente cosa deberar entender ayudar importante ganarte confianza documentaras caso exito aprendizaje punto mejora business manager unidad seras cabeza visible equipo desarrollo front trabajarar mano mano resto departamento identificar mejora establecer estrategia captacion generar lead detectar potencial cliente trabajarar presencial madrid teletrabajo 60 podrar trabajar comodidad sofa casa apetecer buscar tengas sofa madrid    podrar pasar cualquiera oficina querer necesitser oficina madrid motivo madrid sencillo facilidad puedar desplazar viaje tendrar acomodar agenda frecuencia viajara barcelona puntualmente allo frontera', 'Senior SRE pedir consciente quedar mes navidad freepik escribir carta reyes mago pedir sre nivel tecnico    \\u200d    4 año experiencia sre plaftorm cloud engineer habilidad desarrollo mantenimiento infraestructura nube empresa producto dominio tecnologia linux docker kubernet super importante innegociable experiencia gestion infraestructura nube preferiblemente gcp freepik harar asco cloud aws azure valorar cuentes certificación cloud especialmente google evidencia competencia manejo plataforma quisquilloso punto nivel personal     cuentes capacidad trabajar equipo comunicacion efectiva adaptacion cambio habilidad esencial integrar entorno trabajo agil dinamico capacidad trabajo remoto tecnologias innegociable docker avanzado kubernet avanzado terraform avanzado estario google cloud avanzado go intermedio habilidad innegociable adaptabilidad cambio inteligencia emocional proactividad pensamiento analitico estario aprendizaje continuo comunicacion escrito sumar punto capacidad mentorizacion idioma ingles fluido harar freepik nacer 2010 hermano alejandro pablo blanes idea crear plataforma ofrecer recurso grafico gratuito diseñador amigo joaquin cuenca fundador panoramio adquirir google participar proyecto 3 fundar freepik momento universo expandeir exponencialmente sumar proyecto flaticon slidesgo familia creativo    gracias combinacion pasion innovacion equipo tocar toque genialidad malagueño freepik convertir referente global industria diseño aliado ejercito profesional digital necesitar recurso grafico proyecto adema considerar startup crecimiento europa financial times freepik empresa quedar corto crear universo creatividad digital ofrecer amplio gama producto servicio satisfacer necesidad diseñador profesional marketing educador creador contenido mundo empresa matriz proyecto diseño digital freepik consolidar referente internacional campo contenido visual digital    2023 facturacion superior 80 millón euros cerrar año equipo 550 persona grupo vivir consolidar posicion lider internacional mercado contenido visual digital apuntalar fortaleza empresarial seguir crecer hacerte vida facil visual guiño dejar aperitivo plataforma    lugar freepik joya corona plataforma mundial recurso grafico alto calidad encontrarar necesitar vida cualquiera idea creativo ✏ flaticon base dato icono sticker personalizabl mundo millón opción disponible quedarar opción proyecto    iconfinder proyecto ofrecer millón icono ilustraciones 3d sticker profesional creativo mundo    slidesgo plataforma plantilla editabl google slides powerpoint elevar presentación nivel    wepik editor online gratuito permitir crear facilmente diseño empresa proyecto personal    finalmente videvo ofrecer amplio seleccion video clip audio recurso motion graphics tipo proyecto creativo freepik tipo persona valorar capacidad abordar desafio complejo gestion infraestructura nube ejemplo responder pregunta durar 60 milisegundo conexion nodo simplificar arquitectura mejorar año experiencia site reliability engineer sre seros responsable optimizar arquitectura existente garantizar optimo retorno inversion implicar tendrar tomar decisión estrategica maximizar eficiencia rentabilidad recurso tecnologico trabajarar estrecho colaboracion equipo infraestructura tech leads enfrentar desafio variado estimulante optimizacion infraestructura mejora entorno desarrollo automatizacion ci cd implementacion solución innovadora papel serar fundamental garantizar freepik   continuar lider sector mantener vanguardia tecnologia abordar problema reactivo evolutivo ⏫ objetivo seran construir mantener integracion continuo ci despliegue continuo cd prueba supervisar monitorear infraestructura nube desarrollar solución despliegue utilizar herramienta terraform crossplane integrar configurar desplegar servicio nube forma centralizado serar guardian guardiana cumplimiento estandar operativo ofrecer soporte tecnico documentacion operacional necesario departamento tecnologia contar equipo sre cercano infra desarrollo caso buscar persona encontrar comodo asumir tarea ecosistema manejo herramienta docker kubernet packer ansible terraform grafana tekton serar clave triunfar posicion resumen aporte serar vital freepik   seguir crecer destacar mercado apasionante altamente competitivo evolucion 1 mes habrar acabar onboarding habrar experiencia guiado sumergira desafio infraestructura aprender desafio descubrirar medida avance    periodo familiarizara infraestructura herramienta utilizar mantener funcionamiento responsabilidad desarrollara mantendra arquitectura infraestructura nube optimizar rendimiento eficiencia garantizar retorno inversion optimo recurso tecnologico trabajara resolver pregunta tecnica complejo relacionado arquitectura simplificacion infraestructura existente demostrar expertise sistema capacidad abordar desafio innovadoro colaboraras estrechamente equipo sre tech lead solventar petición necesidad equipo garantizar estabilidad escalabilidad sistema contribuira innovacion ia impulsar crecimiento excelencia tecnico freepik mercado contenido visual digital mantendra enfoque proactivo optimizacion rendimiento infraestructura identificar area mejora aplicar solución innovadora trabajaras remoto 100    wherever you want posicion freepik totalmente remoto importar localidad trabajser españa apetecer totalmente voluntario onboarding presencial equipo oficina comerte espeto      apetecer pasar oficina    genial puerta oficina malaga abierto lunes martes gente tecnologia soler pasar organizar reunión evento especial pasar tiempo fortalecer espiritu equipo', 'Python Developer pedir buscar persona proactivo gana crecer querer unir plan revolucionar sector hosteleria traves ia ml computer vision has contar skills tengas amplio recorrido desarrollo backend cuent noción diseño arquitectura trabajar python seguir utilizar main stack abierto perfil proveniente lenguaje migrar python hayas utilizar algun framework crear servidor web django flask hayas utilizar comunicacion socket acostumbrado desarrollar api establecer comunicación api externo utilizar webhooks conditio sine quanon ➡ ️ solido conocimiento cloud trabajar aws abierto perfil proveniente cualquiera cloud importante hayas contacto servicio basico aws dynamodb s3 ec2 lambda trastear herramienta basica devops docker gitlab jenkins dejariar boquiabierto trabajar camara ip streaming video establecer streaming video camara ip enviar streaming servidor cliente has basico plataforma nocode jetadmin tecnologia innegociable aws avanzado python avanzado estario django intermedio flask intermedio sumar punto docker intermedio jenkins intermedio habilidad innegociable autonomiar aprendizaje proactividad estario capacidad autogestion capacidad mentorizacion sumar punto adaptabilidad cambio tolerancia incertidumbre harar contexto conozcas poquito ➡ ️ bronze startup surgio 2020 pleno pandemia confinar montar empresa caso adrian ceo cofounder bronze creer empresa ayudar madre quemar tostada handicaps persona intolerante gluten pan tardar infinitamente tostar idea adrian crear tostadora inteligente trabajo grado evitar crimen quemar pan gluten mañana obstante lanzar mercado paracaida parada programa incubacion empresa barcelona activo acerca mundillo entrepreneur ➡ ️ bronze ayudar restaurante medir optimizar automatizar proceso mejorar calidad velocidad rentabilidad utilizar vision artificial construir plataforma inteligencia artificial centrado restauracion coccion alimento sonar chino contar empezar desarrollar producto bronze grill assistant consistir ayuda extra plancha cocina restaurante ayuda camara capaz traquear ocurrir tiempo ejercer suerte control calidad cocinando ocurrir fabrica vida llevado restaurante servir restaurante cocinar producto gracias gamificacion mejorar tecnica burger vicio cocina cualquiera desarrollar mvp descubrir problema missing items preparacion delivery extraviar algun producto surgir cualquiera error hora empaquetado lanzar piscina desarrollar producto nocode tiempo record pedido quedar registrado evitar fraude reducir queja usuario empezar trabajar mano referente sector vicio cuyna objetivo revolucionar industria comenzar definir cocina inteligente futuro actualmente contar presencia 30 cocina impacto social ➡ ️ traves vision artificial ayuda financiacion publicar desarrollar proyecto medir cantidad acrilamida sustancia cancerigén generar alimento cocinar proyecto involucrado csic consejo superior investigación cientifica traves laboratorio ictan instituto ciencia alimento harar ➡ ️ tocar desempeñar rol importante hora tomar decisión tecnica relevante papel developer referente equipo serar imprescindible actualmente bronze equipo desarrollo vision formarar maite jr python developer incorporacion equipo maite contar profundo conocimiento python desenvolver front falta experiencia nube perfil buscar requerir fuerte conocimiento cloud arquitectura alguien comunicar cosa eficiente escalable experiencia construccion api base dato etc seras persona encargado liderar desarollo posibilidad crecer tendido tranqui desarrollo software relacionado vision artificial cabo equipo vision metodo enviar imagen streaming video recibir dato procesado importante comunicar dato eficiente momento salir pipeline vision resumen serar pieza fundamental equipo pequeño apuntar alto decia yahel maravilloso anuncio colacao pequeño significar cosa evolucion 1 mes mes completaras onboarding familiarizandote entorno equipo proceso interno cultura empresa dedicarar tiempo comprender codigo base proyecto trabajarar revisar documentacion existente pregunta aclarar cualquiera duda principio asignar tarea pequeño colaborarar proyecto critico ayuda compi vayas ganar confianza sentar comodo trabajar stack habrar participar reunión producto ayudar colaborar resolucion problema responsabilidad figura referente departamento desarrollo tocar tomar decisión importante elegir diseño adecuar necesidad manejara desarrollara integracion api gestionara comunicacion api externo encargara diseñar arquitectura proceso nube aws tranqui pedir seas arquitecto tengar conocimiento experiencia cloud general ocupara desarrollo mantenimiento software bbdd aws configuracion servidores linux ec2 microcomputador trabajaras remoto 100 querer httpsmediaasgards3euwest1amazonawscom230728dc262d2710524385b43445130b731228businesspenguingifgif posicion 100 remoto tengas conexion podrar trabajar alpujarra revertir vaciado rural bilbao pintxo txakoli alternar caso lugar equipo completo encontrar teletrabajar diverso punto peninsula ejemplo eric tarragona alex madrid maite pamplona pirineo aragón creer unico pasar ofi adri ceo founder oficina barcelona gustser invitado pasar disfrutar calçotada', 'Node Backend Developer pedir principalmente buscar persona compartir desarrollo software basado calidad practica obviamente serie requisito tecnico 34 año experiencia trabajar backender nodejs stack principal conocimiento autenticacion autorizacion leer fiel defensor calidad deberar framework testing jest ingles idioma vehicular equipo deberar capaz entender hacerte entender forma fluido trabajo equipo pedir ayuda prestar necesario dejariar boquiabierto frontend equipo frontenders golpear colocar pixel sitio entender tema serar plus experiencia desarrollo serverless aws lambda sa tecnologia innegociable typescript avanzado javascript avanzado nodejs avanzado estario mongodb intermedio postgresql intermedio sumar punto react basico aws basico habilidad innegociable aprendizaje continuo comunicacion verbal proactividad estario comunicacion intercultural sumar punto atencion detalle harar trabajaras equipo internacional 10 persona crecer construir plataforma igualar calidad personalizacion atencion detalle exclusivo servicio pure escapes ofrecer cliente pure escapes tiro necesitar preparar escalar numero hotel servicio ofrecer roadmap definido corto plazo incluir integración channel managers automatizacion proceso finanza facturacion cobro pago funcionalidad booking builder rat dinamico transfers servicio tierra escalado busqueda multihotel producto sostener arquitectura 100 serverlesss programado typescript meter tripa producto encontrar back desarrollado nodejs frontal construido react casar unico motor base dato modelo relacional relacional postgressql mongodb cultura entrega continuo proceso desarrollo definido ayudar codigo calidad desplegar features diario circleci evolucion 1 mes periodo equipo estarir centrado 100 onboarding principal objetivo mes pure escapes comprendera forma trabajar metodologia producto responsabilidad arquitectura basado microservicio tendrar contribuir crear api rest consumo interno construir integración api revisar peer review codigo compañero aceptar humor revisar    rotar equipo rol encargado puesto produccion tiempo seras encargado paso releás entregado tranqui automatizado trabajaras remoto 100 querer cuentes conexion internet empresa oficina reino unido dubai maldiva seychell adema persona trabajar remoto españa reino unido ucrania india hablar equipo fullremotir diseño teletrabajo extender', 'Backend Developer (con inglés) pedir preguntar equipo necesitar manfredita posicion respuesta alguien tiro pegado java interiorizada practica amplio querer aterrizar persona ideal experiencia java backend solido conocimiento practica programacion testing preferiblemente tdd recomendable hayar trabajar sistema alto concurrencia operación transaccional familiarizado ci cd recomendable experiencia trabajar nube publicar aw capaz autogestionar tiempo trabajo nivel ingles mantener conversación dificultad tecnologia innegociable java avanzado estario postgresql intermedio docker basico sumar punto spring intermedio habilidad innegociable aprendizaje continuo atencion detalle trabajo equipo estario capacidad autogestion pensamiento analitico sumar punto gestion equipo harar backender formarar departamento desarrollo podia    responsabilizar aplicacion funcionar reloj suizo ⌚ habrar vertient principal mejora rendimiento escalabilidad plataforma desarrollo producto inicio harar alguien trabajar pair programming actor principal revisor caso aprenderar    inicialmente participaras responsable tarea concreto corto objetivo vayas coger ritmo vayas aprender modulo componer producto ira participar revisor asumir responsabilidad aportar idea mejorar sistema funcionalidad desarrollar promover practica programacion equipo principal reto equipo backend abordar medida escalar producto nivel vertical ampliar cantidad usuario transacción concurrent crecer año año reto crecer horizontal abrir país habrar desarrollar funcionalidad lugar integración necesario 2018 operar españa abrir charco mexico crecer año año año 2022 reto seguir escalar apertura país crecer mercado operar actualmente tulotero gustar dejar crecer deuda tecnico medida surgir problema incidencia abordar medida necesario volver ocurrir persona guardia general equipo vivir evolucion 1 mes gana funcionar tulotero seran vital mes hayar nivel tecnologia entorno igualmente habrar tiempo mayoria procedimiento funcionamiento interno tulotero controlara canal slack traves comunicarar compañero notion tarea gestion comunicacion generalmente asincrona gustar tomar cafés informal charlar habrar cabo tarea tranqui seran complejo adema tendrar apoyo resto equipo independientemente departamento irar mundo sabra punto fuerte area conocimiento responsabilidad desarrollara funcionalidad vendrar analizado solucionara bugs vayamos encontrar analizaras funcionalidad cambio implementara tests garantizar calidad producto revisara codigo compañero aportar aprender demas trabajaras remoto 100 ganar playa    ️ montaña ⛰ ️ eliges    100 remoto equipo tulotero acostumbrado modalidad remoto dinamica parecer gustar interactuar compañero disponer oficina madrid chamartin ciudad mexico', 'Senior PHP Developer pedir comentar buscar alguien tiro pegado desarrollo mencionar 5 año experiencia referencia sincero tratar año año experiencia realmente aprovechar    desarrollo aplicación php symfony experiencia tdd arquitectura moderno hexagonal cqrs cosa estilo experiencia trabajar aws conocimiento practica desarrollo codigo limpio familiaridad herramienta control versión git trabajar entorno agile scrum deberiar costar ingles alto deber participar reunión nivel general empresa founder experiencia producto plus importante lector pasion libro chapurrear franz must founder francés comment ço hariar ojito    tecnologia innegociable php avanzado symfony intermedio estario aws intermedio sumar punto react basico habilidad innegociable capacidad autogestion aprendizaje continuo capacidad escucha proactividad estario capacidad mentorizacion vision estrategico liderazgo idioma ingles fluido harar fundador dashbook hablar pasar proceso escribir publicar libro vivir experiencia buscar editorial apostar obra    pregunta millon dejar lector voz querer leer    entrar dashbook futuro lector voz voto podrar obra apoyar principio publicacion funcionar libro pasar comite editorial seleccion    dashbook publicar extracto web red social lector descubrir historia darte impresion paso enganchar aumentar oportunidad ruido visibilidad permitir ganar venta nivel producto contar 3 proyecto area principal back office administrativo sistema administracion interno dashbook gestionar tarea administrativo seguimiento venta gestion derecho autor operación interno area crucial operatividad dashbook permitir empresa coordinar proceso edicion distribucion lugar back office autor herramienta diseñado especificamente autor publicar dashbook plataforma autor tiempo real desempeñar libro acceder ingreso obtener control publicación desarrollo herramienta apostar ia utilizar creacion portada contenido red social mejorar fragmento texto etc marketplace ecommerce patita marketplace funcionar plataforma comercio electronico lector descubrir comprar libro directamente autor espacio ayudar autor llegar directamente audiencia lector apoyar forma directo escritor favorito proceso compra lectura cercano accesible reto    dashbook buscar alguien querer sumar equipo apasionado momento clave refactorizar proyecto referir limpieza modernizacion sistema    monolito legacy tocar traer entrar buscar alguien encargar refactorizacion backend echar mano decisión tecnica oportunidad marca proyecto unirar equipo pequeño gente majo dispuesto trabajar codo codo alguien querer escribir codigo aportar decisión construir cimiento reto ideal evolucion 1 mes familiarizas equipo herramienta cultura dashbook centrarte revisar producto arquitectura actual entender estructurado codigo transicion cabo arquitectura moderno tiempo empezarar tarea pequeño permitirar flujo trabajo entorno tecnico integrar equipo seras dashbook habrar algun libro publicar    responsabilidad refactorizar optimizar sistema monolitico actual arquitectura escalable desarrollar backend plataforma enfocado php    symfony crear features mantener software existente gestionar interconexión sistema proyecto producto optimizar rendimiento backend identificar resolver cuello botella asegurar documentacion tecnico proyecto facilitar onboarding trabajo colaborativo trabajarar presencial barcelona teletrabajo 20 20 remoto querer dashbook oficina ubicado carrer mestre nicolau 19 7 ° sarriàsant gervasi barcelona    fijo oficina obligatorio buscar alguien realmente valorar importancia colaboracion persona disfrute oficina flexibilidad trabajar casa necesario     buscar alguien preferiblemente vivo cerca barcelona ofi', 'PHP Developer pedir buscar imposible alguien gana experiencia venir gana proponer cosa aprender compañero compartir conocimiento requisito basico encajaria disponer punto amplio experiencia php symfony experiencia desarrollo consumo api familiarizado git sentir comodo trabajar html css sass experiencia javascript jquery experiencia implementación ci cd pedir extra duda sumar punto candidatura desenvolver linux deseable muevas gusto leer documentacion tecnico ingles experiencia frameworks frontend vue react angular familiarizado metodologia desarrollo agil scrum kanban trabajar jiro noción ansible tecnologia innegociable php avanzado javascript intermedio html intermedio estario linux intermedio sumar punto react intermedio angular2    intermedio vue intermedio ansible basico harar jotelulu aspirar digitalizar subir nube micro pequeño empresa unico forma traves compañia informatica vida crear plataforma ayudar pequeño it vender gestionar administrar servicio cloud facilmente plataforma ofrecer servicio informatica comunicación herramienta administrador sistema multipl funcionalidad centrado resolver reto diario enfrentar pequeño empresa it cliente micro pequeño empresa tasa crecimiento mensual doble digito jotelulu crecer necesitar reforzar equipo gente inquieta gana seguir evolucionar gana aportar apuntar digitalizar pequeño empresa reto precioso mayusculo necesitar seguir crecer reforzar equipo perfil ayudar duda buscar persona pensar jotelulu proveedor cloud mision allo proveer asistencia nube crear servicio funcionalidad proceso centrado aportar valor departamento pequeño empresa informatica pretender facil venta gestion servicio cloud necesitar equipo desarrollador ayudar implementar formarar equipo 5 persona trabajar principalmente php symfony tocar tocar proximamente html javascript jquery frameworks frontend gitlab github jira ansible surgir camino tarea centrar fundamentalmente velar correcto funcionamiento plataforma seguir trabajar evolucion desarrollo apoyar scrum practica agil organizar tarea tir seguro recibiras formacion necesitser desarrollar habilidad preguntar pregunta bienvenidas adema plan futuro servicio funcionalidad herramienta tecnologia aportar desear incorpores propongas idea ayudar seguir crecer evolucion 1 mes empezar fiesta serar jotelulu estarar pleno proceso onboarding habrar montado oficina casa prefieras estarar atender reunión diario status resto equipo permitirar seguir familiarizandote arquitectura proyecto medida vayas asimilar empezarar trabajar tarea responsabilidad trabajar codo codo equipo ingenieria integracion servicio funcionalidad b evolucion stack tecnologico plataforma integración traves apis aportar conocimiento experiencia vision criticar toma decisión evolucion plataforma opinion serar bienvenido trabajaras remoto 100 gustar puesto trabajo 100 remoto asegurar conexion internet preferir oficina madrid fondo elegir resultar comodo forma puntual gustar reunir compartir cafe disfrutar comida actividad ambito laboral equipo', 'Angular Developer pedir pedir msc ☠ ️    importante equipo encontrar persona foco detalle gustar trabajar equipo allo habilidad navegar complejidad desarrollo frontend buscar referente equipo persona mar navegado dominio angular principal framework deberar capaz lidiar secreto typescript dominio html css vida interfaz pase oro llegario capacidad trazar mapa visual cautivador interfaz usuario seras pieza perfecto aplicación valorar estetica tesoro capacidad vida aplicación visualmente atractivo serar clave experiencia ux mejorar usabilidad experiencia usuario objetivo conquistar aviso backend asustar cacharrear java bolsillo minuto cero tecnologia innegociable angular2    intermedio html intermedio css intermedio javascript intermedio sumar punto java basico spring boot basico habilidad innegociable adaptabilidad cambio aprendizaje continuo comunicacion verbal atencion detalle autonomiar aprendizaje capacidad autogestion capacidad feedback inteligencia emocional pensamiento creativo proactividad trabajar equipo estario capacidad abstraccion capacidad escucha pensamiento analitico resistencia frustracion vision criticar tolerancia incertidumbre capacidad presentacion harar     aventura historia grupo msc comenzo brusela 1970 pequeño buque carga mv patricia negocio crecer diversificar incluir linea crucero servicio transbordador pasajero exito infraestructura lider terminal contenedor portuario terrestre formar grupo msc terminal valenci lugar destino msctv terminal container formar grupo til formar grupo msc dedicar cargar descargar megabuques contenedor entregar recibir contenedor puerta acceso camión calle    desarrollo software terminal    buscar perfil frontend destreza angular suficiente autonomia explorar funcionalidad experiencia usuario tendrar foco aplicación interno conseguiras transformar experiencia intuitiva dinamica simplificar vida usuario grupo msc reto serar trabajar conjuntamente equipo introducir capa emulacion transformar completo proceso operativo terminal imaginar simulacion detallado trabajo semanal anticipar marea recurso ocupacion patio turno trabajo herramienta serar brujula permitiendo anticipar solución mejorar transbordo mercancia prevision centrareis digitalizacion trabajo portuario coordinandoos estrechamente departamento llevareis seguimiento minucioso barco atraque gruas camión evitar temido cuello botella principal misión recomendareis proyecto naviera acción estrategica mejorar flujo mercancia optimizar tiempo parada aumentar productividad unir tripulacion    \\u200d ☠ ️    msctv trabajar buque msc mundo incluir buque menor huella carbono disponible actualidad atracado cargar descargar contenedor correspondiente msctv preocupacion ambiente año proyecto acreditar ejemplo electrificacion gruas instalacion panel solar tejado edificio evolucion 1 mes aprendizaje cubierta conocimiento absorbera cultura proceso ciberseguridad prevenir incidente msctv proyecto participaras sesión orientacion contexto aplicación sistema formarar reunión planificacion conoceras tripulacion desarrollo software podrar recorrer pe pa terminal 800x500metros entender contexto empezarar mover mision principal serar familiarizar codigo existente sumergirtar ecosistema angular comenzar participar pequeño tarea ganar confianza cubierta    spoiler alert apto publico querrar subirte grua muelle 60 metro altura apto gente sufrir vertigo responsabilidad participaras activamente fase planificacion definir solución innovadora satisfacer necesidad planteado analizara darar respuesta necesidad cliente crear solución personalizado mejora elevar producto desarrollado nivel superior participara principio fase proyecto perdera linea frente departamento operación crearas herramienta necesario optimizar proceso terminal seras creador solución tecnologica impulsar eficiencia harar terminal faro innovacion lidiaras usuario diariamente necesitarar capacidad ponerte zapato comunicarte lenguaje dummy necesidad interlocucion trabajarar presencial valencia pensar valencia encontrar destino vivir terreta momento     posicion 100 presencia l significar podrar trabajar rodeado mente brillante sonido mar vista fondo msc terminal valencia desarrollar instalación ubicado epicentro accion pleno corazon terminal concretamente planta departamento operación resto developer comodidad disposicion sentar casa', 'Java Principal Architect pedir pedir echar mano encontrar principal engineer lead buscar caracteristica rigida 810 año experiencia trabajar desarrollo software ocupar posición responsabilidad arquitectura experiencia mentorizacion persona equipo ingenieria implementacion practica patrón diseño creacion guias ingenieria abordar liderazgo tecnico aplicación herramienta vision data driven argumentacion solución conocimiento profundo java spring desarrollar apirestful trabajado json webservices domina entorno linux experiencia testing concibser desarrollo asegurar calidad codigo fluidez hablado escrito ingles dejarar boquiabierto trabajar lenguaje programacion parsers especificamente antlr gramatica tecnologia innegociable java avanzado spring avanzado estario aws intermedio jenkins intermedio javascript basico postgresql intermedio habilidad innegociable trabajo equipo adaptabilidad cambio capacidad feedback estario liderazgo inteligencia emocional sumar punto comunicacion escrito resistencia frustracion harar rocket compañia internacional monton proyecto producto software centrado ecosistema ibm mainframe rpaz ibm power etc desarrollar multitud producto centrado base dato inteligencia artificial automatizacion sed globo barcelona equipo trabajar desarrollar ide web nocode lowcode automatizar proceso mainframe gente tecnico notecnica interfaz web nocode editor codigo facilitar automatizacion proceso equipo venir trabajar tecnologia microsoft net buscar giro tecnico java desarrollar producto principal rpaz solucion rpa enfocado entorno ibm mainframe utilizar cliente rocket principalmente aseguradora medica procesar millón prestación mes gracias solucion idea principal montar front tipo scratch blockly practicamente codigo amigable usable usuario tecnico conectado editor codigo basado rpaz usuario avanzado crear script complejo rpaz querer satisfacer tipo usuario persona tecnico utilizar capacidad automatizacion rpaz demandar ide completo permitir herramienta moderno gestion codigo git equipo analisis negocio querer interfaz grafico sencillo nocode colaborar definicion funcional proceso desarrollador necesidad inmiscuir codigo producto doble publico entorno sencillo alguien analisis negocio bloque alguien venir desarrollo modificar crear precisar roadmap año planificar sacar beta front blockly version ide correr navegador dejar captura producto antiguo imagen empezar construir blockly work in progress equipo venir trabajar producto net paso java querer alguien ayudar actuar referencia equipo trabajar formacion java aprender lenguaje spring valorar preparar certificacion sentir comodo seguro alguien experiencia ayudar transicion reto formar equipo crear guidelín practica documentacion trabajar arquitectura aplicacion jaime equipo alto rendimiento mes trabajar eficiencia proponer solución mejorar escalabilidad robustez mantenimiento herramienta actualmente rpaz desarrollado java aplicacion windows rpaz serir web blockly angular backend java trabajarar conjunto equipo backend transicion plataforma web serar referencia equipo tecnico ejemplo formacion evolucion 1 mes habrar completar onboarding incluira   llamada equipo rocket    \\u200d    negocio producto desarrollo forma empapara objetivo core negocio cosa desvirtualizara equipo onboarding onsite empezaras entender ceremonia scrum utilizar mes empezarar planificar miembro pathing net into java responsabilidad definira arquitectura aplicación crearar documento diseño alto nivel descripción tecnica diagrama arquitectura analizaras requisito ayudarar incorporar roadmap insights stakeholder lideraras diseño arquitectura software encargarar base diseño desarrollo solución seguro escalabl latencia alto rendimiento ayudarar definir refinar estandar linea arquitectura actual participar reunión actividad grupo arquitectura liderara revisión codigo revisión calidad equipo perspectiva mejora continuo instrumentalizara distinto aplicación vayas crear recoger metrica estadistica trabajaras remoto 100 posicion 100 remoto quierar tengas conexion podrar tailandia    albacete semana onboarding semana invitar barcelona sprint planning participar evento teambuilding resto equipo', 'Senior Python Developer pedir seguro altura morir pedir habra match skills dejame desvelar misterio contar equipo flexible enfocar encontrar persona conocimiento solido gana buscar persona solida base desarrollo agil ingenieria arquitectura software python especialmente django independientemente 5 6 7 año experiencia seas resolutivo tengar capacidad buscar solución problema surgir autonomia disfrutes aprender preocupser codigo calidad tengas arraigado practica tengas experiencia testing automatico seas shakespeare sepas desenvolverte ingl algun compañero querer 1010 fijar vengar producto entorno startup tengas mentalidad devops tecnologia innegociable python avanzado django avanzado sql avanzado estario rest avanzado docker intermedio javascript intermedio sumar punto linux basico aws basico habilidad innegociable adaptabilidad cambio aprendizaje continuo trabajo equipo estario atencion detalle proactividad sumar punto tolerancia incertidumbre comunicacion intercultural idioma ingles intermedio harar referencia pokemon nivel alto seguro estarar preguntar plexigrid plexi scaleup base suecia españa spinoff universidad oviedo centrado optimizacion red distribucion electrico software especialmente red tension contar 4 producto ari tatari tia etia producto encargar generar simulación red electrica solución buscar flexibilidad red funcion carga tiempo real software mejora eficiencia operación monitorizacion red distribucion electrico permitir funcionamiento inteligente eficiente equipo crecer fauna pueblo paleta preocupar cosa calidad buscar incorporar compañero equipo base solida desarrollo software proactivo gana echar mano mejorar aprender mundillo electrico evolucion 1 mes mes podrar persona formar equipo irar habituar modus operandi seguir plexigrid adaptacion enfocado formarte sentar perdido semana tendrar formacion dominio electrotecnica distribucion electrico enseñar aplicación nivel usuario instruirar arquitectura ciclo vida desarrollo semana habrar asignar mentor trabajar shadowing hagar contexto responsabilidad estarar ciclo completo desarrollo pudiendo imbuirte producto plexigrid contribuira crear codigo calidad negociar historia usuario product manager colaborar crear diseño aplicacion manto practica colaborarar desarrollo prueba testing pudiendo tdd bdd atdd buscarar mejora continuo preguntandote cosa buscar solución participara releás seguir filosofia devops continuous delivery trabajarar presencial gijon teletrabajo 80 spoilea encabezado gustar promover sentimiento equipo solitario soler quedar martes oficina gijon comer actividad    resto trabajar casa escrito piedra apetecer gijon españa encantado', 'Node Backend Engineer 💡 pedir lista rey mago mentalidad practico querer punto vista tecnico necesitar alguien experiencia construir aplicación node diseñar sacar punta base dato relacional trabajar postgresql mysql gustar codigo clean architecture testing actitud pasion tecnologia ayudar persona empresa desarrollar concepto idea alguien experiencia mochila trabajar autonomo mayoria ocasión gana seguir aprender crecer mano raul cosa cto relacion cliente compartir persona veterano equipo responsabilidad ayudar crecer ultima incorporación alguien llegar proyecto reto buscar solucion tecnico afrontar estario ademar amplio abanico posibilidad node has proyecto express nest trabajas soltura git docker defenderte ingles mantener conversacion cliente hablar castellano redondear dejar boca abierto nosql caja herramienta mongodb dynamo pinito aws encantar sacar partido serverless conocimiento cosa lista aprender sumar cump requisito lobo solitario creer desear suerte creer crowd digital sitio buscar gente experiencia profesional conocimiento tecnico querer compartir seguir curiosidad gana seguir aprender mejorar junior tecnologia innegociable nodejs avanzado sql avanzado estario express intermedio nest intermedio sumar punto docker intermedio aws intermedio habilidad innegociable trabajo equipo capacidad autogestion proactividad estario aprendizaje continuo atencion detalle comunicacion verbal sumar punto capacidad mentorizacion harar crowd digital agencia marketing ayudar marca alinear creatividad estrategia tecnologia comunicar crear producto digital desarrollador backend tarea principal serir desarrollar aplicación robusto escalabl respuesta adecuado tiempo forma idea proyecto web campaña evento llegar boca boca trabajo gustar encantar probar cosa explorar oportunidad adaptar proyecto app featur instragram realidad virtual ponerte ejemplo chulo finding fariñir recuerdas serie resultar libro censurar demanda personaje hablar prohibio distribucion desarrollar motor busqueda palabra node reconstruir novela buscar palabra finding fariña texto quijote fragmento palabra montar palabra salian proyecto ganar premio grand laus 2019 jurado considerar poderoso pieza tecnologia red servicio comun defender libertad expresion video contar proyecto haz clic foto premio laus tranqui sabio explicar contar premio prestigioso entregar barcelona 1964 ambito barcelona design week hablar marketing campaña preguntser alguien sitio    precisamente secreto crowd digital principio entender diseño programacion deber mano web evento deber back solido gestionar inscripción perfil usuario integrar sistema combinacion ayudar cliente desarrollar proyecto producto plazo querer dedicar importante tiempo serar pieza fundamental desarrollo producto solucion creado microservicio clean architecture relacionado ambito educativo equipo querer seguir evolucionar proyecto ira mano cto raul drechsel desarrollo backend actualmente gente experto ayudareis incorporación reciente crecer raul cosa cto infra raul estarir encantado echar mano conocimiento curiosidad gustar estarir encantado iniciarte ambito evolucion 1 mes recibiras equipo incorporacion listo minuto barcelona apetecer tendrar pequeño comite bienvenida oficina semana trabajara mano mano cto onboarding proyecto curso equipo forma organizar recibira acceso formacion herramienta habra presentar prs esperar produccion responsabilidad desarrollo features node evolucion backend producto desarrollar testeo jest mejora testing producto proyecto aportar valor aterrizar implementar proyecto llegar ayudar mejorar resto equipo persona junior front duda logico seguro sumar gustar infraestructura echarar mano sistema cliente sistema importante tratar cariño trabajaras remoto 100 covidgedon interiorizar dinamica trabajo remoto adoptar forma trabajar posicion 100 remoto podrar trabajar callus pueblo digital catalan playa    ️ caer 4 pared casa ofi barcelona c pallars 141 4ºb 08018 barcelona soler reunir par año verano navidad compartir actividad tranquilo relajado alguien equipo convencer probar afición movido', 'Automation Engineer pedir solarpack buscar perfil automation engineer contar skills experiencia scripting python jython conocimiento trabajar infraestructura bbdd sql vengar casa noción basica red dejariar boquiabierto experiencia entorno scado implementacion ignition protocolo comunicacion industriales modbu iec 102104 dlms dnp3 opc ua tecnologia innegociable python intermedio sql intermedio estario scado intermedio habilidad innegociable aprendizaje continuo trabajo equipo estario liderazgo capacidad autogestion sumar punto proactividad tolerancia incertidumbre harar contar ponerte contexto ➡ ️ solarpack multinacional especializado desarrollo financiacion construccion operacion gestion planta energia solar fotovoltaico escala presencia mercado rapido crecimiento europa america norte america latina asia africa presente 19 país recibir fondo inversion eqt fuerte inyeccion economico permitirar crecer 550 1300 persona año solarpack compromiso sostenibilidad gustar rodear persona pensar actuan turron harar    trabajarar departamento ingenieria digital equipo encargar crear mantener sistema funcionamiento central fotovoltaica trabajara mano mano jose introducirar solarpack trabajar departamento trabajar proyecto principal basado desarrollo entorno scado centrado calidad adaptacion planta surgir gira centro control basado plataforma ignition proyecto fotovoltaico eolico llegar integrar centro control promover mejora tratar proyecto funcionar paralelo centro control centralizado compañia desarrollo modelo scada fotovoltaico instalar proyecto marcha mision crear entorno adecuado control central lectura dato persistencia exposicion harar entorno scado concretamente tecnologia ignition necesario conozcas antemano tecnologia negar serio plus    programacion serar trabajo realizarar python actualmente trabajar python 27 base dato relacional interesante conocimiento basico networking ayudar entender conectar dispositivo autonomo hora desarrollar trabajo evolucion 1 mes habrar aprendido funcionar negocio generacion energia renovable conoceras resto equipo digital compañero area ayuda ira herramienta empezaras manejar configurar conoceras sistema scado compañia esperar desarrollar    responsabilidad desarrollara sistema scado proyecto generacion energia encargara mantenimiento sistema llevaras cabo desarrollo mantenimiento aplicación utilizar python base dato relacional integrara proyecto centro control encargara mantenimiento contribuira mejora continuo sistema marcado orientacion usuario participaras proyecto transformacion digital solarpack trabajarar presencial sevilla teletrabajo 40 posicion modalidad hibrida trabajo 3 ofi sevilla podrar piña equipo salir tomar caña practicar deporte nacional    podrar disfrutar trabajo remoto teletrabajo ofi distribuir venir semana libre escoger 3 querer pasar ofi 2 teletrabajar casa fuerte cultura equipo implicacion buscar persona capacidad colaboracion disfrutar trabajar persona fomentar trabajo hibrido soler reunir esporadicamente actividad dinamica teambuilding huelva', 'Security Architect pedir buscar persona alto capacidad analisis proactividad proponer mejora venir background orientado seguridad pedir experiencia consolidado ofrecer solución seguridad nivel arquitectura meter mano barro implementandola conocimiento experiencia seguridad apis rest web gana aprender buscar tecnologia equipo arquitectura smallworld creer existir herramienta solucionar problema buscar hambre aprender solución resolver necesidad experiencia plataforma microservicio experiencia algun cloud ingles idioma vehicular small world documentacion generar ingles adema proyecto tarea conversación producto client proveedor tecnologico partners ingles tecnologia stack buscar profesional conocimiento necesario desempeñar función puesto independientemente tecnologia utilizado habilidad innegociable trabajo equipo aprendizaje continuo proactividad pensamiento analitico estario capacidad mentorizacion vision estrategico sumar punto liderazgo comunicacion intercultural harar contexto small world nacer 2005 idea frontera deber significar barrera premisa 20 año ayudar familia amigo cerca pudiendo enviar dinero necesitar seguro facil economico 1000 persona mundo ayudar mision asegurar 1 millon transacción mes adecuado sufrir sufrir profundo transformacion digital fintech referencia tecnologiar negocio mano podrar imaginar equipo ingenieria clave negocio nivel     definido plataforma actualmente aplicación migrar microservicio web publicar basicamente contenido estatico encontrar web web transaccional web registrar envio dinero directamente api app endpoint rest facilitar servicio app    esperar reto chulo cabo profundo transformacion necesitar paso allo asegurar producto seguridad prueba bomba    esperar hagar arquitectura puedar identificar solucion fallo seguridad reunirte proveedor ofrecer solución necesidad adema evangelist practica seguridad convertir referente desarrollo creacion codigo perfecto seguro buscar persona vivir altura necesitar team player gustar bajar barro ayudar equipo implementar solución necesario evolucion 1 mes aterrizaje importante conozcas arquitectura harar mes pasarar proceso onboarding estarar trabajar squad persona equipo responsable tarea sencillo entender arquitectura actual pondrar principal fallo seguridad afrontar conoceras   equipo equipo delivery desarrollador as team leads project managers etc resto persona arquitectura responsabilidad evaluar analizar priorizar riesgo seguridad infraestructura incluir cloud aws on premise kubernet comunicación proponer implementar solución seguridad plataforma protegido ataque cualquiera tipo ddo usurpacion identidad robo clave etc seleccionar herramienta seguridad ayudar protegido entorno productivo seguridad pieza central entrega valor diseño puesta produccion pasar fase desarrollo participar verificación asegurara pipelín produccion seguro trabajar mano mano resto persona equipo arquitectura definir requisito punto vista seguridad asegurar proceso ci cd escaneo automatico seguridad dependencia vulnerable analisis codigo estatico revisión cumplimiento persona referente equipo ingenieria concienciar fomentar evangelizar aspecto seguridad aplicación investigar proponer solución mercado respuesta necesidad seguir aportar karma equipo trabajaras remoto 100 presencial madrid quierar equipo distribuido persona españa sevilla barcelona palma mallorca valladolid etc belgica mexico uk trabajar fullremote importar cabaña sierra ⛰ ️ furgo recorrer mundo asegurser conexion encantar equipo trabajser fullremote gustar reunir centro operación finca madrid 1 2 56 semana coste cargo empresa equipazo small world fundamental crear lazo desvirtualizar', 'Growth Manager pedir buscar persona ayudar encontrar camino corto crecimiento creativo hora propuesta pensar out of the box limitar area marketing toooodo ciclo vida producto cliente alucinar amplio experiencia growth manager demostrar ejemplo crecimiento corto plazo has diseñar hipotesis experimento validar iterar estrategia cro resultado documentar proceso cabo incluido testing experiencia analizar problema estrategia distinto fase funnel conversion demostrar objetivo acción resultado aumento significativo cliente usuario cerrar ningun stack tecnologico concreto esperar domín herramienta analisis competencia paid analytics datar studio gestion base dato testing b analisis interaccion usuario marketing automation wordpress persona orientado objetivo cliente analizar medir core trabajo encantar trabajar equipo alto adaptabilidad cambio comunicacion resto compi recibir feedback constante tecnologia stack buscar profesional conocimiento necesario desempeñar función puesto independientemente tecnologia utilizado estario google ads avanzado google admanager avanzado wordpress avanzado google data studio avanzado google analytics avanzado sumar punto google tag manager intermedio google optimize intermedio habilidad innegociable adaptabilidad cambio capacidad autogestion pensamiento creativo pensamiento analitico estario vision estrategico trabajo equipo idioma español nativo bilingue harir buscar     tendrar foco principal    nivel estrategico principal cometido serar crear estrategia growth ayudar crecer usuario cliente webempresa tendras colaborar equipo marketing producto desarrollo crear estrategia sentidiño equipo focalizado cliente pleno crecimiento     nivel operacional hablar tofu venir mente comida hablar idioma    pasarar analizar gestionar incrementar generacion lead registro suscriptor usuario recurrente cliente entrarar formar equipo marketing trabajarar coordinacion compañero as encargado seo sem marketing automation analitica diseño comunicacion etc trabajara colaborar departamento tecnico comercial reportara departamento marketing team lead victoria querer venir gente majo webempresa definir frase utilizar web carga cohete google comerar beso tuneamos servidor web vuelir 25 año espalda 67822 cliente mundo webempresa proveedor hosting dominio pionero españa experto wordpress joomla tecnologia aceleracion web empresa hablar tecnicismo forma honesto transparente cliente entender atendido    roadmap momento transformacion crecimiento equipo servicio trabajar servicio ofrecer parking dominio servicio seguridad medico wordpress wp doctor arkibot chatbot sabia apoyar proyecto caracter solidario alojar gratuito web proyecto social acción visibilidad mundo digital dibujo luah protagonista proyecto dibujo equipo webempresa    evolucion 1 mes conoceras virtual equipazo webempresa empaparar cultura mes habrar entender proyecto ambicioso crear conocera metodologia trabajo esperar carrera querer correr onboarding principal reto mes serar interiorizar producto dedillo cliente adaptarte ritmo trabajo tendrar victoria david disposicion resolver cualquiera duda surgir responsabilidad realizarar analisis documentacion exhaustivo funnel cliente palanca accionar activacion retencion generacion habito adquisicion captacion definira hipotesis enlazada objetivo cro marqueis equipo test test test localizado hipotesis crearar testing validar hayar demostrar refutar hipotesis realizaras iteracion metrica objetivo hipotesis acción prestara especial atencion propondra solución problema usuario web tasa rebote cambio algoritmo cambio interés usuario problema usabilidad accesibilidad creara estrategia tofu atraer maximo numero usuario web estarar constante comunicacion compi marketing equipo desarrollo alcanzar metrica plazo corto elegira stack tecnologico querer dominser nivel avanzado estarar tendencia proponer idea cambio mejora constante maximizar resultado trabajarar remoto 100 madrid bahamas lima sevilla trabajar quierar    ️ aseguratar excelente conexion internet disponible hora horario español peninsular gmt    1', 'Senior QA Engineer pedir pedir 3 deseo genio lampara magico capaz realidad challenge accepted 5 año experiencia prueba software posición l iderazgo tecnico gestion equipo senior qa lomo curtido redactar implementar estrategia plan prueba integrado entorno desarrollo software experiencia creacion ejecucion mejora prueba manual automatizada gustar selenium jbehave restassured registro seguimiento problema software cierre utilizar herramienta jira manejo algun lenguaje programacion desarrollo scripting entorno encontrarar copyright java querer impresionarl estario comunicacion ingles experiencia trabajar entorno agil prueba seguir safe scrum conozcas hayas certificar istqb iseb tecnologia stack buscar profesional conocimiento necesario desempeñar función puesto independientemente tecnologia utilizado habilidad innegociable gestion equipo liderazgo vision estrategico estario comunicacion verbal capacidad mentorizacion sumar punto atencion detalle capacidad presentacion harir entrser ccc notarar atmosfera vibrante diverso generado equipo multidisciplinar compañia parar crecer año pasar sede españa 7 persona 2015 90 actualidad empresa americano operar nivel internacional filial españa trabajar cultura estilo startup tiempo trabajar topo chivar trabajar punto calidad importante encontrarar infinidad perfil variedad función increible ingenieria persona concienciado calidad generacion reto interesante tratar compi seguir aprender mejorar desarrollar carrera contar tiempo momento disponer producto importante right find navigate producto unificar forma seguro contenido licencia fuente dato disponible publicamente informacion interno propiedad traves ecosistema abierto maximizar rendimiento inversión contenido dato buscar ampliar equipo ingenieria perfil pedir ayuda encontrar persona provenir ecosistema qa contar liderazgo tarea organizacion tecnico entendimiento producto serar persona gestionar lidere importante esfuerzo equipo prueba software velar organizacion funcional tecnico equipo resto compañero as trabajarar mano resto equipo automation and functional testing developers product owners project managers business analysts etc ayuda consolidar equipo escalado trabajar transversal ingenieria independientemente provenir proyecto producto servicio cliente etc buscar gente apasionado tecnologia aportar idea proactivo apetecer salto gestion tecnico perder contacto software busqueda practica herramienta solución novedoso permitir producto nivel serar frente importante cortes encantado escuchar clima colaborativo harar sentir pez agua propongar idea evolucion 1 mes habrar terminar proceso onboarding tomar consciencia entorno trabajo comprobara organizar conoceras distinto equipo conformar ccc habrar tomar caf virtual equipo desarrollo qa negocio estarar empezar magnitud copyright potencial negocio estarar interiorizar proceso trabajar hayas cacharrear script prueba    responsabilidad organizara tecnicamente grupo perfil qa funcional automatizacion crearas   integrara implementara sistema solución qa participaras documentacion implementacion estrategia plan prueba proceso revision criterio aceptacion usuario asegurar exactitud claridad integridad pieza clave departamento qa ayuda organizar esfuerzo equipo ejecucion mejora test alto volumen prueba proporcionara estimación tarea evaluacion riesgo informar cualquiera variacion peligro proyecto crearas colaborarar definicion mantenimiento ampliacion conjunto automatizacion pruebas involucraras relativo creacion estrategia analisis presentacion metrica clave kpi aportara valor idea producto nivel trabajarar remoto 100 elegir trabajar desierto almeria logroño tendras asegurartar conexion contar oficina sevilla ciudad hispalense podras posibilidad acudir apetecer cultura remote friendly seas habrir problema', 'Engineering Manager pedir hora desarrollo software espalda idealmente python experiencia previo liderar equipo desarrollo sentir comodo trabajar plataforma infraestructura cloud azure finolis experiencia arquitectura ejecucion api rest sistema dirigido evento fuerte habilidad comunicativo capaz resolver problema tecnico situacional equipo experiencia planificar asignar recurso asignar responsabilidad forma maximizar capacidad equipo adema persona proactivo colaborativo deber ejemplo trabajo equipo ingles fluido outthink empresa internacional tocar interactuar diario persona equipo leer quijote castellano rompera molde has desarrollar plataforma nube experiencia typescript react tecnologia innegociable azure avanzado estario python avanzado typescript intermedio react intermedio habilidad innegociable trabajo equipo gestion equipo liderazgo vision estrategico estario capacidad feedback capacidad recibir feedback sumar punto comunicacion verbal idioma español fluido ingles fluido harar    dale carajo outthink empresa ciberseguridad dedicar usuario entrenador personal exacto hacerte mil perreria progrés fisicamente piensser par costar quemar bollo acabar zampar quedar estabas encantado explicarte dejar contar 2 2 puño     mayoria incidente seguridad informatico deber comportamiento inseguro usuario dato ➡ ️ superar 85 ejercicio ciberseguridad resultado entrenar forma constante    hablar producto producto outthink 1 unico componer 4 modulo lema 4 modulo 1 producto plataforma formacion test inicial herramienta radiografia nivel riesgo cualquiera ejemplo expuesto mola imaginar base indice riesgo calcular ofrecer forma inteligente plan formacion personalizado guiado ritmo flipante extrapola importante serio cualquiera organizacion mapa riesgo equipo expuesto ¼ outthink simulador phising hora prueba fortaleza defensa plan entrenamiento outthink incluir repetición burpe ataque phishing simulación generado inteligencia artificial amenaza real pondrar prueba reporte riesgo humano nivel riesgo persona organizacion permitir identificar patrón grupo alto riesgo dariar detalle utilizar producto outthink ofrecer informe recomendación reforzar escudo importante cualquiera empresa ciberataque equipo humano copiloto modulo integracion completo microsoft slack 2 herramienta frecuente entorno laboral sentido producto ciberseguridad completo forma dejar tecnologia detectar amenaza    guay reto producto outthink producto web trabajar duro mvp producto estable arquitectura moderno alto rendimiento enorme capacidad escalado lejos encontrarar respaldo caldo cultivo optir ingenieria petar ayuda petar fuerte principal mision procurar crecimiento equipo nivel tecnico humano aumentar capacidad delivery tratar trabajar trabajar    convertir lema tendras interaccion tech leads equipo producto serar engranaje mantener unido alineado squads serar frecuente deber mirar allo evolucion 1 mes mes serar aprender empezaras equipo desarrollo departamento estructura maquinaria interno outthink terminar reto tecnico negocio trabajo deberar equipo organizacion objetivo serar ganarte liderazgo equipo demostrar imponer    responsabilidad liderara equipo desarrollo responsable magia mano derecho izquierda querer cto participaras forma directo toma decisión darar ayuda soporte tecnico squads serar capaz identificar oportunidad area mejora experiencia olfato seran decisivo escalar oportunidad negocio capacidad equipo estarar cerca equipo ubicar persona lugar rol maximizar desarrollo equipo actuaras lider mentor yoda diria aprender transmitir trabajarar presencial barcelona teletrabajo 80 outthink oficina londres principal paris york dubai parecer hablar posicion hibrida barcelona equipo decidir montar españa concreto barcelona serir hub tecnologico compañia modelo trabajo seguir forma habitual modelo hibrido 2 visita mes oficina barcelona practica laxa hablar posicion 100 remoto seriar 100 sincero querer pasar temporada país sede pie dibujen camino', 'React Native Developer pedir stack opositatest girar torno react react native especial atencion practica testing idealmente buscar alguien 23 año experiencia trabajar react native especificamente esperar manejarte typescript pez agua experiencia react native implementar componente ayuda testing nivel componente inter experiencia desarrollo arquitectura escalabl componente reutilizabl react native empresa producto objetivo crecer pensar plazo    integracion api misterio conocimiento analisis rendimiento optimizacion aplicación herramienta sentry similar experiencia desarrollo frontend web react importante tipo persona querer incorporar alguien inquietud gustar continuamente aprender forma cosa tendras autonomia gestionar trabajo querer seas autonomo cualquiera bloqueo dudser levantar mano pidar ayuda equipo valiente equipo implicar palabra gustar compartir conocimiento gente alguien preocupacion pequeño detalle gustar monitorizar aparecer error rigurosidad revisión codigo tecnologia innegociable react native intermedio typescript intermedio estario react intermedio sumar punto figma basico html basico css basico habilidad innegociable aprendizaje continuo capacidad autogestion capacidad recibir feedback trabajar equipo estario atencion detalle proactividad harar equipo centrado seguir mejorar plataforma completo importante equipo cohesionado preparado espacio autonomiar equipo tecnologico encontrar manfredita incorporado esforzar crear software calidad altamente escalable 2023 necesitar incorporar perfil equipo experiencia trabajar desarrollo aplicación movil react native formarar equipo frontend entregar visual utilizar usuario tendrar oportunidad toquetear desarrollo web estaras codigo rodeado practica adema formara activo decidir roadmap tecnico producto    sabio    ganador 2018 aceleradora seedrocket ganador 2019 premio emprendedor xxi galicia acumular confianza 1 millon opositor cuota mercado envidiable crecer ritmo ritmo vertiginoso numero opositor inscrito plataforma contar 48 empleado parar crecer interesar oportunidad hazme ping    guiare traves proceso asegurar puedar evolucion 1 mes conoceras equipo enseñar flujo escribir codigo llegar produccion principio importante serir empapartar cultura opositatest tendrar acceso handbook opositatest explicar organizar proceso seguir adema conocera integrante familia opositatest nombre habrar cara habra participar llamada habrar tiempo tomarte cafe ☕ ️virtual ubicacion profundizara modelo negocio conoceras ultima sugerencia usuario objetivo equipo entendera perfeccion organizado proyecto responsabilidad responsabilidad trabajara plantear desarrollar libreria componente servicio compartirar adema proyecto distinto react react native realizara unit testing validar requisito aceptacion negocio equipo tecnico haras analisis propuesta mejora tecnica escalar reutilizar codigo desplegar releás app proceso automatizado requerir pauta revisar sentry comprobar funcionar seda proponer tarea mejora backlog nivel tecnico propuesta funcionalidad revisar pullrequest integrante equipo trabajo salir trabajaras remoto 100 posicion 100 remoto equipo opositatest repartido españa mayoritariamente coruña galicia team repartida andalucia valencia mallorca bilbao madrid leon dejar foto impresionante juntar', 'Project Manager pedir lista reyes mago      pedir project manager experiencia gestion proyecto equipo año estario hubiesser curtir año bagaje tecnico comunicarte equipo cuestión tecnica gestion cambio etc independientemente stack vengar familiarizado desarrollo agil lean scrum xp etc quedarar boquiabierto    hora vuelo microsoft net angular 8 sql server apis rest soap tecnologia stack buscar profesional conocimiento necesario desempeñar función puesto independientemente tecnologia utilizado habilidad innegociable comunicacion verbal atencion detalle liderazgo proactividad estario adaptabilidad cambio comunicacion escrito sumar punto capacidad autogestion vision criticar harar doblemente crear software reserva disponer suponer agencia viaje online agencia receptivo estación esqui turoperador operador turistico producto controlar inventario tarifa canal venta compra facturacion programa accesible cualquiera lugar integrado contabilidad cliente forma agencia online ejemplo herramienta permitir cargar producto conectar api proveedor vender web api backoffice    responsable validar alcance proyecto crearar plan detallado incluir fecha inicio finalizacion entregabl adecuar presupuesto gestionar desarrollo cualquiera cambio alcance requisito presupuesto proyecto asegurandote cambio aprobar direccion documentado adecuadamente decidira metodologia trabajo proceso seguireis salir tiempo forma    persona comunicar regularmente progreso proyecto cliente direccion asegurandote informado miembro equipo actualizado proyecto seras responsable liderar motivar equipo desarrollo fomentar colaboracion comunicacion trabajo equipo formacion continuo     deberar asegurarte cumplir estandar calidad proyecto prueba riguroso garantizar calidad software entregado documentacion util tecnico usuario tendrar libertad confianza decidir equipo proyecto    querer intringuli reto esperandote tengar responsabilidad tecnica directo bagaje tecnico motivo comunicar equipo cuestión tecnica gestion cambio encaje desarrollo producto actual etc mente abierto stack tecnologico vengar programar microsoft net angular v8 base dato sql server integrar trabajar api rest soap control versión rama unico prioridad serar meter planning trabajar sistema rama tendrar libertad investigar decidir orientar equipo implantar sistema subcontratado devops servicio azure encargar proceso integracion despliegue continuo colaborador confianza tendras comunicacion fluidez evolucion 1 mes habrar completar onboarding actual responsable planificacion lider tecnico gestor incluira reunión equipo interno conozcas empiecser funciona doblemente empezarar familiarizar proceso interno distinto herramienta servicio gestionar conoceras integrante equipo desarrollo experiencia podrar organizar equipo conociendolo fondo presentaras cliente convivir aventura doblemente tomarar contacto software desarrollar doblemente llamado disponer empezarar plataforma tipo negocio especifico turismo ojo mundo fascinante    serar equipo    responsabilidad planificar proyecto inicio validacion velar metodologia trabajo proceso tecnico operativo equipo eficaz mantener comunicacion stakeholders gestionar cambio proyecto tratar cliente solucion adecuado ayudar equipo contratacion necesario futuro compañero gestionar mecanismo control calidad mantener documentacion trabajaras remoto 100 presencial alicante alacant querer posicion 100 remoto asegurser conexion podrar trabajar montaña palentín playa santander    ️ oficina alcoy vivir alicante preferir oficina trabajar modelo hibrido podrar eliges querer empapser proyecto sentar equipo invertir tiempo formarte onboarding inicial mes pedirar acudir oficina formarte necesario gasto pagado paso playa', 'Senior Mainframe Specialist pedir bnp buscar profesional base solido tecnico entorno mainframe conocimiento especifico z racf valorar adema tss rol diseñado alguien entender profundamente funcionar acceso permiso entorno critico infraestructura tecnologico requisito clave conocimiento seguridad mainframe especialmente z gestion acceso racf experiencia previo auditoria seguridad sistema mainframe capacidad gestionar configuracion administracion permiso entorno critico conocimiento gestion certificado integracion plataforma mainframe habilidad trabajar entorno equipo internacional comunicación tecnica ingles medioalto colaborar equipo global documentacion tecnico frances plus proactividad gana aprender seguridad area evolucionar rapidamente buscar alguien gana crecer aportar idea tecnologia innegociable z avanzar db2 intermedio estario sql intermedio servicenow intermedio microsoft active directory intermedio sumar punto jcl basico habilidad innegociable trabajo equipo adaptabilidad cambio vision criticar estario comunicacion escrito comunicacion verbal vision estrategico sumar punto aprendizaje continuo atencion detalle idioma ingles fluido harar entender necesario introduccion bnp grupo bancario mundo imaginar infraestructura tecnologico soporte millón transacción infraestructura seguir correr mainframe hablar fiabilidad escalabilidad rendimiento sistema z seguir clave equipo internacional trabajar seguridad entorno mainframe equipo gestionar integramente paris querer incorporar talento local estarir conectado equipo frances estarar madrid rodeado especialista area it formarar equipo estrategico banco proteger sistema sensible     papel clave entender definir acceso controlar permiso auditar entorno sonar oldschool seguir base correr banca moderno buscar alguien base tecnico gana aprender potencial crecer contaras formacion apoyo paris madrid espacio evolucionar equipo parche temporal paso estrategico evolucion 1 mes    habrar completar onboarding inicial habrar familiarizado sistema proceso seguridad bnp tendras reunión equipo paris mano estructurar acceso herramienta utilizar procedimiento clave empezarar tomar contacto z racf sistema interno gestion identidad apoyo equipo irar paso paso prisa pausa    ⚡ responsabilidad gestionara optimizaras sistema seguridad entorno z especial foco gestion acceso permiso auditoria colaboraras diseño mejora politica seguridad garantizar cumplimiento normativa interno externo entorno critico trabajarar racf tss dominar gestionar configuracion seguridad mainframe asegurar proteccion robusto sistema bnp realizara revisión periodica log implementar mejora detectar prevenir vulnerabilidad tiempo real participaras gestion certificado digital implementacion control seguridad proteger dato sensible nivel global colaboraras estrechamente equipo seguridad entorno area internacional compartir practica solución mantener entorno seguro eficiente contribuira mejora continuo proceso proponer solución optimizar gestion identidad seguridad sistema critico bnp trabajarar presencial madrid teletrabajo 60 posicion hibrida equipo seguridad trabajar lunes martes oficina madrid ubicado calle emilio vargas 4 cerca zona arturo soria podrar disfrutar entorno moderno comodo perfectamente conectado m30 paso transporte publico     resto semana tendrar flexibilidad trabajar casa permitirar balance saludable trabajo equipo comodidad espacio    modalidad podrar integrar mundo colaboracion cara cara concentracion zona confort adema disfrutara evento team buildings fomentar cultura colaboracion ambiente diseñado crezcas profesional personalmente', 'Data Product Owner pedir lista rey mago pedir data product owner concreto perfil tecnico    perfil coordinacion proyecto 45 año experiencia trabajar area data experiencia gestion equipo partners dominio python familiaridad frameworks tecnologico libreria panda numpy tensorflow kera pytorch opencv manejo base dato relacional nosql familiaridad herramienta control versión git gitlab pasion tecnologia mantener actualizado dejariar boquiabierto experiencia conocimiento metodologia agil gestion proyecto equipo multidisciplinar conocimiento arquitectura basado microservicio docker kubernet experiencia conocimiento openai whisper stable diffusion dall·e similar tecnologia innegociable python intermedio git intermedio gitlab intermedio sql intermedio nosql intermedio sumar punto kubernet basico docker basico aws basico habilidad innegociable liderazgo capacidad autogestion pensamiento analitico capacidad escucha trabajo equipo adaptabilidad cambio gestion equipo estario autonomiar aprendizaje sumar punto pensamiento creativo idioma español nativo bilingue harar departamento idi grupo preving nacer julio 2019 apuesta decidido compañia digitalizacion sector prevencion riesgo laboral salud laboral pilar departamento inteligencia artificial internet cosa actualmente decidir ligar tecnologia 90 persona empezar fundar equipo cero equipo darir apoyo area negocio hora abordar proyecto relacionado ia ml trabajar proveedor soporte materia definitiva trabajarar estrategia diferenciado proyecto innovacion compañia mejora continuo proceso productivo estaras contacto directo dirección departamento equipo negocio direccion general vitaly principal impulsor incorporar area innovacion ligado tecnologia business intelligence equipo 6 persona especialista analitica dato etl trabajar qlik sense bigquery bigquery ml dataflow cloud functions datastudio ect tranquilo estarar cimiento conciencia trabajado datar esperar traigar background tecnico data scientist puedas peleandote tecnologia implantar prueba concepto acabar proyecto actualmente proyecto data curso ayuda proveedor equipo externo contratado definido arrancar forma entras conocimiento    experiencia datar definir estrategia participar proyecto coordinar equipo data futuro linea investigacion trabajar algun ejemplo proyecto igualmente dejar ejemplo proyecto proceso arrancar data iniciado produccion plataforma salud tps orientado salud laboral ofrecer usuario contenido multimedia calidad base cientificotecnico respaldado grupo experto diversidad formato video podcasts documento infografias webinars directo tps basado sistema ia recomendacion similar utilizado plataforma netflix amazon prime recomendar contenido adecuado base indicador salud usuario riesgo existente puesto trabajo tendencia consumo plataforma interaccion usuario aplicacion churn cliente nacer objeto propension baja cliente ofrecer servicio actuar forma proactivo aspecto permitir satisfaccion cliente continuidad vitaly desarrollado bigquery ml ofrecer compañero atencion cliente herramienta necesario analizar informacion proactivo indecir salud vitaly actuacion promocion salud analisis resultado reconocimiento medico persona trabajador empresa client analisis indice salud vitaly traves enfoque absolutamente innovador sector utilizacion inteligencia artificial obtener calificacion salud empresa neurón cloud sistema inteligente basado inteligencia artificial ia capaz imagen detectar situación incumplimiento materia prevencion riesgo laboral ofrecer supervision remoto continuado medida prevencion falta epis riesgo atropellamiento persona maquina zona prohibido delimitacion zona especial zona transitada deteccion trabajo altura funcionalidad ofrecer servicio alerta situación riesgo near real time correo telegram plataforma web consultar dato estadistico visualizar situación riesgo identificado coordinar prevencion forma remoto definir asistente virtual vitaly chatbot cliente interno externo servicio ia ofrecido compañia openai buscar crear entrenamiento vertical informacion sector prevencion riesgo sistema gestion cualquiera linea negocio compañia ofrecer valor añadido cliente externo herramienta ayuda compañero as propension compra querer desarrollar crm desarrollo funcionalidad necesario proponer red venta producto cliente interesado adquirir informacion disponer trabajador dato salud puesto trabajo riesgo necesario evolucion servicio buscar automatizar campaña marketing integrar herramienta marketing cloud compañia querer seguir leer    cultura valor contar cultura honestidad compromiso capacidad trabajo colaboracion cocreacion persona equipo clave lema prevencion salud tranquilidad vitaly apostar transmitir persona client colaborador camino evolucion 1 mes habrar completar onboarding incluira   seguramente visita sede badajoz equipo barcelona coincidira direccion innovacion conoceras equipo business intelligence habrar oido hablar proyecto marcha salir vitaly habrar bucear equipo tecnico unir cara nombre    responsabilidad colaborarar transformacion mejora compañia ayudar construir estrategia datar aportar idea involucrandote proyecto retador priorizara item roadma\\ufeffp gestionara coste valor estrategia compañia gestionara equipo data establecera tarea estrategia trasladar directriz direccion tecnico negocio responsabilizara entrega funcionalidad actualización ajustar contexto alcance necesario entregar valor trabajaras remoto 100 presencial badajoz querer posicion 100 remoto asegurser conexion podrar trabajar querer    ️ vivir badajoz tendras opcion trabajar algun instalación onboarding semana formacion estaras invitado puntualmente tengas visita barcelona reunira direccion innovacion', 'Mid Frontend Developer pedir seguro altura morir pedir habra match skills dejame desvelar misterio contar equipo flexible enfocar encontrar persona conocimiento solido gana buscar persona javascript especialmente vue venir react querrar conocerte independientemente 3 4 año experiencia seas resolutivo tengar capacidad buscar solución problema surgir autonomia disfrutes aprender seas shakespeare sepas desenvolverte ingl algun compañero preocupes codigo calidad tengas arraigado practica tengas experiencia testing automatico querer 1010 fijar vengar producto entorno startup tengas experiencia trabajar typescript hayas trabajar filosofia devops tecnologia innegociable javascript intermedio estario vue intermedio typescript intermedio sumar punto figma basico jest intermedio react basico habilidad innegociable adaptabilidad cambio aprendizaje continuo trabajo equipo estario atencion detalle proactividad sumar punto tolerancia incertidumbre comunicacion intercultural harar referencia pokemon nivel alto seguro estarar preguntar plexigrid plexi scaleup base suecia españa spinoff universidad oviedo centrado optimizacion red distribucion electrico software especialmente red tension contar 4 producto ari tatari tia etia producto encargar generar simulación red electrica solución buscar flexibilidad red funcion carga tiempo real software mejora eficiencia operación monitorizacion red distribucion electrico permitir funcionamiento inteligente eficiente equipo crecer fauna pueblo paleta preocupar cosa calidad buscar incorporar compañero equipo proactivo gana echar mano mejorar aprender mundillo electrico evolucion 1 mes mes podrar persona formar equipo irar habituar modus operandi seguir plexigrid adaptacion enfocado formarte sentar perdido semana tendrar formacion dominio electrotecnica distribucion electrico enseñar aplicación nivel usuario instruirar arquitectura ciclo vida desarrollo semana habrar asignar mentor trabajar shadowing hagar contexto responsabilidad estarar ciclo completo desarrollo pudiendo imbuirte producto plexigrid contribuira crear codigo calidad desarrollar funcionalidad refactoring colaboraras desarrollo prueba testing pudiendo tdd bdd atdd buscarar mejora continuo preguntandote cosa buscar solución cooperara equipo backend equipo diseño mejorar usabilidad trabajarar presencial gijon teletrabajo 80 spoilea encabezado gustar promover sentimiento equipo solitario soler quedar martes oficina gijon comer actividad    resto trabajar casa escrito piedra apetecer gijon españa encantado', 'Senior Backend Developer pedir hablar importar stack buscar developer venir aportar aprender minimo impepinabl deberiar base programacion capacidad plantear solución desarrollo funcion proyecto experiencia desarrollo api graphql    desarrollar plataforma nube preferiblemente aws trabajar microservicio arquitectura serverless testing ci cd documentacion practica ingl comunicacion diario capacidad comunicacion trabajar codo codo equipo tratar partners drop nice to have experiencia python go entorno sistema linux conocimiento patrón ddd tecnologia stack buscar profesional conocimiento necesario desempeñar función puesto independientemente tecnologia utilizado estario aws intermedio python avanzado go intermedio sumar punto linux intermedio habilidad innegociable adaptabilidad cambio aprendizaje continuo capacidad autogestion estario atencion detalle autonomiar aprendizaje sumar punto comunicacion intercultural harar drop futuro presente cocina conectado parecer app vincular electrodomestico cocina facilitarte vida olvidate grado horno tiempo coccion temperatura interno solomillo wellington drop conectar unicamente receta querer preparar increible real liderar año sector trabajar principal marca electrodomestico bosch electrolux general electric panasonic kenwood lg electronics thermomix incorporar firmware principal modelo comercial controlar drop kitchen ademar app drop receipes surtir monton receta listo preparar apretar boton pasion cocina adn drop stop    perdon chiste crear plataforma utilizar machine learning encontrar incorporar receta aplicacion temblar chicote seras protagonista cambio arquitectura empezar cabo crear plataforma serverless rendimiento escalabilidad participaras proceso inicio ideacion diseño infraestructura eleccion lenguaje idoneo implementar desarrollo puesta produccion equipo aportar construir sonar evolucion 1 mes onboarding subete barco pasarar semana compañero as empapandote pasar pasar asistiras reunión equipo standup 1030    reunión tecnica producto empezaras revisar codigo semana mes adaptacion tendrar mundo dispuesto resolver duda ayudarte responsabilidad diseñara implementara resto equipo arquitectura kitchen seros responsable crear plataforma orientado rendimiento escalabilidad robustez estaras 100 involucrado ciclo completo desarrollo producto pull request trabajaras remoto 100 presencial zaragoza sede in spain zaragoza posicion full remote plantilla distribuir geografia nacional trabajar querer tailandia valer alaska frio valer lepe chiste valer tendrar algun viaje zaragoza kick off proyecto par evento teambuilding aburrir pasar', 'Senior PHP Developer pedir      lista rey mago pedir perfil backend venir año experiencia trabajar backend developer php conocimiento framework symfony pegaras habitualmente podrar explorar nodejs stay equipo abierto mente nivel tecnico forma estarar presente legacy php actualización estarar lugar perfecto abrazar tecnologia crecer developer iniciativa mejora evolucion plataforma aportar alla tarea asignar    dejariar boquiabierto dominio nube servicio externo nube conocimiento docker kubernet elasticsearch redis aws seriar soplo aire fresco tengas pasion tecnologia gana aprender distinto lenguaje tecnologia innegociable php avanzado symfony avanzado mysql intermedio git avanzar sumar punto nodejs basico kubernet basico aws basico habilidad innegociable adaptabilidad cambio comunicacion verbal aprendizaje continuo autonomiar aprendizaje pensamiento analitico capacidad escucha proactividad trabajo equipo vision criticar estario capacidad autogestion tolerancia incertidumbre sumar punto liderazgo harar     2009 cambiar     hotel resort empezar ofrecer conexion wifi cliente conectar smartphón tecnologia movil mejorario comunicacion hotel huesped 2010 nacer stay objetivo ayudar hotelero adaptar habito consumo ofrecer solución innovadora gestionar estancia cliente forma eficiente rentable centralizado plataforma    necesidad 11 año despu parar innovar stay crecer convertir plataforma allinone nube agilizar operación staff hotel aumentar satisfaccion cliente cadena mundo estructurado dividir squads 48 persona conformar stay buscar acompañante camino concreto buscar perfil backend php tiro pegado querer desarrollar animar aportar solución mejora gustariar encontrar persona evangelice practica querer remar equipo    stay implementado 1000 hotel 62 país mejorar experiencia 12 millón huesped subir espuma mirar comentar cliente evolucion 1 mes 1️⃣ ira familiarizandote proyecto legacy base dato paso importante comprender estructura basico proyecto establecer base ira empapandote cultura forma trabajar adaptara equipo metodologia trabajo asumira tarea proyecto symfony ira analizar estructura responsabilidad desarrollar entregar codigo software alto calidad cumplir codificacion diseño desarrollar función api integración sistema rest interno trabajar equipo departamento ingenieria impulsar continuamente caracteristica produccion contribuir analisis requisito modelado dato diagnosticar problema complejo diseñar contribuir decisión arquitectura soporte mantenimiento aplicación software existente analizar resolver bug participar activamente evolucion plataforma alto nivel trabajaras remoto 100    all you need is internet    posicion 100 remoto tengas conexion internet podrar trabajar inspirar buscar libertad trabajar cualquiera rincon mundo valoras conexion humano posicion equipo trabajar casa invitar oficina onboarding espectacular vereis reunion formacion especial encantar mantener contacto persona', 'Database Software Engineer pedir 5 año experiencia ingeniero software solido historial liderar iniciativa base dato entorno complejo escala experiencio sql especialmente postgresql habilidad optimizar consulta modelar dato sistema oltp olap dominio python nivel scripting experiencia aws plataforma nube similar trabajar servicio rds ec2 emr ingles fluido interactuar efectivo entorno global plus familiaridad tecnologia docker aws ecs experiencia herramienta infraestructura codigo iac terraform experiencia django celery persona curioso mentalidad crecimiento gana seguir aprender mejorar querrar tecnologia innegociable sql avanzar postgresql avanzado python intermedio aws intermedio estario django intermedio sumar punto celery intermedio terraform basico habilidad innegociable aprendizaje continuo atencion detalle capacidad escucha trabajo equipo proactividad vision estrategico estario capacidad autogestion comunicacion verbal sumar punto gestion equipo idioma ingles fluido harir sede silicon valley centric software ® ofrecer plataforma concepto reposicion producto basado ia minorista marca fabricante tamaño ofrecer solución planificar diseñar desarrollar obtener comprar fabricar fijar precio asignar vender reponer producto ampliamente conocido conectividad docena sistema empresarial incluir erp dam pim ecom adema herramienta creativo adobe ® illustrator cantidad conector cad 3d herramienta sostenibilidad worldy vertical centric plm ™ solucion plm lider consumo optimizar ejecucion producto ideacion desarrollo abastecimiento fabricacion mejora productividad 50 centric planning ™ innovadoro solucion ia nativo nube ofrecer capacidad planificacion extremo extremo maximizar rendimiento negocio minorista mayorista traducir aumento margen 110 centric pricing inventory ™ aprovechar ia impulsar margen aumentar ingreso 18 optimizacion precio inventario pretemporada finalizacion temporada centric visual boards ™ pivotar dato procesabl orientacion visual garantizar surtido oferta producto solido adecuado consumidor centric market intelligence ™ stylesage plataforma conocimiento mercado basado ia permitir tomar decisión basado dato oferta precio competencia tendencia comportamiento compra consumidor    trabajarar    trabajarar centric market intelligence ™ hagar idea plataforma analizar informacion 1000 minorista moda procesadato 600000 marca trackea milimetro actividad fluctuación 500 millón millón producto actividad mantener diario alucinante    empresa ambito global ojo oido york san francisco allo logica plataforma dejame contar pequeño pildora informacion plataforma alimentar feeds informacion feed principal scraping sitio ecommerce moda ropa calzado complemento belleza hogar etc producto recoger informacion disponible foto titulo descripcion material talla precio descuento etc normalizar plataforma consumir analizar forma consistente producto aplicar serie algoritmo ml clasificar categoria vestido noche prenda trabajar extraer atributo tipo cuello cuello pico cuello redondo etc sabio 9 tipo cuello    finalmente informacion almacenar base dato historico resto producto feed secundario interesante red social analisis busqueda tendencia cupón descuento newsletters evidentemente flujo informacion particularidad    esperar imaginate base dato gigante manejar mil consulta necesitar alguien mirar capo fallar arreglar alguien entender sql nivel escribir consulta chula optimizar consulta diseñar base dato rapida falta meter mano hardware infraestructura exprimir maximo teoria base dato componente practico desarrollo necesitar alguien escribir codigo python pequeño herramienta integración proceso etl punto diseño base dato desarrollo encontrar mover cantidad dato eficientemente perder vista optimizacion diseño evolucion 1 mes reto sumergir ecosistema entender modelo dato familiarizara herramienta utilizar explorar pieza sistema encajar mes aprendera equipo pondrar mano obra tarea clave optimizar plataforma dato ajuste rendimiento sentirar respaldado momento preparar tomar rienda responsabilidad responsabilidad construira operara sistema escalabl desarrollara mantendra sistema robusto alto rendimiento soportar aplicación interno cliente optimizara plataforma dato mejorarar eficiencia fiabilidad sistema montado posgresql tendrar optimizar sacar maximo rendimiento analizaras ajustara rendimiento identificar eliminar cuello botella optimizar servicio llegar nivel detallado necesario coordinara equipo multifuncional colaborar estrechamente equipo asegurar exito iniciativa conjunto mentorizaras apoyaras equipo acompañar guiar desarrollador junior compartir conocimiento fomentar crecimiento trabajaras remoto 100 posicion 100 remoto navegar maxima velocidad podrar trabajar rincon gustar españa', 'Graphic Designer 💥 pedir buscar persona actitud gana evolucionar pedir 1 año experiencia diseñador grafico nivel ingles buscar shakespeare defenderte interlocucion equipo marketing hablar ingles nivel paquete adobe photoshop illustrator indesign after effects premiere pro querer 10 serio ideal conocimiento diseño producto financiero noción figma conocimiento basico html5 css nivel personal gente sencillo humilde celebrar hito motivacion reto fuerte orientacion trabajo equipo     atencion detalle habilidad innegociable proactividad adaptabilidad cambio pensamiento creativo trabajo equipo autonomiar aprendizaje estario capacidad feedback vision criticar sumar punto liderazgo vision estrategica haras darwinex fintech 9 año vida parar crecer inicio 60 persona equipo producto validado consolidado mercado gracias innovacion continuan desarrollar funcionalidad romper mercado core plataforma consistir ayudar cualquiera persona invertir traders independiente cambio porcentaje rentabilidad facilitar trader inversor regulacion necesario informacion mercado necesitar tomar decisión estrategica → esperar graphic designer    incorporaras equipo marketing podrar desplegar creatividad crear adaptar diseño corporativo social fisico web diseñar interfaz ux etc propondra traduciras concepto idea diseño romper mold publico objetivo darwinex traders financiero inversor interesado sector principal herramienta trabajo seran paquete adobe adobe photoshop adobe illustrator adobe indesign adobe after effects adobe premiere pro ux ui utilizar figma conocimiento bienvenido don´t worry darwinex fomentar cultura aprendizaje crecera espuma tiempo controlara seguir contar → venir    nacer hobby fundador javier colon dedicar tiempo trading empezar gestionar dinero necesidad plataforma facilitar regulacion necesario permitir foco estrategia optimizar inversión hito → proposito    proporcionar herramienta trader necesitar ✔ ️ regular ✔ ️ acceso mercado comunidad ✔ ️ facilitar herramienta optimizar decisión estrategica ⚙ ️ desarrollo llegar work in progress → secreto innovacion tecnologico    crecer fundamentalmente boca boca producto calidad minuto apostar innovacion ultima tecnologia crear producto robusto crecimiento deber apuesta formar equipo asegurar actualizado evolucionar parar → buscar persona revolucionar    inquietud seguir aprender formar ultima tendencia tecnologica palabra buscar persona contribuir conocimiento talento capacidad experiencia revolucionar producto tecnologia darwinex ayudar asumir superar reto continuo someter consciente mejorar producto empresa equipo humano evolucion 1 mes recibiran brazo abierto     equipo marketing acompañar aterrizaje facil elegira avatar representar darwinex persona avatar    flipa echalir vistazo orla apartado trabajarar    estaras totalmente adaptado ecosistema gracias acogida responsabilidad trabajar equipo diseño imagen atractivo corporativo infografias diseño web campaña marketing redes social etc comunicar idea diseño utilizar flujo proceso interaccion usuario mapa sitio wireframes tablero mirar formato presentacion similar impulsar participar activamente lanzamiento proyecto participar ciclo vida diseño toma requisito puesta comun as desarrollador as web implantacion adaptar creatividad existente idioma formato seleccionar editar material fotografico imagen darwinex rienda suelto creatividad pensamiento out of the box trabajarar presencial madrid teletrabajo 40 caracterizar darwinex ambiente trabajo oficina respirar cultura fresco trabajo equipo apostar modelo hibrido martes miercoles jueves pedir acerques ofi trabajar codo codo lunes viernes trabajar quierar asegurar conexion find ⛰ ️ ⛱ ️    base operación pleno centro madrid calle recoleto', 'Lead Backend Developer pedir etapa inicial necesitar alguien autonomia experiencia construccion producto must deberiar cumplir vivir experiencia construir evolucionar producto mochila 6 año backend developer trabajar node    nest 3 añito serar referencia equipo buscar hayas escalar producto stack contacto despliegue entorno cloud vengar trabajar aws azure gcp seguro desplegar docker pondrar pisito playa traer experiencia montar infra codigo iac terraform cloudformation similar arquitectura orientado evento aplicas principio solid disfrutar ayudar resto equipo incorporar seguir tiempo persona pragmatico entender tecnologia servicio negocio producto utilizar usuario serir marcar decisión capacidad comunicacion verbal escrito explicar ingles semana hagar idea nivel b1b2 serar suficiente sumara punto experiencia diseño sistema soportar analicen volumen dato trabajar base dato relacional relación tocar nosql tecnologia innegociable nodejs avanzado aws intermedio docker avanzado estario nest intermedio sumar punto terraform intermedio habilidad innegociable liderazgo capacidad mentorizacion gestion equipo estario atencion detalle tolerancia incertidumbre sumar punto vision estrategico proactividad idioma ingles intermedio harar    clidrive clidrive startup acabar comenzar andadura mundo financiacion vehiculo    3 mes vision empresa lider transformacion servicio financiero mision principal persona acceso credito facil asequible acabar empezar significar sector empresa cofundar persona venir startup clicars clikalia exito acompañar logro profesional    producto producto principal ✌    fase crm ayudar proceso venta coche dirigido concesionario comercial vehiculo pipedrive momento empezar construccion foco recoleccion interrelacion dato aportar valor proceso plataforma web via desarrollo aportar servicio tipo fintech ciclo refinanciacion financiacion coche apoyar algoritmo scoring usuario s modelo data enrichment sacar dato minimo ejemplo matricula resto dato vehiculo reto principal crear producto cero gustar montar cosa inicio participar decisión producto sitio    vision crm estructurado alto nivel bajar requisito funcional pm’s necesitar estructurar crear mvp producto evolucionarlo enriquecer base dato modelo predictivo campo    empezar trabajar backend arquitectura basado evento monolito simplificar plataforma gitflow apetecer eh equipo infra externalizado querer incorporar gente plataforma testing formar cultura subir tests end to end test integracion evolucion 1 mes mes intentar centrarte sentir comodo funcionar cosa estarar esponjo    dedicar tiempo gente crear cimiento relación mes entiendas proceso equipo herramienta hayas produccion cosita buscar entender cuestionar cosa haz pregunta necesario pensar ayudarte preocupar querer sentar seguridad feliz cualquiera cosa    responsabilidad crearar servicio mejorar producto sostenible facil iterar metrica automatizada buscar disruptor innovar experimentacion medicion importante adn colaborarar resto equipo liderar ejemplo ayudarar definir requisito evolucionar producto actual crear necesitara entender complejidad industria oportunidad mercado trabajarar mano persona equipo ○ regina head of operations encargado funcionamiento tripa empresa necesidad automatizacion equipo ingenieria ○ paco head of decision science miguel data scientist trabajarar cerca entender procesamiento dato algoritmo terminar crear data lake apoyar versión producto ○ ignacio head of marketing ayudar entender metrica marketing dato maximizar impacto retorno campaña ○ paul head of product trabajarar codo codo equipo forma producto construir roadmap conjunto establecera guia practica asegurar crear producto robusto escalable ayudara equipo crecimiento compañia momento crecimiento necesitar participes proceso hiring entrevista onboardings compañero formaras contribuira cultura clidrive general equipo ingenieria particular querer fomentar cultura basado respeto colaboracion crecimiento personal practica ingenieria trabajaras remoto 100 presencial madrid querer posicion 100 remoto oficina central madrid exactamente avenida america podrar quierar año pensado abrir oficina valencia    apetecer rico paella playa tendras opcion', 'Senior SysOps pedir experiencia entorno linux encantario pudierar demostrar 5 año experiencia instalacion configuracion resolucion problema entorno basado linux infraestructura local nube dominar herramienta gestion configuracion ansible terraform entorno web alto trafico experiencia ci cd permitir implementacion rapido confiable cambio entorno produccion dominio herramienta monitoreo nagios zabbix prometheus grafán asegurar visibilidad rendimiento optimo sistema experiencia virtualizacion contenedor tecnologia kubernet docker facilitar implementacion gestion eficiente aplicación entorno escalabl familiaridad tecnologia web haproxy apache nginx mysql solr amplio conocimiento protocolo internet dns https tcp ip capacidad comunicar fluidez ingles necesario colaboracion efectivo entorno multicultural lenguaje vehicular empresa tecnologia innegociable kubernet avanzado docker avanzado ansible avanzado kvm avanzado estario mysql intermedio sumar punto solr intermedio habilidad innegociable pensamiento analitico trabajo equipo autonomiar aprendizaje comunicacion verbal estario atencion detalle proactividad capacidad feedback capacidad recibir feedback sumar punto gestion equipo idioma ingles fluido harar historia comenzar 1997 fundacion lifull empresa japonés real estate originalmente llamado next co buscar empresa global dedicado sector inmobiliario paso lifull empezo ganar peso mercado llegar adquirir distinto empresa extranjero ejemplo trovit mitula nestorio nuroa dot property etc 2019 adquisición nacer lifull connect serio marca englobar empresa extranjero propuesta valor centrar intentar simplificar vida usuario conectando hogar herramienta tomar decisión complejidad manejar millón anuncio cantidad web pais marca forma global garantizar usuario encontrar buscar utilizar distinto producto vertical negocio thribee b2c proppit b2b lifull connect 750 persona nivel global presencia latam argentina colombia ecuador chile mexico peru tailandia vietnam filipino europa españa españa equipo 160 persona 46 formar equipo tecnologia oficina madrid barcelona equipo encontrar repartido norte sur trovit parecerte web tecnologia antiguo producto iterado funcionar medir clic request impresion genial reto mejorar tecnicamente cambio absolutamente vigilado milimetro complicado reto modernizar sistema afectar rendimiento mover progresivamente tecnologia moderno marca asociado lifull connect ayuda asesoramiento posibilidad existir equipo evolucion 1 mes equipo plataforma configurar infraestructura importante valor aportar equipo organizacion responsabilidad administrar plataforma kubernet comun infraestructura automatizar aprovisionamiento servicio infraestructura ansible garantizar disponibilidad seguridad integridad sistema plataforma onprem organizacion 24 hora semana turno rotativo habilitar equipo desarrollo cooperar proyecto generar impacto organizacion promover equipo sistema liderar proyecto complejo trabajaras remoto 100 querer posicion 100 remoto asegurser conexion podrar trabajar geografia nacional internacional solapa horario residir españa residir cerca barcelona estariar encantado darte bienvenida oficina semana conozcais persona soler quedar 3 mes oficina aprovechar juntar equipo abrazo actividad team building gustar sarao', 'React Native Developer 📱 pedir curiosidad leer stack tecnologico elegir react native aplicacion movil permitir rapidamente validar idea querer equipo tecnologia orbit ayudser crecer serio candidato año experiencia trabajar react native css redux producto lanzar publicamente habituado paradigma desarrollo mobile participar ciclo vida app importar calidad codigo testing formar proceso desarrollo familiarizado practica desarrollo manejo git politica branching experiencia trabajar api rest desarrollo familiarizado beneficio ci cd jugador equipo querer lobo solitario conformista querer persona proactiva innovadora pedir ayuda necesitar capacidad comunicacion nivel ingles permitir desenvolverte problema entorno internacional escrito hablado adema 10 opcional experiencia desarrollar nativamente android io trabajar lanzado producto escala anteriormente conocimiento avanzado automatizacion tecnologia innegociable react native avanzado css intermedio redux intermedio estario apple io intermedio android intermedio harar tratar problema desperdicio espacio construir plataforma unir propietario espacio sobrante persona buscar espacio trabajo especifico construir aplicacion movil react native experiencia totalmente transparente especialmente gracias tecnologia control acceso inteligente openpath dotar espacio acceso 100 automatizado reserva entrar sacar movil bolsillo funcionar orbit video trabajara crear plataforma robusto escalable soporte brutal crecimiento usuario esperar igualmente colaborarar equipo producto diseño pedirar opinion hora plantear caracteristica totalmente abierto sugerencia app codificada mayoritariamente react native pincelada codigo nativo java swift adaptar ejemplo sdk openpath permitir interactuar cerradura inteligente app consumir api desarrollado php laravel desplegado amazon aws lambda rds s3 experiencia esperar contribuyas equipo aspecto trascender tecnologia concreto participar discusión arquitectura promover practica ayudar persona experiencia equipo contribuir proceso seleccion futuro integrante equipo creer tecnologia herramienta foco usuario tiempo gustar experimentar principal objetivo feedback corto proceso desarrollo idea despliegue seros responsable aplicacion movil maximizar valor entregar usuario adaptar estilo juego forma constante iterativo basado resultado obtener constantemente curiosidad querer orbit echar vistazo manual empresa totalmente publico funcionar proceso seleccion evolucion 1 mes habrar aprender nombre compañero necesariamente pronunciar correctamente tendrar idea sistema interacción distinto tecnologia proceso desarrollo tendrar mision vision orbit empezarar familiarizar negocio entendera momento prioridad corto plazo estarar comodo codigo app seguridad pondrar linea codigo mano usuario trabajaras remoto 100 posicion 100 remoto serio extraño mision empresa promover trabajo flexible vivo algun lugar españa noruego emplear directamente trabajar prefierar totalmente eleccion forma oficina cool oslo podia podrar reservar escritorio app trabajar', 'Frontend Developer pedir base solido frontend developer independientemente 4 6 año experiencia valorar persona resolutivo capacidad buscar solución problema surgir autonomia estarar nextjs barro necesitar cuentes experiencia previo orientacion practica clean code seas amigo testing tdd dejarar boquiabierto experiencia mundo inversion finanza comunicarte ingles tecnologia innegociable nextjs avanzado estario react avanzado angularjs avanzado vue avanzado habilidad innegociable comunicacion verbal aprendizaje continuo trabajo equipo estario comunicacion escrito liderazgo proactividad idioma ingles intermedio harar    cuentame rankia chapa com rankia luz 2003 20 añito presumir convertir principal comunidad financiero españa latinoamerica acoger flipante 1 millon persona registrado atlantico aprender resolver duda pasta ganso rankiacom pasar conformar reto pasar convertir plataforma contenido financiero referencia mundo    \\u200d    montado producto rankia crecer par vertient convenir conozcas entiendas   plataforma contenido principalmente foro blog video podcast webinars fintech catalogo producto amplio variado asistente hipoteca comparador broker sistema analisis riesgo rankiar servicio comunidad    ¿ necesitar cincel martillo mano    equipo rankia tiempo picar piedra antiguo monolito convertir arquitectura definido testado basado microservicio encantado presentarte arquitectura equipo tecnico seguir desarrollar evolutivo dotar funcionalidad necesitar forma equipo frontend persona trabajarar mano mano frontend montado js react next js preocupar diario escalar producto desarrollar usabilidad tendrar desarrollar funcionalidad mejorar existente lograr producto sencillo personalizable usuario complemento vertical fintech disponer modelo machine learning produccion vida sistema moderacion automatico rankia inmerso ambicioso proyecto definir modelo dato compañia estandar control dato aprovechar unico decision tomar evolucion 1 mes habrar completar onboarding posiblemente habrar sesion pairprogramming compi habrar familiarizado forma trabajo mes conoceras herramienta metodologia utilizar rankia forma organizar codigo guia estilo descubriras metodologia okr desarrollar producto serar pieza clave rankia haras deploy produccion aportara criterio decisión idea responsabilidad añadir magia funcionalidad crearas refactorizara perfeccionara funcionalidad nextjs trabajara interfaz usuario garantizar detalle diseño arquitectura cumplir estandar eficiencia usabilidad implementaras practica brillar codigo mejoren frontend trabajara codo codo equipo backend asegurarte funcionar reloj suizo filosofia unir fuerza lograr grandeza enfrentarar reto escalar mantener producto seras musculo faltar frontend trabajaras remoto 100 querer posicion 100 teletrabajo conectado maxima velocidad podrar trabajar casa rincon españa encontrar oficina rankia valencia cerquito universidad politecnico escaso metro avenida blasco ibañez conectar malvarrosa pasar saludar    ️', 'Java Backend Developer pedir necesitar gente adema gana compromiso proyecto tecnico contar experiencia 2 año trabajar java conocimiento base dato relacional sql mysql oracle db2 relacional mongodb conocimiento manejo gitlab jboss dejarar boca abierto experiencia sistema mensajeria distribuido ejemplo kafka prueba unitario junit trabajar herramienta ci cd jenkins docker kubernt tocar tecnologia innegociable java intermedio mysql intermedio estario mongodb intermedio jenkins intermedio habilidad innegociable adaptabilidad cambio aprendizaje continuo atencion detalle trabajo equipo estario pensamiento creativo sumar punto vision estrategica harar banca tradicional año sumar transformacion digital abanca nacer valor inicio mundo evolucionar rapido tecnologia abanca inmerso importante proceso crecimiento año adquirir 7 entidad financiero llegar cliente seguir ofrecer servicio banca cercano humano estrategia crecimiento departamento it clave grabado fuego    apostar potenciar equipo aparte incorporar talento reforzar conocimiento equipo tecnico formación anual irar cabo ronda hagar idea mayo año empezar tanda programador as formacion durar mes mayo venir proyecto totalidad abarcar periodo 202326 persona formar equipo interno completar programa reskilling cubrir habilidad tecnologica gestion soft skills apuesta fuerte persona entrarar formar dominio funcional llamar equipo devsecops orientado area negocio abanca comenzaras carrera compañia podrar evolucionar moviendote equipo objetivo afront reto desarrolles tengas carrera profesional futuro fase inicial proceso estarar ayudar persona formar diverso dominio completar trabajo desarrollo plazo serar persona har cantera integrarte dominio funcional equipo 100 tope necesitar gente gana aprender crecer compañia carrera profesional asegurado caray metera proyecto pleno ebullicion    evolucion 1 mes habrar proceso onboarding abanca aparte persona liderar proyecto escuchar persona vision global querer construir tendrar formacion entorno arquitectura sistema dato aplicación abanca tendrar igualmente acceso plataforma online formacion tecnico disposicion equipo banco buddy asignado individualmente compañero andanza recurso resolver duda semana estarar familiarizar proceso herramienta asumir control comunicación equipo tecnico negocio entender actual proyecto acabar mes podrar nombre cara mayoria compañera compañero trabajarar responsabilidad participara proyecto estrategico critico abanca implicar evolucion aplicación core bancario entorno distribuido capacidad java esencial asegurar exito implantaras funcionalidad backend corregira mejorarar funcionar compañero as mejorarar rendimiento aplicación revisara codigo compañero as migración automatizar traducir aplicación pl1 java pl1 aportar aprender demas trabajarar presencial coruña teletrabajo 40 oficina instalación centro proceso dato abanca pocomaco minuto centro coruña playa riazor orzan    adema completar proceso onboarding politica formal teletrabajo permitir acordar esquema semanal 2 trabajo remoto combinado 3 presencial adaptar circunstancia necesidad personal', 'Senior Python developer pedir consideras persona curioso multifacetica interesado ai producto datadriven cerca priorizar persona gustar trabajar equipo esforzar encontrar solucion problema 45 año experiencia trabajar preferiblemente python c experiencia computacion nube preferiblemente azure ingles fluido habilidad verbal escrito ingles comunicacion diario equipo serar idioma independientemente equipo inmediato hablar español sumar punto serar valorable experiencia desarrollo producto ia experiencia data engineering datar pipelín elasticsearch tecnologia innegociable python intermedio estario c intermedio azure basico sumar punto elasticsearch basico habilidad innegociable trabajo equipo capacidad autogestion aprendizaje continuo proactividad estario capacidad feedback capacidad recibir feedback idioma ingles fluido harar law business research empresa servicio informacion basado tecnologia impulsar industria legal global inteligencia analisis dato rendimiento mantener rapido crecimiento año año 25 año gracias equipo internacional 600 profesionale s permitir pasar editor legal tradicional ofrecer informacion centrado tecnologia objetivo informar involucrar conectar profesional derecho impulsar desarrollo profesional optimizar investigacion gestionar riesgo mercado global derecho legal propiedad intelectual etc cuentas herramienta lexology plataforma mundial inteligencia juridico numero mitigar riesgo mantener cambio encontrar asesoramiento experto basado conocimiento analisis prospectivo orientacion experto principal firma abogado mundo plataforma permitir buscar tema empresa sector plataforma especializado plataforma contenido especializado legal tematica brindar apoyo toma decisión cliente comprometido crear lugar trabajo integrador positivo mundo crear oportunidad candidato importar sexo genero orientacion civil nacionalidad religion edad discapacidad prueba galardonar premio 2024 inspiring workplaces gustar tomar serio lugar mundo participar iniciativa comunidad caritativo trabajar escuela swawou sierra leona brindar educacion 120 niña sufragar coste educacion contar sede 5 ciudad londres hong kong new york washington austin podrar sede barcelona trabajo consistirar continuar desarrollo plataforma basado ia trabajarar equipo creacion denominado tagging contribuir desarrollo funcionalidad python c seguir optimizar buscador infraestructura azure ci cd utilizar azure devops orquestador kubernet servidor busqueda elasticsearch duda oportunidad proyecto equipo sede crecer inicio apoyo compañero trayectoria experiencia empresa contar evolucion 1 mes habrar completar onboarding seguramente presencial coworking barcelona tendrar apoyo marc empresa herramienta sumergirte roadmap tecnico habrar reunir rrhh equipo tecnico habra investigar organigrama configurado herramienta gestion interno serar lbr habrar salir daily presentarte    responsabilidad contribuira desarrollo features producto cero darar vida idea equipo participaras diseño roadmap tecnico desarrollaras software area relacionado equipo python c react apoyo feedback recibir equipo garantizara calidad seguridad codigo base monitorizar resolver issue surgir aplicación oportuno trabajarar presencial barcelona teletrabajo 80 forma hibrido barcelona contar coworking reunir 12 semana abierto flexible conciliacion personal adema año volaras sede londres semana tech disfrutar tiempo aprender equipo producto tecnologia', 'Senior React Developer pedir lista rey mago pedir react senior developer venir 3 año experiencia real desarrollo webapps reactjs desarrollo codigo legible optimizado velocidad ejecucion obsesion conocimiento experiencia real testing frontends solido conocimiento javascript especialmente typescript experiencia trabajo remoto equipo metodologia agil dejaria cuadro adema experiencia real tecnologia react native spring java 8    azure devops aws kubernet factor valorabl experiencia framework js angular etc conocimiento lenguaje programacion tecnologia innegociable react avanzado typescript avanzado estario react native intermedio sumar punto java intermedio spring intermedio aws intermedio habilidad innegociable adaptabilidad cambio atencion detalle capacidad autogestion estario autonomiar aprendizaje capacidad abstraccion sumar punto gestion equipo liderazgo harar adaral encontrar inicio contar equipo fundador experiencia suficiente crecer empresa convertir lider sector persona liderar venir proyecto levantar 13 millón euros financiacion crecer 60 persona equipo web contar empresa sector trabajar beta actualmente acabar empezar año desarrollo contar beta producto firmado empresa sector software contabilidad podrar proceso seleccion banco pais paso creacion equipo desarrollo inicial producto ayudar equipo externo momento perfecto optimo comenzar crear elenco equipo tecnico nivel interno crecimiento ayudar impulsar forma crecimiento persona unir equipo proporcionar entorno desarrollo innovacion unicamente empresa fase inicial alcanzar numeroso reto tecnico superar duda rendimiento adaral contar interfaz avanzado aglutinar funcionalidad sector requerir nivel fiabilidad alto solución pulida funcionalidad importante importante rendimiento pequeño empresa autonomo gustar grano forma facil agil fase seguir seguir crear plataforma adaral estructurado equipo producto funcional diseño ingenieria responsabilidad trabajar unico equipo objetivo producto mercado requisito soler trabajado definido ambiente startup mercado rapido solucion complejo capacidad autogestion alto adaptar cambio incorporar rapido actitud propositivo formar exito evolucion 1 mes habrar terminar onboarding entresijo necesitar empezar rodar conocera adaral motivo hueco mercado usuario adaral cliente pagar partner valor aportar mercado vision mision habras conocido equipo negocio funcional diseño grafico colaborador externo principal proceso trabajo sabra función responsabilidad finalizara mes estaras aportar cambio producto desarrollado arquitectura codigo manchandotar mano modificación familiarizar consolidar contacto codigo responsabilidad deberar persona capaz entender asumir problema complejo ofrecer solución tecnica calidad viable tiempo coste participaras decisión producto aportar conocimiento tecnico habilitador solución requeír negocio funcional diseño definira nivel tecnico directriz abordar funcionalidad solucion concreto servir guia desarrollador junior incorporar equipo desarrollara software implementar funcionalidad solución tecnica front aportar valor calidad codigo producto deberar obsesion rendimiento milisegundo ganar renderizado pantalla interaccion usuario serar medalla colgueis deberar capaz leer analizar codigo escrito identificar area mejora refactors aportar valor negocio mentorizara incorporación entender producto nivel tecnico arquitectura estandar desarrollo forma trabajo equipo mejorar medir deberar control tiempo permitir coste trabajo equipo aprender variable coste hora planificar features trabajaras remoto 100 querer    \\u200d ♂ ️ posicion 100 remoto asegurser conexion podrar trabajar comodo', 'DevOps / SRE pedir importante mochila cargado ilusion energia serio seras pieza importante equipo dinamico comprometido serar clave match cultural must deber cumplir persona experimentado gestionar infraestructura cloud aws medirer experiencia año avanzar alto nivel seniority critico trabajo equipo tocara cimiento apoyar producto utilizar mil persona diario importante construido miedo levantar mano deber mejorar experiencia kubernet docker entorno productivo experiencia definir infraestructura codigo herramienta terraform cloudformation etc trabajar herramienta monitoring logging prometheus grafán pipelín ci cd conocimiento basico gestion base dato relacional postgresql darir plus    cursar certificacion aws saaco3 experiencia utilizar ansible tecnologia innegociable aws avanzado kubernet avanzado docker avanzado terraform intermedio prometheus intermedio postgresql basico estario python basico sumar punto ansible intermedio habilidad innegociable capacidad autogestion proactividad trabajo equipo estario atencion detalle vision criticar aprendizaje continuo sumar punto liderazgo harar    deber salesql salesql producto saas autofinanciado acceso ciento mil usuario mundo pieza clave generacion lead empresa aliado infinidad equipo people venta generacion lead sencillo lead contacto persona empresa potencialmente interesado producto servicio imaginarar tarea sencillo generar lead calidad mantener actualizado cualificado eslabon clave proceso venta contar ayuda salesql    repaso funcionalidad producto producto funcionar modelo suscripcion permitir generar cualificar lead rapidamente traves linkedin principal funcionalidad explicar continuacion busquedar profesional mail personal empresa perfil escapar circulo contacto directo linkedin posibilidad exportar base contacto directo linkedin cualquiera herramienta necesitser podrar enriquecer contacto informacion relevante extraer 40 data points salesql permitir integracion monton herramienta incluir crm utilizado herramienta email marketing importante software gestion venta avanzado    producto harar convertirar principal responsable devops equipo salesql dependerir entorno productivo compañia significar crear mantener monitorizar infraestructura produccion dirigir trabajo equipo externo infraestructura gestion infraestructura traves equipo externo 3 persona supervision alberto alfonso cto pm salesql respectivamente tendras llave reino encargara infra produccion podrar imaginar complejidad encerrar pieza critica compañia trabajo 2 mano principio contaras apoyo equipo externo trabajar actualmente contaras equipo salesql contar ayuda externo gestionar mantener infraestructura equipo fundador salesql tecnico 100 tengar miedo encontrar    empiecser tocar cosa infra funcionar escala construido reto pasar abrir melón monitorizacion automatizacion aws evolucion 1 mes esponja on mes habrar completar onboarding incluirir sesión discovery producto aprenderar medida producto funcionalidad importante entender nivel funcional nivel logico basicamente construido preocupes harar forma ordenado gradual acompañar cto po compañia conoceras equipo departamento componer empresa responsabilidad trabajar equipo externo analizar infraestructura actual identificar cosa mejorar servicio externo coordinar dirigir migracion digitalocean aws serar milestone importante plazo mejorar monitorizacion actual metrica confiable infraestructura calidad servicio deber detectar cualquiera problema cualquiera usuario automatizar tarea proceso forma automatico golpe botonazo serar ahorro tiempo mejora trabajarar presencial madrid teletrabajo 80 posicion hibrida madrid significar gente trabajar argentina significar soler compartir espacio fisico jueves coworking situado zona principe pio mantener contacto trabajara gente majo    encontrarar espacio equipado necesitser cafe fruta cabina insonorizada luz natural', 'Backend Developer pedir stack sparta girar entorno kotlin pieza python fuerte hincapie optimizacion comunicación tratamiento dato buscar experiencia profesional diseñar implementar api rest json conocimiento multithreading aspecto optimizacion rendimiento conocimiento comunicacion websockets tdd ingles hablado escrito forma fluido serio plus tuvierar experiencia aws elasticsearch microservicio spring boot conocimientos kotlin java gana meterte kotlin    kafka gestion configuracion ci tecnologias innegociable java avanzado estario kotlin intermedio aws basico spring boot intermedio sumar punto elasticsearch intermedio kafka basico habilidad innegociable capacidad autogestion trabajo equipo harar ech vista atra llegar siguemir 2019 aventura comenzar felipe ceo mil coo decidir dejar mundo trading petroleo 35 año experiencia espalda ola digitalizacion tecnologia llegar mercado trading materia primo colaboracion luis cto lanzar piscina decidir montar sparta foco puesto automatizar optimizar aumentar productividad traders materia primo trader tomar decisión deber contar informacion relevante mano capturar oportunidad mercado rapido competencia sparta llegar revolucionar sector agregar informacion relevante procesar informacion permitir cloud trader comunicar equipo forma rapido eficaz paso permitir empresa trading crear base dato informacion relevante aprender experiencia olvidar permitir trabajar remoto impensable año lanzar mvp web io producto crecer ritmo vertiginoso foco evolucionar equipo iterar herramienta crecer vertical aportar maximo valor usuario feature creer separacion analista programador definir senior numero año hayar trabajar querer ayudser dimensión proyecto feedback serar bienvenir aspecto producto confiar experiencia decidir forma implementar resolver tarea perfil buscar persona experiencia mesa hambre ayudar seguir crecer tendrar peso equipo resto componente ayudarar compañero crecer equipo buscar solución proactivamente miedo formarar grupo curtido trinchera gana formar equipo creer lobo solitario ninja rockstars equipo direccion confiar madurez experiencia libertad tengar ningun impedimento evolucion 1 mes mes serar aterrizar equipo gente acostumbrarte trabajar 100 remoto teniar experiencia previo querer tengas voz esperar entregues feedback cosa cero ayudser iterar aspecto organizacion participaras cto diseñador sesión definicion producto aterrizar necesitar hagas responsabilidad desarrollara funcionalidad plataforma compañero diseñaras evolucionara arquitectura sistema seras responsable mantener calidad desarrollo trabajaras remoto 100 sparta nacio 100 remoto felipe basado ginebra mil londres luis basilea querer equipo desarrollo españa creer firmemente ventaja trabajar remoto equilibrio vida laboral familiar obstante tendrar presupuesto puedar trabajar coworking desear compañero valencia persona equipo intencion reunir fisicamente algun lugar virtual exito', 'Magento Developer pedir lista reyes mago      pedir alguien curtir colaborador clave proyecto magento escala llevandolos conceptualizacion medicion impacto pasar implementacion mantenimiento iteracion conocimiento git control versión trabajo colaborativo experiencia trabajar docker conocimiento mundo ecommerce desarrollo consumo api arquitectura cache monitorizacion testeo etc querer llegar    valorar positivamente    seas persona capaz adaptar programar plataforma ecommerce bigcommerce salesforce prestashop woocommerce valorar positivamente conozcas tengas nivel ingles permitir defenderte reunion ocasional cliente pedirar seas shakespeare irar compañia pm solid practica diseño programacion clean code reto relacionado mejora rendimiento escalabilidad plataforma performance caching indexado cdn experiencia teorico practicar tdd conocimiento sistema cd ci dote comunicativo aplicado trabajo equipo servicio cliente sumaria punto extra adema    inspirar metodologia trabajo agil hayar trastear proyecto empatiar cercania rollo mentalidad analitico gana aportar tecnologia innegociable magento avanzado docker intermedio git intermedio estario api intermedio habilidad innegociable trabajo equipo pensamiento analitico atencion detalle aprendizaje continuo estario capacidad autogestion comunicacion verbal sumar punto proactividad capacidad mentorizacion harar ebolution ecommerce especializar ayudar cliente mundo digital pagina corporativo cro datar etc encantar reto superar trabajar proyecto suponer crecimiento profesional innovar    encantar solución problema cliente acompañar momento proponer solución optima problema ayudar prever pensar trabajar distinto opción preocupar mejorar conversion permitir rentabilidad digital commerce analizar experimentan optimizar activo digital cliente generar resultado trabajarar equipo alto rendimiento operación multidisciplinar proyecto desarrollo software creacion cero marca digital estarar perfil puro desarrollo perfil ux ui creativo servir apoyo proyecto cliente requeír estarar acompañado momento equipo project management trabajar ayudar as compañero as cliente     mantendra estrecho relacion project managers ebolution cliente cliente satisfecho trabajo creer oportunidad negocio agil desear recibir aportación mejorar herramienta arquitectura proceso participaras ciclo desarrollo software organizandotir resto equipo jira establecer planificación semanal diario ejecutara autonomia crear funcionalidad mantenimiento proponer solución distinto problema tecnico desarrollara magento 2 cliente internacional tendrar oportunidad trabajar equipo multicultural    gustar aprender suerte tendrar equipo volcado enseñarte trabajar plataforma ecommerce bigcommerce equipo ingenieria formado 12 developer 3 front 9 backend colaborar programador servicio externo figura teachlead techowner proyecto seran referente crear proyecto b2c b2b acelerar negocio ecosistema digital plataforma ecommerce existente capaz doblegar tecnologia adaptar negocio generar resultado evolucion 1 mes habrar completar onboarding incluira reunión equipo interno conozcas familiaricser ebolution conoceras proceso interno ebolution distinto herramienta servicio gestionar habra participar ebomeeting equipo     responsabilidad participara ciclo desarrollo puesto produccion trabajar forma autonomo responsable tarea contar apoyo resto equipo mantendra tarjeta jira documentar informar comunicar avance bloqueo diario colaboraras definicion solución tecnica demostrara compromiso calidad plazo comprometido sumara practica desarrollo existente ayudarar mejorar medida basandote experiencia desear recibir aportación mejorar herramienta arquitectura proceso trabajaras remoto 100 querer posicion 100 remoto asegurser conexion lugar invitar madrid hayas remote onboarding puedar persona resto equipo', 'Head of Engineering pedir acercar navidad escribir lista deseo rey mago navideño intentar cumplir mayoria buscar preferentemente persona ingenieria informatica background empresa producto software tecnologica especialmente sector innovador enfocar año experiencia hayar afrontar reto complejo hayas proponer solución tecnologica avanzado contexto producto experiencia tecnico engineering manager software engineer architect data engineer similar permitir referente debate tecnico equipo cuentes manejo python lenguaje permitir desarrollo integracion automatizacion mejorar eficientar desarrollo proceso tengas sensibilidad ui especial usuario validador producto vengar acostumbrado trabajar volumen dato asegurar latencia trabajo visualizacion algoritmo herramienta power bi tableau etc hayar trabajar coordinacion proyecto integracion gestion sistema herramienta conocimiento profundo erp sap business one crm hubspot bi powerbi herramienta productividad office 365 capacidad liderar escalar equipo multidisciplinar proyecto digital cero asegurar comunicacion fluido nivel empresa dejariar boquiabierto experiencia montar equipo cero has ocupar rol alto responsabilidad cto engineering manager director tecnologia similar cuentes pasion tecnologia impacto sector salud dental aprender colaborar equipo buscar forma mejorar experiencia usuario hablar ingles fluido inter enfrentar reto internacional colaboración españa tecnologia innegociable hubspot intermedio python avanzado sap avanzado microsoft power bi avanzado sumar punto tableau intermedio habilidad innegociable autonomiar aprendizaje adaptabilidad cambio gestion equipo liderazgo estario comunicacion verbal vision estrategico sumar punto vision criticar idioma ingles fluido haras geniovir transformar sector odontologico plataforma tecnologico avanzado integrar desarrollo innovador cinema 4d sistema visualizacion tratamiento 3d permitir dentista interactuar diseño digital tratamiento completamente software propietario visualizar boca paciente permitir modificar tratamiento crear experiencia personalizado interactivo geniova contar dispositivo fisico patentado colocar posicion unico sector actualmente geniovir pleno proceso expansion contar equipo reducido altamente capacitado recientemente firmar ronda inversion encontrar posicionado punto vista financiero lista escalar avance infraestructura tecnologico desarrollo entrar historia head of engineering seras persona encargado liderar evolucion tecnologico geniova componente clave permitir plataforma funcionar posicion reto doble gestionara integracion diverso sistema optimizacion funcionamiento cinema 4d joya corona termino visualizacion analisis interactivo tratamiento dental extranet conectar dentista paciente istemas backend permitir flujo dato tiempo real plataforma actualmente proceso integracion sistema externo trabajo optimizacion escalabilidad especialmente respectar sincronizacion dato creacion interfaz fluido extranet herramienta utilizado consultorio integracion sap gestion dato creacion interfaz usuario robusto seran desafio responsable tecnologia estarar cargo garantizar pieza encajen efectivo crear sistema fluido escalable cinema 4d visor editable on line tarea serar continuar desarrollo optimizar integracion sistema asegurar experiencia usuario dentista paciente intuitivo fluida incluir trabajar mejora algoritmo visualizacion interaccion tiempo real asegurar software capaz procesar volumen dato latencia comprometer experiencia usuario desafio estarir plataforma puntera evolucionar convertir producto completamente escalable adaptable integrar tecnologia mejorar ux asegurar interacción sistema agil fallo contexto experiencia arquitectura tecnologica desarrollo agil escalabilidad serar esencial permitirar destacar capacidad tomar decisión critica arquitectura gestion equipo desarrollo producto creacion funcionalidad seguir ampliar horizonte geniovir ofrecer sector odontologico serar cabeza equipo tendrar innovar constantemente mantener vanguardia sector rapida transformacion plataforma formado componente interrelacionado seros responsable integracion evolucion continuo clave estarir asegurarte sistema trabajar eficiente escalable alineado objetivo negocio empresa geniova buscar persona adn producto vision estrategico experiencia entorno tecnologico complejo capaz liderar equipo tecnico creacion solución software puntero puesto responsabilidad oportunidad unico influir direccion tecnologico empresa español multinacional futuro prometedor seran unicornio evolucion 1 mes habrar completar onboarding habra reunión carlos arroyo miembro clevel conoceras estructura geniova proyecto marcha vision corto plazo empresa altura habrar comenzar comprender detalle tecnico plataforma cinema 4d sistema clave extranet sentira ritmo innovacion cambio contagiar sumergir cultura proceso empresa empezar aportacion transformar futuro odontologia digital sentir listo comenzar forma equipo tecnologia viaje comenzar sonrie    responsabilidad definira liderara estrategia tecnologico alinear roadmap plataforma objetivo negocio garantizar escalabilidad crecimiento empresa gestionara liderara equipo ingenieria formar equipo alto rendimiento empoderar miembro aportar maximo potencial garantizar ejecucion eficiente proyecto clave serar persona responsable evolucion producto digital conexion sistema existente asegurar escalabilidad optimizacion mejorar experiencia cliente integracion sistema fomentara innovacion tecnologico implementar solución tecnologia disruptiva mantener geniova vanguardia sector odontologico trabajara estrechamente clevel alinear decisión tecnologica vision estrategica empresa asegurar accion tecnologico impulsar crecimiento negocio gestionara relación socio estrategico proveedor tecnologico evaluar adoptar herramienta mejorar infraestructura tecnologico geniova maximizar impacto mercado trabajarar presencial madrid teletrabajo 30 geniova valorar flexibilidad empresa etapa trabajo presencial serar clave funcionar posicion hibrida 3 presencial semana 2 teletrabajo permitirar sumergirte conectar estrechamente equipo empezar definir estrategia tecnologico marcha tendrar libertad organizar tiempo principio colaboracion cara cara serar esencial oficina cerca calle valentin beato madrid flexibilidad mes trabajo oficina serar importante integrarte equipo cerca reto', 'Sysadmin pedir administracion configuracion plataforma contact center nube incluir ivr integracion bots gestion campaña saliente servicio clicktocall grabacion llamado manejo plataforma crm capacidad integrar eficazmente sistema contact center optimizar gestion relación cliente habilidad gestion base dato relacionado operación contact center experiencia desarrollo script lenguaje python powershell automatizacion capacidad diseñar desplegar solución tecnologica necesidad equipo negocio disponibilidad comprobado mantenimiento programado responder incidente critico horario laboral regular garantizar continuidad servicio dejarar boca abierto trabajar proyecto banca fintech    tecnologia innegociable sql avanzado powershell intermedio genesy avanzado estario python intermedio dialogflow intermedio sip intermedio habilidad innegociable aprendizaje continuo adaptabilidad cambio atencion detalle pensamiento analitico estario proactividad harar mundo evolucionar rapido tecnologia abanca inmerso importante proceso crecimiento año adquirir 7 entidad financiero llegar cliente seguir ofrecer servicio banca cercano humano estrategia crecimiento departamento it clave grabado fuego    apostar potenciar equipo lema 10º aniversario quedar    reflejar reto embarcado ayudar transformar equipo organizacion cultura eficiencia calidad valor constante crear equipo formaria proposito equipo digital workplace branch bpo conectar proporcionar experiencia usuario canal oficín abanca conecta contact center herramienta fundamental administrar equipo plataforma contact center actualidad migrar tecnologia genesys cloud evolucion 1 mes habrar proceso onboarding abanca pouquiño pouco aparte persona liderar proyecto escuchar persona vision global querer construir tendrar formacion entorno arquitectura sistema dato aplicación abanca tendrar igualmente acceso plataforma online formacion tecnico disposicion equipo banco buddy asignado individualmente compañero andanza recurso resolver duda semana responsabilidad configurar mantener plataforma contact center nube gestionar enrutado llamada sistema ivr integrar bot manejar campaña llamada saliente administrar servicio clicktocall grabacion llamada integrar plataforma contact center sistema crm plataforma bot optimizar gestion relación cliente administrar mantener base dato relacionado contact center crm desarrollar script automatizar tarea mejorar eficiencia operativo trabajarar presencial coruña teletrabajo 40 oficina instalación centro proceso dato abanca pocomaco minuto centro coruña playa riazor orzan    adema completar proceso onboarding politica formal teletrabajo permitir acordar esquema semanal 2 trabajo remoto combinado 3 presencial adaptar circunstancia necesidad personal hablar tiempo conocimiento proyecto ganar flexibilidad', 'CMS Developer pedir primerito funcion principal serar desarrollo web plataforma cms opensource extrañar pedir experiencia plugin integración webhooks apis etc principalmente wordpress prestashop experiencia creacion ecommerce alto grado customizacion integracion ecommerce erp conocimiento solido html css libreria tipo bootstrap querer nota cosilla harar sumar punto allo imprescindible mayoria cms tipo wordpress prestashop etc php lenguaje allo empresa marketing seo importante conocimiento seo on page adorar    conocimiento integracion herramienta email marketing seriar bienvenido    tecnologia innegociable wordpress avanzado prestashop avanzado woocommerce avanzado estario css intermedio html intermedio sumar punto php basico habilidad innegociable aprendizaje continuo trabajo equipo estario proactividad comunicacion verbal harar ruta rojo agencia marketing digital ofrecer servicio integral diseño desarrollo web estrategia marketing basado dato nacer extension spinoff ivory soluciones beneficiar experiencia recurso tecnologico ofrecer servicio especializado marketing digital gracias relacion ruta rojo ofrecer monton servicio chulo seo sem diseño web marketing contenido combinar tecnologia ivory toque creativo estrategico\\u200b ✌ ️ historia ivory manfredita contar garantia funcionar cosa adema sorpresa sorprés compi borja scout manfred compañero anteriormente    escuchar maravilla persona pasar melancolico hablar esperar cms developer buscar cms developer sentar pasion configuracion personalizacion aplicación web utilizar herramienta cms opensource wordpress prestashop serar persona encargado recibir proyecto configurar plataforma añadir plugin integrar sistema erp ruta rojo trabajar aplicación web cero seguir diseño personalizado proporcionar equipo maquetacion tratar ajustar plantilla prediseñada construiras esqueleto web diseño transformandolos elemento visual ejemplo wordpress general meter barro picar codigo podrar tirar compi ivory esperar puedas controlar css html tarea sencillo conocimiento diseño responsive serar responsable aplicar etiqueta adecuado asegurar correcto conexion herramienta necesario buscar perfil tecnico complementar equipo diseño existente trabajarar estrecho colaboracion desarrollador ivory tarea codificacion complejo animar evolucion 1 mes despegar    \\u200d    mes esperar seas esponja vayas proyecto empezarar empapar filosofia forma trabajar semana serar onboarding mano esther contar toditir ruta rojo ivory pelo señal probablemente habreis cara persona quedar poquito abrazo responsabilidad configurar personalizar plataforma wordpress prestashop añadir plugin integrar sistema erp construir esqueleto web seguir diseño personalizado implementar diseño responsivo optimizar experiencia usuario trabajar estrecho colaboracion distinto equipo especialmente marketing diseño datar trabajarar presencial coruña teletrabajo 60 posicion hibrida coruña situado concretamente rua rio monelos 22 1 derecha 15006 mmm significar hibrido normalmente oficina 1 2 semana carga trabajo tarea necesitar presencia caso semana concreto ningun serar mundo general necesitar puedar dejarte', 'Scout/IT Recruiter pedir tengar experiencia recruiter mundo techie tranqui pillar preguntarte dns concatenar querer perfil has seleccionar comprender expliques herramienta demuestrser habilidad negociacion capacidad comunicacion oral escrito habilidad fundamental exito vengar mundo startupil trabajar entorno intensidad alto ritmo rapido entorno cambiante trabajara empresa orientado objetivo horario apasionar tecnologia entienda cambiar vida persona querer gente equipo pelo verde oir hablar devops pensar kubernet futbolista griego puedar defender ingles buscar persona gustar trabajar persona sepa trabajar equipo pedir ayuda prestar necesario habilidad innegociable habilidad negociacion capacidad feedback aprendizaje continuo trabajo equipo estaria pensamiento analitico resistencia frustracion sumar punto autonomiar aprendizaje harar ayudar mision principal cambiar completo forma recruiting proceso seleccion girar tecnologia gestionara carrera profesional ofertar foco aportar valor comunidad tech importante entender trabajar persona allo cerrar proceso ton intentar comprender motivación reto contar comunidad formado 20 mil persona ligado algun mundo desarrollo software alinear querer empresa compartir valor serar transparente publicar oferta salario oferta empresa condición querer entrar proceso seleccion comunidad informacion mano escribira oferta tecnica sentidiño alineado demandar mercado trabajara pasion gana seguir aprender equipo trabajar sigla necesidad tecnico fredder sinonimo gustar tecnologia estarar continuo aprendizaje mundo apasionante entender perfectamente api rest devops rol docker marca pantalón hombre harar equipo calidad bandera sector basado transacción inmediato individualismo manfred trabajar codo codo incentivo grupal objetivo común colaboracion componente equipo interés comunidad leer informacion compromiso etico acabar equipo empuje gana roadmap 2023 reto internacionalizarnos crecer perder valor seguir evolucionar asgard plataforma featur equipo producto ingenieria mejora intentar devolver comunidad karma año vida gracias apoyo respaldo sngular grupo pertenecer evolucion 1 mes completaras onboarding pensado semana freakada contar ponerte miel labio contar cosita semana conoceras formación pensado llegues conozcas equipo jugar escribira post presentacion presentarte comunidad empezaras pairrecruiting persona equipo redactar oferta trabajo aprender herramienta proceso probablemente cerrar exito algun proceso seleccion responsabilidad buscara entrevistaras seleccionara persona comunidad encajen necesidad trasladar empresa trabajar asegurara existir match tecnico cultural entorno candidato sentar comodo propicio crecimiento personal profesional asesoraras empresa proceso hablarar equipo tecnico ayudara aterrizar necesidad perfil acorde mercado incrementar probabilidad exito proceso trabajara dato justificara opinión decisión base redactaras oferta tecnica sentidiño exito formula magico tratar entender contexto tecnico cultural involucrado trabajaras   comunidad llevarar proceso mimo acompañar asesorar involucrado proceso trabajaras remoto 100 presencial madrid manfred empresa diseñado 1 remoto 100 cultura remoto comunicacion asincrona deberiar documentar informacion mano cualquiera persona equipo independientemente trabajar aldea gallego honolulu    ️ invitar hub sngular madrid onboarding reunion formacion puntual', 'Senior Android Developer pedir ayudar 2 posición io engineer android engineer entrar lista decirte actitud gana enfoque desarrollo calidad lenguaje vehicular ingles deber comunicarte nivel profesional idioma shakespeare requisito     2h cet zona horario 4 año experiencia desarrollo mobile android kotlin experiencia crear aplicación cero vision ciclo desarrollo conocimiento experiencia principio diseño interfaz usuario intuitiva agradable android experiencia aplicar practica desarrollo testing producto experiencia trabajar ci cd bitrise jenkins git capacidad adaptar equipo dinamico alto crecimiento empatiar feedback forma respetuoso amable tecnologia innegociable android avanzado kotlin avanzado estario aws intermedio sumar punto python intermedio habilidad innegociable trabajo equipo adaptabilidad cambio atencion detalle proactividad capacidad recibir feedback estario aprendizaje continuo autonomiar aprendizaje inteligencio emocional sumar punto capacidad mentorizacion liderazgo gestion equipo vision estrategica harar fleksy startup creado uk afincado barcelona 5 año logro premio espalda mejorar experiencia 20 millón usuario as ofreciendo personalizacion unico teclado contar sdk potente io android metido jaleo interesante ejemplo ayudar investigación sector salud medir impacto tratamiento traves metrica obtener teclado wow solución ofrecer momento alto crecimiento necesitar talento gana actitud seguir ayudar evolucionar sdk aporte knowhow background seguir innovar crecer ayudar sumar fila persona android engineer serar manfredita unir equipo asegurar contar positivo    stack android desarrollado kotlin seguir patrón arquitectura estandar industria mvvm modelo procesamiento lenguaje natural ejecutar pytorch mobile tensorflow lite io android integrar motor procesamiento lenguaje natural multiplataforma programado c rust backend intentar simplificar maximo servicio disponible aws evolucion 1 mes aterrizara gracias onboarding preparado estarar familiarizado base codigo conoceras equipo encontrar documentacion resolver duda proceso desarrollo convención comenzarar participar cultura equipo contribución disfrutar proyecto conjunto responsabilidad propondra implementara funcionalidad sdk brillar merecer medira optimizaras rendimiento aplicacion nivel cpu consumo memoria realizaras mantenimiento mejora sdk darar soporte nivel integracion sdk cliente externo version publicar fleksy trabajarar estrecho colaboracion equipo producto ux api analizar requisito especificación producto aportar idea nivel experiencia persona trabajarar remoto 100 wifi quierar posicion 100 remoto base operación barcelona equipo distribuido españa persona francia', 'Mid C++ Developer pedir llegar apartado spooky preocupser harar falta invoques rumpelstiltskin cumplir deseo imposible lugar pedirar vengar recorrido trabajar c especialmente versión moderno c17 superior capacidad calidad seguir practica habilidad cmake gestionar proceso compilacion configurar proyecto complejo entendimiento programacion orientado objeto multithreading gestion memoria experiencia optimizacion rendimiento depuracion aplicación complejo serar candidato ideal dejariar impresionado conocimiento opengl trabajar desarrollo grafico 2d3d experiencia framework qt integracion c principio diseño ui ux    tecnologia innegociable c avanzado cmake intermedio git intermedio estario qt intermedio sumar punto opengl basico habilidad innegociable trabajo equipo aprendizaje continuo pensamiento analitico estario atencion detalle proactividad sumar punto autonomiar aprendizaje idioma ingles intermedio harar desarrollador grandilocuencia soñar codigo cambiar vida persona mayoria caso n skandal vas posibilidad impactar millón persona gracias transformacion espacio fisico experiencia inmersiva skandal technologies empresa dedicar transformar espacio fisico entorno inmersivo altamente interactivo iluminacion sensores iot ia desarrollar poet creator solucion software permitir diseñar experiencia dinamica personalizado reaccionar persona evento tiempo real redefineir concepto espacio fisicodigital skandal referente creacion proyecto arquitectonico experiencial nivel internacional ultima creación seta sevilla participar proyecto relevante nivel internacional momento unico crecimiento comenzar musculo equipo desarrollo entrar recientemente ecosistema lanzadera seguro video founder ceo contar    trabajarar c framework qt construir solución vida experiencia arquitectonica desarrollara interfaz intuitiva visualmente impactant optimizar linea codigo asegurar rendimiento fluido eficiente necesitar experto opengl inicio tendrar oportunidad aprender crecer campo integrar grafico avanzado proyecto innovador industria colaboraras equipo internacional participar proyecto diseño tecnologia encontrar implementacion impacto tangible mundo real trabajo serir clave creacion espacio responder persona evento arquitectura experiencial nivel sonar resto \\ufeff evolucion 1 mes mes habrar completar proceso onboarding tecnico trabajar codo codo compañero desarrollo funcionalidad c qt estarar familiarizado flujo trabajo funcionamiento poet creator entender plataforma transformar espacio fisico experiencia interactivo habrar integrado completamente equipo cultura herramienta proceso interno skandal technologies contarar apoyo mentor momento    responsabilidad desempeñara papel clave desarrollo poet creator aplicacion control generativo luz colaborarar equipo desarrollar optimizara aplicación grafica complejo proyecto arquitectonico experiencial desarrollara depurara optimizara codigo c asegurar rendimiento optimo escalabilidad trabajarar qt construir interfaz grafica intuitiva opengl renderizar aplicación grafica 2d3d avanzado participaras fase ciclo vida software conceptualizacion entrega mantenimiento trabajarar presencial madrid teletrabajo 20 trabajara estudio skandal madrid antiguo nave reconvertido espacio creativo calle hierro innovacion aire ✨ mes estaras forma presencial integrarte equipo proyecto preocupser lugar lleno luz natural ambiente    podrar optar modelo hibrido combinar trabajo oficina remoto prefierar importante tengar entorno adecuado seguir crear', 'Full-stack Developer pedir nivel personal    importante mochila cargado ilusion energia serio seras pieza importante equipo dinamico comprometido serar clave match cultural nivel tecnico    \\u200d    45 año experiencia posición similar amigo medir experiencia año pese ocasion referencia 4 hayas experimentar persona 6    sentir pez agua trabajar nodejs javascript idealmente trabajar nextjs react cloud google amazon destreza base dato sql nosql trabajar mysql mongodb firebar tocar infraestructura trabajar terraform serar bomba    tengas minimo experiencia desarrollo movil react native defiendar ingles     tecnologia innegociable nodejs avanzado javascript avanzado mysql avanzado mongodb intermedio estario nextjs intermedio react intermedio sumar punto react native basico habilidad innegociable adaptabilidad cambio trabajar equipo aprendizaje continuo estario comunicacion verbal proactividad capacidad escuchar idioma español nativo bilingue harar    hablar mision seras persona fundamental equipo ingenieria entrenar virtual medida depender desarrollo producto compañia significar diseñar implementar producto completamente encontrarar arma dominio nodejs habilidad nextjs mejorar mantener preexistent funcionalidad producto evolucion reto enfrentar equipo tecnico actual pasar deshacer codigo legacy contribuira migracion mejora poquito pieza producto antiguo copia llave reino tendrar acceso desarrollara funcionalidad mismisimo core producto podrar imaginar encerrar complejidad criticar producto entrenar virtual encontrarar entorno posibilidad limitación directamente existir desarrollara funcionalidad desplegara incremento producto contribuira escribir futuro plataforma espacio aburrimiento falta talento seguro    hora hablar producto entrenar virtual plataforma b2c entrenamiento salud bienestar suscripcion cualquiera persona independientemente nivel preparacion fisico comenzar rutina entrenamiento entrena virtual rasgo entrenar virtual permitir usuario comenzar rutina entrenamiento adaptado objetivo necesidad formar comunidad fitness hablar hispano solido mundo mejorar condicion fisico traves reto plan nutricional consejo amplisimo variedad contenido actualizar semana trabajo equipo ingenieria organizado 2 track desarrollo incremento funcionalidad producto ➡ ️ track formar proyecto enfocado innovacion tecnologico mejora experiencia usuario asegurar proyecto super chulo alto impacto comunidad refactorizacion deuda tecnico ➡ ️ tocar hablar piececitos formar formar cms original equipo producto encargar extraer mover pieza arquitectura producto actual ayuda etapa pasar historia dejar compartir instantanea stack trabajarar    base dato mysql mongodb firebar    frontend construido nextjs nodejs framework koa escoger backend aplicación movil utilizar kotlin swift    infraestructura desplegado gcp servir terraform administracion \\ufeff    necesitar entrena virtual entrenar virtual startup producto nacer 4 año atra fundador veronica javier perfil publico influencers soler lider contenido fitness pais mayoria startup principal objetivo tenian principio salir premisa seguro sorpresa web cms extender chicle tiempo web original soportar login usuario base dato plataforma suscripcion comercio electronico woocommerce solucion nivel tecnico opcion rapido conveniente punto encontrar proyecto arquitectura empezo quedar escaso escalar formar fruto esfuerzo conjunto adrian gabriel po cto respectivamente equipo producto plataforma numero 1 absolutamente entrenar virtual incluir plataforma front back movil infraestructura publicacion divulgacion video contar 3 estudio grabacion grar editar producir 100 contenido loco lider evolucion 1 mes    esponjo on completaras onboarding serir guiado vendra acompañado pequeño desafio ocurrir aprender tiempo conoceras producto pieza componer herramienta utilizar trabajar responsabilidad implementara funcionalidad backend mejorarar funcionar tendrar autonomia proactividad suficiente atrever tocar javascript react podrar apoyarte equipo inter gana tendrar traer serie revisaras codigo compañero aportar aprender demas gestionara ciclo vida producto software diseñaras crearar software alto calidad garantizar rendimiento escalabilidad mejora continuo tendras estandar testing evangelizara practica desarrollo software trabajarar presencial madrid teletrabajo 60 posicion hibrida madrid mmm significar hibrido ➡ ️ dependera necesidad equipo hagar idea 23 semana oficina semana oficina entrena virtual alcorcon', 'Java Backend Engineer pedir altura seguro tendrar idea pedir buscar team player apasionado desarrollo producto necesitar shakeaspeare tengas nivel ingles comunicacion ingles deber defender problema buscar mindset perfil proveniente ambito academico concreto ingenieria informatica rama similar experiencia conocimiento solido java framework spring spring boot experiencia consolidado restful web service microservicio experiencia aws necesario conozcas servicio estser familiarizado trabajar entorno cloud indispensable ademar domina lenguaje stack kotlin groovy frameworks quarkus dejarar boquiabierto    disposicion aprender lenguaje programacion encantar programar    tecnologia innegociable java avanzado spring boot intermedio aws intermedio estario groovy basico kotlin basico quarkus basico sumar punto jenkins intermedio habilidad innegociable proactividad trabajar equipo atencion detalle estaria aprendizaje continuo adaptabilidad cambio idioma ingles fluido harar    pregunta venir dejar recorrido historia proyecto tymit nacer londres 2017 cansado sufrir falta transparencia acceso credito fundador liar manta cabeza decidir reinventar modelo apostar tecnologia motor cambiar cosa tymit banco empresa tecnologico fintech entender dedicar ayudar marca iconicas crecer rentable capturar retener cliente valioso programa tarjeta credito plazos personalizado mision persona disponer credito valor honestidad empatiar flexibilidad transparencia mantra repetir ingles serar importante posicion customers are first because thats what drives us and our growth and well continue catering to them that way secreto gracias aplicacion mil usuario perfecto control financiero facil intuitivo    esperar buscar persona moler trabajar producto etapa inquietud proactividad proyecto involucrar impacto significativo futuro plataforma tymit abarcar tarea diseño plataforma servicio escalable reestructuracion modelo dato codigo existente estaras desarrollar aplicación jugarar equipo papel crucial sesión revision diseño curiosidad tecnologia stack cortes pasar echalar vistazo parecerte extenso foco backend quedar resumen estarar trabajar java groovy kotlin quarkus aws proveedor cloud servicio sqs sns eventbridge rds dynamodb ec2 ecs cloudwatch elk base dato postgresql liquibase cerrar jenkins ci cd modelo funcionar persona confiar tymit punto dulce compañia quedar construir base solida crecer objetivo ambicioso necesitar mano plataforma necesitar reto viaje sumar evolucion 1 mes    aterrizaje momento disfrutar onboarding conoceras persona equipo sabra interiorizara dinamica trabajo participaras ritual equipo configurara hardware software necesario empezar trabajar pondrar plataforma empresa remote bamboohr etc tendras ocasion infraestructura microservicio manejar squad resolver pequeño bug lograr vision generica necesario entender producto tymit responsabilidad participar actividad ciclo vida desarrollo diseño codificacion pruebas lanzamiento produccion entregar codigo alto calidad entorno equipo agil mejorar eficiencia integracion modelado dato proveedor externo resolver problema critico produccion proporcionar conocimiento tecnico trabajar equipo ingenieria mejorar documentar proceso operabilidad seguridad sistema promover tecnologia practica desarrollo equipo trabajaras remoto 100 posicion 100 remoto estser forma habitual pais estser contratado forma remoto caso españa     romper barrera ordenador apetecer compi instalación wework paseo castellano 77 madrid', 'Mobile Architect pedir conocimiento desarrollo mobile swift kotlin arquitectura viper mvvm experiencia vue jquery frameworks libreria front serio tuvierar conocimiento node diseño base dato relacional relacional capacidad interlocucion cliente alto nivel ingles capacidad analisis diseño desarrollo solución necesitar perfil experto imposible persona conocimiento profundo base experiencia dispositivo movil ayudar tecnologia innegociable swift avanzado kotlin avanzado estario viper intermedio mvvm intermedio sumar punto vue avanzado nodejs intermedio habilidad innegociable aprendizaje continuo capacidad autogestion liderazgo pensamiento analitico estario inteligencia emocional vision criticar harar mindcurv historia chula mindcurv nacer españa alemania empresa independiente encontrar trabajar proyecto similar colaborar surgir flechazo decidir unir llegar cliente mindcurv crecer 680 persona repartido mundo empresa internacional    ️ orgulloso ayudar cliente proceso transformacion digital desarrollo aplicación soporte explotacion sistema normalmente ecommerce serar punto referencia desarrollo mobile mindcurv buscar persona implemente solución conocimiento transversal plataforma arquitectura mobile guiar desarrollo plantear solución guiar equipo desarrollo implementacion solución evolucion 1 mes onboarding tendrar responsable equipo soporte ayudarte puesta punto tiempo entenderar estructurado empresa funcionar reto tecnico negocio conoceras equipo habra pinito terminar aterrizaje inicial podrar evaluar mejorarias paso informacion compartido mindcurv confesar gustar continuo proceso mejora ayudar aportar serar bienvenir trabajaras remoto 100 empresa contar sed mundo empleado trabajar remoto españa    sede principal españa madrid oficina chula alcobenda podra trabajar casa acudir oficina deseser', 'Backend Developer pedir llegado punto estarar preguntar pedir unirte equipazo contar frogtek valorar especialmente actitud trabajo equipo conocimiento tecnico    buscar famoso match hablar necesitariar recorrido desarrollo python experiencia trabajar django sql valorar lleves año trabajar flask fastapi cherrypy experiencia desarrollo api backends apps autenticacion sincronizacion gestion multidispositivo hayar trabajar patrón diseño importante imprescindible practica testing automatico tdd pair programming clean code tecnologia innegociable python avanzado sql avanzado estario django intermedio sumar punto flask intermedio fastapi intermedio habilidad innegociable aprendizaje continuo trabajo equipo autonomiar aprendizaje estario comunicacion escrito comunicacion verbal atencion detalle harar empresa basar decisión informacion incompleto adquirido manualmente agregado nivel producto frogtek cambiar completo ofrecer informacion completo granularidad asombroso nivel ticket proposito ayudar comercio dandol herramienta aumentar venta impulsar negocio    crecer forma sostenible año 2024 decidir apostar aumentar equipo tecnologia pasar 20 30 persona acelerar crecimiento red tienda producto inteligencia negocio pilar fundamental equipo crecimiento pasar encontrar persona perfecto ayudar compañia nivel 2025 desarrollar tiendatek aplicacion gratuito comercio gestionar optimicen venta magia promedio lograr aumentar venta 15 año preguntarar rentabilizar proyecto ayudar persona sencillo dato obtener traves producto tiendatek posibilidad elaborar estudio mercado detallado basar dato venta compra comercio almacenar procesar servidor google amazon dato vender empresa fabricant distribuidora traves proyecto frogtek analytics    4500 tienda mexico colombia beneficiar tiendatek 25 empresa lider global fabricante distribuidor confiar dato proporcionar mejorar operacion estrategia raiz grupo frogtek aumentar facturacion anual 35 año equipo proyecto fondo proyecto importante mision social ayudar pequeño tendero país emergente mexico colombia gestionar optimizar negocio traves aplicacion gratuito tiendatek impacto traducir aumento venta comercio utilizar plataforma año contribuir mejorar ingreso instancia ayudar tendero salir situacion precario romper brecha digital permitir competir condición mercado recibir importante reconocimiento nivel mundial innovacion impacto social incluir mención mit new york times premio fundacion vodafone necesitar frogtek   analytics producto inteligencia negocio acogida mercado año esfuerzo considerable plataforma necesidad meter musculo querer reforzar equipo expandir oferta actual mantener calidad mejorar servicio actual crucial contar equipo backend fuerte seguir desarrollar herramienta permitir frogtek adelantar ofrecer servicio indicar equipo crecer organico mantener cultura reunir as notarar rapido lugar gustariar trabajar evolucion 1 mes mes esperar seas capaz integrarte equipo compañero as integrarte rutina metodo trabajo esperar mes servir entender funcionar producto nivel usuario tecnicamente realices tarea sencillo responsabilidad desarrollara backend modulo tiendatek aplicación cliente cosa pedido domicilio programa punto gestion promoción mundo explorar    ️    evolucionara informe acceder tiendatek control informe tendero tienda futuro esperar ofrecer cosa dejar mano puedas banda ancho imaginacion     colaborarar coke actualmente persona experto logica negocio tiendatek   responsable backend integración servicio externo pago tarjeta recarga telefonica cosa ⚒ ️ desarrollara script procesar dato apoyar operacion interno frogtek generacion descarga informe interno propuesta valor tendero generacion descarga informe tienda apoyaras evolucion actual backend tiendatek arquitectura sostenible escalable permitir servicio mil usuario tiendatek futuro trabajaras remoto 100 posicion 100 remoto tendrar asegurartar conexion internet    lugar elegir', 'Head of Growth pedir buscar persona responsabilizar equipo growth pegar tiro producto mobile app serar persona indicado experiencia sector mobile experiencia liderar equipo growth marketing has gestionar canal atribucion analizar conversión app movil trabajar skadnetword singular firebase google analytics sensor tower app radar adema dashboard in house herramienta google idear ejecutar estrategia crecimiento producto mobile distinto fase funnel conversion realizas test experimentacion tracking usuario experiencia aso seguimiento metrica app stor crear informe analitica seguimiento metrica firebar google analytics metrica app stor app radar persona analitico resolutivo adaptar pivotar querer 10 tendras experiencia paid ppc defender ingles escrito hablar hablar proveedor soporte herramienta meta google tecnologias innegociable google firebar avanzado google analytics avanzado habilidad innegociable gestion equipo pensamiento analitico vision estrategico estario capacidad feedback capacidad mentorizacion sumar punto vision criticar idioma español nativo bilingue ingles intermedio harir storybeat    storybeat crear increibl stories reels generar avatar perfil inteligencia artificial distinto tematica aplicacion 1000 diseño plantilla exclusivo elemento editabl usuario as crear collage foto animación video compartir mundo entero excelente herramienta edicion video foto añadir musica stories fuente personalizado pegatina sincronizar foto musica cuestion sabio presente 100 país 31 idioma 60 millón descarga nota 475 10000 valoración    serar foco trabajo serar persona dirigir departamento marketing growth foco estarir dirigir estrategia crecimiento producto mobile app fase funnel activacion monetizacion retencion gestionara canal adquisicion usuario analizara interacción conversión proponer idea mejora producto estrategia marketing crecimiento rol estrategico analitico esperar aporte alto nivel ejecucion seras persona encargado producto nivel growth marketing referir principal kpi perseguir roi roas evolucion 1 mes habrar completar onboarding mano buddy jaime habra equipo contenido data producto trabajarar mano mano conoceras proceso storybeat cosa enseñar    distinto herramienta servicio gestionar responsabilidad harar cargo equipo growth mentorizara tendras mano estrategia crecimiento fase funnel producto onboarding cliente activacion recurrente programa member get member gamification push notifications mejora aso analizara mediras documentaras exito campaña publicitario distinto app stor analizaras rendimiento campaña interaccion atribucion conversión utilizar skadnetwork medir exito campaña atribucion ios mmp singular seran bienvenir herramienta similar realizaras   nalisis definira objetivo cro corto plazo test test test realizaras experimentacion corto plazo precio pago objetivo mejorar producto interacción realizara testing rapido iterativo validar hipotesis persona encargado estrategia performance marketing optimizar campaña paid ppc identificara evaluara oportunidad monetizacion volar    revenue crearar informe analitica realizarar seguimiento metrica herramienta serir util singular api skadnetwork firebase google analytics sensor tower app radar documentaras reportara experimento proceso sistema medicion medir mejorar trabajaras remoto 100 prefierar posicion 1 00 remoto asegurser conexion podrar trabajar cualquiera rinconcito españa    ️ seguro gustar encantar tomar rico cocktail año juntar team building', 'Junior Project Manager pedir general buscar alguien 2 año experiencia project management sector fintech it habilidad comunicativo nivel hablado escrito ingles español dominio herramienta software gestion proyecto ejemplo ms project jira trello conocimiento metodologia gestion proyecto ejemplo waterfall agile dote organizativo capacidad gestionar multipl tarea excelente habilidad comunicacion interpersonal capacidad trabajar forma independiente equipo fuerte habilidad resolucion problema atencion detalle serar bomba    ademir tengas formacion relacionado administracion negocios project management cualquiera area relacionado certificacion relacionado project management eg capm pmp hara brillar ojito    imprescindible tecnologia stack buscar profesional conocimiento necesario desempeñar función puesto independientemente tecnologia utilizado estario jiro intermedio trello basico habilidad innegociable comunicacion verbal trabajo equipo estario aprendizaje continuo proactividad sumar punto vision estrategico idioma español fluido ingles fluido harar    hablar poquito mision mision decidir aceptar esperar serir apoyar ejecucion exitoso proyecto mynehub papel serar mantener pista correcto puente comunicacion equipo implicar trabajar estrecho colaboracion equipo internacional diverso interesado coordinar organizar supervisar progreso proyecto asegurar cumplir plazo alcance calidad esperado trabajaras mano mano actual lead project manager organizara seguimiento distinto proyecto foco estarir capacidad priorizar tarea adaptarte cambio proyecto resolver problema entorno dinamico requerir background tecnico experiencia fintech sector it esencial comprender necesidad desafio especifico proyecto apetecer crecer empresa producto fintech petar lugar     necesitar producto desarrollar 2 producto complementario pensar plazo vendra gestar vamo pincelada avance credito tarjeta telefonica prepago producto potente intervenir facturacion compañia piloto panama implantar caribe producto funcionalidad gestion saldo reporting call center wallet dispositivo movil proyecto ambicioso actualmente desarrollo mynehub empresa matriz generacion tarjeta vís usuario podrar acceso control credito dispositivo procesador pago proyecto plazo fase diseño formar roadmap compañia prioridad actual evolucion 1 mes    esponja on estarar trabajar mano mano actual lead project manager ayudar completar onboarding objetivo fondo proyecto realidad compañia dimensión pondrar cara persona equipo ira entrar poquito dinamica organizacion trabajar responsabilidad asistir definicion alcance proyecto objetivo entregabl colaboracion direccion interesado elaborar apoyar mantener plan proyecto detallado incluir cronograma line tiempo asignacion recurso coordinar comunicar miembro equipo proyecto garantizar tarea completar plan proyecto supervisar progreso rendimiento proyecto identificar abordar problema riesgo preparar entregar informe regular proyecto equipo project management apoyar reunión proyecto incluir toma nota seguimiento punto accion asistir gestion cambio alcance cronograma proyecto utilizar tecnica verificacion apropiado asegurar documentacion proyecto completo actualizado almacenado adecuadamente trabajarar presencial madrid teletrabajo 50 posicion hibrida madrid mmm significar hibrido ➡ ️ 2 3 trabajo remoto semana inicialmente onboarding pasarar tiempo oficina 4 semana tiempo volverir relajado flexible medida ganser confianza dinamica trabajo muuucho flexibilidad verano madrid parir mes julio agosto trabajo remoto querer resto año tendrar vacación viaje compromiso renuncies semana pasar ofi pasar serar ningun drama oficina mynehub madrid c principe vergara 112 parada metro avenida america utopicus coworking equipo mynehub equipo cercano gustar romper barrera ordenador independientemente background equipo pertenezcas trabajar tomar caña cosa habitual', 'QA Automation pedir incorporar equipo qa automattion fcm necesitar minimo 3 año rol qa experiencia cypress selenium conocimiento javascript prueba automatizada nivel español defenderte ingles equipo internacional ganara punto extra automatizar api test postmar experiencia ejecutar testing mobile appium alma hacker tecnologia innegociable cypress avanzado selenium avanzado javascript avanzado estario appium avanzado habilidad innegociable pensamiento analitico aprendizaje continuo trabajo equipo estario proactividad capacidad feedback idioma ingles fluido harar fcm empresa gestion viaje nivel mundial alcance 247 100 país capacidad ofrecer acceso amplio red tarifa obtener solución viaje unica capaz centralizar dato viaje negocio comodo gestionar tomar decisión facilitar vida nivel reservar vuelo hotel recomendar itinerario proporcionarte informacion tiempo real trayecto estrategia ahorro control gasto etc mil organización nacional multinacional encontrar marca familiar mars spotify ea confiir tecnologia equipo fcm trasladar viajero negocio ofrecer potente conjunto herramienta digital cuadro mando permitir gestor viaje organizador viajero control trayecto concreto formarar equipo fcm digital equipo agil impacto grupo actuar startup multinacional seguridad laboral libertad definir producto labor qa fcm digital serar ayudar implementar plataforma nivel mundial asegurar calidad excelencia producto automatizar test frontend backend stack frontend react nextjs react native backend ruby on rails elixir phoenix postgresql platform google cloud docker kubernetes terraform ingeniero seguir instrucción vision producto buscar cosa trabajara proyecto innovador tecnologia centrar mejora viaje negocio persona evolucion 1 mes    embarcar onboarding equipo infraestructura global familiarizar termino mundo viaje aprenderar trabajar equipo qa framework procedimiento seguir conocera plataforma web app fondo necesario trabajo correctamente responsabilidad participar definicion producto analizar requerimiento plantear estrategia prueba diseñar escenario prueba revisar planificar preparar ejecutar prueba reportar error plantear solución validar correccion automatizar prueba monitorearla mantener simular ejecucion evaluar rendimiento trabajaras remoto 100 posicion 100 remoto asegurser conexion podrar trabajar quierar tierra mar aire     grupo fcm oficina mundo viaje apetecer trabajar londres boston singapur brisbane serar bienvenido', 'SRE & Infrastructure pedir necesitar perfil hibrido sre desarrollo alguien capaz levantar evitar sistema caido mejorar optimizar crear infraestructura codigo idea tengar 3 año experiencia iaac manejar herramienta entorno aws terraform cloudformation ecs fargate docker conocimiento github flujo ci cd pipelín aws habilidad scripting desarrollar lenguaje python bash etc trabajar aws api gateway route53 stepfunctions aws lambda apasionar crear aplicación distribuido microservicio autogestionar backlog disposicion aprender tecnologia mover pez agua castellano ingles serio maravillo estupendastico tuvierar conocimiento ek herramienta kubernet aws solution architect certificacion aws experiencia devops bbdd relacional aws rds redshift experiencia bbdd relacional mongodb infraestructura codigo cdk aws cloud development kit tecnologias innegociable aws avanzado mongodb basico terraform avanzado estario kubernet intermedio sumar punto bash intermedio python intermedio habilidad innegociable aprendizaje continuo capacidad autogestion atencion detalle estario autonomiar aprendizaje gestion equipo sumar punto capacidad mentorizacion comunicacion intercultural harar software completo gestion integral proceso seleccion integracion plataforma publicacion oferta administracion perfil candidato pasar gestion proceso hireful utilizar 350 cliente reino unido momento crecimiento clave querer montar equipo desarrollo madrid pasarar tiempo trabajar plataforma cloud ☁ hireful trabajaras construir aplicación distribuido api ’ reducir latencia error utilizarar nube principal tecnologia diseñar implementar plataforma escalable basado serverless capaz lidiar numero petición minuto diseñara implementara frameworks dato abordara optimizaras problema relacionado infraestructura performance escalabilidad disponibilidad concurrencio cola etc identificara cuello botella codigo arquitectura entorno cloud stack backend javascript node utilizar crear aplicacion distribuido tolerante fallo api comunicar distinto microservicio cloud aws plataforma idea principal ayudser mantener infraestructura actual terraform    crear infraestructura cdk plataforma dockerizado utilizar kubernet pequeño prueba concepto aplicacion distribuido aws lambda sqs buscar echar mano creacion pipeline aws ruben encargar infraestructura buddy mes ira dejar espacio liderar parcela punto principal querer tratar mejora seguridad enfoque devsecops encargues trasladar filosofia resto equipo adema optimizacion recurso aws nivel seguridad rendimiento hora rebajar coste plataforma evolucion 1 mes recibir brazo abierto     ruben encargar mentorizarte explicarte montado plataforma roadmap producto par semana capaz intervenir sprint planning aportar punto vista equipo vision global producto responsabilidad simplificara despliegue entorno comenzarar cabo migracion terraform cdk encargara optimizar servicio aws echara mano equipo desarrollo implementar herramienta monitorizacion dashboards control liderara proceso automatizacion despliegues ci cd monitorizaras plataforma asegurar alto disponibilidad tolerancia sesión simultanea construira herramienta ayudar equipo desarrollo mejorar enfocandote calidad practica aprendera resto equipo formar necesario mejorar skills trabajarar presencial madrid teletrabajo 80 posicion remote first primamos trabajo remoto tendrar unir oficina madrid    algun semana', 'Software Developer pedir 45 año experiencia trabajar software developer 100 orientado desarrollo producto digital mobile web stack estser acostumbrado trabajar fundamental tengar gana adaptarte stack actualmente typescript javascript orientacion entrega valor buscar persona responsabilizar desarrollar feature llegar produccion experiencia algun framework frontend react serar descartar venir vue angular pasion tecnologia cambiar vida persona dejarar boquiabierto experiencia typescript conocimiento mongodb base dato relacional experiencia basico mobile ios android tecnologias stack buscar profesional conocimiento necesario desempeñar función puesto independientemente tecnologia utilizado estario react basico javascript intermedio nodejs intermedio sumar punto docker basico mongodb intermedio habilidad innegociable adaptabilidad cambio comunicacion verbal proactividad estario aprendizaje continuo autonomiar aprendizaje sumar punto atencion detalle capacidad mentorizacion harar squad 6 persona 5 developer product designer construiras producto cero significar estarar involucrado proceso definicion desarrollo producto entender necesidad usuario negocio adema tomarar decisión tecnica consensuado equipo balancear producto mercado iterar validar hipotesis solucion escalar tecnologicamente vertical producto diferenciado core inhome serviz onboarding mes estaras aportar valor focus desarrollo producto pleno crecimiento roadmap definido principios año venir formar distinto squads enfocado vertical venir    evolucion 1 mes conoceras team zazume interiorizara forma trabajar squad entendera arquitectura plataforma habrar meter mano codigo funcionalidad produccion responsabilidad desarrollar funcionalidad tendrar impacto directo producto app back front mobile utilizar lenguaje typescript javascript recordar posicion exigir vengar experiencia stack querer empezar trabajar estandarizar proceso desarrollo tendrar impacto directo proyecto back front mobile contribuira definicion arquitectura plataforma puleir deuda tecnico generado levantar mano crear abordar homogeneizar forma trabajar libreria extraer funcionalidad libreria interno etc trabajaras remoto 100 querer isla desierto parking casa camping benidorm tratar posicion 100 remoto unico pedirar tengas conexion estes territorio español modos querer oficina barcelona barrio barceloneta playa esperaran brazo abierto', 'Frontend Developer pedir buscar persona actitud miedo reto tecnico cosa venir experiencia minimo 4 año posición similar conocimiento angular react dominio typescript experiencia desarrollar producto frontend navegador mejorar experiencia usuario experiencia control calidad codigo testing js jest jasmine experiencia trabajar ci cd metodologia agile experiencia trabajar git puedar defender ingles tecnologia innegociable angular2    avanzado ngrx intermedio typescript avanzado sumar punto nestjs intermedio habilidad innegociable atencion detalle capacidad autogestion capacidad feedback pensamiento analitico proactividad harar surgir fundador chris miquel dificultad teniar emprendedor empresa desarrollar modelo negocio equipo tecnico desarrollar software necesitar surgir idea asesorar crecimiento cliente ayudandol desarrollar producto acompañandolo ideacion solucion tecnico proceso convertir mano derecho tecnologico actualmente equipo crecer necesitar incorporar frontend developer seguir ayudar proceso unira momento especial crecimiento proyecto equipo mente abierto apostar escucha activo creacion querer persona vision producto ayudar seguir mejorar existente aportar idea evolucion 1 mes mes conoceras equipo forma trabajar empezaras tocar proyecto resolver ticket ayuda equipo querer tengar voz esperar des feedback cosa 1 responsabilidad escribir codigo limpio testable desarrollar featur necesidad necesidad cliente colaborar po definicion producto user stories criterio aceptacion participar ciclo vida desarrollo software you build it you run it participar contribuir evento scrum sprint trabajaras remoto 100 presencial palma posicion 100 remoto priorizar persona team mallorca equipo ubicado isla residir isla invitar ofis palma mallorca reunion formacion team building puntual ejemplo aniversario esquiar alpes mes equipo disfrutar escapada rural montaña alemán viaje tendras equipo', 'Android Developer pedir alienigén perfil android esperar hayas pegar producto android diverso indole entrar fondo desarrollo has produccion aplicación complejidad tecnico java lenguaje principal kotlin importante experiencia nivel c 10 imprescindible desenvuelves problema trabajar ingles tecnologia innegociable java avanzado kotlin intermedio sumar punto mvvm basico c basico c basico habilidad innegociable proactividad trabajar equipo estario capacidad abstraccion pensamiento creativo tolerancia incertidumbre harar trabajarar equipo producto consistir cliente mail securizado encriptacion extremo extremo escritorio movil equipo mobile clave producto compañia formar corazon    interesante pep security tendrar oportunidad aprender concepto ciberseguridad exigencia experiencia previo mundo entender my modelo amenaza torno trabajar apoyar filosofia zero trust architecture desarrollar modelo negocio pedir tengas bagaje desarrollo hayas trabajar proyecto complejidad tecnico serar pieza clave equipo android plataforma produccion usuario funcionar buscar equipo nivel adema tendrar remangartir arrancar desarrollo from scratch evolucion 1 mes habrar completar onboarding incluira   aplicacion mano alguien equipo conoceras organizacion codigo compilar dependencia aplicacion etc podrar implementar forma autonomo funcionalidad requerimiento usuario conoceras   distinto herramienta libreria desarrollar pep security ecafes equipo    responsabilidad trabajarar cerca equipo desarrollo cabo implementacion aplicacion seras responsable equipo implementar android masterplan general zero trust architecture trabajaras estrechamente equipo testing ux ui design garantizar resultado optimo implementaras requerimiento usuario aplicacion seguir alto estandar calidad desarrollo aplicaras metodologia agile encontrar equilibrio efectividad eficiencia sostenibilidad participaras fase ciclo desarrollo compartiras equipo conocimiento capacidades proceso documentacion trabajarar presencial barcelona teletrabajo 75 podrar modelo remoto evento presencial podrar trabajar deseser adema tendras ocasion cara equipo oficina via laietana barcelona querer equipo coordinar coincidir oficina reunión scrum review planning retrospectivo workshops demanda hito clave proyecto trabajar resto tiempo cualquiera lugar ocasion necesidad especial entender conciliacion expectativa minimo puedar acudir oficina 3 4 mes', 'Senior Backend Developer pedir pedir incorporacion venir año experiencia backend python base dato mongodb postgresql integrar dato capacidad comunicacion trabajo equipo sentar pasion tecnologia quedar boquiabierto conocimiento scraping experiencia sistema distribuido sepa desplegar codigo ci jenkins defenderte ingles tecnologia innegociable python avanzado mongodb intermedio docker basico estario screenscraping intermedio sumar punto jenkins intermedio habilidad innegociable vision criticar proactividad trabajo equipo estario capacidad abstraccion capacidad mentorizacion harar flanks ayuda asesor financiero family offices banco fintechs vision holistico patrimonio cliente crear motor capaz extraer informacion cualquiera entidad financiero credencial usuario compatibilidad 270 entidad nivel nacional internacional portugal suiza andorra eeuu mexico buscar persona experimentado backend destreza scraping python persona gustar crecer profesionalmente equipo alto rendimiento opinion relevante posicion evolucion 1 mes entendera etapa integracion entidad sistema estarar producto conoceras   entresijo tecnico modelo dato flanks    \\u200d    periodo pondrar codigo proceso responsabilidad trabajara equipo driver scraping compuesto 8 persona 6 tecnica 2 financiero haras ingenieria inverso sitio web diseñaras implementara herramienta interno revisara codigo compañero as equipo trabajaras remoto 100 presencial barcelona posicion 100 remoto podrar trabajar quierar mienta asegurser conexion hacerte escapada puntual barcelona onboarding talleres whatever podrar disfrutar zumo equipo sagrado familia', 'Senior Product Manager pedir buscar product manager mentalidad producto enfocado aportar valor corto plazo gustar proceso resolucion problema estrategia gustar sonar habilidad escucha comunicacion ingles español fundamental equipo multicultural    exito necesitar experiencia ✍ ️ gestion producto producto tecnologico b2b trabajar product manager producto b2b saas fintech 4 año identificar buscar seleccionar investigar validar oportunidad comercial habilidad entender necesidad cliente responsable producto entorno desarrollo incluido traduccion necesidad comercial abarcar equipo tecnico hayas gestionado equipo multidisciplinar lograr objetivo comercial traves tecnologia experiencia modelado proceso operativo negocio roadmapping priorizacion producto hablar forma fluido castellano ingles    valorar experiencia integración open banking api trabajar implementar ia producto experiencia rediseñar analizar proceso background business analyst seras bienvenido palma conocimiento experiencia    descubrimiento gestion producto capital trabajo producto financiero cadena suministro mercado prestamo empresa españa definir estrategia gotomarket habilidad innegociable adaptabilidad cambio comunicacion verbal atencion detalle trabajo equipo idioma ingles fluido harar creer fintech nacer 10 año pyme mediano empresa administración publica solucion gestion financiero corto plazo razon impulsar negocio generar impacto contribuir clave economia traves tecnologia    crear plataforma ayudar empresa obtener financiacion inmediato factura pendiente cobro factoring proveedor cobrar venta confirming tecnologia eliminar burocracia simple complejo producto digitalizar proceso empresa trabajar ⚡ harar ⚡ unira novicap product manager convertiras necesidad comercial cliente desarrollo mejora producto jugar equipo head of product equipo tecnologia negocio general contribuira estrategia producto necesario cumplir objetivo comercial responsable roadmap producto administraras desarrollo producto caracteristica mantenimiento    roadmap numero aportación estrategia empresa iniciativa producto requisito operativo demanda tecnologicas proceso interno gestion cambio problema planteado equipo cliente solicitud cambio etc equipo producto establecer prioridad nivel iniciativa equipo gestion basar estrategia empresa soler cambiar revisar mensual trimestralmente funcion necesidad roadmap construir base requisito priorizacion 15 celebrar sesión priorizacion pequeño equipo directivo actualizar acordar priorizacion relativo elemento cambio pequeño esperar seas persona experto materia producto gestionar impulsser entrega generacion producto novicap importante tomar decisión basado analisis feedback stakeholder objetivo comercial general garantizara alineacion producto tecnologia equipo vision producto implementacion proyecto colaborarar equipo organizacion contribuir plan crecimiento evolucion 1 mes aterrizara empresa equipo persona forma trabajar incorporacion importante novicap asegurar necesitar comenzar    responsabilidad gestionar optimizacion mejora continuo producto asegurar relevante rentable facil operar responsable descubrimiento oportunidad producto desarrollar solución innovadora cubrir necesidad satisfecho enfoque especial prestar corto plazo fortalecimiento capacidad garantia colaborar estrechamente equipo venta demostrar valor producto ampliar optimizar proceso operativo gestionar cartera cliente diverso asegurar eficiencia calidad atencion trabajar conjunto equipo riesgo juridico mitigar riesgo credito garantizar seguridad explotacion producto trabajarar presencial barcelona teletrabajo 60 posicion hibrida barcelona asegurser conexion podrar trabajar casa 23 semana', 'Marketing Generalist pedir buscar persona requisito querer unir equipo 23 año experiencia trabajar data analyst conocimiento marketing trabajar sector background formativo especialidad ingenieria estadistica economia empresarial matematica fisico administracion direccion empresa experiencia creacion plan 360º conocimiento avanzado google analytics datastudio trabajar herramienta google search console screaming frog hotjar semrush sistrix moz majestic seo conocimiento avanzado excel curioseado plataforma ecommerce woocommerce prestashop magento shopify recoleccion analisis dato traves dashboards pasion necesidad mejorar cualquiera documento pasar mano fan trabajo equipo ayudar necesitar levantar mano necesario querer caer bar valorarian nivel avanzado ingles catalan cualquiera idioma trabajar proyecto datar driven experiencia sector retail turismo alimentacion liderazgo proyecto gestion cliente habilidad innegociable pensamiento analitico liderazgo trabajar equipo estario capacidad autogestion comunicacion verbal sumar punto habilidad negociacion haras sekuenz trayectoria 15 año sector marketing digital venta guiada dato definir artesano marketing digital trabajar capilaridad red dedicar transformar negocio traves estrategia basado metrica querer especificamente especialista publicidad online consultoria estrategico digital solución google empresa captacion leads planificacion performance marketing resultado objetivo dato biblia construir vision holistico punto partida recoger dato establecer big picture proyecto paso empezar actuar establecer objetivo estrategia empezar trabajar acción segmentada publico canal mapa ruta estimacion realista resultado contrastar dato dato punto seguido implantacion marcha acción atender resultado tiempo real modificar incrementar caso necesario encontrar momento crecimiento necesitar ampliar equipo seguir trabajar calidad buscar convertir equipo cualitativo digital business unir    evolucion 1 mes bienvenida harar onboarding persona tiempo agencia vuelta casa conozcas empresa proyecto empezaras trabajar proyecto seguimiento compañero entender metodologia funcionar ira rotar squads entender distribucion tarea cliente responsabilidad gestionara proyecto marketing digital multicanal liderara proyecto marketing 360º actuara cmo proyecto lider gestion cliente feedback presentacion resultado etc participaras decisión estrategica proyecto operativo gustar seguir handson porcentaje 50 estrategia 50 operativa recogera analizara mejoraras interpretara multitud dato metrica relacionado proyecto servir base toma decisión responsabilizara proyecto lider tarea seas follower participes   ejecucion trabajarar presencial barcelona teletrabajo 40 probar modelo hibrido semipresencialidad gente equipo encantar workshops sesión estrategia oficina barcelona lunes martes jueves miercol viernes teletrabajan', 'Cloud Platform Engineer pedir llegar carta rey mago preocupar vida    caso corto experiencia kubernet instalacion mantenimiento cluster despliegue aplicación fuerte dispuesto formarte equipo manejar infraestructura codigo herramienta terraform similar experiencia desarrollo infraestructura cloud serar clave tengar experiencia cloud estupendo aws azure gcp conocimiento herramienta ci cd nivel fluido ingles equipo internacional adema tendrar punto extra trayectoria previo desarrollo deseable golang python abierto cualquiera lenguaje trabajar herramienta observabilidad prometheus grafana etc herramienta agregacion logs loki elk graylog habilidad linux redes bbdd seran valorar gestion infraestructura robusta plus extra nivel base aleman serar estupendo equipo soltar idioma defecto ingles serar suficiente tecnologia innegociable kubernet basico terraform intermedio aws intermedio estario prometheus intermedio sumar punto python basico go basico habilidad innegociable trabajo equipo comunicacion verbal comunicacion escrito adaptabilidad cambio aprendizaje continuo autonomiar aprendizaje estario vision criticar idioma ingles fluido harar mindcurv historia chula mindcurv nacer españa alemania empresa independiente encontrar trabajar proyecto similar colaborar surgir flechazo decidir unir llegar cliente mindcurv crecer 700 persona repartido mundo empresa internacional    ️ orgulloso ayudar cliente proceso transformacion digital desarrollo aplicación soporte explotacion sistema normalmente ecommerce paso importante expansion empresa unir accenture song ampliar significativamente capacidad servicio ofrecer nivel global especialmente ecommerce combinacion experiencia mindcurv fortaleza accenture song tecnologia creativo solución comercial permitir personalizacion escala fomentar lealtad cliente aumentar venta adema integracion aportar innovacion escalabilidad plataforma digital presencia global ampliado flujo conocimiento resultar solución efectivo completo amplio gama industria estarar preguntar esperar cloud platform engineer unirar equipo cpms cloud platform managed serviz repartido país serar ingles proyecto internacional mano equipo operación responsable mantener infraestructura participaras tarea creacion cluster kubernet cliente desplegado cloud gestion aplicación kubernet argo cd tendras ocasion aprender terraform usaras creacion infraestructura codigo cloud mayoria trabajar aws genial azure gcp valorar mentalidad mejora continuo busques automatizacion proceso soler python go cerrar puedar venir lenguaje necesitar equipo comunicativo ambiente trabajo gustar remar equipo escuchar proponer sitio evolucion 1 mes onboarding tendrar responsable equipo soporte ayudarte puesta punto tiempo entenderar estructurado empresa funcionar reto tecnico negocio conoceras equipo habra pinito adema previsto formacion inicial especificar proyecto podrar aprender necesario enfrentar reto garantia    terminar aterrizaje inicial podrar evaluar mejorarias paso informacion compartido mindcurv confesar gustar continuo proceso mejora ayudar aportar serar bienvenido responsabilidad implementar infraestructura nube infraestructura codigo diseñar estimar infraestructura enfoque observabilidad seguridad participar automatizacion proceso mantenimiento optimizar operación establecer pipelín ci cd implementar aplicación inconveniente garantizara seguridad integrado dato mecanismo solido procedimiento backup recuperacion dato optimizar plataforma colaborar equipo desarrollo operación trabajaras remoto 100 100 remoto españa empresa contar sed mundo empleado trabajar remoto españa    momento valorar candidatura globo proceso sede principal españa madrid oficina chula alcobenda podrar instalación accenture españa podrar trabajar casa acudir oficina desees it’s up to you', 'Senior JAVA Developer pedir reunir equipo mango capacidad principal creer deber reunir persona adecuado posicion abierto potencial duda escribir silvia sacar duda solido experiencia java medir gente año experiencia capacidad buscar as seniors emplear spring boot prueba tecnico incluir necesario base spring ayudar experiencia despliegue ci especialmente necesariamente jenkins inter experiencia profesional principio diseño software clean code testing etc proactividad libertad responsabilidad venir organizacion acarrear pedir paso tarea 10 experiencia profesional tdd practica extreme programming conocimiento arquitectura hexagonal clean microservicio etc base dato volumen experiencia profesional cultura devops consciente estandar empresa trastear kubernet experiencia producto alto trafico tecnologia innegociable java avanzado docker basico estario kotlin basico spring intermedio aws basico jenkins intermedio sumar punto kubernet basico habilidad innegociable atencion detalle capacidad recibir feedback trabajar equipo proactividad estario aprendizaje continuo adaptabilidad cambio harar conocera mango nacio 1984 presente 118 país actividad online extender 80 país disponer equipo multicultural persona 100 nacionalidad 80 mujer    actualmente encontrar transformar plataforma ecommerce solucion mantenible escalable capaz responder rapido cliente situación trafico sumara squads equipo multidisciplinar frontend backend qa ux writer ux designer analytics scrum master product owner orientado producto objetivo construir ecommerce referencia retail depender habilidad necesidad equipo podrar empezar distinto squads cercano integración marketplaz encargar integración metodo pago cualquiera caso estandar alto principalmente presente ciclo completo codigo visibilidad responsabilidad encontraras compañero apoyo afrontar reto plantear entorno aprendizaje continuo filosofia vida compartir conocimiento comunidad evolucion 1 mes aterrizara empresa pondrar cara compañero irar familiarizar area negocio tecnologia tendras asignado padrino ayudar necesitser conoceras   objetivo empresa departamento contribuir habrar presentar sesión alineamiento equipo compañero tendras desvelar superpoder    \\u200d ♀ ️    \\u200d ♂ ️ contar curiosidad tuir    responsabilidad diseñara desarrollara plataforma ecommerce soporte despeinar crecimiento participaras transicion monolitico java 8 microservicio java 11 kotlin spring boot docker kubernetes amazon aws git oracle databar querer experiencia stack ☺ ️ codefinira historia usuario participaras estimacion planificacion tarea remara equipo tecnico resultado buscar solución escalabl aplicar modelo mejora continuo pair programming code reviews etc formarar equipo aplicar practica extreme programming tdd pairing ci cd colaboraras comunidad practica coding dojo lunch learn book club open spaces lightning talks etc profundizar compartir adquirir conocimiento principio diseño tipo arquitectura desarrollo software general formado podrar crear infraestructura autonomamente herramienta devops terraform trabajaras remoto 100 presencial barcelona ofrecer 100 remoto barcelona sumado nostalgico echar persona cafe mañanero acompañado ofrecer opción querer tranquilidad podrar sede central palau solità i plegamans gestionar compañia nivel internacional venir posibilidad utilizar impresionante oficina mango innovation centrar barcelona adaptar necesidad hq palau solità i plegamans mango innovation centrar 22 barcelona', 'Data Engineer pedir 45 año experiencia trabajar data engineer experiencia python recepcion manipulacion almacenamiento dato tiempo real experiencia solido sql inter gestion infraestructura sistema big datar experiencia extraer conjunto dato distinto fuente normalizar almacenar experiencia trabajar git capacidad comunicacion oral escrito ingles alto sparta empresa multinacional equipo producto españa presencia suiza reino unido unidos reunión ingl dejariar boquiabierto experiencia mundo trading fintech trabajar startup proceso crecimiento tecnologia innegociable python intermedio postgresql intermedio estario kafka intermedio sumar punto aws basico habilidad innegociable capacidad autogestion pensamiento analitico trabajo equipo estario aprendizaje continuo vision estrategico sumar punto proactividad harar ech vista atra llegar siguemir 2019 aventura comenzar felipe ceo mil coo decidir dejar mundo trading petroleo 35 año experiencia espalda ola digitalizacion tecnologia llegar mercado trading materia primo colaboracion luis cto lanzar piscina decidir montar sparta foco puesto automatizar optimizar aumentar productividad traders materia primo trader tomar decisión deber contar informacion relevante mano capturar oportunidad mercado rapido competencia sparta llegar revolucionar sector agregar informacion relevante procesar informacion permitir cloud trader comunicar equipo forma rapido eficaz paso permitir empresa trading crear base dato informacion relevante aprender experiencia olvidar permitir trabajar remoto impensable año lanzar mvp web io producto crecer ritmo vertiginoso foco evolucionar equipo iterar herramienta crecer vertical aportar maximo valor usuario feature creer separacion analista programador definir senior numero año hayar trabajar querer ayudser dimensión proyecto feedback serar bienvenir aspecto producto confiar experiencia decidir forma implementar resolver tarea sparta dato core producto aportacion serar base crecimiento perfil buscar persona experiencia mesa hambre ayudar seguir crecer team player gustar compartir aprender cuyo objetivo seguir crecer ayudar equipo buscar solución reto libertad tengar ningun impedimento evolucion 1 mes mes serar aterrizar equipo gente acostumbrarte trabajar 100 remoto teniar experiencia previo querer tengas voz valorar feedback puedas cosa cero componente equipo importante crecimiento sparta querer ayudser iterar aspecto organizacion mes ira dinamica equipo mercado operar irar introducir dinamica producto participaras equipo sesión entender feed dato trabajar empezar definir tratar almacenar responsabilidad responsable resto equipo organizar infraestructura adquisicion tratamiento dato crecer producto sparta ayudarar seleccionar diseñar implementar almacén dato situación redis kafka timebased databás analizaras rendimiento almacenamiento consulta dato mejorar extraera conjunto dato distinto fuente normalizar almacenando trabajaras remoto 100 sparta nacio 100 remoto felipe basado ginebra mil londres luis basilea querer equipo producto españa creer firmemente ventaja trabajar remoto equilibrio vida laboral familiar tendrar compañero cordoba salamanca valencia mallorca obstante tendrar presupuesto puedar trabajar coworking desear intencion reunir fisicamente algun lugar virtual exito', 'Senior Machine Learning Engineer pedir buscar actitud gana persona dinamico inconformista gustar vanguardia tecnologia ciencia dato buscar ampliar equipo ml architect pedir fundamento versatilidad aprender tecnologia formarar equipo arquitectura diseñar solución esperar traer mochila cargado experiencia exito fracaso distinto ambito solucion ml experiencia solido desarrollo python tiro pegao entorno cloud experiencia tecnologia ml azure machine learning amazon sagemaker google vertex ai palma mano ciclo dato harar probablemente venir cabeza consultora respuesta cualquiera consultora 100 focalizado proyecto data ia cubrir cadena valor dato buscar innovacion proyecto apostar crecimiento persona establecido plan carrera puedar evolucionar especialista nivel tecnico sdg crecimiento unido gestion podrar 100 crecimiento tecnico perseguir excelencia tecnico innovacion facilitar crecimiento constantemente estarar formacion nivel mentoring academica sdg ✔ buscar crecimiento innovacion constante ✔ persona inquieto encantar aprender continuamente tecnologia paradigma ✔ motivar participar activamente transformacion cliente nivel traves dato ✔ querer crecer nivel tecnico necesidad asumir tarea gestion ✔ querer carrera evolucionar mano ia    turron esperar desear magia definicion diseño solución desafien   status quo estarar vanguardia innovacion explorar tecnica algoritmo enfoque remara estrecho colaboracion equipo data scients ml engineer proyecto nivel excelencia tecnico    tendrar oportunidad aprender trabajar stack diverso apostar principal tecnologia mundo ia machine learning innovar constantemente adaptar paradigma nivel lenguaje construir solución python sql r scala aplicar practica devops mlops traves tecnologia docker plataforma ci cd bitbucket pipelín github actions gitlab entorno cloud tendras oportunidad trabajar principal proveedor azure gcp aws trabajara servicio arte mundo ciencia datos azure machine learning microsoft fabric vertex ai amazon sagemaker databricks foco puesto posibilidad ofrecer ia generativo trabajar ecosistema servicio cognitivo avanzado azure openai gama azure ai services amazon bedrock open llms especial predileccion producto opensource ayudar solución solido escalable productivo tecnologia apache airflow kubernet formar stack habitual ⚠ ️¡spoiler alert ⚠ ️ esperar conozcas tecnologia traer mochila experiencia solido fundamento curva aprendizaje rapida proactividad aprendizaje sdg fundamental evolucion 1 mes habrar completar onboarding    sdg quedar peligro conocera proposito persona equipo sabra dominar tema acudir necesitser entendera interiorizara trabajar afrontar proyecto responsabilidad liderar diseñar solución data scientist machine learning definir diseñar plataforma analitica avanzado nube cubrir ciclo vida ciencia dato perspectiva mlops ayudar cliente definir estrategia metodologia hora plantear ejercicio ciencia dato plataforma herramienta plataforma disponible distinto nube desarrollo solución ciencia datos azure databricks azure machine learning amazon sagemaker google vertex ai colaborar evolucion propuesta valor compañia termino ciencia dato especial foco vision acerca arquitectura sistema ml participar seguir mantener karma generar sdg trabajarar remoto 100 fullremote españa viviras forma trabajo gestionar tiempo querer trabajar 100 remoto querer modelo hibrido sdg podrar elegir querer trabajar apostar fuertemente smartwork persona decidir adaptar necesidad', 'Head of Security pedir profundo conocimiento seguridad cloud politicas acceso gestion iam experiencia plataforma gcp aws habilidad auditoria completo seguridad empresa abarcar infraestructura it sistema individual empleado experiencia analisi estatico dinamico codigo trabajar nodejs backend kotlin android swift ios php ecommerce evaluacion profundo sistema autenticacion autorizacion codigo identificar potencial vulnerabilidad mala practica manejo sistema custodia clave certificado conocimiento general tecnica protocolo encriptacion experiencia implementacion gestion sistema firewalling wafs configuracion despliegue servicio seguridad conocimiento herramienta tecnica monitorizacion trafico detectar neutralizar ataque tecnologia stack buscar profesional conocimiento necesario desempeñar función puesto independientemente tecnologia utilizado habilidad innegociable adaptabilidad cambio capacidad autogestion pensamiento analitico vision estrategico trabajo equipo liderazgo estario proactividad idioma ingles fluido harar contar serio especificarte rol research hablar empresa ellu   company start up nacer año mano producto ēllu app recoger red social conectado band mantener importante equipo enfocar ayudar persona comunicar cuidar proteger vida privado entorno digital seguro privado vida real utilizar conversación cifrado extremo extremo funcionalidad encontrar adema popular chatear subir stories encontrar sos boton enviar instante alerta mensaje voz contacto referencia tiempo real ocurrir dejar par spot visual resumir habrar idea ēllu centro persona maxima diversion privacidad seguridad preguntarar sitio equipo pequeño implicado proceso internalizar equipo buscar incorporar alguien encargar seguridad ayudar empuje necesitar aplicacion colabore mejora montado capacidad tomar direccion eficiente responsabilidad clevel querer detalle responsabilidad esperar seguir scrollear ⬇ ️ evolucion 1 mes mes serar momento adaptacion conoceras miembro equipo podrar tomartir cerve cafe virtual presencial darir acceso herramienta ira mano miguel cto sentar arropado familiarizacion producto mes serar formacion aclimatacion acudira charla dpto contexto empresa nivel global tengas vision general marketing producto demas    responsabilidad diseñar implementar mantener sistema automatizado politica seguridad incluir actualización periodica software rotacion clave cifrado dato reposo capacitacion formacion continuo equipo ataque ingenieria social phishing ransomware riesgo emergente colaboracion estrecho departamento garantizar integracion practica seguridad nivel organizacion desarrollo mantenimiento plan respuesta incidente asegurar accion rapido eficiente caso brecha seguridad capacidad mantener actualizado ultima amenaza vulnerabilidad regulación ciberseguridad habilidad comunicacion informar asesorar alto direccion riesgo medida seguridad habilidad liderar gestionar equipo profesional seguridad necesario trabajarar presencial madrid teletrabajo 90 posicion 90 remoto presencial rol tendriar general mayoria tiempo podrar remoto clevel tendras reunión importante serar presencial equipo cliente madrid concretamente edificio utopicus', 'Java Team Lead pedir buscar persona flexible adaptar entorno cambiante team player gana apoyar persona equipo capaz construir organización apoyar tecnologia lenguaje vehicular ingles necesitar puedar hablar soltura pedir experiencia team lead empresa sistema alto escalabilidad entorno multi proyecto experiencia consolidado desarrollo java experiencia entorno cloud aws gcp azure base dato optimizacion despliegue escala experiencia previo proyecto complejo escala idealmente entorno financiero fuertemente regulado capacidad negociar colaborar as team lead equipo cliente area empresa aterrizar necesidad negocio capacidad identificar proponer aprovechar oportunidad presentar facilidad empoderar persona equipo acompañandolas crecimiento sacar relucir potencial nivel interlocucion ingles tecnologia innegociable java intermedio estario aws intermedio habilidad innegociable liderazgo gestion equipo adaptabilidad cambio proactividad harir → venir small world nacer 2005 idea frontera deber significar barrera premisa 20 año ayudar familia amigo cerca pudiendo enviar dinero necesitar seguro facil economico 1000 persona mundo ayudar mision asegurar 1 millon transacción mes adecuado sufrir sufrir profundo transformacion digital fintech referencia tecnologiar negocio mano podrar imaginar equipo ingenieria clave negocio nivel    → esperar necesitar despliegue potencial team lead deberar liderar squads desarrollo referente equipo trabajar transversal resto area empresa negocio producto resto equipo ingenieria etc trabajar cambiar arquitectura web stack tecnologico actual cubrir adecuado necesidad deberar remar    empoderar equipo    explorar via decidir tecnologia    impulsar transformacion sistema basado monolito sistema basado microservicio small world discutir civilizadamente    argumentar decisión tomar deber capaz extraer dato defender postura elegir solucion caso comunicar equipo resumen esperar seas team player combinar conocimiento tecnico capacidad liderar motivar equipo evolucion 1 mes recibiran brazo abierto equipo desarrollo crecer rapido mes familiarizara equipo plataforma actual comprendera arquitectura general empresa mapa sistema aplicación comunicar metrica basica monitorizacion tendrir ningun secreto habrar interiorizado modelo negocio impacto aplicación podrar pasar par oficina quedar ningun intringuli responsabilidad impulsar estrategia crecimiento equipo desarrollo java marcar rumbo equipo garantizar cumplir estandar calidad software acordado mentorizar equipo apoyar incorporación colaborar stakeholder comprender requisito proporcionar diseño nivel ajustar necesidad entregar backlog negocio priorizar incidencia proyecto estrategico oportuno calidad adecuado cobertura prueba apoyar equipo tecnico tomar decisión tecnica clave futuro plataforma ayudar administrar escalar sistema centrar alto disponibilidad ofrecer servicio robusto calidad trabajaras remoto 100 quierar equipo distribuido persona españa sevilla barcelona palma mallorca valladolid etc belgica mexico uk trabajar fullremote importar cabaña sierra ⛰ ️ furgo recorrer mundo asegurser conexion encantar equipo trabajser fullremote pedir flexibilidad pasar centro operación finca madrid 1 2 46 semana coste cargo empresa', 'DevRel pedir lista rey mago pedir developer relations devrel venir hayar nacer estrella habilidad comunicacion creatividad crear tipo contenido tecnico notecnico conocimiento tecnico fundamental http apis rest java sistema distribuido autonomio proactividad curiosidad gusto trabajar persona persona ingles fluido encargarar grabar video redactar contenido charla pasion tecnologia entender mejorar vida persona pasion trabajo equipo alguien pedir ayuda prestar necesario dejariar boquiabierto demostrar experiencia construir comunidad educar tecnologia experiencia proyecto transformacion digital desarrollo sistema distribuido conocimiento diseño proceso negocio proyecto rpa conocimiento herramienta orquestacion temporalio experiencia redactor tecnico crear recurso documentacion videotutoriales tipo contenido comunidad tech tecnologias stack buscar profesional conocimiento necesario desempeñar función puesto independientemente tecnologia utilizado habilidad innegociable comunicacion verbal comunicacion escrito estario capacidad autogestion capacidad mentorizacion sumar punto vision criticar harar devrel ayudarar comunicar propuesta valor atractivo comunidad querer atraer persona involucrado desarrollo tecnologia herramienta prueben empleen mejorar proceso negocio empresa trabajar necesitar ayudser diseñar cabo estrategia construir comunidad tecnico producto involucraras evento tecnico presencial online evangelizar acerca automatizacion proceso rpa intentar generar usuario adepto kuflow apoyar actual sacar partido herramienta identificara caso crearas   tipo contenido explicar implementar traves herramienta integrar frameworks solución rpa generara monton contenido diverso tutorial tecnico contenido streaming podcasts articulo blog impacto red social contenido plataforma importante ayudara usuario resolver duda tecnica convertirar experto construir cosa kuflow dejar contar kuflow plataforma automatizacion proceso construido desarrollador pensado desarrollador objetivo proporcionar plataforma orquestacion cualquiera equipo tecnico construir proceso tarea coordinado kuflow definir proceso negocio conjunto tarea relacionado disponer interfaz web definir proceso usuario interactuar tarea rellenar formulario aprobar solicitud validar resultado tarea automatico motor kuflow encargar ejecutar flujo tarea forma robusto persistente factor diferenciador regla definir workflow definido codigo hater movimiento lowcode convencido mejorar equipo kufkow año picar codigo desarrollar software empresa proceso negocio soler sencillo caja flechita realidad simple flujo trabajo traves codigo requerir elaboracion profundo permitir versatilidad cubrir cualquiera nivel complejidad evolucion 1 mes habrar completar onboarding incluira   comprender herramienta kuflow tripa comprobar cosa construir producto entender reto resolver kuflow construiras algun caso proceso negocio apoyar kuflow funcionar seda codigo desarrollado habra revisar resto equipo dareis mundo tendrar contexto global proceso desarrollo despliegue solución basado kuflow mes habrar persona equipo reunión diario habrar roadmap producto podrar comenzar hacerte idea trabajo estarir venir kuflow habrar salir comunidad presentarte    responsabilidad atraer comunidad tecnologico objetivo generar inter probar producto empleen kuflow organización ayudar diseño estrategia construccion comunidad tecnico producto involucraras evento tecnico presencial online evangelizar producto generar adepto fidelizar usuario actual potencial crearar tipo contenido tutorial contenido streaming podcast blog generar comunidad inter importante ayudara usuario resolver duda sacar maximo partido producto trabajaras remoto 100 up to you posicion 100 remoto asegurser conexion podrar trabajar querer', 'Software Developer pedir equipo buscar developer motivacion adaptabilidad alguien disfrutar construir solución resolver problema entorno dinamico global importar fortaleza frontend backend clave tengas base tecnico gana aprender ✅ experiencia previo desarrollo software capacidad desenvolverte forma autonoma pull requests ci cd etc pilar seguir crecer ✅ frontend dominio react framework moderno javascript ✅ backend experiencia kotlin java lenguaje backend tipado foco desarrollo api ✅ iniciativo toma decisión informado supera bloqueo buscar solución lugar esperar respuesta ✅ ingles necesitar nativo comunicarte forma efectivo escrito reunión    experiencia startup entorno rapido crecimiento    trabajar equipo producto autonomia ownership real    conocimiento aws microservicio devops    familiaridad nomina hr tech sector alta regulacion tecnologia stack buscar profesional conocimiento necesario desempeñar función puesto independientemente tecnologia utilizado estario java avanzado spring avanzado aws intermedio react avanzado javascript avanzado kotlin avanzado sumar punto graphql intermedio habilidad innegociable adaptabilidad cambio aprendizaje continuo autonomiar aprendizaje capacidad feedback trabajar equipo comunicacion escrito comunicacion verbal proactividad idioma ingles fluido harar    reconstruir infraestructura nomina facil rapido nacer salsa 2021 fintech developer pleno crecimiento construir infraestructura permitir gestion nomina producto software empresa funcionar ayudar reimaginar nomina moderno integrar cualquiera plataforma lanzar producto nomina completamente funcional necesidad construir cero ofrecer api limpio webhooks eficiente componente ui listo incrustar permitir validar integracion semana mes sistema adaptar cualquiera plataforma integrar dato flujo ejecucion nomina fluido buscar software developer gana aprender tshaped aportar stack especializar especificar alguien disfrutar resolver problema dejar huella unira equipo remoto ambicioso mentalidad global tiro pegado sector rol ideal alguien gana aprender curioso explorar area    podrar trabajar backend frontend desarrollar construir escalar plataforma valorar developer aprender rapido tomar iniciativo resolver problema forma proactivo aceptar reto predisposicion accion querer persona gana aprender hora hora trabajarar entorno dinamico tecnologia moderno desafiant frontend utilizar typescript    react impulsado apis graphql gestion eficiente dato experiencia usuario optimo backend stack incluir spring    kotlin aws permitiendo construir solución escalabl robusto adema creer automatizacion calidad codigo practica agil desarrollo software motivar resolver problema complejo aprender constantemente trabajar equipo valorar iniciativa mejora continuo esperar coger contexto documentacion tecnico    evolucion 1 mes mes foco estarir familiaricser herramienta practica arquitectura frontend backend querer entender encajar pieza sistema puedas compilar codigo pull requests ticket pequeño empezar aportar principio clave aprender concepto negocio comprendar usuario interactuan software sumerjas software development life cycle sdlc integracion fluido natural virtual coffee chats compañero empresa creer conocimiento tecnico fundamental conexión humano trabajar responsabilidad escribir codigo limpio mantenible escalable construir mejorar plataforma base colaborar producto diseño ingeniero vida funcionalidad realmente aportar valor mover frontend backend experiencia preferencia asegurar fluir fricción construir api componente integrabl potenciar infraestructura nomina foco rendimiento escalabilidad usabilidad optimizar resolver problema real eliminar cuello botella correr rapido estable tomar decisión arquitectura clave proponer mejora innovación diseñar mantener api intuitiva consistente developerfriendly garantizar usabilidad backward compatibility experiencia fluido integrar trabajaras remoto 100 presencial madrid salsa valorar relación personal entorno 100 remoto fomentar conexion organizar company offsit distinto lugar mundo año argentina mexico francia destino aprovechar encuentro fortalecer colaboracion espiritu equipo nivel europeo buscar equipo reunir par semestre variar disponibilidad necesidad momento españa equipo distribuido palma canaria tenerife madrid serio ideal encontrar alguien puntualmente trabajar presencialmente equipo lugar especialmente util inicio facilitar aprendizaje absorber base conocimiento equipo trabajo pared encuentro ayudar reforzar colaboracion aprendizaje entorno cercano', 'Senior Data Scientist pedir huir titubeo buscar necesitar persona tecnicamente fuerte idea deberar dote comunicacion liderazgo gusto rol handson nombre apellido cosa experiencio rol senior data scientist data engineer año medir experiencia ten planeta smartme 1 hora equivaler mes tierra    \\u200d    fluidez programar r tiempo producto podrar migrar python lenguaje importante logica actual desarrollado r domina sql experiencia base dato relacional relacional habilidad manejar volumen dato familiarizado nube aws docker experiencia desarrollar produccion modelo machine learning deep learning persona altamente motivado independiente apasionar sobreponer reto tecnico complejo ira dilatar pupila experiencia mlops trabajas trabajar tinybird familiarizado herramienta tecnologia spark airflow snowflake etc sector marketing digital analisis consumidor audiencias serar plus importante tengar experiencia adtech martech tecnologia innegociable r avanzado sqlserver avanzado aws intermedio estario docker intermedio sumar punto python intermedio airflow basico snowflake basico habilidad innegociable adaptabilidad cambio liderazgo capacidad mentorizacion trabajo equipo estario proactividad vision estrategico sumar punto capacidad feedback idioma español nativo bilingue ingles basico harar    smartme analytics smartme analytics proyecto nacer poquito 5 año atra gracias 40 persona formar año desarrollar tecnologia propietario zeroparty datar dato proporcionado forma voluntario consciente cliente firstparty datar dato recolectado fuente anunciante dato salir decirte magia smartme analytics utilizar tecnologia data science transformar insights millón dato tiempo real recoger comportamiento navegacion comunidad consumidor fuente dato ➡ ️ conocimiento rendimiento negocio digital analizar comportamiento consumidor medir eficacia campaña publicitario smartme proyecto crecer reto nivel crecimiento expansion año venir pasar internacionalizacion     asunto palabra ➡ ️ referente tecnico equipo data science convertirar brujula guiar equipo formado 4 data scientist formacion background tecnico nivel seniority principal responsabilidad mantener etl actualmente produccion procesamiento dato generacion dashboards desarrollo puesta marcha algoritmo machine learning 1 business analyst hareis tandem     actualmente eslabon mantener unidas area data science producto dedillo logica negocio smartme arquitectura dato posibilidad ofrecer 1 data engineer persona senior equipo datar background data science datar engineer pie cabeza tendrar reto importante hagar control proyecto equipo datar encontrarar trabajo capturar refinamiento almacenamiento dato referir ayuda milla trabajo brillir aporte maximo valor cliente modernizar arquitectura dato existente arquitectura dato actual componer 4 pieza fundamental conjunto flujo etl desarrollado r serie proceso batch correr aws data warehouse persistencia dato tinybird herramienta realtime apoyar producto datar automatizar proceso procedimiento reducir carga operativo equipo dejar mano libre avanzar rapido roadmap producto diseñar desarrollar modelo sacar provecho dato significar maximo valor cliente smartme    repaso funcionalidad producto producto funcionar modelo suscripcion permitir entender consumidor audiencia tiempo real principal funcionalidad explicar continuacion segmentacion consumidor comportamiento contexto detectar agrupar consumidor clusteres homogeneo puedar dirigir forma personalizado eficaz medicion consumo audiencia evaluar alcance eficacia publicitario campaña analisis competencia smartme analytics empresa españa analizar rendimiento mil producto digital medir rendimiento marca frente competidor directo evolucion 1 mes habrar completar onboarding consistirar compi incluirir sesión discovery producto contaras apoyo ignacio cto smartme miguel data engineer puedar aprender medida vayais producto funcionalidad importante interioriz conozcas dejate guiar favor opinar levantar mano necesitser trabajaras remoto 100 presencial madrid dejar escribas podrar trabajar querer posicion 100 remoto elegir lugar comodo sentir lio    atencion puerta oficina abierto cualquiera persona equipo pasatar querer apetecer unico pedirar pasar madrid mes pasar asentar estrategia equipo comentar evolucion proyecto', 'Senior React Developer pedir leer tech stack objetivo plataforma manual empresa publico vera objetivo ambicioso desarrollador frontend experimentado querer ayudar serio candidato año experiencia 4    trabajar react redux css desarrollar single page applications familiarizado arquitectura web herramienta patrón común etc lanzar multipl proyecto web produccion trabajar equipo principal contribuidor experiencia trabajar api rest importar calidad codigo familiarizado solid practica diseño codigo testeo lees articulo formar proceso desarrollo jest testear desarrollo familiarizado git trabajar distinto modelo rama familiarizado beneficio ci cd mentalidad agil iterar rapido sacrificar calidad entregar valor usuario jugador equipo querer lobo solitario conformista buscar persona proactiva innovadora pedir ayuda necesitar adema 10 opcional trabajar previamente proyecto similar crear panel administracion usuario arquitecto 12 conocimiento sass experiencia diseñar implementar pipelín ci cd allo utilizar trabajar lanzado producto escala anteriormente tecnologia innegociable javascript avanzado react avanzado redux intermedio css intermedio habilidad innegociable trabajo equipo capacidad autogestion estario aprendizaje continuo sumar punto capacidad mentorizacion harar forma atacar orbit problema desperdicio espacio construir plataforma unir propietario espacio sobrante persona buscar planteamiento espacio trabajo flexible plataforma crear ayudarar crear experiencia totalmente transparente especialmente gracias tecnologia control acceso inteligente openpath dotar orbit espacio acceso 100 automatizado reserva entrar sacar movil bolsillo funcionar orbit video programador web senior conocimiento desarrollo aplicación web trabajaras creacion 0 panel administracion plataforma ayudar cliente b2b equipo orbit vision holistico plataforma actualmente gestion equipo cliente empresarial gestion espacio disponible plataforma horario apertura direccion fotos descripcion etc manual querer cliente capaz gestionar espacio obtener estadistica utilizacion tendrar impacto positivo cliente compañero as trabajo facil pieza codigo pongas produccion trabajarar estrechamente equipo producto aportar punto vista tecnico asesorar cabo requisito funcional funcional panel administracion responsable plantear arquitectura marcar camino ejecucion obstante serar experto desarrollo web estarar mision resto compañero equipo ingenieria ayudarte enseñarar paradigma desarrollo web podrar enseñarte desarrollo movil puedas contribuir ayudar desarrollo app react native futuro lejano plazo objetivo equipo frontend polivalente empujar frente gente expertadentro plataforma crearar proyecto 100 frontend utilizar react redux   querer tecnologia app hibrido contribuir har api administracion desarrollado php laravel colaborarar estrechamente as compañero backender senior responsable plantear tecnicamente proyecto equipo esperar pongas especial atencion practica codigo testing arquitectura ayudser miembro equipo interiorizarla orbit empresa 100 focalizado producto significar colaborarar directamente equipo creer tecnologia herramienta centro usuario tiempo gustar experimentar principal objetivo feedback loop corto proceso desarrollo idea despliegue curiosidad querer team echar vistazo awesomico manual empresa publico diseñar proceso seleccion talforma principio requerira 2 hora tiempo deber casa code challenge estilo terminar lanzarte oferta plazo maximo semana contacto proceso seleccion evolucion 1 mes habrar aprender nombre compañero as necesariamente pronunciar correctamente tendrar idea cocer sistema interacción distinto tecnologia proceso desarrollo tendrar mision vision orbit empezarar familiarizar concepto manejar nivel negocio entender momento prioridad corto plazo comenzara familiarizar herramienta administracion existente principal carencia habra charla equipo producto necesidad requisito panel administracion prioridad atacar probablemente empezaras crear cimiento basico proyecto trabajaras remoto 100 posicion 100 remoto serio extraño mision empresa promover trabajo flexible vivo algun lugar españa noruego emplear directamente trabajar prefierar totalmente discrecion forma oficina cool oslo invitado trabajar apetecer reservar escritorio app trabajar', 'Senior Frontend Engineer pedir consciente quedar mes navidad freepik escribir carta reyes mago pedir frontend nivel tecnico    \\u200d    experiencia solido frontend engineer empresa producto digital dominio javascript typescript react vue principal tecnologia equipo capacidad colaborar estrechamente gestion optimizacion infraestructura base solida programacion permitir entender metrica avanzado rendimiento web usabilidad aplicar conocimiento infraestructura mejorar rendimiento escalabilidad sistema experiencia trabajar server side rendering ssr enfoque optimizacion trafico infraestructura asegurar tiempo carga rapido estabilidad entorno alto volumen capacidad maquetar interfaz documento figma herramienta similar utilizar html semantico css considerar accesibilidad rendimiento necesidad infraestructura subyacente destreza solución libreria tailwind vanilla extract comprension avanzado docker kubernet aplicar tecnologia gestionar infraestructura mejorar eficiencia operativo sistema conocimiento solido ci cd proceso impactar desarrollo despliegue aplicación frontend entorno volumen trafico mantener fiabilidad escalabilidad sistema nivel personal     cuentes capacidad trabajar equipo comunicacion efectiva adaptacion cambio habilidad esencial integrar entorno trabajo agil dinamico capacidad trabajo remoto tecnologia innegociable react avanzado javascript avanzado typescript avanzado docker intermedio aws intermedio estario kubernet intermedio nextjs intermedio nodejs basico sumar punto vue intermedio habilidad innegociable adaptabilidad cambio comunicacion verbal vision criticar estario aprendizaje continuo proactividad sumar punto comunicacion escrito capacidad mentorizacion harar freepik nacer 2010 hermano alejandro pablo blanes idea crear plataforma ofrecer recurso grafico gratuito diseñador amigo joaquin cuenca fundador panoramio adquirir google participar proyecto 3 fundar freepik momento universo expandeir exponencialmente sumar proyecto flaticon slidesgo familia creativo    gracias combinacion pasion innovacion equipo tocar toque genialidad malagueño freepik convertir referente global industria diseño aliado ejercito profesional digital necesitar recurso grafico proyecto adema considerar startup crecimiento europa financial times freepik empresa quedar corto crear universo creatividad digital ofrecer amplio gama producto servicio satisfacer necesidad diseñador profesional marketing educador creador contenido mundo empresa matriz proyecto diseño digital freepik consolidar referente internacional campo contenido visual digital    2023 facturacion superior 80 millón euros cerrar año equipo 550 persona grupo vivir consolidar posicion lider internacional mercado contenido visual digital apuntalar fortaleza empresarial seguir crecer hacerte vida facil visual guiño dejar aperitivo plataforma    lugar freepik joya corona plataforma mundial recurso grafico alto calidad encontrarar necesitar vida cualquiera idea creativo ✏ flaticon base dato icono sticker personalizabl mundo millón opción disponible quedarar opción proyecto cuyentan    iconfinder buscador ofrecer millón icono ilustraciones 3d sticker profesional creativo mundo    slidesgo plataforma plantilla editabl google slides powerpoint elevar presentación nivel    wepik editor online gratuito permitir crear facilmente diseño empresa proyecto personal    finalmente videvo ofrecer amplio seleccion video clip audio recurso motion graphics tipo proyecto creativo freepik valorar capacidad abordar desafio complejo desarrollo frontend optimizar experiencia usuario resolver pregunta mejorar rendimiento aplicacion simplificar arquitectura escalable año experiencia especialista front seros responsable optimizar arquitectura existente garantizar optimo experiencia usuario implicar tomar decisión estrategica maximizar eficiencia calidad desarrollo aplicación web trabajaras estrecho colaboracion equipo backend tech leads enfrentar desafio variado estimulante optimizacion rendimiento frontend implementacion solución innovadora papel serar fundamental garantizar freepik   continuar lider sector mantener vanguardia tecnologia abordar problema reactivo evolutivo adema desarrollara solución utilizar herramienta react vuejs lenguaje ecosistema javascript integrara configurara servicio nube forma centralizado responsable mantener alto estandar calidad rendimiento desarrollo frontend ofrecer soporte tecnico documentacion necesario peso frontend adquirir migracion stack basado nextjs buscar front alto nivel javascript moderno typescript trabajar tipado estatico fundamental capacidad entender trabajar infraestructura volumen trafico sitio crucial conozcas optimizar entorno cloud local utilizar herramienta docker asegurar implementacion eficiente escalable encargara seguir practica enfocandote renderizacion servidor considerar seo importante tengas entendimiento fluir informacion red funcionamiento balanceador carga garantizar entorno estable alto rendimiento esperar compi capacidad analitico fuerte conocimiento base desarrollo frontend ciclo completo peticion modos renderizado etc trabajar proyecto alto trafico conocimiento wpo optimizacion servidor cliente resultar utilidad evolucion 1 mes completar proceso onboarding habrar experiencia guiado sumergira desafio desarrollo frontend aprender practicar medida avance descubriras desafio    periodo familiarizara tecnologia herramienta utilizar equipo construir mantener aplicación web escalabl eficiente responsabilidad desarrollara aplicación web accesibl escalabl eficiente utilizar html css javascript asegurar experiencia usuario optimo plataforma dispositivo enfoque optimizacion rendimiento colaborara equipo backend definir optimizar servicio alimentar aplicación frontend garantizar integracion fluido eficiente mantener practica infraestructura trabajarar equipo infraestructura site reliability engineering sre mejorar mantener sistema actual utilizar tecnologia docker kubernet plataforma nube aws google cloud platform gcp garantizar alto disponibilidad fiabilidad participaras optimizacion rendimiento aplicación servidor cliente aplicar tecnica renderizado servidor balanceo carga mejorar tiempo carga experiencia usuario colaboraras analisis resolucion desafio tecnico relacionado volumen trafico gestion infraestructura optimizar frontend backend asegurar escalabilidad eficiencia sistema trabajaras remoto 100    wherever you want posicion freepik totalmente remoto importar localidad trabajser españa apetecer totalmente voluntario onboarding presencial equipo oficina comerte espeto      apetecer pasar oficina    genial puerta oficina malaga abierto lunes martes gente tecnologia soler pasar organizar reunión evento especial pasar tiempo fortalecer espiritu equipo', 'Software Engineer pedir buscar persona proactivo actitud miedo equivocar lenguaje vehicular spotahome ingles desenvolvertar idioma oficial shakespeare    nivel experiencia conocimiento pedir experiencia consolidado desarrollo software tecnologia moderno experiencia desarrollo php back javascript front vengas vengar miedo back front comprension experiencia programacion orientado objeto orientacion practica nivel comunicacion colaboracion 10 experiencia operación ingenieria moderno practica incluir control versión codereviews pruebas ci cd comprension principio solid patrón arquitectura software mvc arquitectura hexagonal ddd inter usuario producto negocio tecnologia estario php avanzado javascript avanzado symfony intermedio react intermedio sumar punto docker basico kubernet basico nodejs basico habilidad innegociable adaptabilidad cambio aprendizaje continuo trabajo equipo comunicacion verbal capacidad autogestion tolerancia incertidumbre estario vision criticar capacidad feedback capacidad mentorizacion sumar punto vision estrategico pensamiento creativo liderazgo harar spotahome comenzo startup creado 2014 4 amigo vision revolucionar espacio inmobiliario tradicional comenzar digitalizacion alquiler facilitar proceso alquiler permitir persona reservar 100 online cualquiera lugar mundo altura imaginar saltar duda alquilar vivienda in situ tocar facil respuesta    unico compañia enviar homecheckers video plano foto cajón casa asegurar alquilas real match persona interesado ayudar 150000 persona encontrar hogar perfecto contar plataforma 100000 propiedad europa asia esperar incorporaras equipo desarrollo magia codigo colaborar crecimiento subir produccion orden spotahome desarrollo hagas impactar directamente negocio usuario importar tengar actitud base voluntad adaptarte stack desarrollo venir rol fullstack podrar explotar maximo potencial comodo sentar unico pedir asustar 2 mundo tendrar papel clave equipo compañero as llevarar desarrollo nivel responsable fomentar cultura aprendizaje reforzar cultura colaborativo evolucion 1 mes recibiran brazo abierto    entendera tendras objetivo squad core negocio tendrar interiorizado estarar desear descubrir quedar hara onboarding mano buddy acompañar aterrizaje mes momento recurrir cualquiera cosa habra codigo sencillo produccion pairprogramming empiecser sentir cosquilla impacto usuario responsabilidad participar ciclo desarrollo producto toma decisión equipo diseñar implementar solución ayudar usuario experiencia perfecto buscar casa reservar lugar amar asegurar practica codigo foco limpio reutilizable participar codereview equipo asumir problema complejo ofrecer solución foco confiabilidad calidad identificar novedad tecnologica proponer opción mejorar producto trabajar transversal resto squads mano producto evitar silo informacion asegurar alineado trabajaras remoto 100 querer posicion 100 remoto abierto pasar base operación madrid tomaros cervecita    oficina berlin milan aventurero gustar viajar mundo pasar visitilla', 'Senior Full-stack Engineer pedir nivel personal     posear espiritu proactivo emprendedor crossmint foco año experiencia profesional tengas hayas capaz año inter hito personal profesional encantariar ejemplo quedaste promocion promocionar rapidamente empresa trabajar participar algun hackathon ganar olimpiada informatico ganar algun record guiness    crossmint importancia capital humano equipo tecnico formado perfil destacar area idiosincrasia interno pintoresco tratar aspiracion surrealista garantia cohesion grupo perpetuidad identidad nivel tecnico    \\u200d    buscar mindset perfil proveniente ambito academico concreto ingenieria informatica rama similar poseer conocimiento profundo area concreto minimo 67 año experiencia profesional cogido pinza    desarrollar sistema produccion perfil fullstack manual peso 50 backend 50 front solido conocimiento ecosistema javascript    nextjs node back react front b2c1 ingles suficientemente fluido sentar comodo ambiente trabajo hablar lengua oficial shakespeare dejaria boquiabierto experiencia blockchain ejemplo bitcoin ethereum implementación experiencia contrato inteligente basado solana evm tecnologia innegociable javascript avanzado react avanzado nodejs avanzado nextjs avanzado estario aws intermedio azure intermedio sumar punto ethereum intermedio web3 intermedio habilidad innegociable capacidad autogestion proactividad trabajo equipo estario aprendizaje continuo adaptabilidad cambio sumar punto atencion detalle tolerancia incertidumbre idioma ingles fluido harar hayar oir hablar nft coleccionable digital tematica    gente intercambio cantidad absurdo dinero linea nft estandar digital lider representar propiedad mp3 musica nft titulo propiedad utilizar secreto caso coleccionabl digital videojuego entrada programa fidelizacion barco casa estandar disparar utilizar empresa marca lider mundo mastercard red bull air baltic tomorrowland cliente crossmint interesante seguir leer crossmint experto activo digital accesibl plataforma lider crear custodiar vender nft utilizar api rest sdk js tradicional facil objetivo tecnologia accesible developer ningun conocimiento previo criptografia usuario as permitir cualquiera persona crear vender distribuir nft minuto api cartera acceso fiduciario necesidad cartera criptomoneda plataforma lider nivel empresarial integrar activo blockchain aplicación centrar facilidad crossmint permitir crear caso extremo requerir experiencia previo blockchain criptomoneda tiempo blockchain invisible usuario ofrecer herramienta crear distribuir vender activo digital cartera custodia almacenar 30000 empresa desarrollador confiar crossmint incluido fortune 500 empresa importante mastercard microsoft etihad airways red bull adidas asus marca importante web3 phantom manifold rarible creador refik anadol producto principal cartera cossmint ofrecer cartera integrado marca blanco confiar mil empresa desarrollador mastercard red bull accesible crossmintcom agregar cartera integrado usuario producto agregar capacidad web3 sitio web aplicacion instante crear cartera usuario existente traves api registrar crear activación rapida plugandplay requerir trabajo interfaz obtener infraestructura necesitar comenzar minuto confiabilidad soporte nivel empresarial eliminar rpc indexador agrupadores pagador cualquiera infraestructura blockchain herramienta minting crossmint ofrecer conjunto api crear actualizar eliminar administrar tokens accesibl traves api rest panel codigo disponible cadena principal crear nft 5 minuto codigo escalado millón nft preocupar contrato inteligente seguridad clave molestia escalado pasarela pago nftsir   crossmint ayuda cliente aumentar venta 3 integracion 10 minuto permitir persona comprar nft tarjeta credito cualquiera criptomoneda cartera ofrecer producto pago nft probado batalla mercado impulsar mayoria principal lanzamiento plataforma lanzamiento mercado cadena manifold magic edir tensor montado paso crecer equipo mos amor producto evolucion 1 mes tendrar tiempo configurar entorno training diverso etc cosa seda confiar semana habrar asignar tarea desarrollo subida produccion acabar mes confiir hayar lanzar cosa impacto real usuario negocio responsabilidad desarrollara software infraestructura necesario alcanzar objetivo resolvera problema tecnico relacionado ingenieria software backend desarrollo interfaz usuario crearas api arquitectura producto contribuira estrategia tecnica vision arquitectura trabajarar entorno verdaderamente agil capaz recopilar comprender requisito proponer solución construir gestionara ciclo vida extremo diseñaras crearar software alto calidad rendimiento escalabilidad mejora continuo garantizaras mantenimiento automatizacion producto prueba calidad codigo realizarar seguimiento herramienta metodo arquitectura relacionado desarrollo trabajarar presencial madrid teletrabajo 40 equipo espacio coworking via madrid intentar juntar semana comida amenities incluido oferta estipulado 60 presencial 40 remoto realidad flexible adaptar necesidad', 'Mid Java Backend Developer pedir buscar actitud gana equipo proactivo valorar encaje cultural pedir 23 año trabajar desarrollo software preferiblemente empresa producto experiencia stack principal java spring actitud abrazar problema oportunidad buscar solución creativo querer 10 necesario conocimiento angularjs kendoui experiencia conocimiento tema infraestructura aws bienvenido nivel ingles tecnologia innegociable java intermedio spring intermedio estario angularjs basico kendoui basico sumar punto aws basico habilidad innegociable trabajo equipo proactividad aprendizaje continuo capacidad recibir feedback harar contexto venir    venir orquest nacio 2016 spinoff especializado industria retail decidir solución empresa 12 año experiencia consultoria analitica avanzado inteligencia artificial objetivo persona centro negocio traves planificacion horario cualquiera funcionalidad valor añadido asegurar persona adecuado lugar momento adecuado prestar atencion as cliente entrar establecimiento gracias aplicacion web alcance cliente potencial core producto saas analisis avanzado dato gracias aplicacion tecnica inteligencia artificial machine learning analitica prescriptivo algoritmo sofisticado 6 año espalda producto maduro consolidado presente 22 país 1300 punto venta cliente seguro sonar inditex douglas norauto     esperar producto equipo pequeño gracias asegurar ritmo sostenido garantizar calidad homogeneidad desarrollo software aportar valor ecosistema acompañar sistema rrhh nominas erp etc punto venta sistema fichaje etc pasarar formar equipo integración objetivo comunicacion fluido orquest resto sistema friccion implantacion herramienta minimizar integración via api rest vivo permitir trasiego informacion orquest resto sistema importer extender cliente importante permitir buscar informacion directamente sistema dejar carga desarrollo control orquest integración adhoc producto comercial punto venta nube erp’s etc ecosistema integracion zona accion inicio orquest plazo comentar esperar seas capaz intervenir cualquiera punto aplicacion evolucion 1 mes habrar completar onboarding    hara pairprogramming persona equipo implementar funcionalidad conocera profundidad modelo dato orquest capaz compartir opinion forma resolver problema integracion serar persona equipo equipo responsabilidad desarrollara endpoint api orquest funcion necesidad cliente aseguraras correcto funcionamiento api’s pieza integracion utilizar herramienta monitorizacion feedback departamento customer success construiras sdk’s integracion lenguaje popular momento cara simplificar cliente api integracion desarrollara ocasionalmente integración adhoc habitual cliente ocasión necesitar entregara funcionalidad actualización ajustar contexto alcance necesario entregar valor participaras decisión tecnica afectar ambito equipo trabajaras remoto 100 presencial madrid querer posicion 100 remoto asegurser conexion podrar trabajar quierar pedir huso horario similar madrid    2 hora maximo querer acudir base operación madrid ciudad lineal habra alguien recibiendote brazo abierto obligatorio', 'Platform Engineer pedir buscar persona apasionado infraestructura ingrediente dejar compartir demas nivel ingles harar falta superar proceso seleccion serir lengua habitual trabajo solido experiencia trabajar cloud amazon persona experto gestion iac especialmente utilizar terraform observabilidad monitorizacion secreto especialmente traves prometheus grafán experiencia contenedor construccion ecosistema complejo desarrollo prueba trabajar trabajar aws ecs fargate contaras plus amplio experiencia trabajar sistema linux tecnologia innegociable terraform avanzar aws avanzado estario aws ecs intermedio postgresql intermedio python intermedio sumar punto jenkins intermedio habilidad innegociable proactividad trabajar equipo capacidad autogestion estario aprendizaje continuo adaptabilidad cambio idioma español nativo bilingue ingles fluido harar    esperar serar persona fundamental equipo infraestructura tymit medida depender entorno productivo compañia    necesitar sacar relucir potencial mejorar experiencia confiabilidad escalabilidad plataforma desafio encontrarar serar mejorar ciclo desarrollo funcionalidad hablar ci cd tooling monitorizacion preparar plataforma escalado 10x20x volumen modelo funcionar persona confiar tymit punto dulce compañia quedar construir base solida crecer objetivo ambicioso necesitar mano plataforma necesitar reto viaje suma    pregunta venir dejar recorrido historia proyecto tymit nacer londres 2017 cansado sufrir falta transparencia acceso credito fundador liar manta cabeza decidir reinventar modelo apostar tecnologia motor cambiar cosa \\ufeff tymit banco empresa tecnologico fintech entender ofrecer tarjeta credito mision persona disponer credito valor honestidad empatiar flexibilidad transparencia mantra repetir ingles serar importante posicion customers are first because thats what drives us and our growth and well continue catering to them that way secreto gracias aplicacion mil usuario perfecto control financiero facil intuitivo evolucion 1 mes    aterrizaje momento disfrutar onboarding conoceras persona equipo sabra interiorizara dinamica trabajo participaras ritual equipo configurara hardware software necesario empezar trabajar pondrar plataforma empresa remote bamboohr etc tendras ocasion infraestructura familiarizara terraform aws resto formar responsabilidad mejorar mantener infraestructura actual aws asegurar configuracion iac contribuir definicion slas slis s implementar mecanismo monitorizacion metrica alerta dashboards colaboraras equipo contarar parametro negocio mejorar observabilidad infraestructura desarrollara implementara roadmap mejora colaborar resto equipo mejora pipelín ci cd servicio resto equipo tecnico contar qa desarrollo datar necesitar cable colaborar equipo ingenieria fase inicial diseño servicio solución participar proceso onboarding incorporación llegar referente velar correcto desarrollo prueba seguridad test vulnerabilidad pentesting cabo planificar cabo pertinente plan contingencia trabajaras remoto 100 elegir posicion remoto 100 españa reino unido importar localidad trabajar romper barrera ordenador apetecer compi instalación wework madrid londres', 'Node Developer pedir pleno inicio noviembre pulpo lista rey mago gustariar encontrar perfil backender traer    conocimiento profundo proceso desarrollo diseño desarrollo despliegue practica desarrollo experiencia node javascript tocar base dato relacional relacional experiencia depuracion performance profiling optimizacion tecnologia innegociable nodejs avanzado javascript intermedio estario angular2    basico react basico sumar punto typescript intermedio habilidad innegociable adaptabilidad cambio atencion detalle autonomiar aprendizaje capacidad autogestion pensamiento analitico estario capacidad feedback vision critica gestion equipo aprendizaje continuo sumar punto comunicacion escrito comunicacion verbal liderazgo habilidad negociacion harar sumar backend excelente equipo tecnologia haras poquito front atrevser    serar responsabilidad unira equipo multidisciplinar trabajar mano mano perfil front infra seguridad producto innovar mejorar desarrollar funcionalidad producto necesitar aporte idea forma cosa presente mexico españa colombia apostar tecnologia ejemplo node js typescript angular flutter pulpo cultura crean persona equipo rae incluir expresión palabra conforme incrementar adn mutar mejorar persona evolucion 1 mes habrar completar onboarding incluira sesión formacion producto metodologia trabajo daily equipo actualizacion proyecto tendrar conocimiento profundo proceso desarrollo diseño desarrollo implementacion formarar algun squad compartir trabajo     responsabilidad contribuir diseño arquitectura ayudar plataforma robusto conocimiento base dato relacional relacional contribuir calidad producto responsable testing garantizar capacidad respuesta eficiencia producto automatizar area serar viaje interesante sumar identificar bug’s pudiendo depurar solución aportar solucion problema encontrado velar seguridad producto proteccion dato trabajarar remoto 100 españa oficina madrid vivir quierar totalmente acostumbrado remoto trabajarar casa estser comodo sentirar cerca igualmente viajar mundo mexico colombia podrar resto equipo serar privilegio invitar wework', 'Senior Software Engineer pedir femtasy empresa sorprender gratamente venir lista prefabricado requisito infumabl inamovible mente abierto gana contratar escalar equipo hora contratacion ale cto defender postura agnostico stack trabajar elixir principalmente exigir vengar casa experiencia stack buscar alguien gana trabajar mindset seniority suficiente semana resumido buscar software problemir   solver    obviamente aplicacion sentido vacante necesitar rodaje previo experiencia solido software engineer fuerte dominio backend trabajar elixir ror desarrollar mantener producto digital produccion foco backend necesario cuentes experiencia desarrollo frontend tecnologia moderno trabajar typescript react nextjs experiencia empresa producto entorno rapido crecimiento capacidad adaptar evolucion constante plataforma necesidad negocio capacidad diseñar desarrollar mantener arquitectura escalabl eficiente asegurar calidad rendimiento amplio experiencia entorno cloud aws kubernet k8s filosofia devops herramienta monitorizacion observabilidad practica programacion documentacion tdd bdd ci cd codigo limpio modular estructurado documentado facilitar colaboracion mantenimiento producto mentalidad proactivo autonoma capaz identificar oportunidad mejora proponer solución tomar iniciativa equipo pequeño cultura alineado equipo femtasy valorar colaboracion comunicacion abierta capacidad adaptar entorno dinamico startup nivel fluido ingles oral escrito necesario coordinar equipo efectivo tratar startup alemán formado equipo internacional idioma oficial serar ingles tecnologia innegociable aws intermedio docker intermedio postgresql intermedio kubernet intermedio estario react intermedio ruby on rails avanzado redshift intermedio elixir avanzado typescript intermedio sumar punto nextjs intermedio go intermedio scala intermedio idioma ingles fluido hara ➡ ️ femtasy exactamente tratar startup alemán fundado 2018 julie lepique actual ceo founder ofrecer producto visionario inclusivo plataforma streaming contenido audioerotico principalmente enfocado publico femenino vision trasfondo inclusivo mision femtasy inspirar persona disfrutar celebrar sexualidad libremente necesidad perpetuar estereotipo recrear imaginario colectivo canon erotico deber agradar mundo existir secundar movimiento body positive ende grabación libre descripción optica querer juzgar excluir fantasia existir regla juego definir fundamental ejemplo deber participante ➡ ️ acogida plataforma capital f ounders bebido exito recibir ronda financiacion actualmente mantener gracias modelo negocio basado suscripcion alto volumen usuario registrar mes caber destacar noviembre 2019 ganar premio publico reeperbahn startup pitch 2020 formar delegacion alemán sxsw festival austin premio futuro enfoque estarir internacionalizacion contenido plataforma actualmente contar 18 millón usuario seguir aumentar exito alcanzar plataforma posibilidad innovación surgir desarrollo integracion contenido dinamico infinito ➡ ️ serir papel femtasy formara empresa valor mision definido equipo tecnico pequeño 3 actualmente buscar ampliar empezar posicion trabajarar desarrollo mejora plataforma tiempo estarar contacto departamento ayudar definir cultura compañia verar reflejado plataforma pescailla morder cola    reto famtasy serir enfrentar startup fase scaleup afrontar aventura oportunidad foco importante backlog tranqui organizacion femtasy fundamental intentar planificado equipo tecnico pequeño organizacion comunicacion intra interdepartamental mantra evolucion 1 mes habrar completar onboarding incluira   algun pairprogramming compañero fan trabajar habrar familiarizado equipo stack tecnologico femtasy comenzara trabajar mejora contribuir activamente proyecto implementación sorpresa harar deploy produccion empezar puerta responsabilidad encargarar desarrollo fullstack marcado enfoque backend asegurar mantenimiento evolucion plataforma produccion llevaras cabo implementacion funcionalidad frontend garantizar experiencia usuario fluida eficiente diseñara desarrollara mantendra arquitectura escalabl eficiente asegurar calidad rendimiento sostenibilidad plazo gestionara infraestructura aws despliegue aplicación entorno cloud kubernet k8s seguir filosofia devops aplicar estrategia monitorizacion observabilidad aplicaras practica programacion documentacion tdd bdd ci cd garantizar codigo limpio modular mantenible colaboraras estrechamente equipo pequeño aportar idea detectar oportunidad mejora tomar iniciativa resolucion problema sabra adaptarte entorno rapido crecimiento contribuir evolucion plataforma alineandote necesidad negocio llevarar cabo comunicacion efectivo equipo tecnico c on resto departamento asegurar coordinacion entorno distribuido trabajaras remoto 100 querer estser ue uk cuent pasaporte permiso trabajo tema administrativo laboral huso horario podcast escuchar cualquiera punto desarrollo plataforma cabo cualquiera lugar asegurar conexion podrar trabajar aldea gallego coworking canario    ️', 'Senior Cloud SRE pedir senior cloud sre buscar venir 5 año experiencia posición similar ofertado experiencia significativo infraestructura cloud produccion experiencia infraestructura codigo microservicio contenedor secreto montar optimizado volver optimizar pipelín entorno integracion despliegue continuo networking gente balanceo carga ruta idioma trabajo ingles falta declames walt whitman reading writing speaking and listening in english is must are you ready tengas mente analitico encantar reto resolver problema complejo optimizar fundamental vocabulario persona gustar sobresaliente deberar experiencia ambito ciberseguridad experiencia entorno financiero contribuir proyecto open source tecnologias innegociable aws avanzado terraform avanzado ansible avanzado estario kubernet intermedio sumar punto docker intermedio habilidad innegociable capacidad autogestion capacidad feedback capacidad recibir feedback trabajar equipo estario inteligencia emocional capacidad mentorizacion harar principal objetivo 11onze ayudar usuario contratar servicio financiero adecuar necesidad ofrecer producto novedoso adema gestionar producto contratado directamente permitir unificar entidad gestionar aplicacion seguimiento reserva valor forma seguro senior cloud sre tendrar oportunidad ayudar construir equipo ambiente estartapero dinamico cuyo reto respaldado solido financiacion equipo plataforma propietario infraestructura nacer pensado cloud papel dotar infraestructureascode permitir buscar automatizacion monitorizacion anticipar medida cuello botella lanzar version set inicial producto financiero operar pleno rendimiento querer pasito añadir servicio producto entrar    actualmente solucion manos proveedor externo cuyo mision asegurar funcionamiento interrupcion servicio septiembre funcionamiento daros soporte internaliceis conocimiento equipo crear lleveis plataforma nivel equipo plataforma pilar fundamental impacto negocio rentable sostenible compañia elevar hombro evolucion 1 mes habrar entender proceso seguir 11onze habra interiorizado vision mision conoceras equipo reto tecnico negocio tendrar idea seran función equipo sentirar integrado entendido producto funciona arquitectura habra pinito mejorandolo responsabilidad gestionara probara mejorarar infraestructura servicio optimizara migrara diseñaras sistema fiabilidad merecer dinero cliente escalabilidad plataforma equipo implementaras proceso herramienta mejorar experiencia desarrollador eficiencia trabajo implementaras solución monitorizacion respuesta incidente permitir controlado dormir pierna suelta desarrollar mejorar implementar practica devops equipo ingenieria integrara vida equipo ayudar tomar decisión mentorizara ayudarar mejorar ingeniero equipo tecnologia equipo escalir medida crecer negocio darar paso frente desafio tecnico afrontar proponer solución efectivo trabajaras remoto 100 posicion 100 remoto gustar probablemente barcelona aprovechar probar trabajar coworking camprovin rioja cualquiera rincon tengas conectividad', 'Tech Project Manager pedir equipo project manager necesitar alguien curtir tech project manager proyecto ecommerce escala background tecnico programar valorar positivamente    lista reyes mago      pedir conocimiento nivel tecnico ayudar toma decisión ayudar acelerar proceso tarea nivel ingles suficiente mantener reunión algun cliente internacional    organizar planificar plazo orientado reto identificar necesidad cliente proactivo tengas experiencia gestionar perfil desarrollo backend frontend perfil ux ui data etc querer llegar    valorar positivamente tengar experiencia conocimiento mundo digital especial relativo ecommerce plataforma magento bigcommerce salesforce prestashop woocommerce etc solid practica diseño programacion clean code serar regalo esperar    dote comunicativo aplicado trabajo equipo cliente aportar empatia mentalidad analitico gana contribuir tecnologia estario bigcommerce intermedio salesforce intermedio shopify intermedio woocommerce intermedio magento intermedio prestashop intermedio habilidad innegociable comunicacion verbal gestion equipo liderazgo estario pensamiento analitico proactividad vision estrategico sumar punto comunicacion escrito capacidad feedback harar ebolution ecommerce especializar ayudar cliente mundo digital pagina corporativo cro datar etc encantar reto superar trabajar proyecto suponer crecimiento profesional innovar    encantar solución problema cliente acompañar momento proponer solución optima problema ayudar prever pensar trabajar distinto opción preocupar mejorar conversion permitir rentabilidad digital commerce analizar experimentan optimizar activo digital cliente generar resultado trabajarar equipo alto rendimiento operación multidisciplinar proyecto desarrollo software creacion cero marca digital estarar perfil puro desarrollo perfil ux ui creativo servir apoyo proyecto cliente requeír estarar acompañado momento equipo tech project management trabajar ayudar as compañero as cliente     mantendra estrecho relacion gestor cliente satisfecho trabajo creer oportunidad negocio agil desear recibir aportación mejorar herramienta arquitectura proceso gestionara proyecto principio capacidad tecnico forma gestionar seran determinante orientacion cliente gustar aprender suerte tendrar equipo volcado enseñarte trabajar plataforma ecommerce magento bigcommerce crear proyecto b2c b2b acelerar negocio ecosistema digital plataforma ecommerce existente capaz doblegar tecnologia adaptar negocio generar resultado evolucion 1 mes habrar completar onboarding incluira reunión equipo interno conozcas familiaricser ebolution conoceras proceso interno ebolution distinto herramienta servicio gestionar habra participar ebomeeting equipo    responsabilidad serar project manager polivalente tomaras rol scrum master proyecto pm aportara idea solucionar problema tecnico localizar controlara proyecto principio gestionar recurso evaluar riesgo establecer plan contingencia desvio plazo coste organizara coordinara equipo trabajo supervisar avance corroborar calidad demostrar compromiso calidad plazo comprometido priorizara tarjeta jira proyecto estrategia compañia recurso disponible coste valor escucharar distinto actor proyecto client desarrollador diseñador comercial etc nexo union asegurar comunicacion fluir sentido adecuado trabajaras remoto 100 querer posicion 100 remoto asegurser conexion lugar    invitar madrid hayas remote onboarding puedar persona resto equipo ebolution contratar persona residir actualmente españa cuestión administrativo', 'Mid Backend Engineer pedir buscar persona dominar perfeccion desarrollo backend api first apasionar mundo startup participar fase ciclo vida producto año experiencia espalda backend engineer asustar reto buscar año experiencia experiencia permitir tomar decisión java palma mano trabajar ultima versión libreria moderno desarrollo entender desarrollo test junit entres biblioteca favorito trabajar tdd bdd trabajar extenso git gitlab control versión sentir confortable revisar pr merg vivir construccion producto vida experiencia construir trabajar equipo producto empoderado habilidad comunicarte equipo transmitir informacion miembro problema nivel medioavanzado ingles permitir comunicarte desarrollador escrito documentar chatear directamente traves calls trabajar anteriormente travel tech airline it experiencia php laravel backend cualquiera lenguaje patrón diseño aplicar practica solid clean code experiencia base dato relacional dynamodb mongodb couchbar conocimiento basico cloud aws almacenamiento lambda etc tecnologia innegociable java avanzado junit intermedio maven intermedio gitlab intermedio estario couchbar intermedio aws basico habilidad innegociable adaptabilidad cambio capacidad feedback proactividad estario capacidad mentorizacion atencion detalle sumar punto trabajo equipo idioma ingles fluido harar    caravelo parecer opcion suscribirte aerolinea palabra obtener vuelo mes pagar cuota mensual gracias caravelo aerolinea lanzar tipo programa suscripcion millón viajero vuelir precio asequible tiempo beneficiar aerolinea pasajero as leal satisfecho permitiendo transformar negocio modelo enfocado facturacion predecible minimizar perdida año sector recuperar hambriento solución ofrecer caravelo solución incentivar deseo viajar transformar modelo negocio compañia traves suscripción crecer incorporar gisela vp ingenieria querer ampliar equipo front perfil senior enfocado desarrollar cultura ingenieria punto aplicacion escalar plantear plataforma api first permitir aerolinea integrar facilidad flexibilidad equipo retention enfocado construccion api rest necesitar ayuda rapido trabajar ✈ ️ this is your captain speaking creer viajar transformar persona mundo ayudar compañia democratizar vuelo introducir programa suscripcion jose luis vilar cofounder apasionar viajar sitio encontrarar equipo vivir mil experiencia turbulencia celebración pila puesto llegar destino    ️ harar liderara squad backend burak compañero inseparable desarrollo api rest permitir aerolinea integrar plataforma sencillo mvp arquitecutra sencillo servir testear querer idea desarrollar api solido tolerante fallo arquitectura distribuido permitir escalado querer seas pieza clave equipo participes toma decisión puesta marcha desarrollara mision equipo ingenieria ayuda backender junior desarrollo profesional formacion referencia tecnica cultural equipo evolucion 1 mes habrar completar onboarding incluirir comprension negocio alto nivel composicion lugar modulo plataforma deuda tecnico realizaras pairprograming miembro equipo ingenieria entender reto estarar familiarizado subdominio conocimiento sabra acudir caso duda responsabilidad desarrollara api pensar rendimiento disponibilidad escalabilidad codigo robusto sostenible aplicara practica patrón diseño pensar eficiencia escalabilidad codigo haciendolo sencillo legible encargara traducir requisito negocio tarea user stories tecnicas responsabilizara entrega funcionalidad actualización ajustar contexto alcance ayudarar toma decisión arquitectura escalabilidad velocidad seguridad relacionarar equipo ayudar mantener entorno trabajo colaborativo fomentar espiritu equipo supervisaras aportara formacion miembro equipo camino especializacion practica trabajaras remoto 100 presencial barcelona querer posicion 100 remoto darte contexto momento cambio remote first modelo hibrido convivir remotefriendly encontrar oficina mes crear cultura ingenieria contacto fluir idea montar jornada demo teambuilding plantear forma mes invitar oficina equipo    alinearo maximo idea 4 seguido mes posteriormente espaciar encuentro 24 mes funcion madurez equipo gasto desplazamiento alojamiento dieta correr cargo caravelo encantado puedar profundidad equipo caravelo entender profesion creativo solución surgir contacto comunicacion diario invertir adaptar espacio oficina hardware emplear videoconferencia inclusivo', 'iOS Developer 📱 pedir necesitar tengar experiencia 2 año desarrollo app nativo swift valorar conocimiento objectivec definicion apis rest implementacion arquitectura clean patron mvvm nota vendriar traigas conocimiento preocupser bonus point aprenderar programacion interfaz usuario swiftui programacion asincrona basado evento combine rxswift async await programacion asincrona actor mainactor programacion concurrente implementacion llamada api rest urlsession alamofire trabajar inyeccion dependencias implementacion mapa mapkit push notifications analytics experiencia proyecto multipl target modularizado manejar control versión git trabajar metodologia agil scrum kanban tecnologia aplicable desarrollo solución movil firebar flutter etc configurar entorno integracion continuo valorar positivamente nivel ingles mundo importante buscar alguien gustar trabajar equipo valorar aptitud comunicacion relacionarte resto persona equipo cara cliente gustar gente gana aprende r cosa iniciativo tecnologia innegociable swift intermedio sumar punto objectivec basico habilidad innegociable trabajo equipo comunicacion verbal proactividad aprendizaje continuo capacidad escucha estario capacidad recibir feedback harar unir nunsys empresa tecnologica españa movibery er seguir navegar    300 aplicación cartera mobivery superar 10 millón descarga traves proyecto corporativo aplicación llegar comenzar 2008 desarrollar web adaptado smartphón ecosistema app territorio desierto    ️ cosa inicio foco innovacion canal mobile especializar crear producto facilitar cliente alcanzar objetivo parar crecer idear diseñar crean aplicación cero llegar ocupar posición ranking app 15 país especialista canal mobile trabajar sdk desarrollo distinto plataforma mercado probar framework tecnologia querer seguir brillar proyecto necesitar ampliar equipo persona disfrutar desarrollar app tecnologia io nativo asegurar incorporacion traducir ilusion alguien apoyar garantizar trayectoria viaje proyecto cliente afrontar producto acompañar cliente life cycle project conceptualizacion diseño desarrollo posicionamiento mantenimiento camino sacar proyecto irar encontrar reto resolveras equipo aprender novedad tecnologica funcional evolucion 1 mes conoceras forma trabajar producto desarrollar descubriras reto querer afrontar plazo seguro habrar caer cerveza    virtual terracita sentirar equipo responsabilidad participara elaboracion solución medida responsabilidad principal serir aportar estimacion implementacion app io producto desarrollar cliente nivel nacional internacional serar necesario sacar repertorio aporte conocimiento tecnologia io proyecto requerir aspecto desarrollo swift valorar positivamente conocimiento objectivec aplicar arquitectura mvvm mvp implementacion distinto funcionalidad definir servicio web notificación push analitica tendrar tiempo aburrirte unico proyecto tiempo tendrar oportunidad participar desarrollo plantear distinto desafio quedar gana aprender gustar funcionar podrar animar participar implementacion app tecnologia android flutter llegar lejos servidor apoyo profesor compañero equipo trabajaras remoto 100 mobivery trabajo remoto llego covidgedon adn posicion 100 remoto t ienir base operación sevilla alguien esperar brazo abierto    gracias nunsys multiplicar oficina querer pasar valencia murcia burgos valladolid madrid barcelona albacete malaga alicante tarragona palma mallorca año juntar piña dinamica equipo declarar fan escape rooms ponte pila', 'Head of Architecture pedir buscar persona flexible adaptar entorno cambiante team player gana apoyar persona equipo capaz construir organización apoyar tecnologia requisito puesto conocimiento profundo rol head lead of architecture empresa sistema alto escalado distribuido geograficamente entorno operacional multibaseline experiencia previo proyecto complejo escala entorno tecnico desafiant idealmente entorno financierero fuertemente regulado capacidad comprobado negociar colaborar lider tecnico equipo cliente interlocutor necesario aterrizar necesidad negocio igualmente capacidad identificar aprovechar oportunidad brindar liderar ejemplo necesidad relacion jerarquico entusiasmo aportar liderazgo asesorar equipo filosofia experiencia computacion nube aws gcp azure base dato optimizacion despliegue escala familiarizado metodologia conocido itil prince ii togaf domina ingles español soltura tecnologia stack buscar profesional conocimiento necesario desempeñar función puesto independientemente tecnologia utilizado habilidad innegociable gestion equipo inteligencio emocional liderazgo trabajo equipo vision estrategico estario capacidad abstraccion comunicacion intercultural pensamiento analitico vision criticar sumar punto habilidad negociacion capacidad presentacion atencion detalle harir small world financial serviz empresa multinacional asentado 15 año vida 1000 empleado mundo actualmente encontrar momento transformacion pasar empresa equipo it tratar servicio negocio fintech horizonte 35 año tecnologia negocio irar mano equipo ingenieria clave transformacion vivir persona transformacion radical empresa tecnologia papel fundamental madura equipo ingenieria incorporar tecnologia stack mejorar vida compañero empresa oportunidad entrarar formar equipo arquitectura crear ingenieria tendrar frente atacar deber liderar equipo allo jerarquia deber referente area arquitectura ayudar apoyar area empresa unidad negocio equipo ingenieria funcionar arquitectura actual stack suficiente cubrir necesidad actual futuro trabajar cambiar querer explorar tecnologia evolucionar transformar sistema monolitico sistema basado microservicio deberar liderar equipo arquitectura transversal proyecto definir arquitectura referencia stack amplio estandarizado tecnologia permitir salto small world reto garantizar arquitectura alineado estratega tecnologico empresa requisito proyecto asegurar camino calidad seguridad area buscar persona vivir altura necesitar team player combinar conocimiento tecnico capacidad liderar motivar equipo ingeniero senior año experiencia gustariar persona comunidad gustar compartir conocimiento persona dote comunicacion sentar comodo presentar forma escrito oral solución small world discutir civilizadamente    argumentar decisión tomar deber capaz extraer dato defender postura elegir solucion caso definido stack actualmente aplicación ejecutar torno arquitectura querer nivel web publicar basicamente contenido estatico encontrar web web transaccional web registrar envio dinero directamente api app endpoint rest facilitar servicio app responsable area tendras capacidad definir gusto presupuesto inicialmente asegurar componer area funcionar enterprise solutions technology datar evolucion 1 mes equipo arquitectura joven equipo contar integrante fijo mes deberar familiarizarte equipo establecer acción management necesario positivo hayas comprender arquitectura general empresa mapa sistema aplicación comunicar metrica basica configurada monitorizacion tendras foco negocio importante entender funciona aplicación soporte operativo acordar forma podrar pasar par oficina prefieres directamente programar familiarizarte sistema dependera sentar comodo entender funcionamiento global responsabilidad comprender negocio estrategia empresa garantizar arquitectura coincido requerimiento proyecto participar creacion definicion arquitectura ayudar impulsar estrategia tecnologico negocio supervisar diseño sistema tecnologico seguimiento kpi´s mantener actualizado estrategia tecnologico brindar apoyo unidad negocio impulsar prototipo proyecto innovador aprovechar informacion mercado garantizar conjunto arquitectura robusto seguro escalable gestion resultado auditoria país garantizar arquitectura cumpla estandar calidad normativa regulación pci sdlc asegurar proyecto contar evaluación tecnica componente basico definido garantizar directiva control calidad aplicar correctamente diseño control calidad trabajaras remoto 100 sede español madrid finca equipo distribuido persona españa sevilla barcelona palma mallorca valladolid etc belgica mexico uk elegir modelo semipresencial madrid 23 oficina resto remoto modelo 100 remoto cualquiera españa asegurser conexion ubicacion decidir    ️o ⛰', 'Angular Frontend Developer pedir pedir quedar    lista reyes mago caer regalo esperar acabar ilusion ➕ valorar equipo seran gana potencial construir contribuir ayudar muchisimo base solida typescript experiencia angular versión actual conocimiento html5 css3 sentir casa ambiente cambiant dinamico startupil ♾ querer sumar infinito conocimiento docker experiencia testing proyecto angular tecnologia innegociable typescript avanzado javascript avanzado angular2    avanzado html avanzado habilidad innegociable adaptabilidad cambio autonomiar aprendizaje proactividad pensamiento analitico trabajo equipo capacidad autogestion estario capacidad mentorizacion tolerancia incertidumbre sumar punto gestion equipo liderazgo vision estrategica harar gptadvisor aventura bonito relato basado real chapter i contexto valencia convertir foco talento oportunidad empresa tecnologica pais gracias gente conformar gptadvisor startup nacer enfocado desarrollo modelo inteligencia artificial sector gestion patrimonial wealth management enfoque 200 b2b chapter ii inicio empresa venir mano salvador emprendedor nato cofundador finanzascom openfinance etc describir abajo recientemente dejar puesto directivo allfunds centrar lanzamiento implementar modelo inteligencia artificial entidad financiero objetivo agilizar automatizar proceso enfrentar asesor financiero entidad cliente chapter iii busqueda historia buscar perfil frontend tiro pegado angular querer forma plataforma gracias experiencia previo buscar perfil developer buscar perfil developer persona participar desarrollo serar referente equipo persona aprenderar empujar sacar problema stoppers luz proponer mejora necesitar persona remar viento marea    to be continue trabajar piloto entidad financiero planear implantacion año destacar enfoque internacional importancia ia transformacion sector lucrativo evolucion 1 mes conoceras persona conformar gptadvisor persona enseñar logica negocio paso esperar pretender mano mano responsabilidad colaborar activamente ciclo completo desarrollo aplicacion concepcion caracteristica implementacion prueba contribuir diseño arquitectura interfaz usuario garantizar eficiencia usabilidad aplicacion mantener mejorar continuamente codigo existente asegurar alto nivel calidad rendimiento personalizar ajustar solucion existente satisfacer necesidad especifico cliente evaluar proponer solución tecnica adaptar plataforma caso garantizar aplicacion altamente configurable escalable acomodar futuro expansión requerimiento cliente desempeñar papel liderazgo equipo desarrollo plazo aportar experiencia conocimiento toma decisión relacionado desarrollo software colaborar ingeniero establecer estandar desarrollo area frontend asegurar seguir practica contribuir activamente definicion direccion tecnologico proyecto proponer solución innovadora optimizar rendimiento interfaz usuario voz serar importante equipo trabajaras remoto 100 presencial valencia empresa sede valencia ciudad bañado mar mediterraneo region levante presente oficina sabadell hub paraiso vivir valencia plan refresco merienda relax seran facil acceso preocupar posicion 100 remoto podrar trabajar cualquiera punto españa ➕ disclaimer españa momento valorar candidatura globo', 'Senior PHP Backend Developer pedir pedir persona cumplir requisito php ero nato secreto tecnologia trabajar frameworks popular laravel necesitar experiencia cerrar aportar experiencia liderar gestionar proyecto experiencia administracion bbdd postgresql manejo control versión git experiencia previo algun framework javascript utilizar vuejs inter desarrollo front gana sumar desarrollo tecnologia innegociable php avanzado laravel avanzado postgresql intermedio mysql intermedio javascript intermedio estario html intermedio css intermedio vue intermedio sumar punto python intermedio habilidad innegociable aprendizaje continuo pensamiento analitico vision estrategico capacidad mentorizacion estario vision criticar adaptabilidad cambio atencion detalle sumar punto proactividad liderazgo harar crear experiencia unica allo carretera topcar compañia alquiler coche canarias oficina alquiler coche principal aeropuerto isla canario fuerteventura lanzarote tenerife norte tenerife sur palma emplazamiento turistico playa ingles costa adeje año experiencia competir sector compañia importante mundo enseñar trabajar politica calidad exhaustivo flota coche alquiler disponer modelo compacto suvs familiar berlina deportivo descapotable renovar constantemente politica calidad dirigido cliente disponer precio experiencia unico allo alquiler coche proporcionar cartera cliente satisfecho depositar confianza topcar crecimiento considerable 2022 incremento 575 2021 reserva año atra 2022 reserva crecer 826 vs 2018    lanzar erp interno proyecto renovar web crear funcionalidad año necesitar perfil backend php    laravel asustar front arrimar fuerza equipo proposito pendiente cumplir evolucion 1 mes habrar completar onboarding realizara curso formacion basico asegurar base conocimiento tecnico conoceras base logica negocio detra rent car habrar familiarizado distinto entorno topcar tecnologia utilizado proceso desarrollo testeo despliegue estarar guiado compañero fase inicial harar sentir familia topcar    responsabilidad desarrollara testearas funcionalidad trazara linea codigo experiencia cliente nivel integracion crm externo cerebro integracion sumergira codigo crear vinculo impenetrable sistema crm integrarar plataforma digitalizacion firma documento pdf pago omnicanal podrar acceder dato crucial servicio ministerio interior monitoreo flota coche nivel geolocalizacion telemetrio explorara codigo existente embarcarar epica corrección integración aena mejora funcionalidad existente trabajaras remoto 100 presencial palma canario preparate viaje remoto carrera trabajar querer eleccion posicion importante conexion dejar volar creatividad sofa oficina coworking camper digital genial onboarding algun teambuilding querrar veais cara paradisiaco oficina canarias    ️ imaginar terminar jornada darte chapuzon playa', 'Business Developer pedir necesitar persona proactivo motivacion tema enfrentar proceso venta principio cuidar detalle fase importante aprender querer ayudar mejorar proceso minimo 2 año experiencia venta software renovación soporte preferiblemente cms crm erp capacidad hablar ingles permitir apertura mercado italia especialmente nivel tecnico necesario conocimiento programacion deber controlar concepto empresarial negocio entender impacto producto negocio cliente tendrar punto extra ademar desenvolver sector comunicacion controlar tercer idioma tecnologia estario hubspot intermedio habilidad innegociable capacidad autogestion aprendizaje continuo comunicacion verbal estario pensamiento creativo proactividad sumar punto tolerancia incertidumbre idioma ingles fluido harar bitr technologies empresa desarrollar solución tecnologica comunicacion generador contenido especializado focalizado gestion contenido digital crear herramienta avanzado bcube cms sistema facilitar creacion organizacion distribucion volumen contenido multipl plataforma valor bcube increible actualmente empresa mediaset rtve aracat bitr vanguardia sector gestor contenido proporcionar solución personalizado mejorar rendimiento optimizar seo garantizar experiencia usuario excepcional empresa amplio area negocio ofrecer servicio integral consultoria diseño web hosting migracion dato asegurar soporte completo ciclo vida digital actualmente lanzar mercado innovador producto crm especializado control suscripción herramienta ia perfilado usuario inteligencia generativo diseñado optimizar catalogacion aprovechamiento contenido cliente valer valer business developer creer venta consultivo business developer cargo ciclo venta gestionar inbound generar oportunidad hara fase venta apoyarar equipo producto cliente necesitar profundizar nivel tecnico gestionara cartera cliente asegurandote renovacion upselling evolucion 1 mes francisco proceso completo año trabajar principalmente oportunidad proporcionar inbound completar oportunidad outbound comercial marketing responsabilidad prospeccion captacion cliente potencial tendrar capaz cualificar madurez cliente bitr participar reunión inicial cliente entender necesidad personalización requerido colaborar equipo tecnico evaluar viabilidad personalización solicitado elaborar oferta propuesta personalizado apoyo equipo tecnico necesario negociar contrato cierre venta asegurar satisfaccion cliente account management seguimiento cartera cliente asegurar renovacion upselling trabajaras remoto 100 posicion 100 remoto vivo vivo puedas pasar calor veraniego asturias huir frio lugar termometro bajar 15 grado    oficina madrid valladolid vivir ciudad podrar oficina quierar feel free', 'Staff Engineer pedir stack sparta girar torno react frontend kotlin backend pieza python fuerte hincapie optimizacion comunicación tratamiento dato buscar liderazgo responsabilidad entrega mantenimiento proyecto incepcion ingeniero generalista importar ayudar distinto equipo tecnologia mirar tecnologia vera front back necesitar expertise trabajar kotlin java11    backend mobile react frontend experiencia sistema tiempo real ie websockets stock tickers juegos conocimientos computacion distribuido operación map reducir nube ingles hablado escrito forma fluido equipo internacional comunicación idioma shakespeare serio plus carrera tecnologia backend typescript python scala trabajar spring hibernate conocimiento servicio aws fargate api gateway lambda conocimiento sql postgr mysql similar nosql dynamodb mongo similar mantenimiento cola bus evento distribuido kafka amazon kinesi tecnologia innegociable java avanzado react avanzado estario kotlin basico aws basico spring intermedio sumar punto nodej intermedio kafka basico elasticsearch basico habilidad innegociable capacidad feedback trabajar equipo liderazgo estario adaptabilidad cambio comunicacion intercultural idioma ingles fluido harar unicornio surgir momento perfecto    mercado energetico alza aventura empezo 2019 felipe ceo mil coo decidir dejar mundo trading petroleo 35 año experiencia espalda ola digitalizacion tecnologia llegar mercado trading materia primo colaboracion luis cpo lanzar piscina decidir montar sparta foco puesto automatizar optimizar aumentar productividad traders materia primo trader tomar decisión deber contar informacion relevante querer capturar oportunidad mercado rapido competencia sparta entrar juego revolucionar sector agregar informacion relevante procesar informacion permitir trader comunicar equipo forma rapido eficaz cloud paso permitir empresa trading crear base dato informacion relevante aprender experiencia trabajar forma remoto finales 2020 lanzar mvp web io producto crecer ritmo vertiginoso 2022 presentar año increible validar empezar iterar herramienta lanzamiento cerrar ronda 6 m principio año crecer rapido 50 persona forma productazo mano aportar maximo valor usuario feature sparta querer ayudser dimensión proyecto feedback serar bienvenir aspecto producto confiar experiencia decidir forma implementar resolver tarea persona buscar alguien experiencia mesa hambre ayudar seguir crecer tendrar peso equipo resto componente equipo colaborativo referente ayudar compañero crecer equipo buscar solución proactivamente miedo actualmente stack frontend reactredux backend dividido sección procesamiento dato aws lambda python monolito spring kotlin desplegado aws microservicio serverless nodejs endpoint meollo actual migrar año monolito pipeline dato microservicio evolucion 1 mes mes serar aterrizar equipo gente acostumbrarte trabajar 100 remoto teniar experiencia previo querer tengas voz esperar entregues feedback cosa ayudser iterar aspecto organizacion asignar onboarding buddy llegar empezaras mundo momento irar empapandote proyecto pair programming compañero tendrar monton documentacion ayudar colocar pieza lugar responsabilidad definira arquitectura sistema tecnologia proceso aplicacion sparta lideraras squad producto seros modelo balancear problema producto ingenieria representara squad grupo integracion mantener direccion cohesionado arquitectura desarrollo participaras proceso seleccion crecer equipo trabajaras remoto 100 sparta nacio 100 remoto felipe basado ginebra mil londres luis basilea equipo desarrollo diseminado españa reino unido creer firmemente ventaja trabajar remoto equilibrio vida laboral familiar tendrar presupuesto puedar trabajar coworking desear equipo soler reunir fisicamente año tratar tema facil definir persona enfocar plazo aparte reunión equipo organizar reunion anual empresa octubre organizar mallorca exito', 'Senior Mobile Developer pedir pedir persona apasionado tecnologia experiencia trabajar empresa interlocucion departamento acostumbrado trabajo crossteam rodaje escalado producto equipo estir organizado squads poseer numero cliente trafico transacción diario recordar buscar desarrollador ecosistema io android querer listar tecnologia buscar entorno marcianito fanatico desarrollo 100 kotlin mobile framework dagger fan programacion reactivo rxjava facilitar desarrollo asincrono gustar compartas vision herramienta simplificar acelerar desarrollo ui jetpack compo tengar tiro pegado patron mvvm confunda mvp partido desarrollo aplicacion utilizar protocolo websockets manzana mordida stack cabecera fullswift reactiveswift reactivecocoa apoyes uikit autolayout utilizar kit similar tratser mimo ui acosumbrado utilizar frameworks renderizar gestionar elemento visual coreanimation coregraphic gestion contenido carthage similar desarrollo aplicacion protocolo websockets tecnologia innegociable kotlin avanzado swift avanzado estario reactiveprogramming avanzado habilidad innegociable pensamiento creativo pensamiento analitico autonomia aprendizaje comunicacion intercultural estario trabajo equipo sumar punto adaptabilidad cambio haras trade republic nacer 2015 cambiar paradigma decada veniar arrastrar banca tradicional ofreciar producto opaco precio caro trade republic querer cambiar sistema cero crear concepto banco sencillo seguro accesible mundo bastar clausula imposible entender comisión terrorifica plataforma dificil crear plataforma dinero protegido activo asegurado banco aleman especializado servicio inversion mercado capital supervisar banco central aleman bundesbank bafin autoridad supervisor alemán transparente agua bosque baviera contar 1 millon usuario 6000 millón euros activo 45 estrella trustpilot calidad transparencia leitmotiv tomar serio producto ofrecer maxima garantia usuario seguridad control invertir trade republic mercado publico supervisado forma independiente producto equipo tecnico posicionamiento experimentar año parar crecer especial hub tecnologico planificado incorporar 20 persona mes especialmente desarrollo prever escalado usuario volumen transacción equipo desarrollo software desarrollo aplicación android ios lejos inversion plataforma movil favorito cliente cabo transacción aparecer necesitar dote desarrollo mobile aplicacion nivel fusionar necesidad buscar especialista ecosistema android kotlin desarrollo io swift evolucion 1 mes habrar aterrizado tomado cafe virtual compañero igualmente habrar reunir equipo tecnico estaras empapandote negocio comprender complejidad producto tendrar buddy referencia aclarar cuestión habrar toquetear sistema herramienta entorno    responsabilidad entender negocio producto realidad necesidad plano tecnico participar area proceso desarrollo trabajar interfaz usuario aplicacion conectar api resto equipo tendrar papel protagonista arquitectura ui tendras contacto directo equipo ux diseño traducir diseño estatico codigo mejorar sistema diseño realizaras code reviews resto compañero mobile aumentar calidad solidez codigo aplicacion responsabilizara entrega funcionalidad actualización aportar idea mejora continuo proceso aplicacion trabajarar remoto 100 elegir posicion 100 remoto unico preocupacion serar elegir mar    ️o montaña ⛰ ️ pasar completo covidgedon reunais año oficina berlin estocolmo milan paris amsterdam viena seras bienvenido apetecer pasar semana trabajar', 'Graphic Designer pedir buscar persona actitud gana evolucionar necesitar 5 año experiencia orientado marketing producto participacion iniciacion proyecto definicion estrategia creacion recurso corporativo landing motion graphics banner rrs experiencia conocimiento figma suite adobe crear wirefram nivel ingles buscar shakespeare defenderte interlocucion equipo marketing hablar ingles nivel personal gente sencillo humilde celebrar hito motivacion reto fuerte orientacion trabajo equipo     atencion detalle tecnologia innegociable figma intermedio adobe suit intermedio habilidad innegociable pensamiento creativo pensamiento analitico estario proactividad capacidad autogestion sumar punto adaptabilidad cambio haras darwinex startup 10 año vida encontrar tendencia alcista 60 persona equipo producto validado consolidado mercado gracias innovacion continuan desarrollar funcionalidad romper mercado llegar all time high año año    venir    nacer hobby fundador javier colon dedicar tiempo trading empezar gestionar dinero necesidad plataforma facilitar regulacion necesario permitir foco estrategia optimizar inversión    proposito    core plataforma consistir ayudar cualquiera persona invertir traders independiente cambio porcentaje rentabilidad darwinex facilitar regulacion necesario informacion mercado requerir tomar decisión estrategica ✔ ️ regular ✔ ️ acceso mercado comunidad ✔ ️ facilitar herramienta optimizar decisión estrategica ⚙ ️ desarrollo llegar work in progress    secreto innovacion tecnologico    crecer fundamentalmente producto calidad boca boca cliente satisfecho principio apostar innovacion ultima tecnologia crear producto robusto crecimiento deber apuesta formar equipo asegurar    buscar persona revolucionar    inquietud seguir aprender formar ultima tendencia tecnologica palabra buscar persona contribuir conocimiento talento capacidad experiencia revolucionar producto tecnologia darwinex ayudar asumir superar reto continuo someter consciente mejorar producto empresa equipo humano evolucion 1 mes recibiran brazo abierto     conoceras resto equipo acompañar aterrizaje facil elegira avatar representar darwinex persona avatar    flipa echalir vistazo orla apartado trabajarar    estaras totalmente adaptado ecosistema gracias acogida responsabilidad 5 año experiencia diseño producto marketing participar activamente iniciación proyecto definicion estrategia crear concepto innovador imagen corporativo enfoque positivo establecer desafio aportar comentario abierto honesto establecer estandar practica linea objetivo marketing branding posicionamientir comunicar idea diseño utilizar flujo proceso interaccion usuario mapa sitio wireframes necesitar comunicacion ingles trabajarar uk trabajarar presencial madrid teletrabajo 60 apostar modelo hibrido pasarar oficina miercol jueves resto semana podrar trabajar placer molar oficina sitio esperandote puedar quierar habra alguien brazo abierto esperar base operación centro madrid pleno calle recoleto', 'UX Product Designer pedir lista reyes mago      pedir ux product designer experiencia probado diseño experiencia producto complejo traer mochila experiencia diseño orientado producto pantalla suelto pegar diseño flujo interaccion manejar volumen informacion asegurar comprensible bagaje investigacion usuario user research entrevista analisis comportamiento necesidad haberte pegar creacion flujo usuario user flows diagrama wireframes experiencia prueba usabilidad usability testing iterar solución capacidad simplificar proceso complejo adaptandolos usuario tecnico darir punto extra    comunicar ingles fluidez feedback cliente importante    hayas trabajar startup producto seas persona proactivo autonoma agil comprometido capacidad enfrentar reto solucionar problema tecnologia innegociable figma avanzado estario sketch avanzado adobe xd avanzado mirar intermedio hotjar intermedio lookback intermedio sumar punto maze intermedio habilidad innegociable proactividad pensamiento creativo atencion detalle adaptabilidad cambio habilidad negociacion estario comunicacion escrito comunicacion verbal inteligencia emocional sumar punto trabajo equipo autonomiar aprendizaje gestion equipo harar contexto    software aplanet conectar operación empresa objetivo esg objetivo concienciacion social ambiental gobernanza regir empresa ue    aplantet ayuda 100 cliente confiir software rentable sostenible pequeño genio dedicar recopilar dato consumo energia emisión factor relacionado ambiente recolectar informacion mano obra magia analizar dato detective ecologico entender fondo huella carbono empresa identificar area mejora aplicar estrategia superinnovadora reducir emisión adio contaminacion software dormir laurel constantemente supervisar medir progreso optimizar huella carbono obsesionado empresa ecologica ahorrar monton tiempo esfuerzo generar informe detallado cumplir norma regulación ambiental internacional ayudar tomar decisión inteligente campeon sostenibilidad    turron harar    aplanet embarcar desafio epico rehacer plataforma cero preocupser cero conocimiento tenian base solido gracias experiencia retroalimentacion cliente sabian queriar lograr ayudar equipo ingenieria enfocado producto tendras compañero manfredita    ux product designer enfocaras optimizar usuario interactuan producto asegurar funcional intuitivo agradable vendra investigacion inicial hablarar cliente observaras   intentar plataforma identificara punto critico friccion area confuso vendra rediseño flujo crearar mapa flujo usuario simplificado reflejar proceso directo priorizara tarea clave cliente necesitar realizara prueba iterativa probara prototipo usuario real validar solución desarrollo documentacion colaboracion importante creara guia desarrollador asegurar mejora implementar diseñado forma permitirar convertir plataforma intuitivo facil usuario experiencia tecnico abordara problema estructural garantizara enfoque solido estrategico evolucion 1 mes habrar completar onboarding    conoceras producto plataforma reunira miembro equipo aplanet equipo ingenieria producto customer success habrar hablar cliente habra observar intentar plataforma conocera profundidad modelo dato aplanet capaz compartir opinion forma resolver problema ux persona equipo equipo    responsabilidad investigar identificar punto critico rediseño flujo prueba iterativa documentacion colaboracion desarrollo trabajaras remoto 100 querer posicion 100 remoto asegurser conexion podrar trabajar aldea gallego playa cadiz    ️ oficina madrid bilbao brasilia pillar desmano    seguro buscar escusa saludar persona celebrar reunion equipo esporadico ayudar piña', 'Mid Java Developer pedir buscar persona actitud gana evolucionar necesitar 4 año experiencia java spring compromiso practica calidad codigo facilidad aprender asimilar concepto complejo orientacion agile dinamismo trabajar adaptar entorno cambiante nivel personal gente sencillo humilde celebrar hito motivacion reto trabajo equipo pedir ayuda arrimar hombro necesario lista rey mago 10 buscar experiencia preocupser chivar as encargar personalmente formarte convertirte maestro experiencia entorno cloud aws gcp etc experiencia mysql mongodb experiencia integración webserviz soap api rest sistema mensajeria rabbitmq tecnologia innegociable java intermedio spring intermedio sumar punto aws basico mongodb basico mysql basico habilidad innegociable trabajo equipo aprendizaje continuo capacidad escucha estario inteligencia emocional sumar punto vision estrategica haras darwinex startup 11 año vida parar crecer inicio 60 persona equipo producto validado consolidado mercado gracias innovacion continuan desarrollar funcionalidad romper mercado → venir    nacer hobby fundador javier colon dedicar tiempo trading empezar gestionar dinero necesidad plataforma facilitar regulacion necesario permitir foco estrategia optimizar inversión hito → proposito    core plataforma consistir ayudar cualquiera persona invertir traders independiente cambio porcentaje rentabilidad facilitar trader inversor regulacion necesario informacion mercado necesitar tomar decisión estrategica ✔ ️ regular ✔ ️ acceso mercado comunidad ✔ ️ facilitar herramienta optimizar decisión estrategica ⚙ ️ desarrollo llegar work in progress → secreto innovacion tecnologico    crecer fundamentalmente boca boca producto calidad minuto apostar innovacion ultima tecnologia crear producto robusto repetir principal inversion innovacion tecnologico crecimiento deber apuesta formar equipo asegurar actualizado evolucionar parar → buscar persona revolucionar    inquietud seguir aprender formar ultima tendencia tecnologica palabra buscar persona contribuir conocimiento talento capacidad experiencia revolucionar producto tecnologia darwinex ayudar asumir superar reto continuo someter consciente mejorar producto empresa equipo humano → stack    stack tecnologico utilizar basado principalmente java 8 11 spring adema mysql mongodb amazon web service akka redis activemq rabbitmq zookeeper actuator consul rest multipl apis hibernate docker spring git jenkins sonar spock jira fisheye crucible sonar chino asustser compromiso darwinex crezcas importante serar formacion evolucion 1 mes recibiran brazo abierto     conoceras mentor team lead persona acompañar aterrizaje facil presentar persona equipo backend 20 javero as elegira avatar representar darwinex persona avatar    flipa echalir vistazo orla apartado trabajarar    estaras totalmente adaptado ecosistema gracias acogida responsabilidad colaborar desarrollo producto complejo estimulante constante crecimiento evolucion desarrollar microservicio añadir funcionalidad existente asegurar comunicacion orientado evento microservicio rest sistema mensajeria diseñar implementar arquitectura alto concurrencia alto disponibilidad integracion api plataforma interno trabajarar remoto 100 estara 100 remoto equipo descuidar cara celebrar 3 teambuildings año podrar elegir oficina querer base operación centro madrid pleno calle recoleto', 'Angular Frontend Developer pedir oir hablar lobo solitario pedir contrario code review esencial consolidar equipo cohesionado trabajar pro calidad adema maxima contar buscar trabajar desarrollo aplicación web resistir maquetacion mockups vengar solido conocimiento angular typescript rxjs dejar codigo testear equipo valorar experiencia trabajar test unitario seas resolutivo hora empezar tarea intentar cabo finalizacion contar punto valorar dejar tecnologia conocimiento imprescindible sumar punto extra webpack nx nodejs bootstrap ngrx conocimiento funcionar reactor loop navegador macrotasks microtasks tecnologia innegociable angular2    avanzado typescript avanzado css avanzado estario rxjs avanzado nodejs intermedio ngrx intermedio sumar punto bootstrap intermedio webpack basico habilidad innegociable aprendizaje continuo trabajo equipo estario atencion detalle capacidad autogestion pensamiento analitico harar formarar departamento web compuesto persona resto equipo encargara pagina aplicación web funcionar reloj suizo ⌚ apoyaras rediseño aplicacion look and feel moderno backend migrar aplicacion monolitico microservicio frontend dividir aplicacion paquete independiente crear arquitectura permitir definir responsabilidad forma preciso mejorar escalado equipo futuro esperar gustar rockroll    refactors tendreis frente apertura país desarrollara funcionalidad crear nivel abstraccion codigo actual trabajar ultima funcionalidad ofrecer navegador moderno progressive web app notificaciones push service workers tulotero 10 año innovar constantemente forma persona interactuan loteria euromillón primitivo etc objetivo marketplace referencia loteria nivel mundial camino fuente tulotero app descargado sorteo navidad 22 diciembre entendible adema facilitar gestion app ofrecer sistema seguro 2018 abrir charco concreto mexico crecer año año reto seguir escalar apertura país dejar crecer mercado operar actualmente evolucion 1 mes mes habrar tiempo mayoria procedimiento funcionamiento interno tulotero controlara canal slack traves comunicarar compañero as jira tarea gestion habras llevado cabo tarea tranqui seran complejo adema tendrar apoyo resto equipo independientemente departamento responsabilidad participara ciclo vida completo aplicacion pasar fase proceso software requisito analisis desarrollo testing despliegue desarrollara funcionalidad hara refactoring implementaras tests garantizar calidad producto monitorizaras log periodicamente comprobar ningun problema entorno produccion revisaras codigo compañero aportar aprender demas trabajarar remoto 100 100 remoto eliges trabajar orilla mediterraneo aldea gallego cualquiera lugar union europea deber persona disfrutar interactuar compi disponer oficina madrid chamartin ciudad mexico', 'Senior Java Backend pedir contar buscar miembro familia playtomic parecer descabellado    conocimiento solido java 17 trabajar springboot 3 experiencia diseño mantenimiento api experiencia trabajar kubernet experiencia base dato relacional mysql relacional mongodb nivel ingles necesitar ningun titulo seas persona sentar comodo trabajar diario idioma equipo global pleno quince indispensable trabajar ambiente internacional multicultural playtomic desarrollo seguir tdd ocasion playtomic encantado acompañar aprendizaje experiencia trabajar entorno startup scaleup tecnologia innegociable java avanzado spring boot avanzado mysql intermedio mongodb intermedio estario kubernet avanzado sumar punto aws basico habilidad innegociable proactividad comunicacion verbal comunicacion intercultural estario capacidad mentorizacion idioma español intermedio ingles fluido harar playtomic plataforma saas reserva sed deportivo europa lograr convertir aplicacion comunidad 3 millón jugador 49 país 4800 club asociado 21000 pista disponible encontrar jugar partido facil    2017 playtomic ganar confianza inversor nacional internacional consolidar principal actor mundial digitalizacion deporte encontrarar 150 compañero trabajo mundo sede españa oficina italia portugal suecia finlandia belgica reino unido unidos mexico objetivo socializar practica deporte traves plataforma b2c jugador reservar pista encontrar jugador jugar nivel unir comunidad    herramienta sencillo gerente instalación deportivo gestionar entender ocurrir negocio herramienta conectar instalación disponibilidad usuario plataforma playtomic web movil b2b repercusion directo usuario estrechamente relacionado    buscar rol senior backend developer \\u200b\\u200bcomo senior backend developer trabajaras estrechamente equipo producto equipo front end definir implementar caracteristica harir aplicacion clase importante estarar contacto directo equipo producto opinion mejora producto serar importante ademar gustar jugar padel tenis deporte raqueta trabajo vida animar apoyar loco deporte    evolucion 1 mes recibir brazo abierto virtualmente hablar conocera compañero compañero venir mundo    tendrar vision plataforma actual caracteristica reto tecnico mes commits produccion ayudar mil usuario gestionar partido importante sabra preferir padel tenis querer retar partido    responsabilidad desarrollar mantener api servicio facilitar comunicacion frontend backend trabajar estrecho colaboracion equipo multifuncional crear solución innovadora mantener alto rendimiento respuesta solicitud frontend optimizar mejorar continuamente backend traves revisión codigo practica trabajaras remoto 100 presencial madrid quierar posicion 100 remoto tengas residencia español permiso trabajo ue sabra gustar casa coworking hamaca playa ⛱ querer trabajar oficina podrar ofis playtomic calle lagasca 88 planta 8 28001 madrid jugar compañero recorrera club ciudad', 'Senior Frontend Developer pedir lista deseo pedir compi frontend 3 año experiencia construir aplicación basado web servidor javascript encontrarar desarrollo emberjs react vuejs angular disponer experiencia stacks serio genial conocimiento js e3 html5 css3 posear perfil tecnologico disfrutes concienciado importancia practica testing principio solid copyright tatuado brazo seas persona forofa programacion agile safe cuent habilidad tecnica sensibilidad negocio producto proactividad identificar asimilar tecnologia emergente aplicación potencial ingles problema necesitarar comunicarte equipo internacional querer impresionarl estario hayar trabajar entorno serverl cloud aws trabajar equipo distribuido squads multidisciplinar ojo harar chiribita venir equipo producto exposicion internacional tecnologia innegociable javascript intermedio estario ember intermedio react intermedio angular2    intermedio habilidad innegociable atencion detalle aprendizaje continuo proactividad comunicacion intercultural estario pensamiento analitico comunicacion verbal harir entrser ccc notarar atmosfera vibrante diverso generado equipo multidisciplinar compañia crecer increible año pasar sede españa 7 persona 2015 90 actualidad empresa americano operar nivel internacional filial españa trabajar cultura estilo startup encontrarar infinidad perfil variedad función increible ingenieria equipo concienciado calidad generacion reto interesante tratar compañero seguir aprender mejorar desarrollar carrera contar tiempo momento disponer producto principal buque insignio right find enterprise producto brindar herramienta empresa acceso literatura cientifico adquirir licencia utilizar operar servicio determinado buscar ampliar equipo ingenieria perfil pedir ayuda encontrar persona integrar equipo multidisciplinar rol frontend compañero back trabajarar mano backends qa product owners project managers negocio etc ayuda consolidar equipo existente aportar solucion rodado produccion ayudar modernizar trabajo estarir enfocado desarrollo front visual producto buscar gente apasionado tecnologia aportar idea proactivo busqueda stacks herramienta solución novedoso permitir producto nivel cortes encantado escuchar clima colaborativo harar sentir pez agua propongar idea evolucion 1 mes habrar terminar proceso onboarding habra tomar consciencia entorno trabajo comprobara organizar conoceras distinto equipo conformar ccc habrar tomar caf equipo desarrollo qas negocio estarar empezar magnitud copyright potencial negocio estarar interiorizar proceso trabajar hayas cacharrear tripa codigo tirar linea    responsabilidad creara integrara implementara sistema solución software gestionar espectro completo desarrollo ciclo vida sistema participaras analisis desarrollo implementacion prueba documentacion proyecto ingenieria software establecer cumplir planificacion acordado pieza clave desarrollo estandar infraestructura aplicación seguir principio solid clean code testing aseguraras diseño revision codigo norma sistema documentado comunicarar equipo producto diseño calidad resto equipo frontend backend entender necesidad tomarar consciencia calidad trabajarar codo codo compañero seguir proceso produccion ccc incluir gestion codigo fuente gestion entorno planificacion implementacion aportara valor idea producto nivel trabajarar remoto 100 elegir trabajar desierto almeria logroño tendras asegurartar conexion contar oficina sevilla ciudad hispalense podras posibilidad acudir trabajar hibrido', 'Senior Java Developer pedir mirai trabajar java 11 spring boot rabbitmq aurora postgresql mongodb redis docker kubernetes jenkins git base crear lista reyes mago      experiencia diseñar implementar arquitectura sistema distribuido experiencia diseño prueba unitario integracion aceptacion rueda trabajar sistema mensajeria cach base dato relacional nosql querer dejar boquiabierto conocimiento arquitectura nube preferiblemente aws orquestador contenedor conocimiento normativa pci tecnologias innegociable java avanzado spring avanzado postgresql intermedio estario rabbitmq intermedio docker intermedio aws basico elasticsearch basico sumar punto kubernet basico habilidad innegociable capacidad escucha trabajo equipo aprendizaje continuo estario capacidad mentorizacion liderazgo sumar punto capacidad autogestion harar mirai objetivo maximo potencial venta directo independencia comercial reduccion coste distribucion acceso intermediario numero huesped potencial foco aumentar beneficio hotel producto motor reserva online referente industria requerir integrado infinidad producto servicio hotel integrado metabuscador precio conocido sector google tripadvisor trivago kayak skyscanner pasarela pago importante redsys stripecom checkoutcom channel managers pms utilizado siteminder travelclick prestige rategain dingus etc mundo hotelero diverso españa resto mundo lider adaptar necesidad necesitar agil desarrollo producto flexible facilmente integrable producto escalable seguro objetivo pata corto producto asentado base tecnologica agilidad flexibilidad implicar caos funcion serar ayudar implementar arquitectura motor reserva pensado servicio plazo mentor equipo desarrollador junior experiencia seguro aprenderas atraer idea evolucion 1 mes conoceras equipo forma trabajar mes habrar bucear producto documentacion tendras empezar mejorar    responsabilidad diseñara solución software escalabl mantenibl liderara evolucion producto experiencia refactorizara codigo legacy producto solido diseñara bateria test unitario integracion aceptacion stress testing colaborarar devops correcto observabilidad aplicación log metrica error etc definira alerta avisar equipo aplicaras herramienta analizar calidad codigo realizaras documentacion alto nivel comunicación funcionalidad servicio infraestructura empleado asegurara equipo alineado entender motivo cambio pendiente cumplir trabajaras remoto 100 querer posicion 100 remoto trabajar cualquiera mundo tengas comunicacion empleado mirai vivir vietnam 2 año puesto querer cualquiera oficina albufeira benidorm gijon canaria madrid palma mallorca paris esporadicamente reunirte departamento resto compañia soler reunir verano navidad objetivo celebrar ¡ equipo celebración', 'DevOps ⚙️ pedir altura año preparar lista papa noel    equipo pedir perfil devops año experiencia entorno cloud fuerte experiencia docker nube preferiblemente gcp digital ocean utilizar habilidad programacion python bash desarrollo prueba unitario integracion meter equipo bolsillo valorar positivamente conocimiento herramienta desarrollo colaborativo git github gitlab alto conocimiento gnu linux experiencia construir pipelín ci cd jenkins github actions gitlab ci cd experiencia practicar herramienta automatizacion infraestructura ansible terraform conocimiento codigo abierto dominio ingles indispensable mayoria cliente trabajar pais lista sumar experiencia devopssec experiencia kubernet experiencia practicar elasticsearch kibana opensearch conocimiento motor sql preferiblemente mysql mariadb experiencia redaccion tecnico incluir blog receta tecnica documentacion software experiencia comunidad codigo abierto participacion comunidad tecnica experiencia trabajar metodologia kanban seguro pedir alguien año venir    tecnologia innegociable google cloud avanzado docker intermedio ansible intermedio terraform intermedio estario python intermedio sumar punto jenkins intermedio kubernet intermedio habilidad innegociable comunicacion escrito aprendizaje continuo comunicacion verbal atencion detalle autonomiar aprendizaje pensamiento creativo proactividad vision critica vision estrategico estario adaptabilidad cambio capacidad presentacion sumar punto habilidad negociacion capacidad escucha harar bitergia empeño ayudar comprender mejorar proceso relacionado creacion desarrollo software disponer servicio bitergia analytics platform aka bap proporcionar metrica analitica equipo desarrollo software proceso reto importante mano    seguir evolucionar herramienta extender plataforma nube actualmente proceso rediseño arquitectura estaras mano metido ayudar definicion implementacion arquitectura google cloud platform digitalocean desarrollara receta despliegue ansible terraform implementara pipelín ci cd equipo vision guay querer rapido querer llegar lejos vete apoyar evento iniciativa relacionado software libre codigo abierto patrocinio iniciativa participacion ponente asistente evento animaria evolucion 1 mes aprenderar utilizar producto bitergia analytics platform bap plataforma analitica software contar aprenderar desplegar infraestructura google cloud digitalocean colaborarar mejora despliegue hara commits harar comprender funcionar herramienta gestion gitlab github responsabilidad diseño evolucion mantenimiento arquitectura nube herramienta necesario ejecutar bitergia analytics platform aka bap desplegar operar bap plataforma nube instalación diseño implementacion pipelín ci cd colaborar equipo desarrollo gente bitergians establecer objetivo diseñar implementar caracteristica mejorar servicio experiencia usuario participar educacion formacion continuo mantener practica aprender habilidad ayudar equipo trabajaras remoto 100 up to you tendras facilidad comodidad casa sitio resultar comodo tengar conexion internet forma gustar visitar ofi pequeño sala legán parque tecnologico uc3 m sitio pequeño normalmente encontrarar persona entrar trabajo remoto persona equipo madrid españa enfoque trato mundo independientemente quedada preguntarar quedada presencial bitergia breakfast comida idea persona facilitar relacion equipo tenian oficina fisico raiz covid pasar remoto bitergians persona    forma anual intentar evento grupo bitergian', 'PHP developer pedir cerberu pie tierra perfil necesitar imprescindible persona autonomo multidisciplinar resolutivo gana caña proyecto incorporar acotar seas perfil full stack tendrar desarrollar solución end2end hayas librar mil batalla php tengas experiencia algun framework php trabajar yii2 echar atra programar laravel symfony experiencia algun framework front preferiblemente vue estser acostumbrado trabajar integración api externo gestion caida escalabilidad experiencia programar base dato relacional motivar trabajar proyecto crecimiento quedar construir dejariar boquiabierto     desarrollar app movil android conocimiento aws acostumbrado trabajar gitflow tecnologia innegociable php avanzado vue intermedio yii intermedio sql intermedio estario aws intermedio android intermedio habilidad innegociable adaptabilidad cambio autonomiar aprendizaje capacidad autogestion estario aprendizaje continuo proactividad sumar punto atencion detalle harar cerberu cerberu nacio busqueda socio fundador solucion tecnologico establecimiento hotelero objetivo migrar recepcion tradicional recepcion 20 automatizar gestión hotel concepto plataforma gestionar ciclo vida operacion hotel optimizar servicio ultima innovación tecnologica integrar backoffice reserva factura comunicación cliente check in tecnologia iot sensorizacion automatizacion permitir medir presencia huesped decibelio elemento puerta ventana actuar consecuencia control climatizacion notificacion equipo operativo limpieza mantenimiento ofrecer servicio telegestion turistico pequeño hostal hotel boutique pasar hostels bedbreakfast apartamento turistico estupendo hare incorporaras startup pisar fuerte participara proyecto innovador tecnologia centro estrategia cerberu lanzo mercado mvp comenzo roadmap funcionalidad interesante desarrollar ejemplo automatización comunicacion cliente bot conversacional ia analisis imagen automatizar control numero persona entrar establecimiento comprobar mascota resumir monton idea chula desarrollar nivel tecnico trabajarar core producto participaras refactorización codigo mejorar rendimiento escalabilidad area desarrollo funcionalidad adema colaborar toma decisión arquitectura tecnologia trabajar serar escuchar cuentame core montado php yii2 front interactuan cliente vue trabajar bbdd relacional sql funcionalidad concreto ejemplo memoria llave virtual trabajar sql definido infraestructura entorno elastico aws aplicación movil trabajar android inventar rueda practico existir libreria desarrollo solucionar funcionalidad utilizar evolucion 1 mes objetivo mes conozcas compañero empieces familiarizar plataforma adema tomar caf equipo recibira formacion comenzarar resolver incidencia sencillo surgir caer algun pequeño desarrollo vayas empapar responsabilidad colaboraras definicion solución tecnica participaras ciclo desarrollo puesto produccion crearas funcionalidad mejorarar existente implementara solución necesario participaras toma decisión nivel funcional nivel estructura tendras comunicacion directo equipo operación gracias momento encontrar compañia participaras creacion equipo ayudarar decidir trabajaras remoto 100 querer posicion 100 remoto asegurser conexion podrar trabajar aldea gallego honolulu    ️ casa caer vivir salamanca barcelona podrar oficina querer vivir localidad podrar acudir alojamiento cerberu serar acogido podrar pasar tiempo equipo', 'QA pedir seas quality assurance autonomio capacidad decision seguro podrar imaginar aplicacion deber seguro estable escalable resiliente dificil interesar oferta cump requisito dudser contactar compañia español expansion internacional inmediato ingles plus definas estrategia qa testing incorporar metodologia desarrollo medir proceso tengas 4 año experiencia programar test front api herramienta cucumber cypress selenium trabajar contenedor docker herramienta tengar experiencia arquitectura orientado servicio estser acostumbrado valorar impacto seguridad conllevar test implementar refinamiento tarea definicion criterio aceptacion seas capaz detectar ambiguedad desarrollador falta alineamiento proposito aplicacion 10 tengar experiencia diseñar entorno prueba aws desenvuelva load testing experiencia herramienta profiling analisis rendimiento resumen querer persona motivacion gana sacar reto proponer querer crecer disfrutar gente majo empresa apetecer trabajar impacto internacional piensser objetivo revolucionar mercado capital harar portfolio stock exchange querer actualizar siglo xxi mercado capital cambiar proceso caro infumabl proceso simplificado agil eficiente tiempo coste portfolio eliminar 14 intermediario tradicional ahorrar cliente 90 coste acceso directo inversor tamaño minorista compañia esperar liderar mercado capital europeo contar equipo inversor consejero 30 año dirigir miembro consejo administracion empresa potente inversion proveedor tecnologia motor trading nasdaq lanzamiento parecer indicar superar 3000mm€ cotizado ojo estimacion realista numero cliente gordo esperar impaciente salida produccion    portfolio equipo desarrollo servicio qa externo crear numero alto test front back cerca salida produccion querer integrar responsabilidad plantilla necesitar alguien mirar codigo prueba realmente aplicacion usuario beagle bug compañero trabajo brille cubrir auditoria seguridad estatica dinamica sco manual calidad tratar spa vuejs backend java desplegado aws test front cypress back cucumber liderara implementaras estrategia qa trabajar codo codo resto equipo resolver bug surgir entorno agile scrum impulsara seguridad calidad funcionamiento correcto definir integracion prueba automatica pipeline ci cd aplicacion ♾ ️ querer contar opinion valorar critica reconduccion aterrices equipo portfolio stock exchange querer conviertas maximo conocedor vericueto aplicacion principio    evolucion 1 mes sentirar año universidad informacion cacao termino financiero importante invertir equipo tecnico sepa llegar excelencia trabajo suerte contarar conocimiento avanzado negocio personal docente materia facilitar comprension preocupar serar tiempo complicado parecer estaras acronimos hubiesser vivir vida conoceras solucion planteado colaborar proyecto tendrar vision general tendrar tiempo ojear test pipeline actual entender pensar seran paso mejora funcionalidad darir tiempo meter cuñita experiencia aportar equipo responsabilidad obtener knowhow aplicacion esperar usuario hacerte codigo prueba front back desarrollado complementar test desarrollador rama aprovechar conocimiento qa senior mejorar estrategia testing diseño prueba definitiva asegurar funcionar esperar responsabilices trabajaras remoto 100 presencial alicante alacant estser comodo    ️    actualmente distribuido españa madrid valencia malaga sevilla zaragoza estes preocupar ubicacion gana crecer responsabilizar exito tema importante surgir conozcas equipo hareis encuentro puntual oficina madrid', 'React Developer 📱 pedir      lista rey mago pedir perfil venir gana interesar control arquitectura clean principios solid tiempo currar empapandote react native metera directamente bolsillo necesitar podrar tomar decisión arquitectura practica libreria conocimiento ts pegaras habitualmente dominio previo prueba calidad codigo jest    dejarar equipo boquiabierto experiencia previo mentorizar miembro equipo sentir pasion tecnologia gana aprender continuamente tecnologia innegociable typescript avanzado react avanzado estario jest intermedio react native avanzado sumar punto kotlin basico swift basico habilidad innegociable adaptabilidad cambio comunicacion verbal aprendizaje continuo autonomiar aprendizaje pensamiento analitico capacidad escucha proactividad trabajo equipo vision criticar estario capacidad autogestion tolerancia incertidumbre sumar punto liderazgo harar     2009 cambiar     hotel resort empezar ofrecer conexion wifi cliente conectar smartphón tecnologia movil mejorario comunicacion hotel huesped 2010 nacer stay objetivo ayudar hotelero adaptar habito consumo ofrecer solución innovadora gestionar estancia cliente forma eficiente rentable centralizado plataforma    necesidad 11 año despu parar innovar stay crecer convertir plataforma allinone nube agilizar operación staff hotel aumentar satisfaccion cliente cadena mundo estructurado dividir squads 48 persona conformar stay buscar acompañante camino concreto perfil react querer desarrollar entregar codigo software alto calidad cumplir practica patrón codificacion diseño optimizaro aplicación movil velocidad escalabilidad    necesidad existir foco invertir esfuerzo estancia satisfaccion huesped ambito 2024 enfocar fuerza solucion prestancia postestancia mercado enfocado reserva habitación feedback usuario salir hotel promoción incentivar reserva hotelero etc producto ambicioso mesa stay fecha     stack tecnologico trabajar stay intentar mantener tecnologia version proyecto mundo quedar legacy espiritu quedar atra trabajar typscript react native utilizar control versión git stack atlassian bitbucket jira confluence desplegar integracion continuo jenkins infraestructura kubernet basado aws cosa contar decidir    stay implementado 1000 hotel 62 país mejorar experiencia 12 millón huesped subir espuma mirar comentar cliente evolucion 1 mes 1️⃣ ira familiarizandote equipo forma trabajar paso importante comprender estructura basico proyecto establecer base ira empapandote cultura forma trabajar adaptara equipo metodologia trabajo asumira tarea proyecto ira analizar estructura responsabilidad desarrollar entregar codigo software alto calidad ojo importante cumplir practica patrón codificacion diseño optimizar aplicación movil lograr velocidad escalabilidad trabajar equipo departamento ingenieria impulsar continuamente caracteristica produccion contribuir analisis requisito modelado dato diagnosticar problema complejo decisión diseño arquitectura brindar soporte mantenimiento aplicación software existente analizar resolver error trabajaras remoto 100 presencial madrid    all you need is internet    posicion 100 remoto tengas residencia español permiso trabajo ue tengas conexion internet podrar trabajar inspirar buscar libertad trabajar cualquiera rincon mundo valoras conexion humano posicion equipo trabajar casa invitar oficina onboarding espectacular vereis reunion formacion especial encantar mantener contacto persona']\n"
          ]
        }
      ]
    },
    {
      "cell_type": "code",
      "source": [
        "\n",
        "def TrainAndSaveModel(train_data, test_data, model, training_args, compute_metrics, model_name_version):\n",
        "\n",
        "  trainer = Trainer(\n",
        "      model=model,\n",
        "      args=training_args,\n",
        "      train_dataset=train_data,\n",
        "      eval_dataset=test_data,\n",
        "      compute_metrics=compute_metrics,\n",
        "  )\n",
        "\n",
        "  trainer.train()\n",
        "\n",
        "  trainer.save_model(model_name_version)         # Guarda el modelo\n",
        "  tokenizer.save_pretrained(model_name_version)\n",
        "\n",
        "  return trainer\n",
        "\n",
        "\n",
        "\n"
      ],
      "metadata": {
        "id": "ivJHdwrDp8Gh"
      },
      "execution_count": null,
      "outputs": []
    },
    {
      "cell_type": "code",
      "source": [
        "import torch\n",
        "from sklearn.metrics import confusion_matrix, ConfusionMatrixDisplay, classification_report\n",
        "import matplotlib.pyplot as plt\n",
        "\n",
        "def PredictAndPrintMetrics(model_path, test_data):\n",
        "\n",
        "\n",
        "  tokenizer = AutoTokenizer.from_pretrained(model_path)\n",
        "  model = AutoModelForSequenceClassification.from_pretrained(model_path,\n",
        "                                                            num_labels=len(label2id),\n",
        "                                                            id2label=id2label,\n",
        "                                                            label2id=label2id)\n",
        "\n",
        "  trainer = Trainer(model=model, tokenizer=tokenizer)\n",
        "  predictions = trainer.predict(test_data)\n",
        "  y_pred = np.argmax(predictions.predictions, axis=1)\n",
        "  y_true = predictions.label_ids\n",
        "\n",
        "  print(classification_report(y_true, y_pred))\n",
        "\n",
        "  model.eval()\n",
        "  # /content/modelo_MoritzLaurer/mDeBERTa-v3-base-mnli-xnli\n",
        "  inputs = tokenizer(test_data[\"full_description\"], return_tensors=\"pt\", truncation=True, padding=\"max_length\", max_length=512)\n",
        "\n",
        "  with torch.no_grad():\n",
        "    predictions = model(**inputs)\n",
        "    logits = predictions.logits\n",
        "    print(logits)\n",
        "    y_pred = np.argmax(logits, axis=-1)\n",
        "    print(y_pred)\n",
        "    y_true = test_data['label']\n",
        "    print(y_true)\n",
        "\n",
        "  # Resultados de Precisión de la Predicció\n",
        "  print(classification_report(y_true, y_pred))\n",
        "\n",
        "  # Matriz de confusión\n",
        "  cm = confusion_matrix(y_true, y_pred)\n",
        "\n",
        "  disp = ConfusionMatrixDisplay(confusion_matrix=cm)\n",
        "  disp.plot(cmap=\"Blues\")\n",
        "  plt.title(\"Matriz de Confusión\")\n",
        "  plt.show()\n"
      ],
      "metadata": {
        "id": "PPYC27NHRQik"
      },
      "execution_count": null,
      "outputs": []
    },
    {
      "cell_type": "code",
      "source": [
        "def PredictAndPrintMetricsRegression(model_path, test_data, trainer = None):\n",
        "\n",
        "\n",
        "  tokenizer = AutoTokenizer.from_pretrained(model_path)\n",
        "  model = AutoModelForSequenceClassification.from_pretrained(model_path,\n",
        "                                                               num_labels=1,\n",
        "                                                               problem_type=\"regression\",\n",
        "                                                               ignore_mismatched_sizes=True)\n",
        "  if (trainer == None):\n",
        "    trainer = Trainer(model=model, tokenizer=tokenizer)\n",
        "  predictions = trainer.predict(test_data)\n",
        "  y_pred = predictions.predictions.squeeze()\n",
        "  y_true = predictions.label_ids\n",
        "\n",
        "  mse = mean_squared_error(y_true, y_pred)\n",
        "  mae = mean_absolute_error(y_true, y_pred)\n",
        "  r2 = r2_score(y_true, y_pred)\n",
        "\n",
        "  print(f\"MSE: {mse:.4f}\")\n",
        "  print(f\"MAE: {mae:.4f}\")\n",
        "  print(f\"R²: {r2:.4f}\")\n",
        "\n",
        "  # /content/modelo_MoritzLaurer/mDeBERTa-v3-base-mnli-xnli\n",
        "  #inputs = tokenizer(test_data[\"full_description\"], return_tensors=\"pt\", truncation=True, padding=\"max_length\", max_length=512)\n"
      ],
      "metadata": {
        "id": "ygx_wwzUNQRg"
      },
      "execution_count": null,
      "outputs": []
    },
    {
      "cell_type": "code",
      "source": [
        "trainer = TrainAndSaveModel(small_train_dataset, small_eval_dataset, nli_model, training_args, compute_metrics_regression, model_name + \"-Regression\")"
      ],
      "metadata": {
        "id": "ucCBxBULnjS_"
      },
      "execution_count": null,
      "outputs": []
    },
    {
      "cell_type": "code",
      "source": [
        "PredictAndPrintMetricsRegression(\"MoritzLaurer/mDeBERTa-v3-base-mnli-xnli-Regression\", small_eval_dataset)"
      ],
      "metadata": {
        "colab": {
          "base_uri": "https://localhost:8080/",
          "height": 106
        },
        "id": "e0vEIfERfgkM",
        "outputId": "62400441-0832-403f-ce32-0004025cbe9d"
      },
      "execution_count": null,
      "outputs": [
        {
          "output_type": "stream",
          "name": "stderr",
          "text": [
            "<ipython-input-16-61b1535cb797>:10: FutureWarning: `tokenizer` is deprecated and will be removed in version 5.0.0 for `Trainer.__init__`. Use `processing_class` instead.\n",
            "  trainer = Trainer(model=model, tokenizer=tokenizer)\n"
          ]
        },
        {
          "output_type": "display_data",
          "data": {
            "text/plain": [
              "<IPython.core.display.HTML object>"
            ],
            "text/html": []
          },
          "metadata": {}
        },
        {
          "output_type": "stream",
          "name": "stdout",
          "text": [
            "MSE: 2483.5674\n",
            "MAE: 47.1785\n",
            "R²: -8.6354\n"
          ]
        }
      ]
    },
    {
      "cell_type": "code",
      "source": [
        "trainer = TrainAndSaveModel(small_train_dataset, small_eval_dataset, nli_model, training_args, compute_metrics_regression, model_name + \"-Regression100\")"
      ],
      "metadata": {
        "colab": {
          "base_uri": "https://localhost:8080/",
          "height": 363
        },
        "id": "Pue2AVZ5jnKf",
        "outputId": "04f0eacc-446e-4455-9570-9713dcc654e0"
      },
      "execution_count": null,
      "outputs": [
        {
          "output_type": "stream",
          "name": "stderr",
          "text": [
            "\u001b[34m\u001b[1mwandb\u001b[0m: \u001b[33mWARNING\u001b[0m The `run_name` is currently set to the same value as `TrainingArguments.output_dir`. If this was not intended, please specify a different run name by setting the `TrainingArguments.run_name` parameter.\n"
          ]
        },
        {
          "output_type": "display_data",
          "data": {
            "text/plain": [
              "<IPython.core.display.Javascript object>"
            ],
            "application/javascript": [
              "\n",
              "        window._wandbApiKey = new Promise((resolve, reject) => {\n",
              "            function loadScript(url) {\n",
              "            return new Promise(function(resolve, reject) {\n",
              "                let newScript = document.createElement(\"script\");\n",
              "                newScript.onerror = reject;\n",
              "                newScript.onload = resolve;\n",
              "                document.body.appendChild(newScript);\n",
              "                newScript.src = url;\n",
              "            });\n",
              "            }\n",
              "            loadScript(\"https://cdn.jsdelivr.net/npm/postmate/build/postmate.min.js\").then(() => {\n",
              "            const iframe = document.createElement('iframe')\n",
              "            iframe.style.cssText = \"width:0;height:0;border:none\"\n",
              "            document.body.appendChild(iframe)\n",
              "            const handshake = new Postmate({\n",
              "                container: iframe,\n",
              "                url: 'https://wandb.ai/authorize'\n",
              "            });\n",
              "            const timeout = setTimeout(() => reject(\"Couldn't auto authenticate\"), 5000)\n",
              "            handshake.then(function(child) {\n",
              "                child.on('authorize', data => {\n",
              "                    clearTimeout(timeout)\n",
              "                    resolve(data)\n",
              "                });\n",
              "            });\n",
              "            })\n",
              "        });\n",
              "    "
            ]
          },
          "metadata": {}
        },
        {
          "output_type": "stream",
          "name": "stderr",
          "text": [
            "\u001b[34m\u001b[1mwandb\u001b[0m: Logging into wandb.ai. (Learn how to deploy a W&B server locally: https://wandb.me/wandb-server)\n",
            "\u001b[34m\u001b[1mwandb\u001b[0m: You can find your API key in your browser here: https://wandb.ai/authorize?ref=models\n",
            "wandb: Paste an API key from your profile and hit enter:"
          ]
        },
        {
          "name": "stdout",
          "output_type": "stream",
          "text": [
            " ··········\n"
          ]
        },
        {
          "output_type": "stream",
          "name": "stderr",
          "text": [
            "\u001b[34m\u001b[1mwandb\u001b[0m: \u001b[33mWARNING\u001b[0m If you're specifying your api key in code, ensure this code is not shared publicly.\n",
            "\u001b[34m\u001b[1mwandb\u001b[0m: \u001b[33mWARNING\u001b[0m Consider setting the WANDB_API_KEY environment variable, or running `wandb login` from the command line.\n",
            "\u001b[34m\u001b[1mwandb\u001b[0m: No netrc file found, creating one.\n",
            "\u001b[34m\u001b[1mwandb\u001b[0m: Appending key for api.wandb.ai to your netrc file: /root/.netrc\n",
            "\u001b[34m\u001b[1mwandb\u001b[0m: Currently logged in as: \u001b[33mlizzadro-adrian-grao\u001b[0m (\u001b[33mlizzadro-adrian-grao-universitat-de-val-ncia\u001b[0m) to \u001b[32mhttps://api.wandb.ai\u001b[0m. Use \u001b[1m`wandb login --relogin`\u001b[0m to force relogin\n"
          ]
        },
        {
          "output_type": "display_data",
          "data": {
            "text/plain": [
              "<IPython.core.display.HTML object>"
            ],
            "text/html": [
              "Tracking run with wandb version 0.19.11"
            ]
          },
          "metadata": {}
        },
        {
          "output_type": "display_data",
          "data": {
            "text/plain": [
              "<IPython.core.display.HTML object>"
            ],
            "text/html": [
              "Run data is saved locally in <code>/content/wandb/run-20250522_202106-ys6ufgfv</code>"
            ]
          },
          "metadata": {}
        },
        {
          "output_type": "display_data",
          "data": {
            "text/plain": [
              "<IPython.core.display.HTML object>"
            ],
            "text/html": [
              "Syncing run <strong><a href='https://wandb.ai/lizzadro-adrian-grao-universitat-de-val-ncia/huggingface/runs/ys6ufgfv' target=\"_blank\">test_trainer</a></strong> to <a href='https://wandb.ai/lizzadro-adrian-grao-universitat-de-val-ncia/huggingface' target=\"_blank\">Weights & Biases</a> (<a href='https://wandb.me/developer-guide' target=\"_blank\">docs</a>)<br>"
            ]
          },
          "metadata": {}
        },
        {
          "output_type": "display_data",
          "data": {
            "text/plain": [
              "<IPython.core.display.HTML object>"
            ],
            "text/html": [
              " View project at <a href='https://wandb.ai/lizzadro-adrian-grao-universitat-de-val-ncia/huggingface' target=\"_blank\">https://wandb.ai/lizzadro-adrian-grao-universitat-de-val-ncia/huggingface</a>"
            ]
          },
          "metadata": {}
        },
        {
          "output_type": "display_data",
          "data": {
            "text/plain": [
              "<IPython.core.display.HTML object>"
            ],
            "text/html": [
              " View run at <a href='https://wandb.ai/lizzadro-adrian-grao-universitat-de-val-ncia/huggingface/runs/ys6ufgfv' target=\"_blank\">https://wandb.ai/lizzadro-adrian-grao-universitat-de-val-ncia/huggingface/runs/ys6ufgfv</a>"
            ]
          },
          "metadata": {}
        },
        {
          "output_type": "display_data",
          "data": {
            "text/plain": [
              "<IPython.core.display.HTML object>"
            ],
            "text/html": [
              "\n",
              "    <div>\n",
              "      \n",
              "      <progress value='25' max='25' style='width:300px; height:20px; vertical-align: middle;'></progress>\n",
              "      [25/25 14:13, Epoch 1/1]\n",
              "    </div>\n",
              "    <table border=\"1\" class=\"dataframe\">\n",
              "  <thead>\n",
              " <tr style=\"text-align: left;\">\n",
              "      <th>Step</th>\n",
              "      <th>Training Loss</th>\n",
              "    </tr>\n",
              "  </thead>\n",
              "  <tbody>\n",
              "  </tbody>\n",
              "</table><p>"
            ]
          },
          "metadata": {}
        }
      ]
    },
    {
      "cell_type": "code",
      "source": [
        "PredictAndPrintMetricsRegression(\"papluca/xlm-roberta-base-language-detection-Regression100\", small_eval_dataset)"
      ],
      "metadata": {
        "colab": {
          "base_uri": "https://localhost:8080/",
          "height": 106
        },
        "id": "_3wcTWSDpBEY",
        "outputId": "a7710724-d9f8-48a3-c09e-6816d6afd707"
      },
      "execution_count": null,
      "outputs": [
        {
          "output_type": "stream",
          "name": "stderr",
          "text": [
            "<ipython-input-11-61b1535cb797>:10: FutureWarning: `tokenizer` is deprecated and will be removed in version 5.0.0 for `Trainer.__init__`. Use `processing_class` instead.\n",
            "  trainer = Trainer(model=model, tokenizer=tokenizer)\n"
          ]
        },
        {
          "output_type": "display_data",
          "data": {
            "text/plain": [
              "<IPython.core.display.HTML object>"
            ],
            "text/html": []
          },
          "metadata": {}
        },
        {
          "output_type": "stream",
          "name": "stdout",
          "text": [
            "MSE: 2908.6538\n",
            "MAE: 51.4848\n",
            "R²: -10.2845\n"
          ]
        }
      ]
    },
    {
      "cell_type": "code",
      "source": [
        "trainer = TrainAndSaveModel(small_train_dataset, small_eval_dataset, nli_model, training_args, compute_metrics_regression, model_name + \"-Regression100\")"
      ],
      "metadata": {
        "colab": {
          "base_uri": "https://localhost:8080/",
          "height": 77
        },
        "id": "X9kmeTUWA3U3",
        "outputId": "82b03a08-de70-4658-dac2-0e44b504cddd"
      },
      "execution_count": null,
      "outputs": [
        {
          "output_type": "display_data",
          "data": {
            "text/plain": [
              "<IPython.core.display.HTML object>"
            ],
            "text/html": [
              "\n",
              "    <div>\n",
              "      \n",
              "      <progress value='25' max='25' style='width:300px; height:20px; vertical-align: middle;'></progress>\n",
              "      [25/25 05:47, Epoch 1/1]\n",
              "    </div>\n",
              "    <table border=\"1\" class=\"dataframe\">\n",
              "  <thead>\n",
              " <tr style=\"text-align: left;\">\n",
              "      <th>Step</th>\n",
              "      <th>Training Loss</th>\n",
              "    </tr>\n",
              "  </thead>\n",
              "  <tbody>\n",
              "  </tbody>\n",
              "</table><p>"
            ]
          },
          "metadata": {}
        }
      ]
    },
    {
      "cell_type": "code",
      "source": [
        "PredictAndPrintMetricsRegression(\"Unbabel/xlm-roberta-comet-small-Regression100\", small_eval_dataset)"
      ],
      "metadata": {
        "colab": {
          "base_uri": "https://localhost:8080/",
          "height": 106
        },
        "id": "HXEG0MK9A4iT",
        "outputId": "6bdc51d6-f095-417b-dac6-888fcef74a54"
      },
      "execution_count": null,
      "outputs": [
        {
          "output_type": "stream",
          "name": "stderr",
          "text": [
            "<ipython-input-11-61b1535cb797>:10: FutureWarning: `tokenizer` is deprecated and will be removed in version 5.0.0 for `Trainer.__init__`. Use `processing_class` instead.\n",
            "  trainer = Trainer(model=model, tokenizer=tokenizer)\n"
          ]
        },
        {
          "output_type": "display_data",
          "data": {
            "text/plain": [
              "<IPython.core.display.HTML object>"
            ],
            "text/html": []
          },
          "metadata": {}
        },
        {
          "output_type": "stream",
          "name": "stdout",
          "text": [
            "MSE: 3310.9653\n",
            "MAE: 55.2558\n",
            "R²: -11.8454\n"
          ]
        }
      ]
    },
    {
      "cell_type": "code",
      "source": [
        "trainer = TrainAndSaveModel(small_train_dataset, small_eval_dataset, nli_model, training_args, compute_metrics_regression, model_name + \"-Regression100\")"
      ],
      "metadata": {
        "colab": {
          "base_uri": "https://localhost:8080/",
          "height": 77
        },
        "id": "JmucvFxkDcLV",
        "outputId": "653dda05-fcae-4059-a0a0-22fe52acb94f"
      },
      "execution_count": null,
      "outputs": [
        {
          "output_type": "display_data",
          "data": {
            "text/plain": [
              "<IPython.core.display.HTML object>"
            ],
            "text/html": [
              "\n",
              "    <div>\n",
              "      \n",
              "      <progress value='25' max='25' style='width:300px; height:20px; vertical-align: middle;'></progress>\n",
              "      [25/25 12:44, Epoch 1/1]\n",
              "    </div>\n",
              "    <table border=\"1\" class=\"dataframe\">\n",
              "  <thead>\n",
              " <tr style=\"text-align: left;\">\n",
              "      <th>Step</th>\n",
              "      <th>Training Loss</th>\n",
              "    </tr>\n",
              "  </thead>\n",
              "  <tbody>\n",
              "  </tbody>\n",
              "</table><p>"
            ]
          },
          "metadata": {}
        }
      ]
    },
    {
      "cell_type": "code",
      "source": [
        "PredictAndPrintMetricsRegression(\"Recognai/bert-base-spanish-wwm-cased-xnli-Regression100\", small_eval_dataset)"
      ],
      "metadata": {
        "colab": {
          "base_uri": "https://localhost:8080/",
          "height": 106
        },
        "id": "ze3Az5UaDdUI",
        "outputId": "1f38f3f5-6375-488b-d218-0f9e9726468a"
      },
      "execution_count": null,
      "outputs": [
        {
          "output_type": "stream",
          "name": "stderr",
          "text": [
            "<ipython-input-11-61b1535cb797>:10: FutureWarning: `tokenizer` is deprecated and will be removed in version 5.0.0 for `Trainer.__init__`. Use `processing_class` instead.\n",
            "  trainer = Trainer(model=model, tokenizer=tokenizer)\n"
          ]
        },
        {
          "output_type": "display_data",
          "data": {
            "text/plain": [
              "<IPython.core.display.HTML object>"
            ],
            "text/html": []
          },
          "metadata": {}
        },
        {
          "output_type": "stream",
          "name": "stdout",
          "text": [
            "MSE: 2893.9773\n",
            "MAE: 51.3430\n",
            "R²: -10.2276\n"
          ]
        }
      ]
    },
    {
      "cell_type": "code",
      "source": [
        "trainer = TrainAndSaveModel(train_dataset, eval_dataset, nli_model, training_args, compute_metrics_regression, model_name + \"-Regression1000\")"
      ],
      "metadata": {
        "colab": {
          "base_uri": "https://localhost:8080/",
          "height": 363
        },
        "id": "69bZnk6d0k7S",
        "outputId": "e06e55a6-d1b8-4faf-ce35-c23af0b4159c"
      },
      "execution_count": null,
      "outputs": [
        {
          "output_type": "stream",
          "name": "stderr",
          "text": [
            "\u001b[34m\u001b[1mwandb\u001b[0m: \u001b[33mWARNING\u001b[0m The `run_name` is currently set to the same value as `TrainingArguments.output_dir`. If this was not intended, please specify a different run name by setting the `TrainingArguments.run_name` parameter.\n"
          ]
        },
        {
          "output_type": "display_data",
          "data": {
            "text/plain": [
              "<IPython.core.display.Javascript object>"
            ],
            "application/javascript": [
              "\n",
              "        window._wandbApiKey = new Promise((resolve, reject) => {\n",
              "            function loadScript(url) {\n",
              "            return new Promise(function(resolve, reject) {\n",
              "                let newScript = document.createElement(\"script\");\n",
              "                newScript.onerror = reject;\n",
              "                newScript.onload = resolve;\n",
              "                document.body.appendChild(newScript);\n",
              "                newScript.src = url;\n",
              "            });\n",
              "            }\n",
              "            loadScript(\"https://cdn.jsdelivr.net/npm/postmate/build/postmate.min.js\").then(() => {\n",
              "            const iframe = document.createElement('iframe')\n",
              "            iframe.style.cssText = \"width:0;height:0;border:none\"\n",
              "            document.body.appendChild(iframe)\n",
              "            const handshake = new Postmate({\n",
              "                container: iframe,\n",
              "                url: 'https://wandb.ai/authorize'\n",
              "            });\n",
              "            const timeout = setTimeout(() => reject(\"Couldn't auto authenticate\"), 5000)\n",
              "            handshake.then(function(child) {\n",
              "                child.on('authorize', data => {\n",
              "                    clearTimeout(timeout)\n",
              "                    resolve(data)\n",
              "                });\n",
              "            });\n",
              "            })\n",
              "        });\n",
              "    "
            ]
          },
          "metadata": {}
        },
        {
          "output_type": "stream",
          "name": "stderr",
          "text": [
            "\u001b[34m\u001b[1mwandb\u001b[0m: Logging into wandb.ai. (Learn how to deploy a W&B server locally: https://wandb.me/wandb-server)\n",
            "\u001b[34m\u001b[1mwandb\u001b[0m: You can find your API key in your browser here: https://wandb.ai/authorize?ref=models\n",
            "wandb: Paste an API key from your profile and hit enter:"
          ]
        },
        {
          "name": "stdout",
          "output_type": "stream",
          "text": [
            " ··········\n"
          ]
        },
        {
          "output_type": "stream",
          "name": "stderr",
          "text": [
            "\u001b[34m\u001b[1mwandb\u001b[0m: \u001b[33mWARNING\u001b[0m If you're specifying your api key in code, ensure this code is not shared publicly.\n",
            "\u001b[34m\u001b[1mwandb\u001b[0m: \u001b[33mWARNING\u001b[0m Consider setting the WANDB_API_KEY environment variable, or running `wandb login` from the command line.\n",
            "\u001b[34m\u001b[1mwandb\u001b[0m: No netrc file found, creating one.\n",
            "\u001b[34m\u001b[1mwandb\u001b[0m: Appending key for api.wandb.ai to your netrc file: /root/.netrc\n",
            "\u001b[34m\u001b[1mwandb\u001b[0m: Currently logged in as: \u001b[33mlizzadro-adrian-grao\u001b[0m (\u001b[33mlizzadro-adrian-grao-universitat-de-val-ncia\u001b[0m) to \u001b[32mhttps://api.wandb.ai\u001b[0m. Use \u001b[1m`wandb login --relogin`\u001b[0m to force relogin\n"
          ]
        },
        {
          "output_type": "display_data",
          "data": {
            "text/plain": [
              "<IPython.core.display.HTML object>"
            ],
            "text/html": [
              "Tracking run with wandb version 0.19.11"
            ]
          },
          "metadata": {}
        },
        {
          "output_type": "display_data",
          "data": {
            "text/plain": [
              "<IPython.core.display.HTML object>"
            ],
            "text/html": [
              "Run data is saved locally in <code>/content/wandb/run-20250523_110814-b2sjhmix</code>"
            ]
          },
          "metadata": {}
        },
        {
          "output_type": "display_data",
          "data": {
            "text/plain": [
              "<IPython.core.display.HTML object>"
            ],
            "text/html": [
              "Syncing run <strong><a href='https://wandb.ai/lizzadro-adrian-grao-universitat-de-val-ncia/huggingface/runs/b2sjhmix' target=\"_blank\">test_trainer</a></strong> to <a href='https://wandb.ai/lizzadro-adrian-grao-universitat-de-val-ncia/huggingface' target=\"_blank\">Weights & Biases</a> (<a href='https://wandb.me/developer-guide' target=\"_blank\">docs</a>)<br>"
            ]
          },
          "metadata": {}
        },
        {
          "output_type": "display_data",
          "data": {
            "text/plain": [
              "<IPython.core.display.HTML object>"
            ],
            "text/html": [
              " View project at <a href='https://wandb.ai/lizzadro-adrian-grao-universitat-de-val-ncia/huggingface' target=\"_blank\">https://wandb.ai/lizzadro-adrian-grao-universitat-de-val-ncia/huggingface</a>"
            ]
          },
          "metadata": {}
        },
        {
          "output_type": "display_data",
          "data": {
            "text/plain": [
              "<IPython.core.display.HTML object>"
            ],
            "text/html": [
              " View run at <a href='https://wandb.ai/lizzadro-adrian-grao-universitat-de-val-ncia/huggingface/runs/b2sjhmix' target=\"_blank\">https://wandb.ai/lizzadro-adrian-grao-universitat-de-val-ncia/huggingface/runs/b2sjhmix</a>"
            ]
          },
          "metadata": {}
        },
        {
          "output_type": "display_data",
          "data": {
            "text/plain": [
              "<IPython.core.display.HTML object>"
            ],
            "text/html": [
              "\n",
              "    <div>\n",
              "      \n",
              "      <progress value='250' max='250' style='width:300px; height:20px; vertical-align: middle;'></progress>\n",
              "      [250/250 2:31:04, Epoch 1/1]\n",
              "    </div>\n",
              "    <table border=\"1\" class=\"dataframe\">\n",
              "  <thead>\n",
              " <tr style=\"text-align: left;\">\n",
              "      <th>Step</th>\n",
              "      <th>Training Loss</th>\n",
              "    </tr>\n",
              "  </thead>\n",
              "  <tbody>\n",
              "  </tbody>\n",
              "</table><p>"
            ]
          },
          "metadata": {}
        }
      ]
    },
    {
      "cell_type": "code",
      "source": [
        "PredictAndPrintMetricsRegression(\"MoritzLaurer/mDeBERTa-v3-base-mnli-xnli-Regression1000\", small_eval_dataset)"
      ],
      "metadata": {
        "colab": {
          "base_uri": "https://localhost:8080/",
          "height": 106
        },
        "id": "RwBljcTJeh8B",
        "outputId": "7a0c38f5-8db5-417b-8d8d-c4a36f388224"
      },
      "execution_count": null,
      "outputs": [
        {
          "output_type": "stream",
          "name": "stderr",
          "text": [
            "<ipython-input-11-7aa3a6629e63>:10: FutureWarning: `tokenizer` is deprecated and will be removed in version 5.0.0 for `Trainer.__init__`. Use `processing_class` instead.\n",
            "  trainer = Trainer(model=model, tokenizer=tokenizer)\n"
          ]
        },
        {
          "output_type": "display_data",
          "data": {
            "text/plain": [
              "<IPython.core.display.HTML object>"
            ],
            "text/html": []
          },
          "metadata": {}
        },
        {
          "output_type": "stream",
          "name": "stdout",
          "text": [
            "MSE: 2192.8357\n",
            "MAE: 43.9974\n",
            "R²: -7.5074\n"
          ]
        }
      ]
    },
    {
      "cell_type": "code",
      "source": [
        "trainer = TrainAndSaveModel(train_dataset, eval_dataset, nli_model, training_args, compute_metrics_regression, model_name + \"-Regression1000\")"
      ],
      "metadata": {
        "colab": {
          "base_uri": "https://localhost:8080/",
          "height": 77
        },
        "id": "BQ5hOG0hptrm",
        "outputId": "ae618eb9-35b5-489d-e62e-a8a643db0cdc"
      },
      "execution_count": null,
      "outputs": [
        {
          "output_type": "display_data",
          "data": {
            "text/plain": [
              "<IPython.core.display.HTML object>"
            ],
            "text/html": [
              "\n",
              "    <div>\n",
              "      \n",
              "      <progress value='250' max='250' style='width:300px; height:20px; vertical-align: middle;'></progress>\n",
              "      [250/250 1:37:16, Epoch 1/1]\n",
              "    </div>\n",
              "    <table border=\"1\" class=\"dataframe\">\n",
              "  <thead>\n",
              " <tr style=\"text-align: left;\">\n",
              "      <th>Step</th>\n",
              "      <th>Training Loss</th>\n",
              "    </tr>\n",
              "  </thead>\n",
              "  <tbody>\n",
              "  </tbody>\n",
              "</table><p>"
            ]
          },
          "metadata": {}
        }
      ]
    },
    {
      "cell_type": "code",
      "source": [
        "PredictAndPrintMetricsRegression(\"Recognai/bert-base-spanish-wwm-cased-xnli-Regression1000\", small_eval_dataset)"
      ],
      "metadata": {
        "colab": {
          "base_uri": "https://localhost:8080/",
          "height": 128
        },
        "id": "Er3-sVH_8RMM",
        "outputId": "8c21dd15-9a9c-4c02-a40e-2be072959412"
      },
      "execution_count": null,
      "outputs": [
        {
          "metadata": {
            "tags": null
          },
          "name": "stderr",
          "output_type": "stream",
          "text": [
            "<ipython-input-11-7aa3a6629e63>:10: FutureWarning: `tokenizer` is deprecated and will be removed in version 5.0.0 for `Trainer.__init__`. Use `processing_class` instead.\n",
            "  trainer = Trainer(model=model, tokenizer=tokenizer)\n"
          ]
        },
        {
          "data": {
            "text/html": [
              "\n",
              "    <div>\n",
              "      \n",
              "      <progress value='10' max='13' style='width:300px; height:20px; vertical-align: middle;'></progress>\n",
              "      [10/13 01:55 < 00:38, 0.08 it/s]\n",
              "    </div>\n",
              "    "
            ],
            "text/plain": [
              "<IPython.core.display.HTML object>"
            ]
          },
          "metadata": {},
          "output_type": "display_data"
        },
        {
          "output_type": "display_data",
          "data": {
            "text/plain": [
              "<IPython.core.display.HTML object>"
            ],
            "text/html": []
          },
          "metadata": {}
        },
        {
          "output_type": "stream",
          "name": "stdout",
          "text": [
            "MSE: 2169.5671\n",
            "MAE: 43.7373\n",
            "R²: -7.4171\n"
          ]
        }
      ]
    }
  ],
  "metadata": {
    "colab": {
      "provenance": []
    },
    "kernelspec": {
      "display_name": "Python 3",
      "name": "python3"
    },
    "language_info": {
      "name": "python"
    },
    "widgets": {
      "application/vnd.jupyter.widget-state+json": {
        "43cfa11752c54eeb9c00f76fdbac32ab": {
          "model_module": "@jupyter-widgets/controls",
          "model_name": "HBoxModel",
          "model_module_version": "1.5.0",
          "state": {
            "_dom_classes": [],
            "_model_module": "@jupyter-widgets/controls",
            "_model_module_version": "1.5.0",
            "_model_name": "HBoxModel",
            "_view_count": null,
            "_view_module": "@jupyter-widgets/controls",
            "_view_module_version": "1.5.0",
            "_view_name": "HBoxView",
            "box_style": "",
            "children": [
              "IPY_MODEL_dd2f20699945481083e6d4c787eee16f",
              "IPY_MODEL_4cec478fe7534c919f01ea3fa22f0135",
              "IPY_MODEL_29e6acddbc3c4a15829b6a43eef4097c"
            ],
            "layout": "IPY_MODEL_f6cb1c2ae7124e538ad913d07554b228"
          }
        },
        "dd2f20699945481083e6d4c787eee16f": {
          "model_module": "@jupyter-widgets/controls",
          "model_name": "HTMLModel",
          "model_module_version": "1.5.0",
          "state": {
            "_dom_classes": [],
            "_model_module": "@jupyter-widgets/controls",
            "_model_module_version": "1.5.0",
            "_model_name": "HTMLModel",
            "_view_count": null,
            "_view_module": "@jupyter-widgets/controls",
            "_view_module_version": "1.5.0",
            "_view_name": "HTMLView",
            "description": "",
            "description_tooltip": null,
            "layout": "IPY_MODEL_eb712633839e42e48922ee4c1b61fb26",
            "placeholder": "​",
            "style": "IPY_MODEL_27af407e9a054b4782777a9304ee7cb8",
            "value": "config.json: 100%"
          }
        },
        "4cec478fe7534c919f01ea3fa22f0135": {
          "model_module": "@jupyter-widgets/controls",
          "model_name": "FloatProgressModel",
          "model_module_version": "1.5.0",
          "state": {
            "_dom_classes": [],
            "_model_module": "@jupyter-widgets/controls",
            "_model_module_version": "1.5.0",
            "_model_name": "FloatProgressModel",
            "_view_count": null,
            "_view_module": "@jupyter-widgets/controls",
            "_view_module_version": "1.5.0",
            "_view_name": "ProgressView",
            "bar_style": "success",
            "description": "",
            "description_tooltip": null,
            "layout": "IPY_MODEL_fadf3c5aa7e74a7f99a6b9b545a0a2c3",
            "max": 834,
            "min": 0,
            "orientation": "horizontal",
            "style": "IPY_MODEL_b325f1d487fd45529299544e34d67bf0",
            "value": 834
          }
        },
        "29e6acddbc3c4a15829b6a43eef4097c": {
          "model_module": "@jupyter-widgets/controls",
          "model_name": "HTMLModel",
          "model_module_version": "1.5.0",
          "state": {
            "_dom_classes": [],
            "_model_module": "@jupyter-widgets/controls",
            "_model_module_version": "1.5.0",
            "_model_name": "HTMLModel",
            "_view_count": null,
            "_view_module": "@jupyter-widgets/controls",
            "_view_module_version": "1.5.0",
            "_view_name": "HTMLView",
            "description": "",
            "description_tooltip": null,
            "layout": "IPY_MODEL_4551de9dee9147dab7bb04643bdce91e",
            "placeholder": "​",
            "style": "IPY_MODEL_47ee98be973741ecae369f8f1750aab9",
            "value": " 834/834 [00:00&lt;00:00, 8.76kB/s]"
          }
        },
        "f6cb1c2ae7124e538ad913d07554b228": {
          "model_module": "@jupyter-widgets/base",
          "model_name": "LayoutModel",
          "model_module_version": "1.2.0",
          "state": {
            "_model_module": "@jupyter-widgets/base",
            "_model_module_version": "1.2.0",
            "_model_name": "LayoutModel",
            "_view_count": null,
            "_view_module": "@jupyter-widgets/base",
            "_view_module_version": "1.2.0",
            "_view_name": "LayoutView",
            "align_content": null,
            "align_items": null,
            "align_self": null,
            "border": null,
            "bottom": null,
            "display": null,
            "flex": null,
            "flex_flow": null,
            "grid_area": null,
            "grid_auto_columns": null,
            "grid_auto_flow": null,
            "grid_auto_rows": null,
            "grid_column": null,
            "grid_gap": null,
            "grid_row": null,
            "grid_template_areas": null,
            "grid_template_columns": null,
            "grid_template_rows": null,
            "height": null,
            "justify_content": null,
            "justify_items": null,
            "left": null,
            "margin": null,
            "max_height": null,
            "max_width": null,
            "min_height": null,
            "min_width": null,
            "object_fit": null,
            "object_position": null,
            "order": null,
            "overflow": null,
            "overflow_x": null,
            "overflow_y": null,
            "padding": null,
            "right": null,
            "top": null,
            "visibility": null,
            "width": null
          }
        },
        "eb712633839e42e48922ee4c1b61fb26": {
          "model_module": "@jupyter-widgets/base",
          "model_name": "LayoutModel",
          "model_module_version": "1.2.0",
          "state": {
            "_model_module": "@jupyter-widgets/base",
            "_model_module_version": "1.2.0",
            "_model_name": "LayoutModel",
            "_view_count": null,
            "_view_module": "@jupyter-widgets/base",
            "_view_module_version": "1.2.0",
            "_view_name": "LayoutView",
            "align_content": null,
            "align_items": null,
            "align_self": null,
            "border": null,
            "bottom": null,
            "display": null,
            "flex": null,
            "flex_flow": null,
            "grid_area": null,
            "grid_auto_columns": null,
            "grid_auto_flow": null,
            "grid_auto_rows": null,
            "grid_column": null,
            "grid_gap": null,
            "grid_row": null,
            "grid_template_areas": null,
            "grid_template_columns": null,
            "grid_template_rows": null,
            "height": null,
            "justify_content": null,
            "justify_items": null,
            "left": null,
            "margin": null,
            "max_height": null,
            "max_width": null,
            "min_height": null,
            "min_width": null,
            "object_fit": null,
            "object_position": null,
            "order": null,
            "overflow": null,
            "overflow_x": null,
            "overflow_y": null,
            "padding": null,
            "right": null,
            "top": null,
            "visibility": null,
            "width": null
          }
        },
        "27af407e9a054b4782777a9304ee7cb8": {
          "model_module": "@jupyter-widgets/controls",
          "model_name": "DescriptionStyleModel",
          "model_module_version": "1.5.0",
          "state": {
            "_model_module": "@jupyter-widgets/controls",
            "_model_module_version": "1.5.0",
            "_model_name": "DescriptionStyleModel",
            "_view_count": null,
            "_view_module": "@jupyter-widgets/base",
            "_view_module_version": "1.2.0",
            "_view_name": "StyleView",
            "description_width": ""
          }
        },
        "fadf3c5aa7e74a7f99a6b9b545a0a2c3": {
          "model_module": "@jupyter-widgets/base",
          "model_name": "LayoutModel",
          "model_module_version": "1.2.0",
          "state": {
            "_model_module": "@jupyter-widgets/base",
            "_model_module_version": "1.2.0",
            "_model_name": "LayoutModel",
            "_view_count": null,
            "_view_module": "@jupyter-widgets/base",
            "_view_module_version": "1.2.0",
            "_view_name": "LayoutView",
            "align_content": null,
            "align_items": null,
            "align_self": null,
            "border": null,
            "bottom": null,
            "display": null,
            "flex": null,
            "flex_flow": null,
            "grid_area": null,
            "grid_auto_columns": null,
            "grid_auto_flow": null,
            "grid_auto_rows": null,
            "grid_column": null,
            "grid_gap": null,
            "grid_row": null,
            "grid_template_areas": null,
            "grid_template_columns": null,
            "grid_template_rows": null,
            "height": null,
            "justify_content": null,
            "justify_items": null,
            "left": null,
            "margin": null,
            "max_height": null,
            "max_width": null,
            "min_height": null,
            "min_width": null,
            "object_fit": null,
            "object_position": null,
            "order": null,
            "overflow": null,
            "overflow_x": null,
            "overflow_y": null,
            "padding": null,
            "right": null,
            "top": null,
            "visibility": null,
            "width": null
          }
        },
        "b325f1d487fd45529299544e34d67bf0": {
          "model_module": "@jupyter-widgets/controls",
          "model_name": "ProgressStyleModel",
          "model_module_version": "1.5.0",
          "state": {
            "_model_module": "@jupyter-widgets/controls",
            "_model_module_version": "1.5.0",
            "_model_name": "ProgressStyleModel",
            "_view_count": null,
            "_view_module": "@jupyter-widgets/base",
            "_view_module_version": "1.2.0",
            "_view_name": "StyleView",
            "bar_color": null,
            "description_width": ""
          }
        },
        "4551de9dee9147dab7bb04643bdce91e": {
          "model_module": "@jupyter-widgets/base",
          "model_name": "LayoutModel",
          "model_module_version": "1.2.0",
          "state": {
            "_model_module": "@jupyter-widgets/base",
            "_model_module_version": "1.2.0",
            "_model_name": "LayoutModel",
            "_view_count": null,
            "_view_module": "@jupyter-widgets/base",
            "_view_module_version": "1.2.0",
            "_view_name": "LayoutView",
            "align_content": null,
            "align_items": null,
            "align_self": null,
            "border": null,
            "bottom": null,
            "display": null,
            "flex": null,
            "flex_flow": null,
            "grid_area": null,
            "grid_auto_columns": null,
            "grid_auto_flow": null,
            "grid_auto_rows": null,
            "grid_column": null,
            "grid_gap": null,
            "grid_row": null,
            "grid_template_areas": null,
            "grid_template_columns": null,
            "grid_template_rows": null,
            "height": null,
            "justify_content": null,
            "justify_items": null,
            "left": null,
            "margin": null,
            "max_height": null,
            "max_width": null,
            "min_height": null,
            "min_width": null,
            "object_fit": null,
            "object_position": null,
            "order": null,
            "overflow": null,
            "overflow_x": null,
            "overflow_y": null,
            "padding": null,
            "right": null,
            "top": null,
            "visibility": null,
            "width": null
          }
        },
        "47ee98be973741ecae369f8f1750aab9": {
          "model_module": "@jupyter-widgets/controls",
          "model_name": "DescriptionStyleModel",
          "model_module_version": "1.5.0",
          "state": {
            "_model_module": "@jupyter-widgets/controls",
            "_model_module_version": "1.5.0",
            "_model_name": "DescriptionStyleModel",
            "_view_count": null,
            "_view_module": "@jupyter-widgets/base",
            "_view_module_version": "1.2.0",
            "_view_name": "StyleView",
            "description_width": ""
          }
        },
        "9d6d93830e8a4fe6a71785f3e75ca367": {
          "model_module": "@jupyter-widgets/controls",
          "model_name": "HBoxModel",
          "model_module_version": "1.5.0",
          "state": {
            "_dom_classes": [],
            "_model_module": "@jupyter-widgets/controls",
            "_model_module_version": "1.5.0",
            "_model_name": "HBoxModel",
            "_view_count": null,
            "_view_module": "@jupyter-widgets/controls",
            "_view_module_version": "1.5.0",
            "_view_name": "HBoxView",
            "box_style": "",
            "children": [
              "IPY_MODEL_1be356e7c2054560bfc3f8119b21480f",
              "IPY_MODEL_d3da95bda8764208bd446e375e0d22c5",
              "IPY_MODEL_5855a1c3a57e49c4acc8f7d288af0591"
            ],
            "layout": "IPY_MODEL_3acedb2fae274e41b655a3aec7ff4ba0"
          }
        },
        "1be356e7c2054560bfc3f8119b21480f": {
          "model_module": "@jupyter-widgets/controls",
          "model_name": "HTMLModel",
          "model_module_version": "1.5.0",
          "state": {
            "_dom_classes": [],
            "_model_module": "@jupyter-widgets/controls",
            "_model_module_version": "1.5.0",
            "_model_name": "HTMLModel",
            "_view_count": null,
            "_view_module": "@jupyter-widgets/controls",
            "_view_module_version": "1.5.0",
            "_view_name": "HTMLView",
            "description": "",
            "description_tooltip": null,
            "layout": "IPY_MODEL_0cec41a10ba94c4d89802416d5ae5241",
            "placeholder": "​",
            "style": "IPY_MODEL_6606b70cc1be4e6faaf00d94a52eda75",
            "value": "model.safetensors: 100%"
          }
        },
        "d3da95bda8764208bd446e375e0d22c5": {
          "model_module": "@jupyter-widgets/controls",
          "model_name": "FloatProgressModel",
          "model_module_version": "1.5.0",
          "state": {
            "_dom_classes": [],
            "_model_module": "@jupyter-widgets/controls",
            "_model_module_version": "1.5.0",
            "_model_name": "FloatProgressModel",
            "_view_count": null,
            "_view_module": "@jupyter-widgets/controls",
            "_view_module_version": "1.5.0",
            "_view_name": "ProgressView",
            "bar_style": "success",
            "description": "",
            "description_tooltip": null,
            "layout": "IPY_MODEL_651c31e16ab842c99784a5cc6d4f92ce",
            "max": 439440472,
            "min": 0,
            "orientation": "horizontal",
            "style": "IPY_MODEL_bb51ed4be705490aae0334ca0d46aa66",
            "value": 439440472
          }
        },
        "5855a1c3a57e49c4acc8f7d288af0591": {
          "model_module": "@jupyter-widgets/controls",
          "model_name": "HTMLModel",
          "model_module_version": "1.5.0",
          "state": {
            "_dom_classes": [],
            "_model_module": "@jupyter-widgets/controls",
            "_model_module_version": "1.5.0",
            "_model_name": "HTMLModel",
            "_view_count": null,
            "_view_module": "@jupyter-widgets/controls",
            "_view_module_version": "1.5.0",
            "_view_name": "HTMLView",
            "description": "",
            "description_tooltip": null,
            "layout": "IPY_MODEL_3af14994c96a46348a589a26d512f209",
            "placeholder": "​",
            "style": "IPY_MODEL_74896215c752442191e4e6ae6a95f2d9",
            "value": " 439M/439M [00:11&lt;00:00, 55.0MB/s]"
          }
        },
        "3acedb2fae274e41b655a3aec7ff4ba0": {
          "model_module": "@jupyter-widgets/base",
          "model_name": "LayoutModel",
          "model_module_version": "1.2.0",
          "state": {
            "_model_module": "@jupyter-widgets/base",
            "_model_module_version": "1.2.0",
            "_model_name": "LayoutModel",
            "_view_count": null,
            "_view_module": "@jupyter-widgets/base",
            "_view_module_version": "1.2.0",
            "_view_name": "LayoutView",
            "align_content": null,
            "align_items": null,
            "align_self": null,
            "border": null,
            "bottom": null,
            "display": null,
            "flex": null,
            "flex_flow": null,
            "grid_area": null,
            "grid_auto_columns": null,
            "grid_auto_flow": null,
            "grid_auto_rows": null,
            "grid_column": null,
            "grid_gap": null,
            "grid_row": null,
            "grid_template_areas": null,
            "grid_template_columns": null,
            "grid_template_rows": null,
            "height": null,
            "justify_content": null,
            "justify_items": null,
            "left": null,
            "margin": null,
            "max_height": null,
            "max_width": null,
            "min_height": null,
            "min_width": null,
            "object_fit": null,
            "object_position": null,
            "order": null,
            "overflow": null,
            "overflow_x": null,
            "overflow_y": null,
            "padding": null,
            "right": null,
            "top": null,
            "visibility": null,
            "width": null
          }
        },
        "0cec41a10ba94c4d89802416d5ae5241": {
          "model_module": "@jupyter-widgets/base",
          "model_name": "LayoutModel",
          "model_module_version": "1.2.0",
          "state": {
            "_model_module": "@jupyter-widgets/base",
            "_model_module_version": "1.2.0",
            "_model_name": "LayoutModel",
            "_view_count": null,
            "_view_module": "@jupyter-widgets/base",
            "_view_module_version": "1.2.0",
            "_view_name": "LayoutView",
            "align_content": null,
            "align_items": null,
            "align_self": null,
            "border": null,
            "bottom": null,
            "display": null,
            "flex": null,
            "flex_flow": null,
            "grid_area": null,
            "grid_auto_columns": null,
            "grid_auto_flow": null,
            "grid_auto_rows": null,
            "grid_column": null,
            "grid_gap": null,
            "grid_row": null,
            "grid_template_areas": null,
            "grid_template_columns": null,
            "grid_template_rows": null,
            "height": null,
            "justify_content": null,
            "justify_items": null,
            "left": null,
            "margin": null,
            "max_height": null,
            "max_width": null,
            "min_height": null,
            "min_width": null,
            "object_fit": null,
            "object_position": null,
            "order": null,
            "overflow": null,
            "overflow_x": null,
            "overflow_y": null,
            "padding": null,
            "right": null,
            "top": null,
            "visibility": null,
            "width": null
          }
        },
        "6606b70cc1be4e6faaf00d94a52eda75": {
          "model_module": "@jupyter-widgets/controls",
          "model_name": "DescriptionStyleModel",
          "model_module_version": "1.5.0",
          "state": {
            "_model_module": "@jupyter-widgets/controls",
            "_model_module_version": "1.5.0",
            "_model_name": "DescriptionStyleModel",
            "_view_count": null,
            "_view_module": "@jupyter-widgets/base",
            "_view_module_version": "1.2.0",
            "_view_name": "StyleView",
            "description_width": ""
          }
        },
        "651c31e16ab842c99784a5cc6d4f92ce": {
          "model_module": "@jupyter-widgets/base",
          "model_name": "LayoutModel",
          "model_module_version": "1.2.0",
          "state": {
            "_model_module": "@jupyter-widgets/base",
            "_model_module_version": "1.2.0",
            "_model_name": "LayoutModel",
            "_view_count": null,
            "_view_module": "@jupyter-widgets/base",
            "_view_module_version": "1.2.0",
            "_view_name": "LayoutView",
            "align_content": null,
            "align_items": null,
            "align_self": null,
            "border": null,
            "bottom": null,
            "display": null,
            "flex": null,
            "flex_flow": null,
            "grid_area": null,
            "grid_auto_columns": null,
            "grid_auto_flow": null,
            "grid_auto_rows": null,
            "grid_column": null,
            "grid_gap": null,
            "grid_row": null,
            "grid_template_areas": null,
            "grid_template_columns": null,
            "grid_template_rows": null,
            "height": null,
            "justify_content": null,
            "justify_items": null,
            "left": null,
            "margin": null,
            "max_height": null,
            "max_width": null,
            "min_height": null,
            "min_width": null,
            "object_fit": null,
            "object_position": null,
            "order": null,
            "overflow": null,
            "overflow_x": null,
            "overflow_y": null,
            "padding": null,
            "right": null,
            "top": null,
            "visibility": null,
            "width": null
          }
        },
        "bb51ed4be705490aae0334ca0d46aa66": {
          "model_module": "@jupyter-widgets/controls",
          "model_name": "ProgressStyleModel",
          "model_module_version": "1.5.0",
          "state": {
            "_model_module": "@jupyter-widgets/controls",
            "_model_module_version": "1.5.0",
            "_model_name": "ProgressStyleModel",
            "_view_count": null,
            "_view_module": "@jupyter-widgets/base",
            "_view_module_version": "1.2.0",
            "_view_name": "StyleView",
            "bar_color": null,
            "description_width": ""
          }
        },
        "3af14994c96a46348a589a26d512f209": {
          "model_module": "@jupyter-widgets/base",
          "model_name": "LayoutModel",
          "model_module_version": "1.2.0",
          "state": {
            "_model_module": "@jupyter-widgets/base",
            "_model_module_version": "1.2.0",
            "_model_name": "LayoutModel",
            "_view_count": null,
            "_view_module": "@jupyter-widgets/base",
            "_view_module_version": "1.2.0",
            "_view_name": "LayoutView",
            "align_content": null,
            "align_items": null,
            "align_self": null,
            "border": null,
            "bottom": null,
            "display": null,
            "flex": null,
            "flex_flow": null,
            "grid_area": null,
            "grid_auto_columns": null,
            "grid_auto_flow": null,
            "grid_auto_rows": null,
            "grid_column": null,
            "grid_gap": null,
            "grid_row": null,
            "grid_template_areas": null,
            "grid_template_columns": null,
            "grid_template_rows": null,
            "height": null,
            "justify_content": null,
            "justify_items": null,
            "left": null,
            "margin": null,
            "max_height": null,
            "max_width": null,
            "min_height": null,
            "min_width": null,
            "object_fit": null,
            "object_position": null,
            "order": null,
            "overflow": null,
            "overflow_x": null,
            "overflow_y": null,
            "padding": null,
            "right": null,
            "top": null,
            "visibility": null,
            "width": null
          }
        },
        "74896215c752442191e4e6ae6a95f2d9": {
          "model_module": "@jupyter-widgets/controls",
          "model_name": "DescriptionStyleModel",
          "model_module_version": "1.5.0",
          "state": {
            "_model_module": "@jupyter-widgets/controls",
            "_model_module_version": "1.5.0",
            "_model_name": "DescriptionStyleModel",
            "_view_count": null,
            "_view_module": "@jupyter-widgets/base",
            "_view_module_version": "1.2.0",
            "_view_name": "StyleView",
            "description_width": ""
          }
        },
        "ea1b7d08fba149868bacb3a8cac11b68": {
          "model_module": "@jupyter-widgets/controls",
          "model_name": "HBoxModel",
          "model_module_version": "1.5.0",
          "state": {
            "_dom_classes": [],
            "_model_module": "@jupyter-widgets/controls",
            "_model_module_version": "1.5.0",
            "_model_name": "HBoxModel",
            "_view_count": null,
            "_view_module": "@jupyter-widgets/controls",
            "_view_module_version": "1.5.0",
            "_view_name": "HBoxView",
            "box_style": "",
            "children": [
              "IPY_MODEL_19bd74e1fd574bdc867e9324473fafa7",
              "IPY_MODEL_8a3b9261a6d048758e6f37c72fbc9723",
              "IPY_MODEL_e4a5847edc0f4bbe8de9e2ecc73bf7f4"
            ],
            "layout": "IPY_MODEL_422c38cc1bc54e1e863a0252738b8b98"
          }
        },
        "19bd74e1fd574bdc867e9324473fafa7": {
          "model_module": "@jupyter-widgets/controls",
          "model_name": "HTMLModel",
          "model_module_version": "1.5.0",
          "state": {
            "_dom_classes": [],
            "_model_module": "@jupyter-widgets/controls",
            "_model_module_version": "1.5.0",
            "_model_name": "HTMLModel",
            "_view_count": null,
            "_view_module": "@jupyter-widgets/controls",
            "_view_module_version": "1.5.0",
            "_view_name": "HTMLView",
            "description": "",
            "description_tooltip": null,
            "layout": "IPY_MODEL_e3f046107d4c45809ba6b059ef2caf92",
            "placeholder": "​",
            "style": "IPY_MODEL_8caac76d51844419bb0fe7034a977c67",
            "value": "tokenizer_config.json: 100%"
          }
        },
        "8a3b9261a6d048758e6f37c72fbc9723": {
          "model_module": "@jupyter-widgets/controls",
          "model_name": "FloatProgressModel",
          "model_module_version": "1.5.0",
          "state": {
            "_dom_classes": [],
            "_model_module": "@jupyter-widgets/controls",
            "_model_module_version": "1.5.0",
            "_model_name": "FloatProgressModel",
            "_view_count": null,
            "_view_module": "@jupyter-widgets/controls",
            "_view_module_version": "1.5.0",
            "_view_name": "ProgressView",
            "bar_style": "success",
            "description": "",
            "description_tooltip": null,
            "layout": "IPY_MODEL_4c3bb7f4701e437ab42f33869ad327d2",
            "max": 528,
            "min": 0,
            "orientation": "horizontal",
            "style": "IPY_MODEL_0c4b1c3e073a47a4980d0cd967add028",
            "value": 528
          }
        },
        "e4a5847edc0f4bbe8de9e2ecc73bf7f4": {
          "model_module": "@jupyter-widgets/controls",
          "model_name": "HTMLModel",
          "model_module_version": "1.5.0",
          "state": {
            "_dom_classes": [],
            "_model_module": "@jupyter-widgets/controls",
            "_model_module_version": "1.5.0",
            "_model_name": "HTMLModel",
            "_view_count": null,
            "_view_module": "@jupyter-widgets/controls",
            "_view_module_version": "1.5.0",
            "_view_name": "HTMLView",
            "description": "",
            "description_tooltip": null,
            "layout": "IPY_MODEL_7188baebdbab41f4ab62132c3bf16c4a",
            "placeholder": "​",
            "style": "IPY_MODEL_cedf3593d3b14a40b2909e82613cbce5",
            "value": " 528/528 [00:00&lt;00:00, 19.2kB/s]"
          }
        },
        "422c38cc1bc54e1e863a0252738b8b98": {
          "model_module": "@jupyter-widgets/base",
          "model_name": "LayoutModel",
          "model_module_version": "1.2.0",
          "state": {
            "_model_module": "@jupyter-widgets/base",
            "_model_module_version": "1.2.0",
            "_model_name": "LayoutModel",
            "_view_count": null,
            "_view_module": "@jupyter-widgets/base",
            "_view_module_version": "1.2.0",
            "_view_name": "LayoutView",
            "align_content": null,
            "align_items": null,
            "align_self": null,
            "border": null,
            "bottom": null,
            "display": null,
            "flex": null,
            "flex_flow": null,
            "grid_area": null,
            "grid_auto_columns": null,
            "grid_auto_flow": null,
            "grid_auto_rows": null,
            "grid_column": null,
            "grid_gap": null,
            "grid_row": null,
            "grid_template_areas": null,
            "grid_template_columns": null,
            "grid_template_rows": null,
            "height": null,
            "justify_content": null,
            "justify_items": null,
            "left": null,
            "margin": null,
            "max_height": null,
            "max_width": null,
            "min_height": null,
            "min_width": null,
            "object_fit": null,
            "object_position": null,
            "order": null,
            "overflow": null,
            "overflow_x": null,
            "overflow_y": null,
            "padding": null,
            "right": null,
            "top": null,
            "visibility": null,
            "width": null
          }
        },
        "e3f046107d4c45809ba6b059ef2caf92": {
          "model_module": "@jupyter-widgets/base",
          "model_name": "LayoutModel",
          "model_module_version": "1.2.0",
          "state": {
            "_model_module": "@jupyter-widgets/base",
            "_model_module_version": "1.2.0",
            "_model_name": "LayoutModel",
            "_view_count": null,
            "_view_module": "@jupyter-widgets/base",
            "_view_module_version": "1.2.0",
            "_view_name": "LayoutView",
            "align_content": null,
            "align_items": null,
            "align_self": null,
            "border": null,
            "bottom": null,
            "display": null,
            "flex": null,
            "flex_flow": null,
            "grid_area": null,
            "grid_auto_columns": null,
            "grid_auto_flow": null,
            "grid_auto_rows": null,
            "grid_column": null,
            "grid_gap": null,
            "grid_row": null,
            "grid_template_areas": null,
            "grid_template_columns": null,
            "grid_template_rows": null,
            "height": null,
            "justify_content": null,
            "justify_items": null,
            "left": null,
            "margin": null,
            "max_height": null,
            "max_width": null,
            "min_height": null,
            "min_width": null,
            "object_fit": null,
            "object_position": null,
            "order": null,
            "overflow": null,
            "overflow_x": null,
            "overflow_y": null,
            "padding": null,
            "right": null,
            "top": null,
            "visibility": null,
            "width": null
          }
        },
        "8caac76d51844419bb0fe7034a977c67": {
          "model_module": "@jupyter-widgets/controls",
          "model_name": "DescriptionStyleModel",
          "model_module_version": "1.5.0",
          "state": {
            "_model_module": "@jupyter-widgets/controls",
            "_model_module_version": "1.5.0",
            "_model_name": "DescriptionStyleModel",
            "_view_count": null,
            "_view_module": "@jupyter-widgets/base",
            "_view_module_version": "1.2.0",
            "_view_name": "StyleView",
            "description_width": ""
          }
        },
        "4c3bb7f4701e437ab42f33869ad327d2": {
          "model_module": "@jupyter-widgets/base",
          "model_name": "LayoutModel",
          "model_module_version": "1.2.0",
          "state": {
            "_model_module": "@jupyter-widgets/base",
            "_model_module_version": "1.2.0",
            "_model_name": "LayoutModel",
            "_view_count": null,
            "_view_module": "@jupyter-widgets/base",
            "_view_module_version": "1.2.0",
            "_view_name": "LayoutView",
            "align_content": null,
            "align_items": null,
            "align_self": null,
            "border": null,
            "bottom": null,
            "display": null,
            "flex": null,
            "flex_flow": null,
            "grid_area": null,
            "grid_auto_columns": null,
            "grid_auto_flow": null,
            "grid_auto_rows": null,
            "grid_column": null,
            "grid_gap": null,
            "grid_row": null,
            "grid_template_areas": null,
            "grid_template_columns": null,
            "grid_template_rows": null,
            "height": null,
            "justify_content": null,
            "justify_items": null,
            "left": null,
            "margin": null,
            "max_height": null,
            "max_width": null,
            "min_height": null,
            "min_width": null,
            "object_fit": null,
            "object_position": null,
            "order": null,
            "overflow": null,
            "overflow_x": null,
            "overflow_y": null,
            "padding": null,
            "right": null,
            "top": null,
            "visibility": null,
            "width": null
          }
        },
        "0c4b1c3e073a47a4980d0cd967add028": {
          "model_module": "@jupyter-widgets/controls",
          "model_name": "ProgressStyleModel",
          "model_module_version": "1.5.0",
          "state": {
            "_model_module": "@jupyter-widgets/controls",
            "_model_module_version": "1.5.0",
            "_model_name": "ProgressStyleModel",
            "_view_count": null,
            "_view_module": "@jupyter-widgets/base",
            "_view_module_version": "1.2.0",
            "_view_name": "StyleView",
            "bar_color": null,
            "description_width": ""
          }
        },
        "7188baebdbab41f4ab62132c3bf16c4a": {
          "model_module": "@jupyter-widgets/base",
          "model_name": "LayoutModel",
          "model_module_version": "1.2.0",
          "state": {
            "_model_module": "@jupyter-widgets/base",
            "_model_module_version": "1.2.0",
            "_model_name": "LayoutModel",
            "_view_count": null,
            "_view_module": "@jupyter-widgets/base",
            "_view_module_version": "1.2.0",
            "_view_name": "LayoutView",
            "align_content": null,
            "align_items": null,
            "align_self": null,
            "border": null,
            "bottom": null,
            "display": null,
            "flex": null,
            "flex_flow": null,
            "grid_area": null,
            "grid_auto_columns": null,
            "grid_auto_flow": null,
            "grid_auto_rows": null,
            "grid_column": null,
            "grid_gap": null,
            "grid_row": null,
            "grid_template_areas": null,
            "grid_template_columns": null,
            "grid_template_rows": null,
            "height": null,
            "justify_content": null,
            "justify_items": null,
            "left": null,
            "margin": null,
            "max_height": null,
            "max_width": null,
            "min_height": null,
            "min_width": null,
            "object_fit": null,
            "object_position": null,
            "order": null,
            "overflow": null,
            "overflow_x": null,
            "overflow_y": null,
            "padding": null,
            "right": null,
            "top": null,
            "visibility": null,
            "width": null
          }
        },
        "cedf3593d3b14a40b2909e82613cbce5": {
          "model_module": "@jupyter-widgets/controls",
          "model_name": "DescriptionStyleModel",
          "model_module_version": "1.5.0",
          "state": {
            "_model_module": "@jupyter-widgets/controls",
            "_model_module_version": "1.5.0",
            "_model_name": "DescriptionStyleModel",
            "_view_count": null,
            "_view_module": "@jupyter-widgets/base",
            "_view_module_version": "1.2.0",
            "_view_name": "StyleView",
            "description_width": ""
          }
        },
        "b592cfa4132e4ca982f68c301bffa006": {
          "model_module": "@jupyter-widgets/controls",
          "model_name": "HBoxModel",
          "model_module_version": "1.5.0",
          "state": {
            "_dom_classes": [],
            "_model_module": "@jupyter-widgets/controls",
            "_model_module_version": "1.5.0",
            "_model_name": "HBoxModel",
            "_view_count": null,
            "_view_module": "@jupyter-widgets/controls",
            "_view_module_version": "1.5.0",
            "_view_name": "HBoxView",
            "box_style": "",
            "children": [
              "IPY_MODEL_bbb4ab00197c46a1a48a443157bdc8ee",
              "IPY_MODEL_e5233197aaf847c4830f98b9c8e08b7d",
              "IPY_MODEL_fe236deb1ff44906a589d0317145b917"
            ],
            "layout": "IPY_MODEL_4e1a55bca15541b7b379e636733a2e21"
          }
        },
        "bbb4ab00197c46a1a48a443157bdc8ee": {
          "model_module": "@jupyter-widgets/controls",
          "model_name": "HTMLModel",
          "model_module_version": "1.5.0",
          "state": {
            "_dom_classes": [],
            "_model_module": "@jupyter-widgets/controls",
            "_model_module_version": "1.5.0",
            "_model_name": "HTMLModel",
            "_view_count": null,
            "_view_module": "@jupyter-widgets/controls",
            "_view_module_version": "1.5.0",
            "_view_name": "HTMLView",
            "description": "",
            "description_tooltip": null,
            "layout": "IPY_MODEL_ac8059d4c72c4e7a81bb7ff47040103f",
            "placeholder": "​",
            "style": "IPY_MODEL_d75fcd3394834bd68a9559eac3fdf259",
            "value": "vocab.txt: 100%"
          }
        },
        "e5233197aaf847c4830f98b9c8e08b7d": {
          "model_module": "@jupyter-widgets/controls",
          "model_name": "FloatProgressModel",
          "model_module_version": "1.5.0",
          "state": {
            "_dom_classes": [],
            "_model_module": "@jupyter-widgets/controls",
            "_model_module_version": "1.5.0",
            "_model_name": "FloatProgressModel",
            "_view_count": null,
            "_view_module": "@jupyter-widgets/controls",
            "_view_module_version": "1.5.0",
            "_view_name": "ProgressView",
            "bar_style": "success",
            "description": "",
            "description_tooltip": null,
            "layout": "IPY_MODEL_e62c1be8bf2b4811a57e12415aa5d63e",
            "max": 242120,
            "min": 0,
            "orientation": "horizontal",
            "style": "IPY_MODEL_2f43a0108cd44584b87a75185e812495",
            "value": 242120
          }
        },
        "fe236deb1ff44906a589d0317145b917": {
          "model_module": "@jupyter-widgets/controls",
          "model_name": "HTMLModel",
          "model_module_version": "1.5.0",
          "state": {
            "_dom_classes": [],
            "_model_module": "@jupyter-widgets/controls",
            "_model_module_version": "1.5.0",
            "_model_name": "HTMLModel",
            "_view_count": null,
            "_view_module": "@jupyter-widgets/controls",
            "_view_module_version": "1.5.0",
            "_view_name": "HTMLView",
            "description": "",
            "description_tooltip": null,
            "layout": "IPY_MODEL_9fc45b9391444c64b6677f58acae6454",
            "placeholder": "​",
            "style": "IPY_MODEL_ec7af2196cfd47e7981473709796db77",
            "value": " 242k/242k [00:00&lt;00:00, 2.56MB/s]"
          }
        },
        "4e1a55bca15541b7b379e636733a2e21": {
          "model_module": "@jupyter-widgets/base",
          "model_name": "LayoutModel",
          "model_module_version": "1.2.0",
          "state": {
            "_model_module": "@jupyter-widgets/base",
            "_model_module_version": "1.2.0",
            "_model_name": "LayoutModel",
            "_view_count": null,
            "_view_module": "@jupyter-widgets/base",
            "_view_module_version": "1.2.0",
            "_view_name": "LayoutView",
            "align_content": null,
            "align_items": null,
            "align_self": null,
            "border": null,
            "bottom": null,
            "display": null,
            "flex": null,
            "flex_flow": null,
            "grid_area": null,
            "grid_auto_columns": null,
            "grid_auto_flow": null,
            "grid_auto_rows": null,
            "grid_column": null,
            "grid_gap": null,
            "grid_row": null,
            "grid_template_areas": null,
            "grid_template_columns": null,
            "grid_template_rows": null,
            "height": null,
            "justify_content": null,
            "justify_items": null,
            "left": null,
            "margin": null,
            "max_height": null,
            "max_width": null,
            "min_height": null,
            "min_width": null,
            "object_fit": null,
            "object_position": null,
            "order": null,
            "overflow": null,
            "overflow_x": null,
            "overflow_y": null,
            "padding": null,
            "right": null,
            "top": null,
            "visibility": null,
            "width": null
          }
        },
        "ac8059d4c72c4e7a81bb7ff47040103f": {
          "model_module": "@jupyter-widgets/base",
          "model_name": "LayoutModel",
          "model_module_version": "1.2.0",
          "state": {
            "_model_module": "@jupyter-widgets/base",
            "_model_module_version": "1.2.0",
            "_model_name": "LayoutModel",
            "_view_count": null,
            "_view_module": "@jupyter-widgets/base",
            "_view_module_version": "1.2.0",
            "_view_name": "LayoutView",
            "align_content": null,
            "align_items": null,
            "align_self": null,
            "border": null,
            "bottom": null,
            "display": null,
            "flex": null,
            "flex_flow": null,
            "grid_area": null,
            "grid_auto_columns": null,
            "grid_auto_flow": null,
            "grid_auto_rows": null,
            "grid_column": null,
            "grid_gap": null,
            "grid_row": null,
            "grid_template_areas": null,
            "grid_template_columns": null,
            "grid_template_rows": null,
            "height": null,
            "justify_content": null,
            "justify_items": null,
            "left": null,
            "margin": null,
            "max_height": null,
            "max_width": null,
            "min_height": null,
            "min_width": null,
            "object_fit": null,
            "object_position": null,
            "order": null,
            "overflow": null,
            "overflow_x": null,
            "overflow_y": null,
            "padding": null,
            "right": null,
            "top": null,
            "visibility": null,
            "width": null
          }
        },
        "d75fcd3394834bd68a9559eac3fdf259": {
          "model_module": "@jupyter-widgets/controls",
          "model_name": "DescriptionStyleModel",
          "model_module_version": "1.5.0",
          "state": {
            "_model_module": "@jupyter-widgets/controls",
            "_model_module_version": "1.5.0",
            "_model_name": "DescriptionStyleModel",
            "_view_count": null,
            "_view_module": "@jupyter-widgets/base",
            "_view_module_version": "1.2.0",
            "_view_name": "StyleView",
            "description_width": ""
          }
        },
        "e62c1be8bf2b4811a57e12415aa5d63e": {
          "model_module": "@jupyter-widgets/base",
          "model_name": "LayoutModel",
          "model_module_version": "1.2.0",
          "state": {
            "_model_module": "@jupyter-widgets/base",
            "_model_module_version": "1.2.0",
            "_model_name": "LayoutModel",
            "_view_count": null,
            "_view_module": "@jupyter-widgets/base",
            "_view_module_version": "1.2.0",
            "_view_name": "LayoutView",
            "align_content": null,
            "align_items": null,
            "align_self": null,
            "border": null,
            "bottom": null,
            "display": null,
            "flex": null,
            "flex_flow": null,
            "grid_area": null,
            "grid_auto_columns": null,
            "grid_auto_flow": null,
            "grid_auto_rows": null,
            "grid_column": null,
            "grid_gap": null,
            "grid_row": null,
            "grid_template_areas": null,
            "grid_template_columns": null,
            "grid_template_rows": null,
            "height": null,
            "justify_content": null,
            "justify_items": null,
            "left": null,
            "margin": null,
            "max_height": null,
            "max_width": null,
            "min_height": null,
            "min_width": null,
            "object_fit": null,
            "object_position": null,
            "order": null,
            "overflow": null,
            "overflow_x": null,
            "overflow_y": null,
            "padding": null,
            "right": null,
            "top": null,
            "visibility": null,
            "width": null
          }
        },
        "2f43a0108cd44584b87a75185e812495": {
          "model_module": "@jupyter-widgets/controls",
          "model_name": "ProgressStyleModel",
          "model_module_version": "1.5.0",
          "state": {
            "_model_module": "@jupyter-widgets/controls",
            "_model_module_version": "1.5.0",
            "_model_name": "ProgressStyleModel",
            "_view_count": null,
            "_view_module": "@jupyter-widgets/base",
            "_view_module_version": "1.2.0",
            "_view_name": "StyleView",
            "bar_color": null,
            "description_width": ""
          }
        },
        "9fc45b9391444c64b6677f58acae6454": {
          "model_module": "@jupyter-widgets/base",
          "model_name": "LayoutModel",
          "model_module_version": "1.2.0",
          "state": {
            "_model_module": "@jupyter-widgets/base",
            "_model_module_version": "1.2.0",
            "_model_name": "LayoutModel",
            "_view_count": null,
            "_view_module": "@jupyter-widgets/base",
            "_view_module_version": "1.2.0",
            "_view_name": "LayoutView",
            "align_content": null,
            "align_items": null,
            "align_self": null,
            "border": null,
            "bottom": null,
            "display": null,
            "flex": null,
            "flex_flow": null,
            "grid_area": null,
            "grid_auto_columns": null,
            "grid_auto_flow": null,
            "grid_auto_rows": null,
            "grid_column": null,
            "grid_gap": null,
            "grid_row": null,
            "grid_template_areas": null,
            "grid_template_columns": null,
            "grid_template_rows": null,
            "height": null,
            "justify_content": null,
            "justify_items": null,
            "left": null,
            "margin": null,
            "max_height": null,
            "max_width": null,
            "min_height": null,
            "min_width": null,
            "object_fit": null,
            "object_position": null,
            "order": null,
            "overflow": null,
            "overflow_x": null,
            "overflow_y": null,
            "padding": null,
            "right": null,
            "top": null,
            "visibility": null,
            "width": null
          }
        },
        "ec7af2196cfd47e7981473709796db77": {
          "model_module": "@jupyter-widgets/controls",
          "model_name": "DescriptionStyleModel",
          "model_module_version": "1.5.0",
          "state": {
            "_model_module": "@jupyter-widgets/controls",
            "_model_module_version": "1.5.0",
            "_model_name": "DescriptionStyleModel",
            "_view_count": null,
            "_view_module": "@jupyter-widgets/base",
            "_view_module_version": "1.2.0",
            "_view_name": "StyleView",
            "description_width": ""
          }
        },
        "0abce748f1a348a1a6bab24c1e744a60": {
          "model_module": "@jupyter-widgets/controls",
          "model_name": "HBoxModel",
          "model_module_version": "1.5.0",
          "state": {
            "_dom_classes": [],
            "_model_module": "@jupyter-widgets/controls",
            "_model_module_version": "1.5.0",
            "_model_name": "HBoxModel",
            "_view_count": null,
            "_view_module": "@jupyter-widgets/controls",
            "_view_module_version": "1.5.0",
            "_view_name": "HBoxView",
            "box_style": "",
            "children": [
              "IPY_MODEL_afe02bad4c8e48c397b5daf2294eec9a",
              "IPY_MODEL_759ee22298d14979bd13867b6e4156f1",
              "IPY_MODEL_fe51a12d62464afaa9a091cc9ee5529a"
            ],
            "layout": "IPY_MODEL_106af75a9f974bca82626c167a750535"
          }
        },
        "afe02bad4c8e48c397b5daf2294eec9a": {
          "model_module": "@jupyter-widgets/controls",
          "model_name": "HTMLModel",
          "model_module_version": "1.5.0",
          "state": {
            "_dom_classes": [],
            "_model_module": "@jupyter-widgets/controls",
            "_model_module_version": "1.5.0",
            "_model_name": "HTMLModel",
            "_view_count": null,
            "_view_module": "@jupyter-widgets/controls",
            "_view_module_version": "1.5.0",
            "_view_name": "HTMLView",
            "description": "",
            "description_tooltip": null,
            "layout": "IPY_MODEL_d66d1c0c1740411cb63a9b7b86c2a554",
            "placeholder": "​",
            "style": "IPY_MODEL_9c127c5132cd4180a787ac1b1504eacf",
            "value": "special_tokens_map.json: 100%"
          }
        },
        "759ee22298d14979bd13867b6e4156f1": {
          "model_module": "@jupyter-widgets/controls",
          "model_name": "FloatProgressModel",
          "model_module_version": "1.5.0",
          "state": {
            "_dom_classes": [],
            "_model_module": "@jupyter-widgets/controls",
            "_model_module_version": "1.5.0",
            "_model_name": "FloatProgressModel",
            "_view_count": null,
            "_view_module": "@jupyter-widgets/controls",
            "_view_module_version": "1.5.0",
            "_view_name": "ProgressView",
            "bar_style": "success",
            "description": "",
            "description_tooltip": null,
            "layout": "IPY_MODEL_22fa69e0716d4181bb86858ff2bc50d4",
            "max": 112,
            "min": 0,
            "orientation": "horizontal",
            "style": "IPY_MODEL_07ca36544c604f0688e91129b9c9166f",
            "value": 112
          }
        },
        "fe51a12d62464afaa9a091cc9ee5529a": {
          "model_module": "@jupyter-widgets/controls",
          "model_name": "HTMLModel",
          "model_module_version": "1.5.0",
          "state": {
            "_dom_classes": [],
            "_model_module": "@jupyter-widgets/controls",
            "_model_module_version": "1.5.0",
            "_model_name": "HTMLModel",
            "_view_count": null,
            "_view_module": "@jupyter-widgets/controls",
            "_view_module_version": "1.5.0",
            "_view_name": "HTMLView",
            "description": "",
            "description_tooltip": null,
            "layout": "IPY_MODEL_a583f412ae214348a035859d921e2d92",
            "placeholder": "​",
            "style": "IPY_MODEL_84030dbb526e44478ccad4f4023a1ca7",
            "value": " 112/112 [00:00&lt;00:00, 1.54kB/s]"
          }
        },
        "106af75a9f974bca82626c167a750535": {
          "model_module": "@jupyter-widgets/base",
          "model_name": "LayoutModel",
          "model_module_version": "1.2.0",
          "state": {
            "_model_module": "@jupyter-widgets/base",
            "_model_module_version": "1.2.0",
            "_model_name": "LayoutModel",
            "_view_count": null,
            "_view_module": "@jupyter-widgets/base",
            "_view_module_version": "1.2.0",
            "_view_name": "LayoutView",
            "align_content": null,
            "align_items": null,
            "align_self": null,
            "border": null,
            "bottom": null,
            "display": null,
            "flex": null,
            "flex_flow": null,
            "grid_area": null,
            "grid_auto_columns": null,
            "grid_auto_flow": null,
            "grid_auto_rows": null,
            "grid_column": null,
            "grid_gap": null,
            "grid_row": null,
            "grid_template_areas": null,
            "grid_template_columns": null,
            "grid_template_rows": null,
            "height": null,
            "justify_content": null,
            "justify_items": null,
            "left": null,
            "margin": null,
            "max_height": null,
            "max_width": null,
            "min_height": null,
            "min_width": null,
            "object_fit": null,
            "object_position": null,
            "order": null,
            "overflow": null,
            "overflow_x": null,
            "overflow_y": null,
            "padding": null,
            "right": null,
            "top": null,
            "visibility": null,
            "width": null
          }
        },
        "d66d1c0c1740411cb63a9b7b86c2a554": {
          "model_module": "@jupyter-widgets/base",
          "model_name": "LayoutModel",
          "model_module_version": "1.2.0",
          "state": {
            "_model_module": "@jupyter-widgets/base",
            "_model_module_version": "1.2.0",
            "_model_name": "LayoutModel",
            "_view_count": null,
            "_view_module": "@jupyter-widgets/base",
            "_view_module_version": "1.2.0",
            "_view_name": "LayoutView",
            "align_content": null,
            "align_items": null,
            "align_self": null,
            "border": null,
            "bottom": null,
            "display": null,
            "flex": null,
            "flex_flow": null,
            "grid_area": null,
            "grid_auto_columns": null,
            "grid_auto_flow": null,
            "grid_auto_rows": null,
            "grid_column": null,
            "grid_gap": null,
            "grid_row": null,
            "grid_template_areas": null,
            "grid_template_columns": null,
            "grid_template_rows": null,
            "height": null,
            "justify_content": null,
            "justify_items": null,
            "left": null,
            "margin": null,
            "max_height": null,
            "max_width": null,
            "min_height": null,
            "min_width": null,
            "object_fit": null,
            "object_position": null,
            "order": null,
            "overflow": null,
            "overflow_x": null,
            "overflow_y": null,
            "padding": null,
            "right": null,
            "top": null,
            "visibility": null,
            "width": null
          }
        },
        "9c127c5132cd4180a787ac1b1504eacf": {
          "model_module": "@jupyter-widgets/controls",
          "model_name": "DescriptionStyleModel",
          "model_module_version": "1.5.0",
          "state": {
            "_model_module": "@jupyter-widgets/controls",
            "_model_module_version": "1.5.0",
            "_model_name": "DescriptionStyleModel",
            "_view_count": null,
            "_view_module": "@jupyter-widgets/base",
            "_view_module_version": "1.2.0",
            "_view_name": "StyleView",
            "description_width": ""
          }
        },
        "22fa69e0716d4181bb86858ff2bc50d4": {
          "model_module": "@jupyter-widgets/base",
          "model_name": "LayoutModel",
          "model_module_version": "1.2.0",
          "state": {
            "_model_module": "@jupyter-widgets/base",
            "_model_module_version": "1.2.0",
            "_model_name": "LayoutModel",
            "_view_count": null,
            "_view_module": "@jupyter-widgets/base",
            "_view_module_version": "1.2.0",
            "_view_name": "LayoutView",
            "align_content": null,
            "align_items": null,
            "align_self": null,
            "border": null,
            "bottom": null,
            "display": null,
            "flex": null,
            "flex_flow": null,
            "grid_area": null,
            "grid_auto_columns": null,
            "grid_auto_flow": null,
            "grid_auto_rows": null,
            "grid_column": null,
            "grid_gap": null,
            "grid_row": null,
            "grid_template_areas": null,
            "grid_template_columns": null,
            "grid_template_rows": null,
            "height": null,
            "justify_content": null,
            "justify_items": null,
            "left": null,
            "margin": null,
            "max_height": null,
            "max_width": null,
            "min_height": null,
            "min_width": null,
            "object_fit": null,
            "object_position": null,
            "order": null,
            "overflow": null,
            "overflow_x": null,
            "overflow_y": null,
            "padding": null,
            "right": null,
            "top": null,
            "visibility": null,
            "width": null
          }
        },
        "07ca36544c604f0688e91129b9c9166f": {
          "model_module": "@jupyter-widgets/controls",
          "model_name": "ProgressStyleModel",
          "model_module_version": "1.5.0",
          "state": {
            "_model_module": "@jupyter-widgets/controls",
            "_model_module_version": "1.5.0",
            "_model_name": "ProgressStyleModel",
            "_view_count": null,
            "_view_module": "@jupyter-widgets/base",
            "_view_module_version": "1.2.0",
            "_view_name": "StyleView",
            "bar_color": null,
            "description_width": ""
          }
        },
        "a583f412ae214348a035859d921e2d92": {
          "model_module": "@jupyter-widgets/base",
          "model_name": "LayoutModel",
          "model_module_version": "1.2.0",
          "state": {
            "_model_module": "@jupyter-widgets/base",
            "_model_module_version": "1.2.0",
            "_model_name": "LayoutModel",
            "_view_count": null,
            "_view_module": "@jupyter-widgets/base",
            "_view_module_version": "1.2.0",
            "_view_name": "LayoutView",
            "align_content": null,
            "align_items": null,
            "align_self": null,
            "border": null,
            "bottom": null,
            "display": null,
            "flex": null,
            "flex_flow": null,
            "grid_area": null,
            "grid_auto_columns": null,
            "grid_auto_flow": null,
            "grid_auto_rows": null,
            "grid_column": null,
            "grid_gap": null,
            "grid_row": null,
            "grid_template_areas": null,
            "grid_template_columns": null,
            "grid_template_rows": null,
            "height": null,
            "justify_content": null,
            "justify_items": null,
            "left": null,
            "margin": null,
            "max_height": null,
            "max_width": null,
            "min_height": null,
            "min_width": null,
            "object_fit": null,
            "object_position": null,
            "order": null,
            "overflow": null,
            "overflow_x": null,
            "overflow_y": null,
            "padding": null,
            "right": null,
            "top": null,
            "visibility": null,
            "width": null
          }
        },
        "84030dbb526e44478ccad4f4023a1ca7": {
          "model_module": "@jupyter-widgets/controls",
          "model_name": "DescriptionStyleModel",
          "model_module_version": "1.5.0",
          "state": {
            "_model_module": "@jupyter-widgets/controls",
            "_model_module_version": "1.5.0",
            "_model_name": "DescriptionStyleModel",
            "_view_count": null,
            "_view_module": "@jupyter-widgets/base",
            "_view_module_version": "1.2.0",
            "_view_name": "StyleView",
            "description_width": ""
          }
        },
        "3b8c36e63c3a47a1ac15632127e22a2c": {
          "model_module": "@jupyter-widgets/controls",
          "model_name": "HBoxModel",
          "model_module_version": "1.5.0",
          "state": {
            "_dom_classes": [],
            "_model_module": "@jupyter-widgets/controls",
            "_model_module_version": "1.5.0",
            "_model_name": "HBoxModel",
            "_view_count": null,
            "_view_module": "@jupyter-widgets/controls",
            "_view_module_version": "1.5.0",
            "_view_name": "HBoxView",
            "box_style": "",
            "children": [
              "IPY_MODEL_264eb1ed11f9451d917a8c3638e232cc",
              "IPY_MODEL_2550e209a5b246feaa6cbb33d17b70b3",
              "IPY_MODEL_d756786be28245bd9b30831e702f55c5"
            ],
            "layout": "IPY_MODEL_dfb8c3921f54456c9fcd8defbcb96f3e"
          }
        },
        "264eb1ed11f9451d917a8c3638e232cc": {
          "model_module": "@jupyter-widgets/controls",
          "model_name": "HTMLModel",
          "model_module_version": "1.5.0",
          "state": {
            "_dom_classes": [],
            "_model_module": "@jupyter-widgets/controls",
            "_model_module_version": "1.5.0",
            "_model_name": "HTMLModel",
            "_view_count": null,
            "_view_module": "@jupyter-widgets/controls",
            "_view_module_version": "1.5.0",
            "_view_name": "HTMLView",
            "description": "",
            "description_tooltip": null,
            "layout": "IPY_MODEL_c0277e1ef81041ff8ad1eae56b0f18d0",
            "placeholder": "​",
            "style": "IPY_MODEL_00c9eb2fa982408aa9cf8f5cfb0a05ac",
            "value": "Map: 100%"
          }
        },
        "2550e209a5b246feaa6cbb33d17b70b3": {
          "model_module": "@jupyter-widgets/controls",
          "model_name": "FloatProgressModel",
          "model_module_version": "1.5.0",
          "state": {
            "_dom_classes": [],
            "_model_module": "@jupyter-widgets/controls",
            "_model_module_version": "1.5.0",
            "_model_name": "FloatProgressModel",
            "_view_count": null,
            "_view_module": "@jupyter-widgets/controls",
            "_view_module_version": "1.5.0",
            "_view_name": "ProgressView",
            "bar_style": "success",
            "description": "",
            "description_tooltip": null,
            "layout": "IPY_MODEL_94a3d1eaf56d46bbb56c94048ce5e561",
            "max": 1250,
            "min": 0,
            "orientation": "horizontal",
            "style": "IPY_MODEL_d8fc74b992454fafb2d3445b349dbf3e",
            "value": 1250
          }
        },
        "d756786be28245bd9b30831e702f55c5": {
          "model_module": "@jupyter-widgets/controls",
          "model_name": "HTMLModel",
          "model_module_version": "1.5.0",
          "state": {
            "_dom_classes": [],
            "_model_module": "@jupyter-widgets/controls",
            "_model_module_version": "1.5.0",
            "_model_name": "HTMLModel",
            "_view_count": null,
            "_view_module": "@jupyter-widgets/controls",
            "_view_module_version": "1.5.0",
            "_view_name": "HTMLView",
            "description": "",
            "description_tooltip": null,
            "layout": "IPY_MODEL_7fc9f6bce54d48fcb7818f1053454c03",
            "placeholder": "​",
            "style": "IPY_MODEL_76cefe4988fb4cde8378d4950aadfbf9",
            "value": " 1250/1250 [00:05&lt;00:00, 296.48 examples/s]"
          }
        },
        "dfb8c3921f54456c9fcd8defbcb96f3e": {
          "model_module": "@jupyter-widgets/base",
          "model_name": "LayoutModel",
          "model_module_version": "1.2.0",
          "state": {
            "_model_module": "@jupyter-widgets/base",
            "_model_module_version": "1.2.0",
            "_model_name": "LayoutModel",
            "_view_count": null,
            "_view_module": "@jupyter-widgets/base",
            "_view_module_version": "1.2.0",
            "_view_name": "LayoutView",
            "align_content": null,
            "align_items": null,
            "align_self": null,
            "border": null,
            "bottom": null,
            "display": null,
            "flex": null,
            "flex_flow": null,
            "grid_area": null,
            "grid_auto_columns": null,
            "grid_auto_flow": null,
            "grid_auto_rows": null,
            "grid_column": null,
            "grid_gap": null,
            "grid_row": null,
            "grid_template_areas": null,
            "grid_template_columns": null,
            "grid_template_rows": null,
            "height": null,
            "justify_content": null,
            "justify_items": null,
            "left": null,
            "margin": null,
            "max_height": null,
            "max_width": null,
            "min_height": null,
            "min_width": null,
            "object_fit": null,
            "object_position": null,
            "order": null,
            "overflow": null,
            "overflow_x": null,
            "overflow_y": null,
            "padding": null,
            "right": null,
            "top": null,
            "visibility": null,
            "width": null
          }
        },
        "c0277e1ef81041ff8ad1eae56b0f18d0": {
          "model_module": "@jupyter-widgets/base",
          "model_name": "LayoutModel",
          "model_module_version": "1.2.0",
          "state": {
            "_model_module": "@jupyter-widgets/base",
            "_model_module_version": "1.2.0",
            "_model_name": "LayoutModel",
            "_view_count": null,
            "_view_module": "@jupyter-widgets/base",
            "_view_module_version": "1.2.0",
            "_view_name": "LayoutView",
            "align_content": null,
            "align_items": null,
            "align_self": null,
            "border": null,
            "bottom": null,
            "display": null,
            "flex": null,
            "flex_flow": null,
            "grid_area": null,
            "grid_auto_columns": null,
            "grid_auto_flow": null,
            "grid_auto_rows": null,
            "grid_column": null,
            "grid_gap": null,
            "grid_row": null,
            "grid_template_areas": null,
            "grid_template_columns": null,
            "grid_template_rows": null,
            "height": null,
            "justify_content": null,
            "justify_items": null,
            "left": null,
            "margin": null,
            "max_height": null,
            "max_width": null,
            "min_height": null,
            "min_width": null,
            "object_fit": null,
            "object_position": null,
            "order": null,
            "overflow": null,
            "overflow_x": null,
            "overflow_y": null,
            "padding": null,
            "right": null,
            "top": null,
            "visibility": null,
            "width": null
          }
        },
        "00c9eb2fa982408aa9cf8f5cfb0a05ac": {
          "model_module": "@jupyter-widgets/controls",
          "model_name": "DescriptionStyleModel",
          "model_module_version": "1.5.0",
          "state": {
            "_model_module": "@jupyter-widgets/controls",
            "_model_module_version": "1.5.0",
            "_model_name": "DescriptionStyleModel",
            "_view_count": null,
            "_view_module": "@jupyter-widgets/base",
            "_view_module_version": "1.2.0",
            "_view_name": "StyleView",
            "description_width": ""
          }
        },
        "94a3d1eaf56d46bbb56c94048ce5e561": {
          "model_module": "@jupyter-widgets/base",
          "model_name": "LayoutModel",
          "model_module_version": "1.2.0",
          "state": {
            "_model_module": "@jupyter-widgets/base",
            "_model_module_version": "1.2.0",
            "_model_name": "LayoutModel",
            "_view_count": null,
            "_view_module": "@jupyter-widgets/base",
            "_view_module_version": "1.2.0",
            "_view_name": "LayoutView",
            "align_content": null,
            "align_items": null,
            "align_self": null,
            "border": null,
            "bottom": null,
            "display": null,
            "flex": null,
            "flex_flow": null,
            "grid_area": null,
            "grid_auto_columns": null,
            "grid_auto_flow": null,
            "grid_auto_rows": null,
            "grid_column": null,
            "grid_gap": null,
            "grid_row": null,
            "grid_template_areas": null,
            "grid_template_columns": null,
            "grid_template_rows": null,
            "height": null,
            "justify_content": null,
            "justify_items": null,
            "left": null,
            "margin": null,
            "max_height": null,
            "max_width": null,
            "min_height": null,
            "min_width": null,
            "object_fit": null,
            "object_position": null,
            "order": null,
            "overflow": null,
            "overflow_x": null,
            "overflow_y": null,
            "padding": null,
            "right": null,
            "top": null,
            "visibility": null,
            "width": null
          }
        },
        "d8fc74b992454fafb2d3445b349dbf3e": {
          "model_module": "@jupyter-widgets/controls",
          "model_name": "ProgressStyleModel",
          "model_module_version": "1.5.0",
          "state": {
            "_model_module": "@jupyter-widgets/controls",
            "_model_module_version": "1.5.0",
            "_model_name": "ProgressStyleModel",
            "_view_count": null,
            "_view_module": "@jupyter-widgets/base",
            "_view_module_version": "1.2.0",
            "_view_name": "StyleView",
            "bar_color": null,
            "description_width": ""
          }
        },
        "7fc9f6bce54d48fcb7818f1053454c03": {
          "model_module": "@jupyter-widgets/base",
          "model_name": "LayoutModel",
          "model_module_version": "1.2.0",
          "state": {
            "_model_module": "@jupyter-widgets/base",
            "_model_module_version": "1.2.0",
            "_model_name": "LayoutModel",
            "_view_count": null,
            "_view_module": "@jupyter-widgets/base",
            "_view_module_version": "1.2.0",
            "_view_name": "LayoutView",
            "align_content": null,
            "align_items": null,
            "align_self": null,
            "border": null,
            "bottom": null,
            "display": null,
            "flex": null,
            "flex_flow": null,
            "grid_area": null,
            "grid_auto_columns": null,
            "grid_auto_flow": null,
            "grid_auto_rows": null,
            "grid_column": null,
            "grid_gap": null,
            "grid_row": null,
            "grid_template_areas": null,
            "grid_template_columns": null,
            "grid_template_rows": null,
            "height": null,
            "justify_content": null,
            "justify_items": null,
            "left": null,
            "margin": null,
            "max_height": null,
            "max_width": null,
            "min_height": null,
            "min_width": null,
            "object_fit": null,
            "object_position": null,
            "order": null,
            "overflow": null,
            "overflow_x": null,
            "overflow_y": null,
            "padding": null,
            "right": null,
            "top": null,
            "visibility": null,
            "width": null
          }
        },
        "76cefe4988fb4cde8378d4950aadfbf9": {
          "model_module": "@jupyter-widgets/controls",
          "model_name": "DescriptionStyleModel",
          "model_module_version": "1.5.0",
          "state": {
            "_model_module": "@jupyter-widgets/controls",
            "_model_module_version": "1.5.0",
            "_model_name": "DescriptionStyleModel",
            "_view_count": null,
            "_view_module": "@jupyter-widgets/base",
            "_view_module_version": "1.2.0",
            "_view_name": "StyleView",
            "description_width": ""
          }
        }
      }
    }
  },
  "nbformat": 4,
  "nbformat_minor": 0
}